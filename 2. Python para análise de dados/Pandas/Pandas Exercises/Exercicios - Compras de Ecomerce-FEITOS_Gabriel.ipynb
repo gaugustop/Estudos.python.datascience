{
 "cells": [
  {
   "cell_type": "markdown",
   "metadata": {},
   "source": [
    "\n",
    "# Exercício - Compras de Ecommerce  \n",
    "\n",
    "Neste exercício, você receberá alguns dados falsos sobre algumas compras feitas pela Amazon! Basta seguir as instruções e tente dar melhor para responder as perguntas e completar as tarefas. Sinta-se a vontade para dar uma olhada nas soluções. A maioria das tarefas pode ser resolvida de diferentes maneiras. Para a maior parte, as perguntas ficam cada vez mais difíceis.\n",
    "\n",
    "Peço desculpas desde já por todos dados que não parecerem muito reais. São todos falsos.\n",
    "\n",
    "Observe também que todas essas questões podem ser respondidas com uma linha de código.\n",
    "____\n",
    "** Importe pandas e leia o arquivo csv \"Ecommerce Purchases\" e configure-o para um DataFrame chamado ecom. **"
   ]
  },
  {
   "cell_type": "code",
   "execution_count": 1,
   "metadata": {
    "ExecuteTime": {
     "end_time": "2020-04-18T15:29:22.121148Z",
     "start_time": "2020-04-18T15:29:07.731526Z"
    }
   },
   "outputs": [],
   "source": [
    "import pandas as pd"
   ]
  },
  {
   "cell_type": "code",
   "execution_count": 2,
   "metadata": {
    "ExecuteTime": {
     "end_time": "2020-04-18T15:29:35.812036Z",
     "start_time": "2020-04-18T15:29:35.665390Z"
    }
   },
   "outputs": [],
   "source": [
    "econ = pd.read_csv(\"Ecommerce Purchases\")"
   ]
  },
  {
   "cell_type": "markdown",
   "metadata": {},
   "source": [
    "**Verifique o \"head\" do DataFrame.**"
   ]
  },
  {
   "cell_type": "code",
   "execution_count": 3,
   "metadata": {
    "ExecuteTime": {
     "end_time": "2020-04-18T15:29:43.882563Z",
     "start_time": "2020-04-18T15:29:43.833692Z"
    }
   },
   "outputs": [
    {
     "data": {
      "text/html": [
       "<div>\n",
       "<style scoped>\n",
       "    .dataframe tbody tr th:only-of-type {\n",
       "        vertical-align: middle;\n",
       "    }\n",
       "\n",
       "    .dataframe tbody tr th {\n",
       "        vertical-align: top;\n",
       "    }\n",
       "\n",
       "    .dataframe thead th {\n",
       "        text-align: right;\n",
       "    }\n",
       "</style>\n",
       "<table border=\"1\" class=\"dataframe\">\n",
       "  <thead>\n",
       "    <tr style=\"text-align: right;\">\n",
       "      <th></th>\n",
       "      <th>Address</th>\n",
       "      <th>Lot</th>\n",
       "      <th>AM or PM</th>\n",
       "      <th>Browser Info</th>\n",
       "      <th>Company</th>\n",
       "      <th>Credit Card</th>\n",
       "      <th>CC Exp Date</th>\n",
       "      <th>CC Security Code</th>\n",
       "      <th>CC Provider</th>\n",
       "      <th>Email</th>\n",
       "      <th>Job</th>\n",
       "      <th>IP Address</th>\n",
       "      <th>Language</th>\n",
       "      <th>Purchase Price</th>\n",
       "    </tr>\n",
       "  </thead>\n",
       "  <tbody>\n",
       "    <tr>\n",
       "      <td>0</td>\n",
       "      <td>16629 Pace Camp Apt. 448\\nAlexisborough, NE 77...</td>\n",
       "      <td>46 in</td>\n",
       "      <td>PM</td>\n",
       "      <td>Opera/9.56.(X11; Linux x86_64; sl-SI) Presto/2...</td>\n",
       "      <td>Martinez-Herman</td>\n",
       "      <td>6011929061123406</td>\n",
       "      <td>02/20</td>\n",
       "      <td>900</td>\n",
       "      <td>JCB 16 digit</td>\n",
       "      <td>pdunlap@yahoo.com</td>\n",
       "      <td>Scientist, product/process development</td>\n",
       "      <td>149.146.147.205</td>\n",
       "      <td>el</td>\n",
       "      <td>98.14</td>\n",
       "    </tr>\n",
       "    <tr>\n",
       "      <td>1</td>\n",
       "      <td>9374 Jasmine Spurs Suite 508\\nSouth John, TN 8...</td>\n",
       "      <td>28 rn</td>\n",
       "      <td>PM</td>\n",
       "      <td>Opera/8.93.(Windows 98; Win 9x 4.90; en-US) Pr...</td>\n",
       "      <td>Fletcher, Richards and Whitaker</td>\n",
       "      <td>3337758169645356</td>\n",
       "      <td>11/18</td>\n",
       "      <td>561</td>\n",
       "      <td>Mastercard</td>\n",
       "      <td>anthony41@reed.com</td>\n",
       "      <td>Drilling engineer</td>\n",
       "      <td>15.160.41.51</td>\n",
       "      <td>fr</td>\n",
       "      <td>70.73</td>\n",
       "    </tr>\n",
       "    <tr>\n",
       "      <td>2</td>\n",
       "      <td>Unit 0065 Box 5052\\nDPO AP 27450</td>\n",
       "      <td>94 vE</td>\n",
       "      <td>PM</td>\n",
       "      <td>Mozilla/5.0 (compatible; MSIE 9.0; Windows NT ...</td>\n",
       "      <td>Simpson, Williams and Pham</td>\n",
       "      <td>675957666125</td>\n",
       "      <td>08/19</td>\n",
       "      <td>699</td>\n",
       "      <td>JCB 16 digit</td>\n",
       "      <td>amymiller@morales-harrison.com</td>\n",
       "      <td>Customer service manager</td>\n",
       "      <td>132.207.160.22</td>\n",
       "      <td>de</td>\n",
       "      <td>0.95</td>\n",
       "    </tr>\n",
       "    <tr>\n",
       "      <td>3</td>\n",
       "      <td>7780 Julia Fords\\nNew Stacy, WA 45798</td>\n",
       "      <td>36 vm</td>\n",
       "      <td>PM</td>\n",
       "      <td>Mozilla/5.0 (Macintosh; Intel Mac OS X 10_8_0 ...</td>\n",
       "      <td>Williams, Marshall and Buchanan</td>\n",
       "      <td>6011578504430710</td>\n",
       "      <td>02/24</td>\n",
       "      <td>384</td>\n",
       "      <td>Discover</td>\n",
       "      <td>brent16@olson-robinson.info</td>\n",
       "      <td>Drilling engineer</td>\n",
       "      <td>30.250.74.19</td>\n",
       "      <td>es</td>\n",
       "      <td>78.04</td>\n",
       "    </tr>\n",
       "    <tr>\n",
       "      <td>4</td>\n",
       "      <td>23012 Munoz Drive Suite 337\\nNew Cynthia, TX 5...</td>\n",
       "      <td>20 IE</td>\n",
       "      <td>AM</td>\n",
       "      <td>Opera/9.58.(X11; Linux x86_64; it-IT) Presto/2...</td>\n",
       "      <td>Brown, Watson and Andrews</td>\n",
       "      <td>6011456623207998</td>\n",
       "      <td>10/25</td>\n",
       "      <td>678</td>\n",
       "      <td>Diners Club / Carte Blanche</td>\n",
       "      <td>christopherwright@gmail.com</td>\n",
       "      <td>Fine artist</td>\n",
       "      <td>24.140.33.94</td>\n",
       "      <td>es</td>\n",
       "      <td>77.82</td>\n",
       "    </tr>\n",
       "  </tbody>\n",
       "</table>\n",
       "</div>"
      ],
      "text/plain": [
       "                                             Address    Lot AM or PM  \\\n",
       "0  16629 Pace Camp Apt. 448\\nAlexisborough, NE 77...  46 in       PM   \n",
       "1  9374 Jasmine Spurs Suite 508\\nSouth John, TN 8...  28 rn       PM   \n",
       "2                   Unit 0065 Box 5052\\nDPO AP 27450  94 vE       PM   \n",
       "3              7780 Julia Fords\\nNew Stacy, WA 45798  36 vm       PM   \n",
       "4  23012 Munoz Drive Suite 337\\nNew Cynthia, TX 5...  20 IE       AM   \n",
       "\n",
       "                                        Browser Info  \\\n",
       "0  Opera/9.56.(X11; Linux x86_64; sl-SI) Presto/2...   \n",
       "1  Opera/8.93.(Windows 98; Win 9x 4.90; en-US) Pr...   \n",
       "2  Mozilla/5.0 (compatible; MSIE 9.0; Windows NT ...   \n",
       "3  Mozilla/5.0 (Macintosh; Intel Mac OS X 10_8_0 ...   \n",
       "4  Opera/9.58.(X11; Linux x86_64; it-IT) Presto/2...   \n",
       "\n",
       "                           Company       Credit Card CC Exp Date  \\\n",
       "0                  Martinez-Herman  6011929061123406       02/20   \n",
       "1  Fletcher, Richards and Whitaker  3337758169645356       11/18   \n",
       "2       Simpson, Williams and Pham      675957666125       08/19   \n",
       "3  Williams, Marshall and Buchanan  6011578504430710       02/24   \n",
       "4        Brown, Watson and Andrews  6011456623207998       10/25   \n",
       "\n",
       "   CC Security Code                  CC Provider  \\\n",
       "0               900                 JCB 16 digit   \n",
       "1               561                   Mastercard   \n",
       "2               699                 JCB 16 digit   \n",
       "3               384                     Discover   \n",
       "4               678  Diners Club / Carte Blanche   \n",
       "\n",
       "                            Email                                     Job  \\\n",
       "0               pdunlap@yahoo.com  Scientist, product/process development   \n",
       "1              anthony41@reed.com                       Drilling engineer   \n",
       "2  amymiller@morales-harrison.com                Customer service manager   \n",
       "3     brent16@olson-robinson.info                       Drilling engineer   \n",
       "4     christopherwright@gmail.com                             Fine artist   \n",
       "\n",
       "        IP Address Language  Purchase Price  \n",
       "0  149.146.147.205       el           98.14  \n",
       "1     15.160.41.51       fr           70.73  \n",
       "2   132.207.160.22       de            0.95  \n",
       "3     30.250.74.19       es           78.04  \n",
       "4     24.140.33.94       es           77.82  "
      ]
     },
     "execution_count": 3,
     "metadata": {},
     "output_type": "execute_result"
    }
   ],
   "source": [
    "econ.head()"
   ]
  },
  {
   "cell_type": "markdown",
   "metadata": {},
   "source": [
    "** Quantas linhas e colunas existem? **"
   ]
  },
  {
   "cell_type": "code",
   "execution_count": 12,
   "metadata": {
    "ExecuteTime": {
     "end_time": "2020-04-19T14:06:49.430700Z",
     "start_time": "2020-04-19T14:06:49.425741Z"
    }
   },
   "outputs": [
    {
     "data": {
      "text/plain": [
       "(10000, 14)"
      ]
     },
     "execution_count": 12,
     "metadata": {},
     "output_type": "execute_result"
    }
   ],
   "source": [
    "econ.shape"
   ]
  },
  {
   "cell_type": "code",
   "execution_count": 15,
   "metadata": {
    "ExecuteTime": {
     "end_time": "2020-04-19T14:07:40.003077Z",
     "start_time": "2020-04-19T14:07:39.989112Z"
    }
   },
   "outputs": [
    {
     "name": "stdout",
     "output_type": "stream",
     "text": [
      "<class 'pandas.core.frame.DataFrame'>\n",
      "RangeIndex: 10000 entries, 0 to 9999\n",
      "Data columns (total 14 columns):\n",
      "Address             10000 non-null object\n",
      "Lot                 10000 non-null object\n",
      "AM or PM            10000 non-null object\n",
      "Browser Info        10000 non-null object\n",
      "Company             10000 non-null object\n",
      "Credit Card         10000 non-null int64\n",
      "CC Exp Date         10000 non-null object\n",
      "CC Security Code    10000 non-null int64\n",
      "CC Provider         10000 non-null object\n",
      "Email               10000 non-null object\n",
      "Job                 10000 non-null object\n",
      "IP Address          10000 non-null object\n",
      "Language            10000 non-null object\n",
      "Purchase Price      10000 non-null float64\n",
      "dtypes: float64(1), int64(2), object(11)\n",
      "memory usage: 1.1+ MB\n"
     ]
    }
   ],
   "source": [
    "econ.info()"
   ]
  },
  {
   "cell_type": "markdown",
   "metadata": {},
   "source": [
    "** Qual é o preço de compra médio? **"
   ]
  },
  {
   "cell_type": "code",
   "execution_count": 16,
   "metadata": {
    "ExecuteTime": {
     "end_time": "2020-04-19T15:02:28.339175Z",
     "start_time": "2020-04-19T15:02:28.329162Z"
    }
   },
   "outputs": [
    {
     "data": {
      "text/plain": [
       "50.34730200000025"
      ]
     },
     "execution_count": 16,
     "metadata": {},
     "output_type": "execute_result"
    }
   ],
   "source": [
    "econ['Purchase Price'].mean()"
   ]
  },
  {
   "cell_type": "markdown",
   "metadata": {},
   "source": [
    "** Quais foram os preços de compra mais altos e mais baixos? **"
   ]
  },
  {
   "cell_type": "code",
   "execution_count": 40,
   "metadata": {
    "ExecuteTime": {
     "end_time": "2020-04-19T15:28:10.504934Z",
     "start_time": "2020-04-19T15:28:10.499946Z"
    }
   },
   "outputs": [
    {
     "data": {
      "text/plain": [
       "99.99"
      ]
     },
     "execution_count": 40,
     "metadata": {},
     "output_type": "execute_result"
    }
   ],
   "source": [
    "econ['Purchase Price'].max()"
   ]
  },
  {
   "cell_type": "code",
   "execution_count": 19,
   "metadata": {
    "ExecuteTime": {
     "end_time": "2020-04-19T15:02:59.313530Z",
     "start_time": "2020-04-19T15:02:59.307502Z"
    }
   },
   "outputs": [
    {
     "data": {
      "text/plain": [
       "0.0"
      ]
     },
     "execution_count": 19,
     "metadata": {},
     "output_type": "execute_result"
    }
   ],
   "source": [
    "econ['Purchase Price'].min()"
   ]
  },
  {
   "cell_type": "markdown",
   "metadata": {},
   "source": [
    "** Quantas pessoas têm Inglês 'en' como sua língua de escolha no site? **"
   ]
  },
  {
   "cell_type": "code",
   "execution_count": 31,
   "metadata": {
    "ExecuteTime": {
     "end_time": "2020-04-19T15:07:13.338956Z",
     "start_time": "2020-04-19T15:07:13.329960Z"
    }
   },
   "outputs": [
    {
     "data": {
      "text/plain": [
       "1098"
      ]
     },
     "execution_count": 31,
     "metadata": {},
     "output_type": "execute_result"
    }
   ],
   "source": [
    "econ[econ['Language'] == 'en'].shape[0]"
   ]
  },
  {
   "cell_type": "markdown",
   "metadata": {},
   "source": [
    "** Quantas pessoas têm o cargo de \"Advogado\"? **"
   ]
  },
  {
   "cell_type": "code",
   "execution_count": 64,
   "metadata": {
    "ExecuteTime": {
     "end_time": "2020-04-20T00:05:01.850514Z",
     "start_time": "2020-04-20T00:05:01.844492Z"
    }
   },
   "outputs": [
    {
     "name": "stdout",
     "output_type": "stream",
     "text": [
      "['Academic librarian', 'Accommodation manager', 'Accountant, chartered', 'Accountant, chartered certified', 'Accountant, chartered management', 'Accountant, chartered public finance', 'Accounting technician', 'Actor', 'Actuary', 'Acupuncturist', 'Administrator', 'Administrator, Civil Service', 'Administrator, arts', 'Administrator, charities/voluntary organisations', 'Administrator, education', 'Administrator, local government', 'Administrator, sports', 'Adult guidance worker', 'Adult nurse', 'Advertising account executive', 'Advertising account planner', 'Advertising art director', 'Advertising copywriter', 'Advice worker', 'Aeronautical engineer', 'Agricultural consultant', 'Agricultural engineer', 'Aid worker', 'Air broker', 'Air cabin crew', 'Air traffic controller', 'Airline pilot', 'Ambulance person', 'Amenity horticulturist', 'Analytical chemist', 'Animal nutritionist', 'Animal technologist', 'Animator', 'Applications developer', 'Arboriculturist', 'Archaeologist', 'Architect', 'Architectural technologist', 'Archivist', 'Armed forces logistics/support/administrative officer', 'Armed forces operational officer', 'Armed forces technical officer', 'Armed forces training and education officer', 'Art gallery manager', 'Art therapist', 'Artist', 'Arts administrator', 'Arts development officer', 'Astronomer', 'Audiological scientist', 'Automotive engineer', 'Banker', 'Barrister', \"Barrister's clerk\", 'Best boy', 'Biochemist, clinical', 'Biomedical engineer', 'Biomedical scientist', 'Bonds trader', 'Bookseller', 'Brewing technologist', 'Broadcast engineer', 'Broadcast journalist', 'Broadcast presenter', 'Building control surveyor', 'Building services engineer', 'Building surveyor', 'Buyer, industrial', 'Buyer, retail', 'Cabin crew', 'Call centre manager', 'Camera operator', 'Careers adviser', 'Careers information officer', 'Cartographer', 'Catering manager', 'Ceramics designer', 'Charity fundraiser', 'Charity officer', 'Chartered accountant', 'Chartered certified accountant', 'Chartered legal executive (England and Wales)', 'Chartered loss adjuster', 'Chartered management accountant', 'Chartered public finance accountant', 'Chemical engineer', 'Chemist, analytical', 'Child psychotherapist', 'Chiropodist', 'Chiropractor', 'Civil Service administrator', 'Civil Service fast streamer', 'Civil engineer, consulting', 'Civil engineer, contracting', 'Claims inspector/assessor', 'Clinical biochemist', 'Clinical cytogeneticist', 'Clinical embryologist', 'Clinical molecular geneticist', 'Clinical psychologist', 'Clinical research associate', 'Clinical scientist, histocompatibility and immunogenetics', 'Clothing/textile technologist', 'Colour technologist', 'Commercial art gallery manager', 'Commercial horticulturist', 'Commercial/residential surveyor', 'Commissioning editor', 'Communications engineer', 'Community arts worker', 'Community development worker', 'Community education officer', 'Community pharmacist', 'Company secretary', 'Computer games developer', 'Conference centre manager', 'Conservation officer, historic buildings', 'Conservation officer, nature', 'Conservator, furniture', 'Conservator, museum/gallery', 'Consulting civil engineer', 'Contracting civil engineer', 'Control and instrumentation engineer', 'Copy', 'Copywriter, advertising', 'Corporate investment banker', 'Corporate treasurer', 'Counselling psychologist', 'Counsellor', 'Curator', 'Customer service manager', 'Cytogeneticist', 'Dance movement psychotherapist', 'Dancer', 'Data processing manager', 'Database administrator', 'Dealer', 'Dentist', 'Designer, blown glass/stained glass', 'Designer, ceramics/pottery', 'Designer, exhibition/display', 'Designer, fashion/clothing', 'Designer, furniture', 'Designer, graphic', 'Designer, industrial/product', 'Designer, interior/spatial', 'Designer, jewellery', 'Designer, multimedia', 'Designer, television/film set', 'Designer, textile', 'Development worker, community', 'Development worker, international aid', 'Diagnostic radiographer', 'Dietitian', 'Diplomatic Services operational officer', 'Dispensing optician', 'Doctor, general practice', 'Doctor, hospital', 'Dramatherapist', 'Drilling engineer', 'Early years teacher', 'Ecologist', 'Economist', 'Editor, commissioning', 'Editor, film/video', 'Editor, magazine features', 'Editorial assistant', 'Education administrator', 'Education officer, community', 'Education officer, environmental', 'Education officer, museum', 'Educational psychologist', 'Electrical engineer', 'Electronics engineer', 'Embryologist, clinical', 'Emergency planning/management officer', 'Energy engineer', 'Energy manager', 'Engineer, aeronautical', 'Engineer, agricultural', 'Engineer, automotive', 'Engineer, biomedical', 'Engineer, broadcasting (operations)', 'Engineer, building services', 'Engineer, chemical', 'Engineer, civil (consulting)', 'Engineer, civil (contracting)', 'Engineer, communications', 'Engineer, control and instrumentation', 'Engineer, drilling', 'Engineer, electrical', 'Engineer, electronics', 'Engineer, energy', 'Engineer, land', 'Engineer, maintenance', 'Engineer, maintenance (IT)', 'Engineer, manufacturing', 'Engineer, manufacturing systems', 'Engineer, materials', 'Engineer, mining', 'Engineer, petroleum', 'Engineer, production', 'Engineer, site', 'Engineer, structural', 'Engineer, technical sales', 'Engineer, water', 'Engineering geologist', 'English as a foreign language teacher', 'English as a second language teacher', 'Environmental consultant', 'Environmental education officer', 'Environmental health practitioner', 'Environmental manager', 'Equality and diversity officer', 'Equities trader', 'Ergonomist', 'Estate agent', 'Estate manager/land agent', 'Event organiser', 'Exercise physiologist', 'Exhibition designer', 'Exhibitions officer, museum/gallery', 'Facilities manager', 'Farm manager', 'Fashion designer', 'Fast food restaurant manager', 'Field seismologist', 'Field trials officer', 'Film/video editor', 'Financial adviser', 'Financial controller', 'Financial manager', 'Financial planner', 'Financial risk analyst', 'Financial trader', 'Fine artist', 'Firefighter', 'Fish farm manager', 'Fisheries officer', 'Fitness centre manager', 'Food technologist', 'Forensic psychologist', 'Forensic scientist', 'Forest/woodland manager', 'Freight forwarder', 'Furniture conservator/restorer', 'Furniture designer', 'Further education lecturer', 'Futures trader', 'Gaffer', 'Games developer', 'Garment/textile technologist', 'General practice doctor', 'Geneticist, molecular', 'Geochemist', 'Geographical information systems officer', 'Geologist, engineering', 'Geologist, wellsite', 'Geophysical data processor', 'Geophysicist/field seismologist', 'Geoscientist', 'Glass blower/designer', 'Government social research officer', 'Graphic designer', 'Haematologist', 'Health and safety adviser', 'Health and safety inspector', 'Health physicist', 'Health promotion specialist', 'Health service manager', 'Health visitor', 'Herbalist', 'Heritage manager', 'Higher education careers adviser', 'Higher education lecturer', 'Historic buildings inspector/conservation officer', 'Holiday representative', 'Homeopath', 'Horticultural consultant', 'Horticultural therapist', 'Horticulturist, amenity', 'Horticulturist, commercial', 'Hospital doctor', 'Hospital pharmacist', 'Hotel manager', 'Housing manager/officer', 'Human resources officer', 'Hydrogeologist', 'Hydrographic surveyor', 'Hydrologist', 'IT consultant', 'IT sales professional', 'IT technical support officer', 'IT trainer', 'Illustrator', 'Immigration officer', 'Immunologist', 'Industrial buyer', 'Industrial/product designer', 'Information officer', 'Information systems manager', 'Insurance account manager', 'Insurance broker', 'Insurance claims handler', 'Insurance risk surveyor', 'Insurance underwriter', 'Intelligence analyst', 'Interior and spatial designer', 'International aid/development worker', 'Interpreter', 'Investment analyst', 'Investment banker, corporate', 'Investment banker, operational', 'Jewellery designer', 'Journalist, broadcasting', 'Journalist, magazine', 'Journalist, newspaper', 'Land', 'Land/geomatics surveyor', 'Landscape architect', 'Lawyer', 'Learning disability nurse', 'Learning mentor', 'Lecturer, further education', 'Lecturer, higher education', 'Legal executive', 'Legal secretary', 'Leisure centre manager', 'Lexicographer', 'Librarian, academic', 'Librarian, public', 'Licensed conveyancer', 'Lighting technician, broadcasting/film/video', 'Lobbyist', 'Local government officer', 'Location manager', 'Logistics and distribution manager', 'Loss adjuster, chartered', 'Magazine features editor', 'Magazine journalist', 'Maintenance engineer', 'Make', 'Management consultant', 'Manufacturing engineer', 'Manufacturing systems engineer', 'Marine scientist', 'Market researcher', 'Marketing executive', 'Materials engineer', 'Mechanical engineer', 'Media buyer', 'Media planner', 'Medical illustrator', 'Medical laboratory scientific officer', 'Medical physicist', 'Medical sales representative', 'Medical secretary', 'Medical technical officer', 'Mental health nurse', 'Merchandiser, retail', 'Merchant navy officer', 'Metallurgist', 'Meteorologist', 'Microbiologist', 'Midwife', 'Minerals surveyor', 'Mining engineer', 'Mudlogger', 'Multimedia programmer', 'Multimedia specialist', 'Museum education officer', 'Museum/gallery conservator', 'Museum/gallery curator', 'Museum/gallery exhibitions officer', 'Music therapist', 'Music tutor', 'Musician', 'Nature conservation officer', 'Naval architect', 'Network engineer', 'Newspaper journalist', 'Nurse, adult', \"Nurse, children's\", 'Nurse, learning disability', 'Nurse, mental health', 'Nutritional therapist', 'Occupational hygienist', 'Occupational psychologist', 'Occupational therapist', 'Oceanographer', 'Office manager', 'Oncologist', 'Operational investment banker', 'Operational researcher', 'Operations geologist', 'Ophthalmologist', 'Optician, dispensing', 'Optometrist', 'Orthoptist', 'Osteopath', 'Outdoor activities/education manager', 'Paediatric nurse', 'Paramedic', 'Passenger transport manager', 'Patent attorney', 'Patent examiner', 'Pathologist', 'Pension scheme manager', 'Pensions consultant', 'Personal assistant', 'Personnel officer', 'Petroleum engineer', 'Pharmacist, community', 'Pharmacist, hospital', 'Pharmacologist', 'Photographer', 'Physicist, medical', 'Physiological scientist', 'Physiotherapist', 'Phytotherapist', 'Pilot, airline', 'Planning and development surveyor', 'Plant breeder/geneticist', 'Podiatrist', 'Police officer', \"Politician's assistant\", 'Presenter, broadcasting', 'Press photographer', 'Press sub', 'Primary school teacher', 'Print production planner', 'Printmaker', 'Prison officer', 'Private music teacher', 'Probation officer', 'Producer, radio', 'Producer, television/film/video', 'Product designer', 'Product/process development scientist', 'Production assistant, radio', 'Production assistant, television', 'Production designer, theatre/television/film', 'Production engineer', 'Production manager', 'Programme researcher, broadcasting/film/video', 'Programmer, applications', 'Programmer, multimedia', 'Programmer, systems', 'Proofreader', 'Psychiatric nurse', 'Psychiatrist', 'Psychologist, clinical', 'Psychologist, counselling', 'Psychologist, educational', 'Psychologist, forensic', 'Psychologist, occupational', 'Psychologist, prison and probation services', 'Psychologist, sport and exercise', 'Psychotherapist', 'Psychotherapist, child', 'Psychotherapist, dance movement', 'Public affairs consultant', 'Public house manager', 'Public librarian', 'Public relations account executive', 'Public relations officer', 'Publishing copy', 'Publishing rights manager', 'Purchasing manager', 'Quality manager', 'Quantity surveyor', 'Quarry manager', 'Race relations officer', 'Radiation protection practitioner', 'Radio broadcast assistant', 'Radio producer', 'Radiographer, diagnostic', 'Radiographer, therapeutic', 'Ranger/warden', 'Records manager', 'Recruitment consultant', 'Recycling officer', 'Regulatory affairs officer', 'Research officer, government', 'Research officer, political party', 'Research officer, trade union', 'Research scientist (life sciences)', 'Research scientist (maths)', 'Research scientist (medical)', 'Research scientist (physical sciences)', 'Restaurant manager', 'Restaurant manager, fast food', 'Retail banker', 'Retail buyer', 'Retail manager', 'Retail merchandiser', 'Risk analyst', 'Risk manager', 'Runner, broadcasting/film/video', 'Rural practice surveyor', 'Sales executive', 'Sales professional, IT', 'Sales promotion account executive', 'Science writer', 'Scientific laboratory technician', 'Scientist, audiological', 'Scientist, biomedical', 'Scientist, clinical (histocompatibility and immunogenetics)', 'Scientist, forensic', 'Scientist, marine', 'Scientist, physiological', 'Scientist, product/process development', 'Scientist, research (life sciences)', 'Scientist, research (maths)', 'Scientist, research (medical)', 'Scientist, research (physical sciences)', 'Scientist, water quality', 'Secondary school teacher', 'Secretary, company', 'Secretary/administrator', 'Seismic interpreter', 'Senior tax professional/tax inspector', 'Set designer', 'Ship broker', 'Site engineer', 'Social research officer, government', 'Social researcher', 'Social worker', 'Software engineer', 'Soil scientist', 'Solicitor', 'Solicitor, Scotland', 'Sound technician, broadcasting/film/video', 'Special educational needs teacher', 'Special effects artist', 'Speech and language therapist', 'Sport and exercise psychologist', 'Sports administrator', 'Sports coach', 'Sports development officer', 'Sports therapist', 'Stage manager', 'Statistician', 'Structural engineer', 'Sub', 'Surgeon', 'Surveyor, building', 'Surveyor, building control', 'Surveyor, commercial/residential', 'Surveyor, hydrographic', 'Surveyor, insurance', 'Surveyor, land/geomatics', 'Surveyor, minerals', 'Surveyor, mining', 'Surveyor, planning and development', 'Surveyor, quantity', 'Surveyor, rural practice', 'Systems analyst', 'Systems developer', 'TEFL teacher', 'Tax adviser', 'Tax inspector', 'Teacher, English as a foreign language', 'Teacher, adult education', 'Teacher, early years/pre', 'Teacher, music', 'Teacher, primary school', 'Teacher, secondary school', 'Teacher, special educational needs', 'Teaching laboratory technician', 'Technical author', 'Technical brewer', 'Technical sales engineer', 'Telecommunications researcher', 'Television camera operator', 'Television floor manager', 'Television production assistant', 'Television/film/video producer', 'Textile designer', 'Theatre director', 'Theatre manager', 'Theatre stage manager', 'Theme park manager', 'Therapeutic radiographer', 'Therapist, art', 'Therapist, drama', 'Therapist, horticultural', 'Therapist, music', 'Therapist, nutritional', 'Therapist, occupational', 'Therapist, speech and language', 'Therapist, sports', 'Tour manager', 'Tourism officer', 'Tourist information centre manager', 'Town planner', 'Toxicologist', 'Trade mark attorney', 'Trade union research officer', 'Trading standards officer', 'Training and development officer', 'Translator', 'Transport planner', 'Travel agency manager', 'Tree surgeon', 'Veterinary surgeon', 'Video editor', 'Visual merchandiser', 'Volunteer coordinator', 'Warden/ranger', 'Warehouse manager', 'Waste management officer', 'Water engineer', 'Water quality scientist', 'Web designer', 'Wellsite geologist', 'Writer', 'Youth worker']\n"
     ]
    }
   ],
   "source": [
    "lst = sorted(list(econ['Job'].unique()))\n",
    "print(lst)\n"
   ]
  },
  {
   "cell_type": "code",
   "execution_count": 71,
   "metadata": {
    "ExecuteTime": {
     "end_time": "2020-04-20T00:07:40.638685Z",
     "start_time": "2020-04-20T00:07:40.631667Z"
    }
   },
   "outputs": [
    {
     "data": {
      "text/plain": [
       "30"
      ]
     },
     "execution_count": 71,
     "metadata": {},
     "output_type": "execute_result"
    }
   ],
   "source": [
    "econ[econ['Job'] == 'Lawyer'].shape[0]"
   ]
  },
  {
   "cell_type": "code",
   "execution_count": 68,
   "metadata": {
    "ExecuteTime": {
     "end_time": "2020-04-20T00:07:08.554306Z",
     "start_time": "2020-04-20T00:07:08.543334Z"
    }
   },
   "outputs": [
    {
     "name": "stdout",
     "output_type": "stream",
     "text": [
      "<class 'pandas.core.frame.DataFrame'>\n",
      "Int64Index: 30 entries, 470 to 9979\n",
      "Data columns (total 14 columns):\n",
      "Address             30 non-null object\n",
      "Lot                 30 non-null object\n",
      "AM or PM            30 non-null object\n",
      "Browser Info        30 non-null object\n",
      "Company             30 non-null object\n",
      "Credit Card         30 non-null int64\n",
      "CC Exp Date         30 non-null object\n",
      "CC Security Code    30 non-null int64\n",
      "CC Provider         30 non-null object\n",
      "Email               30 non-null object\n",
      "Job                 30 non-null object\n",
      "IP Address          30 non-null object\n",
      "Language            30 non-null object\n",
      "Purchase Price      30 non-null float64\n",
      "dtypes: float64(1), int64(2), object(11)\n",
      "memory usage: 3.5+ KB\n"
     ]
    }
   ],
   "source": [
    "econ[econ['Job'] == 'Lawyer'].info()"
   ]
  },
  {
   "cell_type": "markdown",
   "metadata": {},
   "source": [
    "** Quantas pessoas fizeram a compra durante a AM e quantas pessoas fizeram a compra durante o PM? **\n",
    "\n",
    "** (Sugestão: Confira [value_counts ()](http://pandas.pydata.org/pandas-docs/stable/generated/pandas.Series.value_counts.html)) **"
   ]
  },
  {
   "cell_type": "code",
   "execution_count": 72,
   "metadata": {
    "ExecuteTime": {
     "end_time": "2020-04-20T00:08:59.611865Z",
     "start_time": "2020-04-20T00:08:59.602904Z"
    }
   },
   "outputs": [
    {
     "data": {
      "text/plain": [
       "PM    5068\n",
       "AM    4932\n",
       "Name: AM or PM, dtype: int64"
      ]
     },
     "execution_count": 72,
     "metadata": {},
     "output_type": "execute_result"
    }
   ],
   "source": [
    "econ['AM or PM'].value_counts()"
   ]
  },
  {
   "cell_type": "markdown",
   "metadata": {},
   "source": [
    "** Quais são os 5 títulos de trabalho mais comuns? **"
   ]
  },
  {
   "cell_type": "code",
   "execution_count": 75,
   "metadata": {
    "ExecuteTime": {
     "end_time": "2020-04-20T00:10:38.345012Z",
     "start_time": "2020-04-20T00:10:38.335039Z"
    },
    "scrolled": false
   },
   "outputs": [
    {
     "data": {
      "text/plain": [
       "Interior and spatial designer        31\n",
       "Lawyer                               30\n",
       "Social researcher                    28\n",
       "Purchasing manager                   27\n",
       "Research officer, political party    27\n",
       "Name: Job, dtype: int64"
      ]
     },
     "execution_count": 75,
     "metadata": {},
     "output_type": "execute_result"
    }
   ],
   "source": [
    "econ['Job'].value_counts().head(5)"
   ]
  },
  {
   "cell_type": "markdown",
   "metadata": {},
   "source": [
    "** Alguém fez uma compra que veio do Lot: \"90 WT\", qual foi o preço de compra para esta transação? **"
   ]
  },
  {
   "cell_type": "code",
   "execution_count": 80,
   "metadata": {
    "ExecuteTime": {
     "end_time": "2020-04-20T00:13:23.498348Z",
     "start_time": "2020-04-20T00:13:23.489397Z"
    }
   },
   "outputs": [
    {
     "data": {
      "text/plain": [
       "513    75.1\n",
       "Name: Purchase Price, dtype: float64"
      ]
     },
     "execution_count": 80,
     "metadata": {},
     "output_type": "execute_result"
    }
   ],
   "source": [
    "econ[econ['Lot'] == '90 WT']['Purchase Price']"
   ]
  },
  {
   "cell_type": "markdown",
   "metadata": {},
   "source": [
    "** Qual é o email da pessoa com o seguinte número do cartão de crédito: 4926535242672853 **"
   ]
  },
  {
   "cell_type": "code",
   "execution_count": 97,
   "metadata": {
    "ExecuteTime": {
     "end_time": "2020-04-20T00:22:15.724880Z",
     "start_time": "2020-04-20T00:22:15.717900Z"
    }
   },
   "outputs": [
    {
     "data": {
      "text/plain": [
       "['bondellen', 'williams-garza.com']"
      ]
     },
     "execution_count": 97,
     "metadata": {},
     "output_type": "execute_result"
    }
   ],
   "source": [
    "econ[econ['Credit Card'] == 4926535242672853]['Email'][1234].split('@')"
   ]
  },
  {
   "cell_type": "code",
   "execution_count": 96,
   "metadata": {
    "ExecuteTime": {
     "end_time": "2020-04-20T00:22:07.125771Z",
     "start_time": "2020-04-20T00:22:07.118758Z"
    }
   },
   "outputs": [
    {
     "data": {
      "text/plain": [
       "1234    bondellen@williams-garza.com\n",
       "Name: Email, dtype: object"
      ]
     },
     "execution_count": 96,
     "metadata": {},
     "output_type": "execute_result"
    }
   ],
   "source": [
    "econ[econ['Credit Card'] == 4926535242672853]['Email']"
   ]
  },
  {
   "cell_type": "markdown",
   "metadata": {},
   "source": [
    "** Quantas pessoas têm o American Express como seu fornecedor de cartão de crédito * e * fizeram uma compra acima de US $ 95? **"
   ]
  },
  {
   "cell_type": "code",
   "execution_count": 155,
   "metadata": {
    "ExecuteTime": {
     "end_time": "2020-04-20T12:57:33.285744Z",
     "start_time": "2020-04-20T12:57:33.277763Z"
    }
   },
   "outputs": [
    {
     "data": {
      "text/plain": [
       "39"
      ]
     },
     "execution_count": 155,
     "metadata": {},
     "output_type": "execute_result"
    }
   ],
   "source": [
    "econ[(econ['CC Provider'] == 'American Express') & (econ['Purchase Price'] > 95)].shape[0]"
   ]
  },
  {
   "cell_type": "markdown",
   "metadata": {},
   "source": [
    "** Difícil: quantas pessoas tem um cartão de crédito que expira em 2025? **"
   ]
  },
  {
   "cell_type": "code",
   "execution_count": 138,
   "metadata": {
    "ExecuteTime": {
     "end_time": "2020-04-20T12:39:05.396166Z",
     "start_time": "2020-04-20T12:39:05.384179Z"
    }
   },
   "outputs": [
    {
     "data": {
      "text/plain": [
       "1033"
      ]
     },
     "execution_count": 138,
     "metadata": {},
     "output_type": "execute_result"
    }
   ],
   "source": [
    "def pegar_ano (string,separador = '/'):\n",
    "    return string.split(separador)[-1]\n",
    "\n",
    "econ[econ['CC Exp Date'].apply(pegar_ano) == '25'].shape[0]"
   ]
  },
  {
   "cell_type": "code",
   "execution_count": 139,
   "metadata": {
    "ExecuteTime": {
     "end_time": "2020-04-20T12:40:32.230360Z",
     "start_time": "2020-04-20T12:40:32.218375Z"
    }
   },
   "outputs": [
    {
     "data": {
      "text/plain": [
       "1033"
      ]
     },
     "execution_count": 139,
     "metadata": {},
     "output_type": "execute_result"
    }
   ],
   "source": [
    "econ[econ['CC Exp Date'].apply(lambda x: x.split('/')[-1]) == '25'].shape[0]"
   ]
  },
  {
   "cell_type": "code",
   "execution_count": 163,
   "metadata": {
    "ExecuteTime": {
     "end_time": "2020-04-20T13:04:11.976151Z",
     "start_time": "2020-04-20T13:04:11.965174Z"
    }
   },
   "outputs": [
    {
     "data": {
      "text/plain": [
       "1033"
      ]
     },
     "execution_count": 163,
     "metadata": {},
     "output_type": "execute_result"
    }
   ],
   "source": [
    "econ[econ['CC Exp Date'].apply(lambda x: x[3:]) == '25'].shape[0]"
   ]
  },
  {
   "cell_type": "markdown",
   "metadata": {},
   "source": [
    "** Difícil: quais são os 5 principais provedores de e-mail / hosts mais populares (por exemplo, gmail.com, yahoo.com, etc ...) **"
   ]
  },
  {
   "cell_type": "code",
   "execution_count": 144,
   "metadata": {
    "ExecuteTime": {
     "end_time": "2020-04-20T12:42:02.337669Z",
     "start_time": "2020-04-20T12:42:02.320714Z"
    }
   },
   "outputs": [
    {
     "data": {
      "text/plain": [
       "hotmail.com     1638\n",
       "yahoo.com       1616\n",
       "gmail.com       1605\n",
       "smith.com         42\n",
       "williams.com      37\n",
       "Name: Email, dtype: int64"
      ]
     },
     "execution_count": 144,
     "metadata": {},
     "output_type": "execute_result"
    }
   ],
   "source": [
    "econ['Email'].apply(lambda x: x.split('@')[-1]).value_counts().head()"
   ]
  },
  {
   "cell_type": "code",
   "execution_count": 168,
   "metadata": {
    "ExecuteTime": {
     "end_time": "2020-04-20T13:05:44.059296Z",
     "start_time": "2020-04-20T13:05:44.042707Z"
    }
   },
   "outputs": [
    {
     "data": {
      "text/plain": [
       "hotmail.com     1638\n",
       "yahoo.com       1616\n",
       "gmail.com       1605\n",
       "smith.com         42\n",
       "williams.com      37\n",
       "Name: Email, dtype: int64"
      ]
     },
     "execution_count": 168,
     "metadata": {},
     "output_type": "execute_result"
    }
   ],
   "source": [
    "econ['Email'].apply(lambda x: x.split('@')[-1]).value_counts().iloc[:5]"
   ]
  }
 ],
 "metadata": {
  "kernelspec": {
   "display_name": "Python 3",
   "language": "python",
   "name": "python3"
  },
  "language_info": {
   "codemirror_mode": {
    "name": "ipython",
    "version": 3
   },
   "file_extension": ".py",
   "mimetype": "text/x-python",
   "name": "python",
   "nbconvert_exporter": "python",
   "pygments_lexer": "ipython3",
   "version": "3.7.4"
  },
  "latex_envs": {
   "LaTeX_envs_menu_present": true,
   "autoclose": false,
   "autocomplete": true,
   "bibliofile": "biblio.bib",
   "cite_by": "apalike",
   "current_citInitial": 1,
   "eqLabelWithNumbers": true,
   "eqNumInitial": 1,
   "hotkeys": {
    "equation": "Ctrl-E",
    "itemize": "Ctrl-I"
   },
   "labels_anchors": false,
   "latex_user_defs": false,
   "report_style_numbering": false,
   "user_envs_cfg": false
  },
  "toc": {
   "base_numbering": 1,
   "nav_menu": {},
   "number_sections": true,
   "sideBar": true,
   "skip_h1_title": false,
   "title_cell": "Table of Contents",
   "title_sidebar": "Contents",
   "toc_cell": false,
   "toc_position": {},
   "toc_section_display": true,
   "toc_window_display": false
  }
 },
 "nbformat": 4,
 "nbformat_minor": 1
}
