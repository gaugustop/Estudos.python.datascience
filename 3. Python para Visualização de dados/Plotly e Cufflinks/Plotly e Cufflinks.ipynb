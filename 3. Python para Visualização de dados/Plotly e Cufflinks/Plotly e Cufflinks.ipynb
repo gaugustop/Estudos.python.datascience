{
 "cells": [
  {
   "cell_type": "markdown",
   "metadata": {},
   "source": [
    "# Plotly e Cufflinks"
   ]
  },
  {
   "cell_type": "markdown",
   "metadata": {},
   "source": [
    "O Plotly é uma biblioteca que permite criar gráficos interativos que você pode usar em painéis ou sites (você pode salvá-los como arquivos html ou imagens estáticas).\n",
    "\n",
    "## Instalação\n",
    "\n",
    "Para que tudo funcione, você precisará instalar plotly e cufflinks para chamar plots diretamente de um DataFrame pandas. Essas bibliotecas não estão atualmente disponíveis através de ** conda **, mas estão disponíveis através de ** pip **. Instale as bibliotecas em sua linha de comando / terminal usando:\n",
    "\n",
    "    pip install plotly\n",
    "    pip install cufflinks\n",
    "\n",
    "** NOTA: Certifique-se de ter apenas uma instalação do Python no seu computador quando faz isso, caso contrário, a instalação pode não funcionar. **\n",
    "\n",
    "## Importações e Configuração"
   ]
  },
  {
   "cell_type": "code",
   "execution_count": 2,
   "metadata": {
    "ExecuteTime": {
     "end_time": "2020-06-19T11:48:11.286787Z",
     "start_time": "2020-06-19T11:48:10.476048Z"
    }
   },
   "outputs": [],
   "source": [
    "import pandas as pd\n",
    "import numpy as np\n",
    "%matplotlib inline"
   ]
  },
  {
   "cell_type": "code",
   "execution_count": 3,
   "metadata": {
    "ExecuteTime": {
     "end_time": "2020-06-19T11:48:12.868886Z",
     "start_time": "2020-06-19T11:48:11.860760Z"
    }
   },
   "outputs": [
    {
     "name": "stdout",
     "output_type": "stream",
     "text": [
      "4.6.0\n"
     ]
    }
   ],
   "source": [
    "from plotly import __version__\n",
    "from plotly.offline import download_plotlyjs, init_notebook_mode, plot, iplot\n",
    "\n",
    "print(__version__)"
   ]
  },
  {
   "cell_type": "code",
   "execution_count": 4,
   "metadata": {
    "ExecuteTime": {
     "end_time": "2020-06-19T11:48:13.735870Z",
     "start_time": "2020-06-19T11:48:12.880812Z"
    }
   },
   "outputs": [],
   "source": [
    "import cufflinks as cf"
   ]
  },
  {
   "cell_type": "code",
   "execution_count": 5,
   "metadata": {
    "ExecuteTime": {
     "end_time": "2020-06-19T11:48:13.752826Z",
     "start_time": "2020-06-19T11:48:13.747839Z"
    }
   },
   "outputs": [
    {
     "data": {
      "text/html": [
       "        <script type=\"text/javascript\">\n",
       "        window.PlotlyConfig = {MathJaxConfig: 'local'};\n",
       "        if (window.MathJax) {MathJax.Hub.Config({SVG: {font: \"STIX-Web\"}});}\n",
       "        if (typeof require !== 'undefined') {\n",
       "        require.undef(\"plotly\");\n",
       "        requirejs.config({\n",
       "            paths: {\n",
       "                'plotly': ['https://cdn.plot.ly/plotly-latest.min']\n",
       "            }\n",
       "        });\n",
       "        require(['plotly'], function(Plotly) {\n",
       "            window._Plotly = Plotly;\n",
       "        });\n",
       "        }\n",
       "        </script>\n",
       "        "
      ]
     },
     "metadata": {},
     "output_type": "display_data"
    }
   ],
   "source": [
    "# Para Notebooks\n",
    "init_notebook_mode(connected=True)"
   ]
  },
  {
   "cell_type": "code",
   "execution_count": 6,
   "metadata": {
    "ExecuteTime": {
     "end_time": "2020-06-19T11:48:15.735856Z",
     "start_time": "2020-06-19T11:48:15.718895Z"
    }
   },
   "outputs": [
    {
     "data": {
      "text/html": [
       "        <script type=\"text/javascript\">\n",
       "        window.PlotlyConfig = {MathJaxConfig: 'local'};\n",
       "        if (window.MathJax) {MathJax.Hub.Config({SVG: {font: \"STIX-Web\"}});}\n",
       "        if (typeof require !== 'undefined') {\n",
       "        require.undef(\"plotly\");\n",
       "        requirejs.config({\n",
       "            paths: {\n",
       "                'plotly': ['https://cdn.plot.ly/plotly-latest.min']\n",
       "            }\n",
       "        });\n",
       "        require(['plotly'], function(Plotly) {\n",
       "            window._Plotly = Plotly;\n",
       "        });\n",
       "        }\n",
       "        </script>\n",
       "        "
      ]
     },
     "metadata": {},
     "output_type": "display_data"
    }
   ],
   "source": [
    "# For offline use\n",
    "cf.go_offline()"
   ]
  },
  {
   "cell_type": "markdown",
   "metadata": {},
   "source": [
    "### Dados forjados"
   ]
  },
  {
   "cell_type": "code",
   "execution_count": 7,
   "metadata": {
    "ExecuteTime": {
     "end_time": "2020-06-19T11:48:17.644768Z",
     "start_time": "2020-06-19T11:48:17.640780Z"
    }
   },
   "outputs": [],
   "source": [
    "df = pd.DataFrame(np.random.randn(100,4),columns='A B C D'.split())"
   ]
  },
  {
   "cell_type": "code",
   "execution_count": 8,
   "metadata": {
    "ExecuteTime": {
     "end_time": "2020-06-19T11:48:18.468925Z",
     "start_time": "2020-06-19T11:48:18.427445Z"
    }
   },
   "outputs": [
    {
     "data": {
      "text/html": [
       "<div>\n",
       "<style scoped>\n",
       "    .dataframe tbody tr th:only-of-type {\n",
       "        vertical-align: middle;\n",
       "    }\n",
       "\n",
       "    .dataframe tbody tr th {\n",
       "        vertical-align: top;\n",
       "    }\n",
       "\n",
       "    .dataframe thead th {\n",
       "        text-align: right;\n",
       "    }\n",
       "</style>\n",
       "<table border=\"1\" class=\"dataframe\">\n",
       "  <thead>\n",
       "    <tr style=\"text-align: right;\">\n",
       "      <th></th>\n",
       "      <th>A</th>\n",
       "      <th>B</th>\n",
       "      <th>C</th>\n",
       "      <th>D</th>\n",
       "    </tr>\n",
       "  </thead>\n",
       "  <tbody>\n",
       "    <tr>\n",
       "      <th>0</th>\n",
       "      <td>-0.086654</td>\n",
       "      <td>1.407753</td>\n",
       "      <td>-0.833904</td>\n",
       "      <td>1.940639</td>\n",
       "    </tr>\n",
       "    <tr>\n",
       "      <th>1</th>\n",
       "      <td>0.642942</td>\n",
       "      <td>1.027155</td>\n",
       "      <td>0.477136</td>\n",
       "      <td>1.324862</td>\n",
       "    </tr>\n",
       "    <tr>\n",
       "      <th>2</th>\n",
       "      <td>-1.387439</td>\n",
       "      <td>-1.299368</td>\n",
       "      <td>0.361255</td>\n",
       "      <td>-0.279393</td>\n",
       "    </tr>\n",
       "    <tr>\n",
       "      <th>3</th>\n",
       "      <td>-0.136176</td>\n",
       "      <td>-0.092702</td>\n",
       "      <td>-1.790728</td>\n",
       "      <td>-2.698472</td>\n",
       "    </tr>\n",
       "    <tr>\n",
       "      <th>4</th>\n",
       "      <td>-0.496855</td>\n",
       "      <td>1.273156</td>\n",
       "      <td>1.252044</td>\n",
       "      <td>-1.704534</td>\n",
       "    </tr>\n",
       "  </tbody>\n",
       "</table>\n",
       "</div>"
      ],
      "text/plain": [
       "          A         B         C         D\n",
       "0 -0.086654  1.407753 -0.833904  1.940639\n",
       "1  0.642942  1.027155  0.477136  1.324862\n",
       "2 -1.387439 -1.299368  0.361255 -0.279393\n",
       "3 -0.136176 -0.092702 -1.790728 -2.698472\n",
       "4 -0.496855  1.273156  1.252044 -1.704534"
      ]
     },
     "execution_count": 8,
     "metadata": {},
     "output_type": "execute_result"
    }
   ],
   "source": [
    "df.head()"
   ]
  },
  {
   "cell_type": "code",
   "execution_count": 9,
   "metadata": {
    "ExecuteTime": {
     "end_time": "2020-06-19T11:48:19.907093Z",
     "start_time": "2020-06-19T11:48:19.899114Z"
    }
   },
   "outputs": [],
   "source": [
    "df2 = pd.DataFrame({'Categoria':['A','B','C'],'Valores':[32,43,50]})"
   ]
  },
  {
   "cell_type": "code",
   "execution_count": 10,
   "metadata": {
    "ExecuteTime": {
     "end_time": "2020-06-19T11:48:20.007459Z",
     "start_time": "2020-06-19T11:48:19.924047Z"
    }
   },
   "outputs": [
    {
     "data": {
      "text/html": [
       "<div>\n",
       "<style scoped>\n",
       "    .dataframe tbody tr th:only-of-type {\n",
       "        vertical-align: middle;\n",
       "    }\n",
       "\n",
       "    .dataframe tbody tr th {\n",
       "        vertical-align: top;\n",
       "    }\n",
       "\n",
       "    .dataframe thead th {\n",
       "        text-align: right;\n",
       "    }\n",
       "</style>\n",
       "<table border=\"1\" class=\"dataframe\">\n",
       "  <thead>\n",
       "    <tr style=\"text-align: right;\">\n",
       "      <th></th>\n",
       "      <th>Categoria</th>\n",
       "      <th>Valores</th>\n",
       "    </tr>\n",
       "  </thead>\n",
       "  <tbody>\n",
       "    <tr>\n",
       "      <th>0</th>\n",
       "      <td>A</td>\n",
       "      <td>32</td>\n",
       "    </tr>\n",
       "    <tr>\n",
       "      <th>1</th>\n",
       "      <td>B</td>\n",
       "      <td>43</td>\n",
       "    </tr>\n",
       "    <tr>\n",
       "      <th>2</th>\n",
       "      <td>C</td>\n",
       "      <td>50</td>\n",
       "    </tr>\n",
       "  </tbody>\n",
       "</table>\n",
       "</div>"
      ],
      "text/plain": [
       "  Categoria  Valores\n",
       "0         A       32\n",
       "1         B       43\n",
       "2         C       50"
      ]
     },
     "execution_count": 10,
     "metadata": {},
     "output_type": "execute_result"
    }
   ],
   "source": [
    "df2.head()"
   ]
  },
  {
   "cell_type": "markdown",
   "metadata": {},
   "source": [
    "## Usando Cufflinks e iplot ()\n",
    "\n",
    "* Dispersão\n",
    "* Barras\n",
    "* BoxPlot\n",
    "* Spreads\n",
    "* Proporção\n",
    "* Mapa de calor\n",
    "* Superfícies 3D\n",
    "* Histograma\n",
    "* Bolha"
   ]
  },
  {
   "cell_type": "markdown",
   "metadata": {},
   "source": [
    "## Dispersão"
   ]
  },
  {
   "cell_type": "code",
   "execution_count": 11,
   "metadata": {
    "ExecuteTime": {
     "end_time": "2020-06-19T11:48:33.360867Z",
     "start_time": "2020-06-19T11:48:21.113238Z"
    }
   },
   "outputs": [
    {
     "data": {
      "application/vnd.plotly.v1+json": {
       "config": {
        "linkText": "Export to plot.ly",
        "plotlyServerURL": "https://plot.ly",
        "showLink": true
       },
       "data": [
        {
         "line": {
          "color": "rgba(255, 153, 51, 1.0)",
          "dash": "solid",
          "shape": "linear",
          "width": 1.3
         },
         "marker": {
          "size": 10,
          "symbol": "circle"
         },
         "mode": "markers",
         "name": "B",
         "text": "",
         "type": "scatter",
         "x": [
          -0.08665386071286409,
          0.6429420497995871,
          -1.387439097173388,
          -0.1361759913956736,
          -0.49685462905137473,
          1.440321371142075,
          -1.7441026432369262,
          -0.865975895339651,
          1.4464480415250942,
          0.7856225704806149,
          -0.31891864193814634,
          1.3225449466107067,
          0.539518377247178,
          0.5061678509856647,
          0.6671675199658994,
          -0.17240337605432848,
          0.6629088210598313,
          1.8488745314000505,
          0.31606929538836276,
          1.0200752282815864,
          1.3074982808756987,
          -1.132754733028328,
          -0.6292316671802965,
          0.5943986307575858,
          0.3716228687189236,
          0.409573466455306,
          0.8983715886684981,
          1.305469705255862,
          -0.4936090267584502,
          0.692425960422741,
          0.7162775621233937,
          -1.7885293399956528,
          1.1838126987494433,
          1.3811697119289283,
          -1.493696588152164,
          0.04857078294029223,
          0.91016178374172,
          1.8747186014664174,
          1.316048034234304,
          0.5933537387278158,
          -1.1611371901648193,
          0.9458458282123137,
          -1.5226341469689433,
          -1.4767328930835304,
          0.12075070336521955,
          0.9049353950405488,
          -0.5957213110320032,
          -1.5107620653520046,
          -0.09677064704752825,
          1.3253826247550056,
          0.7880995144233671,
          0.07609555524239503,
          -0.8661317595327915,
          -1.1248478244279192,
          0.17309985461444194,
          0.5317845365392089,
          0.8076068870591362,
          0.3952615581172054,
          -1.0541551835085503,
          -0.7207551555338316,
          -1.9751382134225923,
          1.386093530266168,
          1.4908558124581053,
          0.6644071864952659,
          0.5768580774239381,
          -2.031853180211298,
          0.7136819965797955,
          -1.9826291999513945,
          0.19393221235516056,
          1.3753499852196729,
          -0.3337209010139875,
          -1.0225549123931477,
          0.020698274530295043,
          -0.09072887881050878,
          0.7553158348602322,
          -1.2727430223713965,
          -0.5256460103975078,
          -0.1927595363295705,
          -0.08125359600243147,
          -0.013783032145486348,
          -1.8068148421355563,
          0.2456263274841035,
          0.12648049704792919,
          -0.6906330205851243,
          1.36771718870962,
          -0.7974243608291074,
          2.539224252284878,
          0.27749157382185025,
          0.029947613690060854,
          -0.6632734508421413,
          0.4136043951508379,
          -0.4225450143403558,
          -1.1558428073009133,
          -0.06601963292226119,
          -0.44535844109583067,
          0.34771702178762454,
          -0.585448460125657,
          0.374104091421654,
          -1.4427748559727855,
          1.6558084697349387
         ],
         "y": [
          1.4077527911809835,
          1.0271546190233385,
          -1.2993676276247845,
          -0.09270174633135952,
          1.2731562542540698,
          0.05355200309288338,
          -0.9303267057868418,
          -0.23179383093477826,
          -0.10357947768316543,
          -0.029818499658561006,
          -0.05705614237373467,
          1.5525580047510374,
          2.0463162967491417,
          -0.5185703901713093,
          -0.46369169156403706,
          1.1677305849731767,
          -0.8106841327867649,
          1.5403165913577637,
          -0.47151869304579025,
          1.8158188334232528,
          -1.004364913144073,
          0.11499760452114692,
          -0.6030915042566525,
          0.07711751819841703,
          0.36999965465738843,
          -0.0941347046558915,
          -1.4031480158727978,
          1.0272289592703079,
          1.7423972545036706,
          0.02797372998216113,
          1.0677071574433021,
          0.5386546041399065,
          -0.07375236121360178,
          -0.3210457962618951,
          1.1140962715960554,
          0.5871012163741027,
          -2.8478305341291223,
          -0.5694357117564559,
          -1.5550589908871388,
          -0.5861784112261942,
          -0.2378101715700083,
          -0.636322880746423,
          0.7058866683532209,
          -0.4232563995104346,
          -2.3523874028368055,
          1.5433139954234343,
          -0.4580160249163262,
          -1.0733750768257757,
          -0.37984272152335574,
          1.223497287323498,
          -1.1520248109612348,
          -1.2179519812020851,
          0.36044118392265284,
          0.06058851598611968,
          -0.173562856880582,
          1.675967095658934,
          -0.8865512457511057,
          -1.4304056681683393,
          -1.822405906571338,
          0.6371108077481631,
          1.9537339609271924,
          0.1456998692396737,
          -1.4466868023505728,
          -0.18261312293046025,
          -0.3680918507318625,
          -0.8109966917442649,
          -1.0391573344640779,
          0.2905092653231368,
          -1.2489195764635277,
          -1.2586692609705625,
          -1.3057891114566242,
          0.3335590173333529,
          -2.138567016205052,
          -1.0805255629015293,
          -0.3413653287466698,
          -0.8068425394192555,
          0.8517418277787769,
          -0.7075361696325824,
          -0.22864902819987004,
          1.2176724333581745,
          1.4070498331363956,
          1.0920957393346802,
          0.2894781107506607,
          -0.08276648654008772,
          0.7962990539303813,
          0.9160470410599457,
          -1.7637840482081515,
          0.8765875500724096,
          0.3958767968311605,
          -1.3654873526409985,
          -0.40046218918350496,
          1.7716467131636042,
          0.3757757616213289,
          0.10574450633701785,
          0.07521942210979464,
          -1.4828132966136425,
          0.5080783839032244,
          -0.5260489652542841,
          0.812383005415542,
          -0.9684789250611435
         ]
        }
       ],
       "layout": {
        "legend": {
         "bgcolor": "#F5F6F9",
         "font": {
          "color": "#4D5663"
         }
        },
        "paper_bgcolor": "#F5F6F9",
        "plot_bgcolor": "#F5F6F9",
        "template": {
         "data": {
          "bar": [
           {
            "error_x": {
             "color": "#2a3f5f"
            },
            "error_y": {
             "color": "#2a3f5f"
            },
            "marker": {
             "line": {
              "color": "#E5ECF6",
              "width": 0.5
             }
            },
            "type": "bar"
           }
          ],
          "barpolar": [
           {
            "marker": {
             "line": {
              "color": "#E5ECF6",
              "width": 0.5
             }
            },
            "type": "barpolar"
           }
          ],
          "carpet": [
           {
            "aaxis": {
             "endlinecolor": "#2a3f5f",
             "gridcolor": "white",
             "linecolor": "white",
             "minorgridcolor": "white",
             "startlinecolor": "#2a3f5f"
            },
            "baxis": {
             "endlinecolor": "#2a3f5f",
             "gridcolor": "white",
             "linecolor": "white",
             "minorgridcolor": "white",
             "startlinecolor": "#2a3f5f"
            },
            "type": "carpet"
           }
          ],
          "choropleth": [
           {
            "colorbar": {
             "outlinewidth": 0,
             "ticks": ""
            },
            "type": "choropleth"
           }
          ],
          "contour": [
           {
            "colorbar": {
             "outlinewidth": 0,
             "ticks": ""
            },
            "colorscale": [
             [
              0,
              "#0d0887"
             ],
             [
              0.1111111111111111,
              "#46039f"
             ],
             [
              0.2222222222222222,
              "#7201a8"
             ],
             [
              0.3333333333333333,
              "#9c179e"
             ],
             [
              0.4444444444444444,
              "#bd3786"
             ],
             [
              0.5555555555555556,
              "#d8576b"
             ],
             [
              0.6666666666666666,
              "#ed7953"
             ],
             [
              0.7777777777777778,
              "#fb9f3a"
             ],
             [
              0.8888888888888888,
              "#fdca26"
             ],
             [
              1,
              "#f0f921"
             ]
            ],
            "type": "contour"
           }
          ],
          "contourcarpet": [
           {
            "colorbar": {
             "outlinewidth": 0,
             "ticks": ""
            },
            "type": "contourcarpet"
           }
          ],
          "heatmap": [
           {
            "colorbar": {
             "outlinewidth": 0,
             "ticks": ""
            },
            "colorscale": [
             [
              0,
              "#0d0887"
             ],
             [
              0.1111111111111111,
              "#46039f"
             ],
             [
              0.2222222222222222,
              "#7201a8"
             ],
             [
              0.3333333333333333,
              "#9c179e"
             ],
             [
              0.4444444444444444,
              "#bd3786"
             ],
             [
              0.5555555555555556,
              "#d8576b"
             ],
             [
              0.6666666666666666,
              "#ed7953"
             ],
             [
              0.7777777777777778,
              "#fb9f3a"
             ],
             [
              0.8888888888888888,
              "#fdca26"
             ],
             [
              1,
              "#f0f921"
             ]
            ],
            "type": "heatmap"
           }
          ],
          "heatmapgl": [
           {
            "colorbar": {
             "outlinewidth": 0,
             "ticks": ""
            },
            "colorscale": [
             [
              0,
              "#0d0887"
             ],
             [
              0.1111111111111111,
              "#46039f"
             ],
             [
              0.2222222222222222,
              "#7201a8"
             ],
             [
              0.3333333333333333,
              "#9c179e"
             ],
             [
              0.4444444444444444,
              "#bd3786"
             ],
             [
              0.5555555555555556,
              "#d8576b"
             ],
             [
              0.6666666666666666,
              "#ed7953"
             ],
             [
              0.7777777777777778,
              "#fb9f3a"
             ],
             [
              0.8888888888888888,
              "#fdca26"
             ],
             [
              1,
              "#f0f921"
             ]
            ],
            "type": "heatmapgl"
           }
          ],
          "histogram": [
           {
            "marker": {
             "colorbar": {
              "outlinewidth": 0,
              "ticks": ""
             }
            },
            "type": "histogram"
           }
          ],
          "histogram2d": [
           {
            "colorbar": {
             "outlinewidth": 0,
             "ticks": ""
            },
            "colorscale": [
             [
              0,
              "#0d0887"
             ],
             [
              0.1111111111111111,
              "#46039f"
             ],
             [
              0.2222222222222222,
              "#7201a8"
             ],
             [
              0.3333333333333333,
              "#9c179e"
             ],
             [
              0.4444444444444444,
              "#bd3786"
             ],
             [
              0.5555555555555556,
              "#d8576b"
             ],
             [
              0.6666666666666666,
              "#ed7953"
             ],
             [
              0.7777777777777778,
              "#fb9f3a"
             ],
             [
              0.8888888888888888,
              "#fdca26"
             ],
             [
              1,
              "#f0f921"
             ]
            ],
            "type": "histogram2d"
           }
          ],
          "histogram2dcontour": [
           {
            "colorbar": {
             "outlinewidth": 0,
             "ticks": ""
            },
            "colorscale": [
             [
              0,
              "#0d0887"
             ],
             [
              0.1111111111111111,
              "#46039f"
             ],
             [
              0.2222222222222222,
              "#7201a8"
             ],
             [
              0.3333333333333333,
              "#9c179e"
             ],
             [
              0.4444444444444444,
              "#bd3786"
             ],
             [
              0.5555555555555556,
              "#d8576b"
             ],
             [
              0.6666666666666666,
              "#ed7953"
             ],
             [
              0.7777777777777778,
              "#fb9f3a"
             ],
             [
              0.8888888888888888,
              "#fdca26"
             ],
             [
              1,
              "#f0f921"
             ]
            ],
            "type": "histogram2dcontour"
           }
          ],
          "mesh3d": [
           {
            "colorbar": {
             "outlinewidth": 0,
             "ticks": ""
            },
            "type": "mesh3d"
           }
          ],
          "parcoords": [
           {
            "line": {
             "colorbar": {
              "outlinewidth": 0,
              "ticks": ""
             }
            },
            "type": "parcoords"
           }
          ],
          "pie": [
           {
            "automargin": true,
            "type": "pie"
           }
          ],
          "scatter": [
           {
            "marker": {
             "colorbar": {
              "outlinewidth": 0,
              "ticks": ""
             }
            },
            "type": "scatter"
           }
          ],
          "scatter3d": [
           {
            "line": {
             "colorbar": {
              "outlinewidth": 0,
              "ticks": ""
             }
            },
            "marker": {
             "colorbar": {
              "outlinewidth": 0,
              "ticks": ""
             }
            },
            "type": "scatter3d"
           }
          ],
          "scattercarpet": [
           {
            "marker": {
             "colorbar": {
              "outlinewidth": 0,
              "ticks": ""
             }
            },
            "type": "scattercarpet"
           }
          ],
          "scattergeo": [
           {
            "marker": {
             "colorbar": {
              "outlinewidth": 0,
              "ticks": ""
             }
            },
            "type": "scattergeo"
           }
          ],
          "scattergl": [
           {
            "marker": {
             "colorbar": {
              "outlinewidth": 0,
              "ticks": ""
             }
            },
            "type": "scattergl"
           }
          ],
          "scattermapbox": [
           {
            "marker": {
             "colorbar": {
              "outlinewidth": 0,
              "ticks": ""
             }
            },
            "type": "scattermapbox"
           }
          ],
          "scatterpolar": [
           {
            "marker": {
             "colorbar": {
              "outlinewidth": 0,
              "ticks": ""
             }
            },
            "type": "scatterpolar"
           }
          ],
          "scatterpolargl": [
           {
            "marker": {
             "colorbar": {
              "outlinewidth": 0,
              "ticks": ""
             }
            },
            "type": "scatterpolargl"
           }
          ],
          "scatterternary": [
           {
            "marker": {
             "colorbar": {
              "outlinewidth": 0,
              "ticks": ""
             }
            },
            "type": "scatterternary"
           }
          ],
          "surface": [
           {
            "colorbar": {
             "outlinewidth": 0,
             "ticks": ""
            },
            "colorscale": [
             [
              0,
              "#0d0887"
             ],
             [
              0.1111111111111111,
              "#46039f"
             ],
             [
              0.2222222222222222,
              "#7201a8"
             ],
             [
              0.3333333333333333,
              "#9c179e"
             ],
             [
              0.4444444444444444,
              "#bd3786"
             ],
             [
              0.5555555555555556,
              "#d8576b"
             ],
             [
              0.6666666666666666,
              "#ed7953"
             ],
             [
              0.7777777777777778,
              "#fb9f3a"
             ],
             [
              0.8888888888888888,
              "#fdca26"
             ],
             [
              1,
              "#f0f921"
             ]
            ],
            "type": "surface"
           }
          ],
          "table": [
           {
            "cells": {
             "fill": {
              "color": "#EBF0F8"
             },
             "line": {
              "color": "white"
             }
            },
            "header": {
             "fill": {
              "color": "#C8D4E3"
             },
             "line": {
              "color": "white"
             }
            },
            "type": "table"
           }
          ]
         },
         "layout": {
          "annotationdefaults": {
           "arrowcolor": "#2a3f5f",
           "arrowhead": 0,
           "arrowwidth": 1
          },
          "coloraxis": {
           "colorbar": {
            "outlinewidth": 0,
            "ticks": ""
           }
          },
          "colorscale": {
           "diverging": [
            [
             0,
             "#8e0152"
            ],
            [
             0.1,
             "#c51b7d"
            ],
            [
             0.2,
             "#de77ae"
            ],
            [
             0.3,
             "#f1b6da"
            ],
            [
             0.4,
             "#fde0ef"
            ],
            [
             0.5,
             "#f7f7f7"
            ],
            [
             0.6,
             "#e6f5d0"
            ],
            [
             0.7,
             "#b8e186"
            ],
            [
             0.8,
             "#7fbc41"
            ],
            [
             0.9,
             "#4d9221"
            ],
            [
             1,
             "#276419"
            ]
           ],
           "sequential": [
            [
             0,
             "#0d0887"
            ],
            [
             0.1111111111111111,
             "#46039f"
            ],
            [
             0.2222222222222222,
             "#7201a8"
            ],
            [
             0.3333333333333333,
             "#9c179e"
            ],
            [
             0.4444444444444444,
             "#bd3786"
            ],
            [
             0.5555555555555556,
             "#d8576b"
            ],
            [
             0.6666666666666666,
             "#ed7953"
            ],
            [
             0.7777777777777778,
             "#fb9f3a"
            ],
            [
             0.8888888888888888,
             "#fdca26"
            ],
            [
             1,
             "#f0f921"
            ]
           ],
           "sequentialminus": [
            [
             0,
             "#0d0887"
            ],
            [
             0.1111111111111111,
             "#46039f"
            ],
            [
             0.2222222222222222,
             "#7201a8"
            ],
            [
             0.3333333333333333,
             "#9c179e"
            ],
            [
             0.4444444444444444,
             "#bd3786"
            ],
            [
             0.5555555555555556,
             "#d8576b"
            ],
            [
             0.6666666666666666,
             "#ed7953"
            ],
            [
             0.7777777777777778,
             "#fb9f3a"
            ],
            [
             0.8888888888888888,
             "#fdca26"
            ],
            [
             1,
             "#f0f921"
            ]
           ]
          },
          "colorway": [
           "#636efa",
           "#EF553B",
           "#00cc96",
           "#ab63fa",
           "#FFA15A",
           "#19d3f3",
           "#FF6692",
           "#B6E880",
           "#FF97FF",
           "#FECB52"
          ],
          "font": {
           "color": "#2a3f5f"
          },
          "geo": {
           "bgcolor": "white",
           "lakecolor": "white",
           "landcolor": "#E5ECF6",
           "showlakes": true,
           "showland": true,
           "subunitcolor": "white"
          },
          "hoverlabel": {
           "align": "left"
          },
          "hovermode": "closest",
          "mapbox": {
           "style": "light"
          },
          "paper_bgcolor": "white",
          "plot_bgcolor": "#E5ECF6",
          "polar": {
           "angularaxis": {
            "gridcolor": "white",
            "linecolor": "white",
            "ticks": ""
           },
           "bgcolor": "#E5ECF6",
           "radialaxis": {
            "gridcolor": "white",
            "linecolor": "white",
            "ticks": ""
           }
          },
          "scene": {
           "xaxis": {
            "backgroundcolor": "#E5ECF6",
            "gridcolor": "white",
            "gridwidth": 2,
            "linecolor": "white",
            "showbackground": true,
            "ticks": "",
            "zerolinecolor": "white"
           },
           "yaxis": {
            "backgroundcolor": "#E5ECF6",
            "gridcolor": "white",
            "gridwidth": 2,
            "linecolor": "white",
            "showbackground": true,
            "ticks": "",
            "zerolinecolor": "white"
           },
           "zaxis": {
            "backgroundcolor": "#E5ECF6",
            "gridcolor": "white",
            "gridwidth": 2,
            "linecolor": "white",
            "showbackground": true,
            "ticks": "",
            "zerolinecolor": "white"
           }
          },
          "shapedefaults": {
           "line": {
            "color": "#2a3f5f"
           }
          },
          "ternary": {
           "aaxis": {
            "gridcolor": "white",
            "linecolor": "white",
            "ticks": ""
           },
           "baxis": {
            "gridcolor": "white",
            "linecolor": "white",
            "ticks": ""
           },
           "bgcolor": "#E5ECF6",
           "caxis": {
            "gridcolor": "white",
            "linecolor": "white",
            "ticks": ""
           }
          },
          "title": {
           "x": 0.05
          },
          "xaxis": {
           "automargin": true,
           "gridcolor": "white",
           "linecolor": "white",
           "ticks": "",
           "title": {
            "standoff": 15
           },
           "zerolinecolor": "white",
           "zerolinewidth": 2
          },
          "yaxis": {
           "automargin": true,
           "gridcolor": "white",
           "linecolor": "white",
           "ticks": "",
           "title": {
            "standoff": 15
           },
           "zerolinecolor": "white",
           "zerolinewidth": 2
          }
         }
        },
        "title": {
         "font": {
          "color": "#4D5663"
         }
        },
        "xaxis": {
         "gridcolor": "#E1E5ED",
         "showgrid": true,
         "tickfont": {
          "color": "#4D5663"
         },
         "title": {
          "font": {
           "color": "#4D5663"
          },
          "text": ""
         },
         "zerolinecolor": "#E1E5ED"
        },
        "yaxis": {
         "gridcolor": "#E1E5ED",
         "showgrid": true,
         "tickfont": {
          "color": "#4D5663"
         },
         "title": {
          "font": {
           "color": "#4D5663"
          },
          "text": ""
         },
         "zerolinecolor": "#E1E5ED"
        }
       }
      },
      "text/html": [
       "<div>\n",
       "        \n",
       "        \n",
       "            <div id=\"d76cc902-98c1-4f3c-85e7-6b4aa49ebe58\" class=\"plotly-graph-div\" style=\"height:525px; width:100%;\"></div>\n",
       "            <script type=\"text/javascript\">\n",
       "                require([\"plotly\"], function(Plotly) {\n",
       "                    window.PLOTLYENV=window.PLOTLYENV || {};\n",
       "                    window.PLOTLYENV.BASE_URL='https://plot.ly';\n",
       "                    \n",
       "                if (document.getElementById(\"d76cc902-98c1-4f3c-85e7-6b4aa49ebe58\")) {\n",
       "                    Plotly.newPlot(\n",
       "                        'd76cc902-98c1-4f3c-85e7-6b4aa49ebe58',\n",
       "                        [{\"line\": {\"color\": \"rgba(255, 153, 51, 1.0)\", \"dash\": \"solid\", \"shape\": \"linear\", \"width\": 1.3}, \"marker\": {\"size\": 10, \"symbol\": \"circle\"}, \"mode\": \"markers\", \"name\": \"B\", \"text\": \"\", \"type\": \"scatter\", \"x\": [-0.08665386071286409, 0.6429420497995871, -1.387439097173388, -0.1361759913956736, -0.49685462905137473, 1.440321371142075, -1.7441026432369262, -0.865975895339651, 1.4464480415250942, 0.7856225704806149, -0.31891864193814634, 1.3225449466107067, 0.539518377247178, 0.5061678509856647, 0.6671675199658994, -0.17240337605432848, 0.6629088210598313, 1.8488745314000505, 0.31606929538836276, 1.0200752282815864, 1.3074982808756987, -1.132754733028328, -0.6292316671802965, 0.5943986307575858, 0.3716228687189236, 0.409573466455306, 0.8983715886684981, 1.305469705255862, -0.4936090267584502, 0.692425960422741, 0.7162775621233937, -1.7885293399956528, 1.1838126987494433, 1.3811697119289283, -1.493696588152164, 0.04857078294029223, 0.91016178374172, 1.8747186014664174, 1.316048034234304, 0.5933537387278158, -1.1611371901648193, 0.9458458282123137, -1.5226341469689433, -1.4767328930835304, 0.12075070336521955, 0.9049353950405488, -0.5957213110320032, -1.5107620653520046, -0.09677064704752825, 1.3253826247550056, 0.7880995144233671, 0.07609555524239503, -0.8661317595327915, -1.1248478244279192, 0.17309985461444194, 0.5317845365392089, 0.8076068870591362, 0.3952615581172054, -1.0541551835085503, -0.7207551555338316, -1.9751382134225923, 1.386093530266168, 1.4908558124581053, 0.6644071864952659, 0.5768580774239381, -2.031853180211298, 0.7136819965797955, -1.9826291999513945, 0.19393221235516056, 1.3753499852196729, -0.3337209010139875, -1.0225549123931477, 0.020698274530295043, -0.09072887881050878, 0.7553158348602322, -1.2727430223713965, -0.5256460103975078, -0.1927595363295705, -0.08125359600243147, -0.013783032145486348, -1.8068148421355563, 0.2456263274841035, 0.12648049704792919, -0.6906330205851243, 1.36771718870962, -0.7974243608291074, 2.539224252284878, 0.27749157382185025, 0.029947613690060854, -0.6632734508421413, 0.4136043951508379, -0.4225450143403558, -1.1558428073009133, -0.06601963292226119, -0.44535844109583067, 0.34771702178762454, -0.585448460125657, 0.374104091421654, -1.4427748559727855, 1.6558084697349387], \"y\": [1.4077527911809835, 1.0271546190233385, -1.2993676276247845, -0.09270174633135952, 1.2731562542540698, 0.05355200309288338, -0.9303267057868418, -0.23179383093477826, -0.10357947768316543, -0.029818499658561006, -0.05705614237373467, 1.5525580047510374, 2.0463162967491417, -0.5185703901713093, -0.46369169156403706, 1.1677305849731767, -0.8106841327867649, 1.5403165913577637, -0.47151869304579025, 1.8158188334232528, -1.004364913144073, 0.11499760452114692, -0.6030915042566525, 0.07711751819841703, 0.36999965465738843, -0.0941347046558915, -1.4031480158727978, 1.0272289592703079, 1.7423972545036706, 0.02797372998216113, 1.0677071574433021, 0.5386546041399065, -0.07375236121360178, -0.3210457962618951, 1.1140962715960554, 0.5871012163741027, -2.8478305341291223, -0.5694357117564559, -1.5550589908871388, -0.5861784112261942, -0.2378101715700083, -0.636322880746423, 0.7058866683532209, -0.4232563995104346, -2.3523874028368055, 1.5433139954234343, -0.4580160249163262, -1.0733750768257757, -0.37984272152335574, 1.223497287323498, -1.1520248109612348, -1.2179519812020851, 0.36044118392265284, 0.06058851598611968, -0.173562856880582, 1.675967095658934, -0.8865512457511057, -1.4304056681683393, -1.822405906571338, 0.6371108077481631, 1.9537339609271924, 0.1456998692396737, -1.4466868023505728, -0.18261312293046025, -0.3680918507318625, -0.8109966917442649, -1.0391573344640779, 0.2905092653231368, -1.2489195764635277, -1.2586692609705625, -1.3057891114566242, 0.3335590173333529, -2.138567016205052, -1.0805255629015293, -0.3413653287466698, -0.8068425394192555, 0.8517418277787769, -0.7075361696325824, -0.22864902819987004, 1.2176724333581745, 1.4070498331363956, 1.0920957393346802, 0.2894781107506607, -0.08276648654008772, 0.7962990539303813, 0.9160470410599457, -1.7637840482081515, 0.8765875500724096, 0.3958767968311605, -1.3654873526409985, -0.40046218918350496, 1.7716467131636042, 0.3757757616213289, 0.10574450633701785, 0.07521942210979464, -1.4828132966136425, 0.5080783839032244, -0.5260489652542841, 0.812383005415542, -0.9684789250611435]}],\n",
       "                        {\"legend\": {\"bgcolor\": \"#F5F6F9\", \"font\": {\"color\": \"#4D5663\"}}, \"paper_bgcolor\": \"#F5F6F9\", \"plot_bgcolor\": \"#F5F6F9\", \"template\": {\"data\": {\"bar\": [{\"error_x\": {\"color\": \"#2a3f5f\"}, \"error_y\": {\"color\": \"#2a3f5f\"}, \"marker\": {\"line\": {\"color\": \"#E5ECF6\", \"width\": 0.5}}, \"type\": \"bar\"}], \"barpolar\": [{\"marker\": {\"line\": {\"color\": \"#E5ECF6\", \"width\": 0.5}}, \"type\": \"barpolar\"}], \"carpet\": [{\"aaxis\": {\"endlinecolor\": \"#2a3f5f\", \"gridcolor\": \"white\", \"linecolor\": \"white\", \"minorgridcolor\": \"white\", \"startlinecolor\": \"#2a3f5f\"}, \"baxis\": {\"endlinecolor\": \"#2a3f5f\", \"gridcolor\": \"white\", \"linecolor\": \"white\", \"minorgridcolor\": \"white\", \"startlinecolor\": \"#2a3f5f\"}, \"type\": \"carpet\"}], \"choropleth\": [{\"colorbar\": {\"outlinewidth\": 0, \"ticks\": \"\"}, \"type\": \"choropleth\"}], \"contour\": [{\"colorbar\": {\"outlinewidth\": 0, \"ticks\": \"\"}, \"colorscale\": [[0.0, \"#0d0887\"], [0.1111111111111111, \"#46039f\"], [0.2222222222222222, \"#7201a8\"], [0.3333333333333333, \"#9c179e\"], [0.4444444444444444, \"#bd3786\"], [0.5555555555555556, \"#d8576b\"], [0.6666666666666666, \"#ed7953\"], [0.7777777777777778, \"#fb9f3a\"], [0.8888888888888888, \"#fdca26\"], [1.0, \"#f0f921\"]], \"type\": \"contour\"}], \"contourcarpet\": [{\"colorbar\": {\"outlinewidth\": 0, \"ticks\": \"\"}, \"type\": \"contourcarpet\"}], \"heatmap\": [{\"colorbar\": {\"outlinewidth\": 0, \"ticks\": \"\"}, \"colorscale\": [[0.0, \"#0d0887\"], [0.1111111111111111, \"#46039f\"], [0.2222222222222222, \"#7201a8\"], [0.3333333333333333, \"#9c179e\"], [0.4444444444444444, \"#bd3786\"], [0.5555555555555556, \"#d8576b\"], [0.6666666666666666, \"#ed7953\"], [0.7777777777777778, \"#fb9f3a\"], [0.8888888888888888, \"#fdca26\"], [1.0, \"#f0f921\"]], \"type\": \"heatmap\"}], \"heatmapgl\": [{\"colorbar\": {\"outlinewidth\": 0, \"ticks\": \"\"}, \"colorscale\": [[0.0, \"#0d0887\"], [0.1111111111111111, \"#46039f\"], [0.2222222222222222, \"#7201a8\"], [0.3333333333333333, \"#9c179e\"], [0.4444444444444444, \"#bd3786\"], [0.5555555555555556, \"#d8576b\"], [0.6666666666666666, \"#ed7953\"], [0.7777777777777778, \"#fb9f3a\"], [0.8888888888888888, \"#fdca26\"], [1.0, \"#f0f921\"]], \"type\": \"heatmapgl\"}], \"histogram\": [{\"marker\": {\"colorbar\": {\"outlinewidth\": 0, \"ticks\": \"\"}}, \"type\": \"histogram\"}], \"histogram2d\": [{\"colorbar\": {\"outlinewidth\": 0, \"ticks\": \"\"}, \"colorscale\": [[0.0, \"#0d0887\"], [0.1111111111111111, \"#46039f\"], [0.2222222222222222, \"#7201a8\"], [0.3333333333333333, \"#9c179e\"], [0.4444444444444444, \"#bd3786\"], [0.5555555555555556, \"#d8576b\"], [0.6666666666666666, \"#ed7953\"], [0.7777777777777778, \"#fb9f3a\"], [0.8888888888888888, \"#fdca26\"], [1.0, \"#f0f921\"]], \"type\": \"histogram2d\"}], \"histogram2dcontour\": [{\"colorbar\": {\"outlinewidth\": 0, \"ticks\": \"\"}, \"colorscale\": [[0.0, \"#0d0887\"], [0.1111111111111111, \"#46039f\"], [0.2222222222222222, \"#7201a8\"], [0.3333333333333333, \"#9c179e\"], [0.4444444444444444, \"#bd3786\"], [0.5555555555555556, \"#d8576b\"], [0.6666666666666666, \"#ed7953\"], [0.7777777777777778, \"#fb9f3a\"], [0.8888888888888888, \"#fdca26\"], [1.0, \"#f0f921\"]], \"type\": \"histogram2dcontour\"}], \"mesh3d\": [{\"colorbar\": {\"outlinewidth\": 0, \"ticks\": \"\"}, \"type\": \"mesh3d\"}], \"parcoords\": [{\"line\": {\"colorbar\": {\"outlinewidth\": 0, \"ticks\": \"\"}}, \"type\": \"parcoords\"}], \"pie\": [{\"automargin\": true, \"type\": \"pie\"}], \"scatter\": [{\"marker\": {\"colorbar\": {\"outlinewidth\": 0, \"ticks\": \"\"}}, \"type\": \"scatter\"}], \"scatter3d\": [{\"line\": {\"colorbar\": {\"outlinewidth\": 0, \"ticks\": \"\"}}, \"marker\": {\"colorbar\": {\"outlinewidth\": 0, \"ticks\": \"\"}}, \"type\": \"scatter3d\"}], \"scattercarpet\": [{\"marker\": {\"colorbar\": {\"outlinewidth\": 0, \"ticks\": \"\"}}, \"type\": \"scattercarpet\"}], \"scattergeo\": [{\"marker\": {\"colorbar\": {\"outlinewidth\": 0, \"ticks\": \"\"}}, \"type\": \"scattergeo\"}], \"scattergl\": [{\"marker\": {\"colorbar\": {\"outlinewidth\": 0, \"ticks\": \"\"}}, \"type\": \"scattergl\"}], \"scattermapbox\": [{\"marker\": {\"colorbar\": {\"outlinewidth\": 0, \"ticks\": \"\"}}, \"type\": \"scattermapbox\"}], \"scatterpolar\": [{\"marker\": {\"colorbar\": {\"outlinewidth\": 0, \"ticks\": \"\"}}, \"type\": \"scatterpolar\"}], \"scatterpolargl\": [{\"marker\": {\"colorbar\": {\"outlinewidth\": 0, \"ticks\": \"\"}}, \"type\": \"scatterpolargl\"}], \"scatterternary\": [{\"marker\": {\"colorbar\": {\"outlinewidth\": 0, \"ticks\": \"\"}}, \"type\": \"scatterternary\"}], \"surface\": [{\"colorbar\": {\"outlinewidth\": 0, \"ticks\": \"\"}, \"colorscale\": [[0.0, \"#0d0887\"], [0.1111111111111111, \"#46039f\"], [0.2222222222222222, \"#7201a8\"], [0.3333333333333333, \"#9c179e\"], [0.4444444444444444, \"#bd3786\"], [0.5555555555555556, \"#d8576b\"], [0.6666666666666666, \"#ed7953\"], [0.7777777777777778, \"#fb9f3a\"], [0.8888888888888888, \"#fdca26\"], [1.0, \"#f0f921\"]], \"type\": \"surface\"}], \"table\": [{\"cells\": {\"fill\": {\"color\": \"#EBF0F8\"}, \"line\": {\"color\": \"white\"}}, \"header\": {\"fill\": {\"color\": \"#C8D4E3\"}, \"line\": {\"color\": \"white\"}}, \"type\": \"table\"}]}, \"layout\": {\"annotationdefaults\": {\"arrowcolor\": \"#2a3f5f\", \"arrowhead\": 0, \"arrowwidth\": 1}, \"coloraxis\": {\"colorbar\": {\"outlinewidth\": 0, \"ticks\": \"\"}}, \"colorscale\": {\"diverging\": [[0, \"#8e0152\"], [0.1, \"#c51b7d\"], [0.2, \"#de77ae\"], [0.3, \"#f1b6da\"], [0.4, \"#fde0ef\"], [0.5, \"#f7f7f7\"], [0.6, \"#e6f5d0\"], [0.7, \"#b8e186\"], [0.8, \"#7fbc41\"], [0.9, \"#4d9221\"], [1, \"#276419\"]], \"sequential\": [[0.0, \"#0d0887\"], [0.1111111111111111, \"#46039f\"], [0.2222222222222222, \"#7201a8\"], [0.3333333333333333, \"#9c179e\"], [0.4444444444444444, \"#bd3786\"], [0.5555555555555556, \"#d8576b\"], [0.6666666666666666, \"#ed7953\"], [0.7777777777777778, \"#fb9f3a\"], [0.8888888888888888, \"#fdca26\"], [1.0, \"#f0f921\"]], \"sequentialminus\": [[0.0, \"#0d0887\"], [0.1111111111111111, \"#46039f\"], [0.2222222222222222, \"#7201a8\"], [0.3333333333333333, \"#9c179e\"], [0.4444444444444444, \"#bd3786\"], [0.5555555555555556, \"#d8576b\"], [0.6666666666666666, \"#ed7953\"], [0.7777777777777778, \"#fb9f3a\"], [0.8888888888888888, \"#fdca26\"], [1.0, \"#f0f921\"]]}, \"colorway\": [\"#636efa\", \"#EF553B\", \"#00cc96\", \"#ab63fa\", \"#FFA15A\", \"#19d3f3\", \"#FF6692\", \"#B6E880\", \"#FF97FF\", \"#FECB52\"], \"font\": {\"color\": \"#2a3f5f\"}, \"geo\": {\"bgcolor\": \"white\", \"lakecolor\": \"white\", \"landcolor\": \"#E5ECF6\", \"showlakes\": true, \"showland\": true, \"subunitcolor\": \"white\"}, \"hoverlabel\": {\"align\": \"left\"}, \"hovermode\": \"closest\", \"mapbox\": {\"style\": \"light\"}, \"paper_bgcolor\": \"white\", \"plot_bgcolor\": \"#E5ECF6\", \"polar\": {\"angularaxis\": {\"gridcolor\": \"white\", \"linecolor\": \"white\", \"ticks\": \"\"}, \"bgcolor\": \"#E5ECF6\", \"radialaxis\": {\"gridcolor\": \"white\", \"linecolor\": \"white\", \"ticks\": \"\"}}, \"scene\": {\"xaxis\": {\"backgroundcolor\": \"#E5ECF6\", \"gridcolor\": \"white\", \"gridwidth\": 2, \"linecolor\": \"white\", \"showbackground\": true, \"ticks\": \"\", \"zerolinecolor\": \"white\"}, \"yaxis\": {\"backgroundcolor\": \"#E5ECF6\", \"gridcolor\": \"white\", \"gridwidth\": 2, \"linecolor\": \"white\", \"showbackground\": true, \"ticks\": \"\", \"zerolinecolor\": \"white\"}, \"zaxis\": {\"backgroundcolor\": \"#E5ECF6\", \"gridcolor\": \"white\", \"gridwidth\": 2, \"linecolor\": \"white\", \"showbackground\": true, \"ticks\": \"\", \"zerolinecolor\": \"white\"}}, \"shapedefaults\": {\"line\": {\"color\": \"#2a3f5f\"}}, \"ternary\": {\"aaxis\": {\"gridcolor\": \"white\", \"linecolor\": \"white\", \"ticks\": \"\"}, \"baxis\": {\"gridcolor\": \"white\", \"linecolor\": \"white\", \"ticks\": \"\"}, \"bgcolor\": \"#E5ECF6\", \"caxis\": {\"gridcolor\": \"white\", \"linecolor\": \"white\", \"ticks\": \"\"}}, \"title\": {\"x\": 0.05}, \"xaxis\": {\"automargin\": true, \"gridcolor\": \"white\", \"linecolor\": \"white\", \"ticks\": \"\", \"title\": {\"standoff\": 15}, \"zerolinecolor\": \"white\", \"zerolinewidth\": 2}, \"yaxis\": {\"automargin\": true, \"gridcolor\": \"white\", \"linecolor\": \"white\", \"ticks\": \"\", \"title\": {\"standoff\": 15}, \"zerolinecolor\": \"white\", \"zerolinewidth\": 2}}}, \"title\": {\"font\": {\"color\": \"#4D5663\"}}, \"xaxis\": {\"gridcolor\": \"#E1E5ED\", \"showgrid\": true, \"tickfont\": {\"color\": \"#4D5663\"}, \"title\": {\"font\": {\"color\": \"#4D5663\"}, \"text\": \"\"}, \"zerolinecolor\": \"#E1E5ED\"}, \"yaxis\": {\"gridcolor\": \"#E1E5ED\", \"showgrid\": true, \"tickfont\": {\"color\": \"#4D5663\"}, \"title\": {\"font\": {\"color\": \"#4D5663\"}, \"text\": \"\"}, \"zerolinecolor\": \"#E1E5ED\"}},\n",
       "                        {\"showLink\": true, \"linkText\": \"Export to plot.ly\", \"plotlyServerURL\": \"https://plot.ly\", \"responsive\": true}\n",
       "                    ).then(function(){\n",
       "                            \n",
       "var gd = document.getElementById('d76cc902-98c1-4f3c-85e7-6b4aa49ebe58');\n",
       "var x = new MutationObserver(function (mutations, observer) {{\n",
       "        var display = window.getComputedStyle(gd).display;\n",
       "        if (!display || display === 'none') {{\n",
       "            console.log([gd, 'removed!']);\n",
       "            Plotly.purge(gd);\n",
       "            observer.disconnect();\n",
       "        }}\n",
       "}});\n",
       "\n",
       "// Listen for the removal of the full notebook cells\n",
       "var notebookContainer = gd.closest('#notebook-container');\n",
       "if (notebookContainer) {{\n",
       "    x.observe(notebookContainer, {childList: true});\n",
       "}}\n",
       "\n",
       "// Listen for the clearing of the current output cell\n",
       "var outputEl = gd.closest('.output');\n",
       "if (outputEl) {{\n",
       "    x.observe(outputEl, {childList: true});\n",
       "}}\n",
       "\n",
       "                        })\n",
       "                };\n",
       "                });\n",
       "            </script>\n",
       "        </div>"
      ]
     },
     "metadata": {},
     "output_type": "display_data"
    }
   ],
   "source": [
    "df.iplot(kind='scatter',x='A',y='B',mode='markers',size=10)"
   ]
  },
  {
   "cell_type": "markdown",
   "metadata": {},
   "source": [
    "## Plots de barra"
   ]
  },
  {
   "cell_type": "code",
   "execution_count": 12,
   "metadata": {
    "ExecuteTime": {
     "end_time": "2020-06-19T11:48:33.777712Z",
     "start_time": "2020-06-19T11:48:33.377813Z"
    }
   },
   "outputs": [
    {
     "data": {
      "application/vnd.plotly.v1+json": {
       "config": {
        "linkText": "Export to plot.ly",
        "plotlyServerURL": "https://plot.ly",
        "showLink": true
       },
       "data": [
        {
         "marker": {
          "color": "rgba(255, 153, 51, 0.6)",
          "line": {
           "color": "rgba(255, 153, 51, 1.0)",
           "width": 1
          }
         },
         "name": "Valores",
         "orientation": "v",
         "text": "",
         "type": "bar",
         "x": [
          "A",
          "B",
          "C"
         ],
         "y": [
          32,
          43,
          50
         ]
        }
       ],
       "layout": {
        "legend": {
         "bgcolor": "#F5F6F9",
         "font": {
          "color": "#4D5663"
         }
        },
        "paper_bgcolor": "#F5F6F9",
        "plot_bgcolor": "#F5F6F9",
        "template": {
         "data": {
          "bar": [
           {
            "error_x": {
             "color": "#2a3f5f"
            },
            "error_y": {
             "color": "#2a3f5f"
            },
            "marker": {
             "line": {
              "color": "#E5ECF6",
              "width": 0.5
             }
            },
            "type": "bar"
           }
          ],
          "barpolar": [
           {
            "marker": {
             "line": {
              "color": "#E5ECF6",
              "width": 0.5
             }
            },
            "type": "barpolar"
           }
          ],
          "carpet": [
           {
            "aaxis": {
             "endlinecolor": "#2a3f5f",
             "gridcolor": "white",
             "linecolor": "white",
             "minorgridcolor": "white",
             "startlinecolor": "#2a3f5f"
            },
            "baxis": {
             "endlinecolor": "#2a3f5f",
             "gridcolor": "white",
             "linecolor": "white",
             "minorgridcolor": "white",
             "startlinecolor": "#2a3f5f"
            },
            "type": "carpet"
           }
          ],
          "choropleth": [
           {
            "colorbar": {
             "outlinewidth": 0,
             "ticks": ""
            },
            "type": "choropleth"
           }
          ],
          "contour": [
           {
            "colorbar": {
             "outlinewidth": 0,
             "ticks": ""
            },
            "colorscale": [
             [
              0,
              "#0d0887"
             ],
             [
              0.1111111111111111,
              "#46039f"
             ],
             [
              0.2222222222222222,
              "#7201a8"
             ],
             [
              0.3333333333333333,
              "#9c179e"
             ],
             [
              0.4444444444444444,
              "#bd3786"
             ],
             [
              0.5555555555555556,
              "#d8576b"
             ],
             [
              0.6666666666666666,
              "#ed7953"
             ],
             [
              0.7777777777777778,
              "#fb9f3a"
             ],
             [
              0.8888888888888888,
              "#fdca26"
             ],
             [
              1,
              "#f0f921"
             ]
            ],
            "type": "contour"
           }
          ],
          "contourcarpet": [
           {
            "colorbar": {
             "outlinewidth": 0,
             "ticks": ""
            },
            "type": "contourcarpet"
           }
          ],
          "heatmap": [
           {
            "colorbar": {
             "outlinewidth": 0,
             "ticks": ""
            },
            "colorscale": [
             [
              0,
              "#0d0887"
             ],
             [
              0.1111111111111111,
              "#46039f"
             ],
             [
              0.2222222222222222,
              "#7201a8"
             ],
             [
              0.3333333333333333,
              "#9c179e"
             ],
             [
              0.4444444444444444,
              "#bd3786"
             ],
             [
              0.5555555555555556,
              "#d8576b"
             ],
             [
              0.6666666666666666,
              "#ed7953"
             ],
             [
              0.7777777777777778,
              "#fb9f3a"
             ],
             [
              0.8888888888888888,
              "#fdca26"
             ],
             [
              1,
              "#f0f921"
             ]
            ],
            "type": "heatmap"
           }
          ],
          "heatmapgl": [
           {
            "colorbar": {
             "outlinewidth": 0,
             "ticks": ""
            },
            "colorscale": [
             [
              0,
              "#0d0887"
             ],
             [
              0.1111111111111111,
              "#46039f"
             ],
             [
              0.2222222222222222,
              "#7201a8"
             ],
             [
              0.3333333333333333,
              "#9c179e"
             ],
             [
              0.4444444444444444,
              "#bd3786"
             ],
             [
              0.5555555555555556,
              "#d8576b"
             ],
             [
              0.6666666666666666,
              "#ed7953"
             ],
             [
              0.7777777777777778,
              "#fb9f3a"
             ],
             [
              0.8888888888888888,
              "#fdca26"
             ],
             [
              1,
              "#f0f921"
             ]
            ],
            "type": "heatmapgl"
           }
          ],
          "histogram": [
           {
            "marker": {
             "colorbar": {
              "outlinewidth": 0,
              "ticks": ""
             }
            },
            "type": "histogram"
           }
          ],
          "histogram2d": [
           {
            "colorbar": {
             "outlinewidth": 0,
             "ticks": ""
            },
            "colorscale": [
             [
              0,
              "#0d0887"
             ],
             [
              0.1111111111111111,
              "#46039f"
             ],
             [
              0.2222222222222222,
              "#7201a8"
             ],
             [
              0.3333333333333333,
              "#9c179e"
             ],
             [
              0.4444444444444444,
              "#bd3786"
             ],
             [
              0.5555555555555556,
              "#d8576b"
             ],
             [
              0.6666666666666666,
              "#ed7953"
             ],
             [
              0.7777777777777778,
              "#fb9f3a"
             ],
             [
              0.8888888888888888,
              "#fdca26"
             ],
             [
              1,
              "#f0f921"
             ]
            ],
            "type": "histogram2d"
           }
          ],
          "histogram2dcontour": [
           {
            "colorbar": {
             "outlinewidth": 0,
             "ticks": ""
            },
            "colorscale": [
             [
              0,
              "#0d0887"
             ],
             [
              0.1111111111111111,
              "#46039f"
             ],
             [
              0.2222222222222222,
              "#7201a8"
             ],
             [
              0.3333333333333333,
              "#9c179e"
             ],
             [
              0.4444444444444444,
              "#bd3786"
             ],
             [
              0.5555555555555556,
              "#d8576b"
             ],
             [
              0.6666666666666666,
              "#ed7953"
             ],
             [
              0.7777777777777778,
              "#fb9f3a"
             ],
             [
              0.8888888888888888,
              "#fdca26"
             ],
             [
              1,
              "#f0f921"
             ]
            ],
            "type": "histogram2dcontour"
           }
          ],
          "mesh3d": [
           {
            "colorbar": {
             "outlinewidth": 0,
             "ticks": ""
            },
            "type": "mesh3d"
           }
          ],
          "parcoords": [
           {
            "line": {
             "colorbar": {
              "outlinewidth": 0,
              "ticks": ""
             }
            },
            "type": "parcoords"
           }
          ],
          "pie": [
           {
            "automargin": true,
            "type": "pie"
           }
          ],
          "scatter": [
           {
            "marker": {
             "colorbar": {
              "outlinewidth": 0,
              "ticks": ""
             }
            },
            "type": "scatter"
           }
          ],
          "scatter3d": [
           {
            "line": {
             "colorbar": {
              "outlinewidth": 0,
              "ticks": ""
             }
            },
            "marker": {
             "colorbar": {
              "outlinewidth": 0,
              "ticks": ""
             }
            },
            "type": "scatter3d"
           }
          ],
          "scattercarpet": [
           {
            "marker": {
             "colorbar": {
              "outlinewidth": 0,
              "ticks": ""
             }
            },
            "type": "scattercarpet"
           }
          ],
          "scattergeo": [
           {
            "marker": {
             "colorbar": {
              "outlinewidth": 0,
              "ticks": ""
             }
            },
            "type": "scattergeo"
           }
          ],
          "scattergl": [
           {
            "marker": {
             "colorbar": {
              "outlinewidth": 0,
              "ticks": ""
             }
            },
            "type": "scattergl"
           }
          ],
          "scattermapbox": [
           {
            "marker": {
             "colorbar": {
              "outlinewidth": 0,
              "ticks": ""
             }
            },
            "type": "scattermapbox"
           }
          ],
          "scatterpolar": [
           {
            "marker": {
             "colorbar": {
              "outlinewidth": 0,
              "ticks": ""
             }
            },
            "type": "scatterpolar"
           }
          ],
          "scatterpolargl": [
           {
            "marker": {
             "colorbar": {
              "outlinewidth": 0,
              "ticks": ""
             }
            },
            "type": "scatterpolargl"
           }
          ],
          "scatterternary": [
           {
            "marker": {
             "colorbar": {
              "outlinewidth": 0,
              "ticks": ""
             }
            },
            "type": "scatterternary"
           }
          ],
          "surface": [
           {
            "colorbar": {
             "outlinewidth": 0,
             "ticks": ""
            },
            "colorscale": [
             [
              0,
              "#0d0887"
             ],
             [
              0.1111111111111111,
              "#46039f"
             ],
             [
              0.2222222222222222,
              "#7201a8"
             ],
             [
              0.3333333333333333,
              "#9c179e"
             ],
             [
              0.4444444444444444,
              "#bd3786"
             ],
             [
              0.5555555555555556,
              "#d8576b"
             ],
             [
              0.6666666666666666,
              "#ed7953"
             ],
             [
              0.7777777777777778,
              "#fb9f3a"
             ],
             [
              0.8888888888888888,
              "#fdca26"
             ],
             [
              1,
              "#f0f921"
             ]
            ],
            "type": "surface"
           }
          ],
          "table": [
           {
            "cells": {
             "fill": {
              "color": "#EBF0F8"
             },
             "line": {
              "color": "white"
             }
            },
            "header": {
             "fill": {
              "color": "#C8D4E3"
             },
             "line": {
              "color": "white"
             }
            },
            "type": "table"
           }
          ]
         },
         "layout": {
          "annotationdefaults": {
           "arrowcolor": "#2a3f5f",
           "arrowhead": 0,
           "arrowwidth": 1
          },
          "coloraxis": {
           "colorbar": {
            "outlinewidth": 0,
            "ticks": ""
           }
          },
          "colorscale": {
           "diverging": [
            [
             0,
             "#8e0152"
            ],
            [
             0.1,
             "#c51b7d"
            ],
            [
             0.2,
             "#de77ae"
            ],
            [
             0.3,
             "#f1b6da"
            ],
            [
             0.4,
             "#fde0ef"
            ],
            [
             0.5,
             "#f7f7f7"
            ],
            [
             0.6,
             "#e6f5d0"
            ],
            [
             0.7,
             "#b8e186"
            ],
            [
             0.8,
             "#7fbc41"
            ],
            [
             0.9,
             "#4d9221"
            ],
            [
             1,
             "#276419"
            ]
           ],
           "sequential": [
            [
             0,
             "#0d0887"
            ],
            [
             0.1111111111111111,
             "#46039f"
            ],
            [
             0.2222222222222222,
             "#7201a8"
            ],
            [
             0.3333333333333333,
             "#9c179e"
            ],
            [
             0.4444444444444444,
             "#bd3786"
            ],
            [
             0.5555555555555556,
             "#d8576b"
            ],
            [
             0.6666666666666666,
             "#ed7953"
            ],
            [
             0.7777777777777778,
             "#fb9f3a"
            ],
            [
             0.8888888888888888,
             "#fdca26"
            ],
            [
             1,
             "#f0f921"
            ]
           ],
           "sequentialminus": [
            [
             0,
             "#0d0887"
            ],
            [
             0.1111111111111111,
             "#46039f"
            ],
            [
             0.2222222222222222,
             "#7201a8"
            ],
            [
             0.3333333333333333,
             "#9c179e"
            ],
            [
             0.4444444444444444,
             "#bd3786"
            ],
            [
             0.5555555555555556,
             "#d8576b"
            ],
            [
             0.6666666666666666,
             "#ed7953"
            ],
            [
             0.7777777777777778,
             "#fb9f3a"
            ],
            [
             0.8888888888888888,
             "#fdca26"
            ],
            [
             1,
             "#f0f921"
            ]
           ]
          },
          "colorway": [
           "#636efa",
           "#EF553B",
           "#00cc96",
           "#ab63fa",
           "#FFA15A",
           "#19d3f3",
           "#FF6692",
           "#B6E880",
           "#FF97FF",
           "#FECB52"
          ],
          "font": {
           "color": "#2a3f5f"
          },
          "geo": {
           "bgcolor": "white",
           "lakecolor": "white",
           "landcolor": "#E5ECF6",
           "showlakes": true,
           "showland": true,
           "subunitcolor": "white"
          },
          "hoverlabel": {
           "align": "left"
          },
          "hovermode": "closest",
          "mapbox": {
           "style": "light"
          },
          "paper_bgcolor": "white",
          "plot_bgcolor": "#E5ECF6",
          "polar": {
           "angularaxis": {
            "gridcolor": "white",
            "linecolor": "white",
            "ticks": ""
           },
           "bgcolor": "#E5ECF6",
           "radialaxis": {
            "gridcolor": "white",
            "linecolor": "white",
            "ticks": ""
           }
          },
          "scene": {
           "xaxis": {
            "backgroundcolor": "#E5ECF6",
            "gridcolor": "white",
            "gridwidth": 2,
            "linecolor": "white",
            "showbackground": true,
            "ticks": "",
            "zerolinecolor": "white"
           },
           "yaxis": {
            "backgroundcolor": "#E5ECF6",
            "gridcolor": "white",
            "gridwidth": 2,
            "linecolor": "white",
            "showbackground": true,
            "ticks": "",
            "zerolinecolor": "white"
           },
           "zaxis": {
            "backgroundcolor": "#E5ECF6",
            "gridcolor": "white",
            "gridwidth": 2,
            "linecolor": "white",
            "showbackground": true,
            "ticks": "",
            "zerolinecolor": "white"
           }
          },
          "shapedefaults": {
           "line": {
            "color": "#2a3f5f"
           }
          },
          "ternary": {
           "aaxis": {
            "gridcolor": "white",
            "linecolor": "white",
            "ticks": ""
           },
           "baxis": {
            "gridcolor": "white",
            "linecolor": "white",
            "ticks": ""
           },
           "bgcolor": "#E5ECF6",
           "caxis": {
            "gridcolor": "white",
            "linecolor": "white",
            "ticks": ""
           }
          },
          "title": {
           "x": 0.05
          },
          "xaxis": {
           "automargin": true,
           "gridcolor": "white",
           "linecolor": "white",
           "ticks": "",
           "title": {
            "standoff": 15
           },
           "zerolinecolor": "white",
           "zerolinewidth": 2
          },
          "yaxis": {
           "automargin": true,
           "gridcolor": "white",
           "linecolor": "white",
           "ticks": "",
           "title": {
            "standoff": 15
           },
           "zerolinecolor": "white",
           "zerolinewidth": 2
          }
         }
        },
        "title": {
         "font": {
          "color": "#4D5663"
         }
        },
        "xaxis": {
         "gridcolor": "#E1E5ED",
         "showgrid": true,
         "tickfont": {
          "color": "#4D5663"
         },
         "title": {
          "font": {
           "color": "#4D5663"
          },
          "text": ""
         },
         "zerolinecolor": "#E1E5ED"
        },
        "yaxis": {
         "gridcolor": "#E1E5ED",
         "showgrid": true,
         "tickfont": {
          "color": "#4D5663"
         },
         "title": {
          "font": {
           "color": "#4D5663"
          },
          "text": ""
         },
         "zerolinecolor": "#E1E5ED"
        }
       }
      },
      "text/html": [
       "<div>\n",
       "        \n",
       "        \n",
       "            <div id=\"e17c4d34-f85f-4f38-8db2-f4853050da51\" class=\"plotly-graph-div\" style=\"height:525px; width:100%;\"></div>\n",
       "            <script type=\"text/javascript\">\n",
       "                require([\"plotly\"], function(Plotly) {\n",
       "                    window.PLOTLYENV=window.PLOTLYENV || {};\n",
       "                    window.PLOTLYENV.BASE_URL='https://plot.ly';\n",
       "                    \n",
       "                if (document.getElementById(\"e17c4d34-f85f-4f38-8db2-f4853050da51\")) {\n",
       "                    Plotly.newPlot(\n",
       "                        'e17c4d34-f85f-4f38-8db2-f4853050da51',\n",
       "                        [{\"marker\": {\"color\": \"rgba(255, 153, 51, 0.6)\", \"line\": {\"color\": \"rgba(255, 153, 51, 1.0)\", \"width\": 1}}, \"name\": \"Valores\", \"orientation\": \"v\", \"text\": \"\", \"type\": \"bar\", \"x\": [\"A\", \"B\", \"C\"], \"y\": [32, 43, 50]}],\n",
       "                        {\"legend\": {\"bgcolor\": \"#F5F6F9\", \"font\": {\"color\": \"#4D5663\"}}, \"paper_bgcolor\": \"#F5F6F9\", \"plot_bgcolor\": \"#F5F6F9\", \"template\": {\"data\": {\"bar\": [{\"error_x\": {\"color\": \"#2a3f5f\"}, \"error_y\": {\"color\": \"#2a3f5f\"}, \"marker\": {\"line\": {\"color\": \"#E5ECF6\", \"width\": 0.5}}, \"type\": \"bar\"}], \"barpolar\": [{\"marker\": {\"line\": {\"color\": \"#E5ECF6\", \"width\": 0.5}}, \"type\": \"barpolar\"}], \"carpet\": [{\"aaxis\": {\"endlinecolor\": \"#2a3f5f\", \"gridcolor\": \"white\", \"linecolor\": \"white\", \"minorgridcolor\": \"white\", \"startlinecolor\": \"#2a3f5f\"}, \"baxis\": {\"endlinecolor\": \"#2a3f5f\", \"gridcolor\": \"white\", \"linecolor\": \"white\", \"minorgridcolor\": \"white\", \"startlinecolor\": \"#2a3f5f\"}, \"type\": \"carpet\"}], \"choropleth\": [{\"colorbar\": {\"outlinewidth\": 0, \"ticks\": \"\"}, \"type\": \"choropleth\"}], \"contour\": [{\"colorbar\": {\"outlinewidth\": 0, \"ticks\": \"\"}, \"colorscale\": [[0.0, \"#0d0887\"], [0.1111111111111111, \"#46039f\"], [0.2222222222222222, \"#7201a8\"], [0.3333333333333333, \"#9c179e\"], [0.4444444444444444, \"#bd3786\"], [0.5555555555555556, \"#d8576b\"], [0.6666666666666666, \"#ed7953\"], [0.7777777777777778, \"#fb9f3a\"], [0.8888888888888888, \"#fdca26\"], [1.0, \"#f0f921\"]], \"type\": \"contour\"}], \"contourcarpet\": [{\"colorbar\": {\"outlinewidth\": 0, \"ticks\": \"\"}, \"type\": \"contourcarpet\"}], \"heatmap\": [{\"colorbar\": {\"outlinewidth\": 0, \"ticks\": \"\"}, \"colorscale\": [[0.0, \"#0d0887\"], [0.1111111111111111, \"#46039f\"], [0.2222222222222222, \"#7201a8\"], [0.3333333333333333, \"#9c179e\"], [0.4444444444444444, \"#bd3786\"], [0.5555555555555556, \"#d8576b\"], [0.6666666666666666, \"#ed7953\"], [0.7777777777777778, \"#fb9f3a\"], [0.8888888888888888, \"#fdca26\"], [1.0, \"#f0f921\"]], \"type\": \"heatmap\"}], \"heatmapgl\": [{\"colorbar\": {\"outlinewidth\": 0, \"ticks\": \"\"}, \"colorscale\": [[0.0, \"#0d0887\"], [0.1111111111111111, \"#46039f\"], [0.2222222222222222, \"#7201a8\"], [0.3333333333333333, \"#9c179e\"], [0.4444444444444444, \"#bd3786\"], [0.5555555555555556, \"#d8576b\"], [0.6666666666666666, \"#ed7953\"], [0.7777777777777778, \"#fb9f3a\"], [0.8888888888888888, \"#fdca26\"], [1.0, \"#f0f921\"]], \"type\": \"heatmapgl\"}], \"histogram\": [{\"marker\": {\"colorbar\": {\"outlinewidth\": 0, \"ticks\": \"\"}}, \"type\": \"histogram\"}], \"histogram2d\": [{\"colorbar\": {\"outlinewidth\": 0, \"ticks\": \"\"}, \"colorscale\": [[0.0, \"#0d0887\"], [0.1111111111111111, \"#46039f\"], [0.2222222222222222, \"#7201a8\"], [0.3333333333333333, \"#9c179e\"], [0.4444444444444444, \"#bd3786\"], [0.5555555555555556, \"#d8576b\"], [0.6666666666666666, \"#ed7953\"], [0.7777777777777778, \"#fb9f3a\"], [0.8888888888888888, \"#fdca26\"], [1.0, \"#f0f921\"]], \"type\": \"histogram2d\"}], \"histogram2dcontour\": [{\"colorbar\": {\"outlinewidth\": 0, \"ticks\": \"\"}, \"colorscale\": [[0.0, \"#0d0887\"], [0.1111111111111111, \"#46039f\"], [0.2222222222222222, \"#7201a8\"], [0.3333333333333333, \"#9c179e\"], [0.4444444444444444, \"#bd3786\"], [0.5555555555555556, \"#d8576b\"], [0.6666666666666666, \"#ed7953\"], [0.7777777777777778, \"#fb9f3a\"], [0.8888888888888888, \"#fdca26\"], [1.0, \"#f0f921\"]], \"type\": \"histogram2dcontour\"}], \"mesh3d\": [{\"colorbar\": {\"outlinewidth\": 0, \"ticks\": \"\"}, \"type\": \"mesh3d\"}], \"parcoords\": [{\"line\": {\"colorbar\": {\"outlinewidth\": 0, \"ticks\": \"\"}}, \"type\": \"parcoords\"}], \"pie\": [{\"automargin\": true, \"type\": \"pie\"}], \"scatter\": [{\"marker\": {\"colorbar\": {\"outlinewidth\": 0, \"ticks\": \"\"}}, \"type\": \"scatter\"}], \"scatter3d\": [{\"line\": {\"colorbar\": {\"outlinewidth\": 0, \"ticks\": \"\"}}, \"marker\": {\"colorbar\": {\"outlinewidth\": 0, \"ticks\": \"\"}}, \"type\": \"scatter3d\"}], \"scattercarpet\": [{\"marker\": {\"colorbar\": {\"outlinewidth\": 0, \"ticks\": \"\"}}, \"type\": \"scattercarpet\"}], \"scattergeo\": [{\"marker\": {\"colorbar\": {\"outlinewidth\": 0, \"ticks\": \"\"}}, \"type\": \"scattergeo\"}], \"scattergl\": [{\"marker\": {\"colorbar\": {\"outlinewidth\": 0, \"ticks\": \"\"}}, \"type\": \"scattergl\"}], \"scattermapbox\": [{\"marker\": {\"colorbar\": {\"outlinewidth\": 0, \"ticks\": \"\"}}, \"type\": \"scattermapbox\"}], \"scatterpolar\": [{\"marker\": {\"colorbar\": {\"outlinewidth\": 0, \"ticks\": \"\"}}, \"type\": \"scatterpolar\"}], \"scatterpolargl\": [{\"marker\": {\"colorbar\": {\"outlinewidth\": 0, \"ticks\": \"\"}}, \"type\": \"scatterpolargl\"}], \"scatterternary\": [{\"marker\": {\"colorbar\": {\"outlinewidth\": 0, \"ticks\": \"\"}}, \"type\": \"scatterternary\"}], \"surface\": [{\"colorbar\": {\"outlinewidth\": 0, \"ticks\": \"\"}, \"colorscale\": [[0.0, \"#0d0887\"], [0.1111111111111111, \"#46039f\"], [0.2222222222222222, \"#7201a8\"], [0.3333333333333333, \"#9c179e\"], [0.4444444444444444, \"#bd3786\"], [0.5555555555555556, \"#d8576b\"], [0.6666666666666666, \"#ed7953\"], [0.7777777777777778, \"#fb9f3a\"], [0.8888888888888888, \"#fdca26\"], [1.0, \"#f0f921\"]], \"type\": \"surface\"}], \"table\": [{\"cells\": {\"fill\": {\"color\": \"#EBF0F8\"}, \"line\": {\"color\": \"white\"}}, \"header\": {\"fill\": {\"color\": \"#C8D4E3\"}, \"line\": {\"color\": \"white\"}}, \"type\": \"table\"}]}, \"layout\": {\"annotationdefaults\": {\"arrowcolor\": \"#2a3f5f\", \"arrowhead\": 0, \"arrowwidth\": 1}, \"coloraxis\": {\"colorbar\": {\"outlinewidth\": 0, \"ticks\": \"\"}}, \"colorscale\": {\"diverging\": [[0, \"#8e0152\"], [0.1, \"#c51b7d\"], [0.2, \"#de77ae\"], [0.3, \"#f1b6da\"], [0.4, \"#fde0ef\"], [0.5, \"#f7f7f7\"], [0.6, \"#e6f5d0\"], [0.7, \"#b8e186\"], [0.8, \"#7fbc41\"], [0.9, \"#4d9221\"], [1, \"#276419\"]], \"sequential\": [[0.0, \"#0d0887\"], [0.1111111111111111, \"#46039f\"], [0.2222222222222222, \"#7201a8\"], [0.3333333333333333, \"#9c179e\"], [0.4444444444444444, \"#bd3786\"], [0.5555555555555556, \"#d8576b\"], [0.6666666666666666, \"#ed7953\"], [0.7777777777777778, \"#fb9f3a\"], [0.8888888888888888, \"#fdca26\"], [1.0, \"#f0f921\"]], \"sequentialminus\": [[0.0, \"#0d0887\"], [0.1111111111111111, \"#46039f\"], [0.2222222222222222, \"#7201a8\"], [0.3333333333333333, \"#9c179e\"], [0.4444444444444444, \"#bd3786\"], [0.5555555555555556, \"#d8576b\"], [0.6666666666666666, \"#ed7953\"], [0.7777777777777778, \"#fb9f3a\"], [0.8888888888888888, \"#fdca26\"], [1.0, \"#f0f921\"]]}, \"colorway\": [\"#636efa\", \"#EF553B\", \"#00cc96\", \"#ab63fa\", \"#FFA15A\", \"#19d3f3\", \"#FF6692\", \"#B6E880\", \"#FF97FF\", \"#FECB52\"], \"font\": {\"color\": \"#2a3f5f\"}, \"geo\": {\"bgcolor\": \"white\", \"lakecolor\": \"white\", \"landcolor\": \"#E5ECF6\", \"showlakes\": true, \"showland\": true, \"subunitcolor\": \"white\"}, \"hoverlabel\": {\"align\": \"left\"}, \"hovermode\": \"closest\", \"mapbox\": {\"style\": \"light\"}, \"paper_bgcolor\": \"white\", \"plot_bgcolor\": \"#E5ECF6\", \"polar\": {\"angularaxis\": {\"gridcolor\": \"white\", \"linecolor\": \"white\", \"ticks\": \"\"}, \"bgcolor\": \"#E5ECF6\", \"radialaxis\": {\"gridcolor\": \"white\", \"linecolor\": \"white\", \"ticks\": \"\"}}, \"scene\": {\"xaxis\": {\"backgroundcolor\": \"#E5ECF6\", \"gridcolor\": \"white\", \"gridwidth\": 2, \"linecolor\": \"white\", \"showbackground\": true, \"ticks\": \"\", \"zerolinecolor\": \"white\"}, \"yaxis\": {\"backgroundcolor\": \"#E5ECF6\", \"gridcolor\": \"white\", \"gridwidth\": 2, \"linecolor\": \"white\", \"showbackground\": true, \"ticks\": \"\", \"zerolinecolor\": \"white\"}, \"zaxis\": {\"backgroundcolor\": \"#E5ECF6\", \"gridcolor\": \"white\", \"gridwidth\": 2, \"linecolor\": \"white\", \"showbackground\": true, \"ticks\": \"\", \"zerolinecolor\": \"white\"}}, \"shapedefaults\": {\"line\": {\"color\": \"#2a3f5f\"}}, \"ternary\": {\"aaxis\": {\"gridcolor\": \"white\", \"linecolor\": \"white\", \"ticks\": \"\"}, \"baxis\": {\"gridcolor\": \"white\", \"linecolor\": \"white\", \"ticks\": \"\"}, \"bgcolor\": \"#E5ECF6\", \"caxis\": {\"gridcolor\": \"white\", \"linecolor\": \"white\", \"ticks\": \"\"}}, \"title\": {\"x\": 0.05}, \"xaxis\": {\"automargin\": true, \"gridcolor\": \"white\", \"linecolor\": \"white\", \"ticks\": \"\", \"title\": {\"standoff\": 15}, \"zerolinecolor\": \"white\", \"zerolinewidth\": 2}, \"yaxis\": {\"automargin\": true, \"gridcolor\": \"white\", \"linecolor\": \"white\", \"ticks\": \"\", \"title\": {\"standoff\": 15}, \"zerolinecolor\": \"white\", \"zerolinewidth\": 2}}}, \"title\": {\"font\": {\"color\": \"#4D5663\"}}, \"xaxis\": {\"gridcolor\": \"#E1E5ED\", \"showgrid\": true, \"tickfont\": {\"color\": \"#4D5663\"}, \"title\": {\"font\": {\"color\": \"#4D5663\"}, \"text\": \"\"}, \"zerolinecolor\": \"#E1E5ED\"}, \"yaxis\": {\"gridcolor\": \"#E1E5ED\", \"showgrid\": true, \"tickfont\": {\"color\": \"#4D5663\"}, \"title\": {\"font\": {\"color\": \"#4D5663\"}, \"text\": \"\"}, \"zerolinecolor\": \"#E1E5ED\"}},\n",
       "                        {\"showLink\": true, \"linkText\": \"Export to plot.ly\", \"plotlyServerURL\": \"https://plot.ly\", \"responsive\": true}\n",
       "                    ).then(function(){\n",
       "                            \n",
       "var gd = document.getElementById('e17c4d34-f85f-4f38-8db2-f4853050da51');\n",
       "var x = new MutationObserver(function (mutations, observer) {{\n",
       "        var display = window.getComputedStyle(gd).display;\n",
       "        if (!display || display === 'none') {{\n",
       "            console.log([gd, 'removed!']);\n",
       "            Plotly.purge(gd);\n",
       "            observer.disconnect();\n",
       "        }}\n",
       "}});\n",
       "\n",
       "// Listen for the removal of the full notebook cells\n",
       "var notebookContainer = gd.closest('#notebook-container');\n",
       "if (notebookContainer) {{\n",
       "    x.observe(notebookContainer, {childList: true});\n",
       "}}\n",
       "\n",
       "// Listen for the clearing of the current output cell\n",
       "var outputEl = gd.closest('.output');\n",
       "if (outputEl) {{\n",
       "    x.observe(outputEl, {childList: true});\n",
       "}}\n",
       "\n",
       "                        })\n",
       "                };\n",
       "                });\n",
       "            </script>\n",
       "        </div>"
      ]
     },
     "metadata": {},
     "output_type": "display_data"
    }
   ],
   "source": [
    "df2.iplot(kind='bar',x='Categoria',y='Valores')"
   ]
  },
  {
   "cell_type": "code",
   "execution_count": 13,
   "metadata": {
    "ExecuteTime": {
     "end_time": "2020-06-19T11:48:34.246820Z",
     "start_time": "2020-06-19T11:48:33.796675Z"
    }
   },
   "outputs": [
    {
     "data": {
      "application/vnd.plotly.v1+json": {
       "config": {
        "linkText": "Export to plot.ly",
        "plotlyServerURL": "https://plot.ly",
        "showLink": true
       },
       "data": [
        {
         "marker": {
          "color": "rgba(255, 153, 51, 0.6)",
          "line": {
           "color": "rgba(255, 153, 51, 1.0)",
           "width": 1
          }
         },
         "name": "None",
         "orientation": "v",
         "text": "",
         "type": "bar",
         "x": [
          "A",
          "B",
          "C",
          "D"
         ],
         "y": [
          100,
          100,
          100,
          100
         ]
        }
       ],
       "layout": {
        "legend": {
         "bgcolor": "#F5F6F9",
         "font": {
          "color": "#4D5663"
         }
        },
        "paper_bgcolor": "#F5F6F9",
        "plot_bgcolor": "#F5F6F9",
        "template": {
         "data": {
          "bar": [
           {
            "error_x": {
             "color": "#2a3f5f"
            },
            "error_y": {
             "color": "#2a3f5f"
            },
            "marker": {
             "line": {
              "color": "#E5ECF6",
              "width": 0.5
             }
            },
            "type": "bar"
           }
          ],
          "barpolar": [
           {
            "marker": {
             "line": {
              "color": "#E5ECF6",
              "width": 0.5
             }
            },
            "type": "barpolar"
           }
          ],
          "carpet": [
           {
            "aaxis": {
             "endlinecolor": "#2a3f5f",
             "gridcolor": "white",
             "linecolor": "white",
             "minorgridcolor": "white",
             "startlinecolor": "#2a3f5f"
            },
            "baxis": {
             "endlinecolor": "#2a3f5f",
             "gridcolor": "white",
             "linecolor": "white",
             "minorgridcolor": "white",
             "startlinecolor": "#2a3f5f"
            },
            "type": "carpet"
           }
          ],
          "choropleth": [
           {
            "colorbar": {
             "outlinewidth": 0,
             "ticks": ""
            },
            "type": "choropleth"
           }
          ],
          "contour": [
           {
            "colorbar": {
             "outlinewidth": 0,
             "ticks": ""
            },
            "colorscale": [
             [
              0,
              "#0d0887"
             ],
             [
              0.1111111111111111,
              "#46039f"
             ],
             [
              0.2222222222222222,
              "#7201a8"
             ],
             [
              0.3333333333333333,
              "#9c179e"
             ],
             [
              0.4444444444444444,
              "#bd3786"
             ],
             [
              0.5555555555555556,
              "#d8576b"
             ],
             [
              0.6666666666666666,
              "#ed7953"
             ],
             [
              0.7777777777777778,
              "#fb9f3a"
             ],
             [
              0.8888888888888888,
              "#fdca26"
             ],
             [
              1,
              "#f0f921"
             ]
            ],
            "type": "contour"
           }
          ],
          "contourcarpet": [
           {
            "colorbar": {
             "outlinewidth": 0,
             "ticks": ""
            },
            "type": "contourcarpet"
           }
          ],
          "heatmap": [
           {
            "colorbar": {
             "outlinewidth": 0,
             "ticks": ""
            },
            "colorscale": [
             [
              0,
              "#0d0887"
             ],
             [
              0.1111111111111111,
              "#46039f"
             ],
             [
              0.2222222222222222,
              "#7201a8"
             ],
             [
              0.3333333333333333,
              "#9c179e"
             ],
             [
              0.4444444444444444,
              "#bd3786"
             ],
             [
              0.5555555555555556,
              "#d8576b"
             ],
             [
              0.6666666666666666,
              "#ed7953"
             ],
             [
              0.7777777777777778,
              "#fb9f3a"
             ],
             [
              0.8888888888888888,
              "#fdca26"
             ],
             [
              1,
              "#f0f921"
             ]
            ],
            "type": "heatmap"
           }
          ],
          "heatmapgl": [
           {
            "colorbar": {
             "outlinewidth": 0,
             "ticks": ""
            },
            "colorscale": [
             [
              0,
              "#0d0887"
             ],
             [
              0.1111111111111111,
              "#46039f"
             ],
             [
              0.2222222222222222,
              "#7201a8"
             ],
             [
              0.3333333333333333,
              "#9c179e"
             ],
             [
              0.4444444444444444,
              "#bd3786"
             ],
             [
              0.5555555555555556,
              "#d8576b"
             ],
             [
              0.6666666666666666,
              "#ed7953"
             ],
             [
              0.7777777777777778,
              "#fb9f3a"
             ],
             [
              0.8888888888888888,
              "#fdca26"
             ],
             [
              1,
              "#f0f921"
             ]
            ],
            "type": "heatmapgl"
           }
          ],
          "histogram": [
           {
            "marker": {
             "colorbar": {
              "outlinewidth": 0,
              "ticks": ""
             }
            },
            "type": "histogram"
           }
          ],
          "histogram2d": [
           {
            "colorbar": {
             "outlinewidth": 0,
             "ticks": ""
            },
            "colorscale": [
             [
              0,
              "#0d0887"
             ],
             [
              0.1111111111111111,
              "#46039f"
             ],
             [
              0.2222222222222222,
              "#7201a8"
             ],
             [
              0.3333333333333333,
              "#9c179e"
             ],
             [
              0.4444444444444444,
              "#bd3786"
             ],
             [
              0.5555555555555556,
              "#d8576b"
             ],
             [
              0.6666666666666666,
              "#ed7953"
             ],
             [
              0.7777777777777778,
              "#fb9f3a"
             ],
             [
              0.8888888888888888,
              "#fdca26"
             ],
             [
              1,
              "#f0f921"
             ]
            ],
            "type": "histogram2d"
           }
          ],
          "histogram2dcontour": [
           {
            "colorbar": {
             "outlinewidth": 0,
             "ticks": ""
            },
            "colorscale": [
             [
              0,
              "#0d0887"
             ],
             [
              0.1111111111111111,
              "#46039f"
             ],
             [
              0.2222222222222222,
              "#7201a8"
             ],
             [
              0.3333333333333333,
              "#9c179e"
             ],
             [
              0.4444444444444444,
              "#bd3786"
             ],
             [
              0.5555555555555556,
              "#d8576b"
             ],
             [
              0.6666666666666666,
              "#ed7953"
             ],
             [
              0.7777777777777778,
              "#fb9f3a"
             ],
             [
              0.8888888888888888,
              "#fdca26"
             ],
             [
              1,
              "#f0f921"
             ]
            ],
            "type": "histogram2dcontour"
           }
          ],
          "mesh3d": [
           {
            "colorbar": {
             "outlinewidth": 0,
             "ticks": ""
            },
            "type": "mesh3d"
           }
          ],
          "parcoords": [
           {
            "line": {
             "colorbar": {
              "outlinewidth": 0,
              "ticks": ""
             }
            },
            "type": "parcoords"
           }
          ],
          "pie": [
           {
            "automargin": true,
            "type": "pie"
           }
          ],
          "scatter": [
           {
            "marker": {
             "colorbar": {
              "outlinewidth": 0,
              "ticks": ""
             }
            },
            "type": "scatter"
           }
          ],
          "scatter3d": [
           {
            "line": {
             "colorbar": {
              "outlinewidth": 0,
              "ticks": ""
             }
            },
            "marker": {
             "colorbar": {
              "outlinewidth": 0,
              "ticks": ""
             }
            },
            "type": "scatter3d"
           }
          ],
          "scattercarpet": [
           {
            "marker": {
             "colorbar": {
              "outlinewidth": 0,
              "ticks": ""
             }
            },
            "type": "scattercarpet"
           }
          ],
          "scattergeo": [
           {
            "marker": {
             "colorbar": {
              "outlinewidth": 0,
              "ticks": ""
             }
            },
            "type": "scattergeo"
           }
          ],
          "scattergl": [
           {
            "marker": {
             "colorbar": {
              "outlinewidth": 0,
              "ticks": ""
             }
            },
            "type": "scattergl"
           }
          ],
          "scattermapbox": [
           {
            "marker": {
             "colorbar": {
              "outlinewidth": 0,
              "ticks": ""
             }
            },
            "type": "scattermapbox"
           }
          ],
          "scatterpolar": [
           {
            "marker": {
             "colorbar": {
              "outlinewidth": 0,
              "ticks": ""
             }
            },
            "type": "scatterpolar"
           }
          ],
          "scatterpolargl": [
           {
            "marker": {
             "colorbar": {
              "outlinewidth": 0,
              "ticks": ""
             }
            },
            "type": "scatterpolargl"
           }
          ],
          "scatterternary": [
           {
            "marker": {
             "colorbar": {
              "outlinewidth": 0,
              "ticks": ""
             }
            },
            "type": "scatterternary"
           }
          ],
          "surface": [
           {
            "colorbar": {
             "outlinewidth": 0,
             "ticks": ""
            },
            "colorscale": [
             [
              0,
              "#0d0887"
             ],
             [
              0.1111111111111111,
              "#46039f"
             ],
             [
              0.2222222222222222,
              "#7201a8"
             ],
             [
              0.3333333333333333,
              "#9c179e"
             ],
             [
              0.4444444444444444,
              "#bd3786"
             ],
             [
              0.5555555555555556,
              "#d8576b"
             ],
             [
              0.6666666666666666,
              "#ed7953"
             ],
             [
              0.7777777777777778,
              "#fb9f3a"
             ],
             [
              0.8888888888888888,
              "#fdca26"
             ],
             [
              1,
              "#f0f921"
             ]
            ],
            "type": "surface"
           }
          ],
          "table": [
           {
            "cells": {
             "fill": {
              "color": "#EBF0F8"
             },
             "line": {
              "color": "white"
             }
            },
            "header": {
             "fill": {
              "color": "#C8D4E3"
             },
             "line": {
              "color": "white"
             }
            },
            "type": "table"
           }
          ]
         },
         "layout": {
          "annotationdefaults": {
           "arrowcolor": "#2a3f5f",
           "arrowhead": 0,
           "arrowwidth": 1
          },
          "coloraxis": {
           "colorbar": {
            "outlinewidth": 0,
            "ticks": ""
           }
          },
          "colorscale": {
           "diverging": [
            [
             0,
             "#8e0152"
            ],
            [
             0.1,
             "#c51b7d"
            ],
            [
             0.2,
             "#de77ae"
            ],
            [
             0.3,
             "#f1b6da"
            ],
            [
             0.4,
             "#fde0ef"
            ],
            [
             0.5,
             "#f7f7f7"
            ],
            [
             0.6,
             "#e6f5d0"
            ],
            [
             0.7,
             "#b8e186"
            ],
            [
             0.8,
             "#7fbc41"
            ],
            [
             0.9,
             "#4d9221"
            ],
            [
             1,
             "#276419"
            ]
           ],
           "sequential": [
            [
             0,
             "#0d0887"
            ],
            [
             0.1111111111111111,
             "#46039f"
            ],
            [
             0.2222222222222222,
             "#7201a8"
            ],
            [
             0.3333333333333333,
             "#9c179e"
            ],
            [
             0.4444444444444444,
             "#bd3786"
            ],
            [
             0.5555555555555556,
             "#d8576b"
            ],
            [
             0.6666666666666666,
             "#ed7953"
            ],
            [
             0.7777777777777778,
             "#fb9f3a"
            ],
            [
             0.8888888888888888,
             "#fdca26"
            ],
            [
             1,
             "#f0f921"
            ]
           ],
           "sequentialminus": [
            [
             0,
             "#0d0887"
            ],
            [
             0.1111111111111111,
             "#46039f"
            ],
            [
             0.2222222222222222,
             "#7201a8"
            ],
            [
             0.3333333333333333,
             "#9c179e"
            ],
            [
             0.4444444444444444,
             "#bd3786"
            ],
            [
             0.5555555555555556,
             "#d8576b"
            ],
            [
             0.6666666666666666,
             "#ed7953"
            ],
            [
             0.7777777777777778,
             "#fb9f3a"
            ],
            [
             0.8888888888888888,
             "#fdca26"
            ],
            [
             1,
             "#f0f921"
            ]
           ]
          },
          "colorway": [
           "#636efa",
           "#EF553B",
           "#00cc96",
           "#ab63fa",
           "#FFA15A",
           "#19d3f3",
           "#FF6692",
           "#B6E880",
           "#FF97FF",
           "#FECB52"
          ],
          "font": {
           "color": "#2a3f5f"
          },
          "geo": {
           "bgcolor": "white",
           "lakecolor": "white",
           "landcolor": "#E5ECF6",
           "showlakes": true,
           "showland": true,
           "subunitcolor": "white"
          },
          "hoverlabel": {
           "align": "left"
          },
          "hovermode": "closest",
          "mapbox": {
           "style": "light"
          },
          "paper_bgcolor": "white",
          "plot_bgcolor": "#E5ECF6",
          "polar": {
           "angularaxis": {
            "gridcolor": "white",
            "linecolor": "white",
            "ticks": ""
           },
           "bgcolor": "#E5ECF6",
           "radialaxis": {
            "gridcolor": "white",
            "linecolor": "white",
            "ticks": ""
           }
          },
          "scene": {
           "xaxis": {
            "backgroundcolor": "#E5ECF6",
            "gridcolor": "white",
            "gridwidth": 2,
            "linecolor": "white",
            "showbackground": true,
            "ticks": "",
            "zerolinecolor": "white"
           },
           "yaxis": {
            "backgroundcolor": "#E5ECF6",
            "gridcolor": "white",
            "gridwidth": 2,
            "linecolor": "white",
            "showbackground": true,
            "ticks": "",
            "zerolinecolor": "white"
           },
           "zaxis": {
            "backgroundcolor": "#E5ECF6",
            "gridcolor": "white",
            "gridwidth": 2,
            "linecolor": "white",
            "showbackground": true,
            "ticks": "",
            "zerolinecolor": "white"
           }
          },
          "shapedefaults": {
           "line": {
            "color": "#2a3f5f"
           }
          },
          "ternary": {
           "aaxis": {
            "gridcolor": "white",
            "linecolor": "white",
            "ticks": ""
           },
           "baxis": {
            "gridcolor": "white",
            "linecolor": "white",
            "ticks": ""
           },
           "bgcolor": "#E5ECF6",
           "caxis": {
            "gridcolor": "white",
            "linecolor": "white",
            "ticks": ""
           }
          },
          "title": {
           "x": 0.05
          },
          "xaxis": {
           "automargin": true,
           "gridcolor": "white",
           "linecolor": "white",
           "ticks": "",
           "title": {
            "standoff": 15
           },
           "zerolinecolor": "white",
           "zerolinewidth": 2
          },
          "yaxis": {
           "automargin": true,
           "gridcolor": "white",
           "linecolor": "white",
           "ticks": "",
           "title": {
            "standoff": 15
           },
           "zerolinecolor": "white",
           "zerolinewidth": 2
          }
         }
        },
        "title": {
         "font": {
          "color": "#4D5663"
         }
        },
        "xaxis": {
         "gridcolor": "#E1E5ED",
         "showgrid": true,
         "tickfont": {
          "color": "#4D5663"
         },
         "title": {
          "font": {
           "color": "#4D5663"
          },
          "text": ""
         },
         "zerolinecolor": "#E1E5ED"
        },
        "yaxis": {
         "gridcolor": "#E1E5ED",
         "showgrid": true,
         "tickfont": {
          "color": "#4D5663"
         },
         "title": {
          "font": {
           "color": "#4D5663"
          },
          "text": ""
         },
         "zerolinecolor": "#E1E5ED"
        }
       }
      },
      "text/html": [
       "<div>\n",
       "        \n",
       "        \n",
       "            <div id=\"510e6ef1-a8db-4516-a42f-961767cfb735\" class=\"plotly-graph-div\" style=\"height:525px; width:100%;\"></div>\n",
       "            <script type=\"text/javascript\">\n",
       "                require([\"plotly\"], function(Plotly) {\n",
       "                    window.PLOTLYENV=window.PLOTLYENV || {};\n",
       "                    window.PLOTLYENV.BASE_URL='https://plot.ly';\n",
       "                    \n",
       "                if (document.getElementById(\"510e6ef1-a8db-4516-a42f-961767cfb735\")) {\n",
       "                    Plotly.newPlot(\n",
       "                        '510e6ef1-a8db-4516-a42f-961767cfb735',\n",
       "                        [{\"marker\": {\"color\": \"rgba(255, 153, 51, 0.6)\", \"line\": {\"color\": \"rgba(255, 153, 51, 1.0)\", \"width\": 1}}, \"name\": \"None\", \"orientation\": \"v\", \"text\": \"\", \"type\": \"bar\", \"x\": [\"A\", \"B\", \"C\", \"D\"], \"y\": [100, 100, 100, 100]}],\n",
       "                        {\"legend\": {\"bgcolor\": \"#F5F6F9\", \"font\": {\"color\": \"#4D5663\"}}, \"paper_bgcolor\": \"#F5F6F9\", \"plot_bgcolor\": \"#F5F6F9\", \"template\": {\"data\": {\"bar\": [{\"error_x\": {\"color\": \"#2a3f5f\"}, \"error_y\": {\"color\": \"#2a3f5f\"}, \"marker\": {\"line\": {\"color\": \"#E5ECF6\", \"width\": 0.5}}, \"type\": \"bar\"}], \"barpolar\": [{\"marker\": {\"line\": {\"color\": \"#E5ECF6\", \"width\": 0.5}}, \"type\": \"barpolar\"}], \"carpet\": [{\"aaxis\": {\"endlinecolor\": \"#2a3f5f\", \"gridcolor\": \"white\", \"linecolor\": \"white\", \"minorgridcolor\": \"white\", \"startlinecolor\": \"#2a3f5f\"}, \"baxis\": {\"endlinecolor\": \"#2a3f5f\", \"gridcolor\": \"white\", \"linecolor\": \"white\", \"minorgridcolor\": \"white\", \"startlinecolor\": \"#2a3f5f\"}, \"type\": \"carpet\"}], \"choropleth\": [{\"colorbar\": {\"outlinewidth\": 0, \"ticks\": \"\"}, \"type\": \"choropleth\"}], \"contour\": [{\"colorbar\": {\"outlinewidth\": 0, \"ticks\": \"\"}, \"colorscale\": [[0.0, \"#0d0887\"], [0.1111111111111111, \"#46039f\"], [0.2222222222222222, \"#7201a8\"], [0.3333333333333333, \"#9c179e\"], [0.4444444444444444, \"#bd3786\"], [0.5555555555555556, \"#d8576b\"], [0.6666666666666666, \"#ed7953\"], [0.7777777777777778, \"#fb9f3a\"], [0.8888888888888888, \"#fdca26\"], [1.0, \"#f0f921\"]], \"type\": \"contour\"}], \"contourcarpet\": [{\"colorbar\": {\"outlinewidth\": 0, \"ticks\": \"\"}, \"type\": \"contourcarpet\"}], \"heatmap\": [{\"colorbar\": {\"outlinewidth\": 0, \"ticks\": \"\"}, \"colorscale\": [[0.0, \"#0d0887\"], [0.1111111111111111, \"#46039f\"], [0.2222222222222222, \"#7201a8\"], [0.3333333333333333, \"#9c179e\"], [0.4444444444444444, \"#bd3786\"], [0.5555555555555556, \"#d8576b\"], [0.6666666666666666, \"#ed7953\"], [0.7777777777777778, \"#fb9f3a\"], [0.8888888888888888, \"#fdca26\"], [1.0, \"#f0f921\"]], \"type\": \"heatmap\"}], \"heatmapgl\": [{\"colorbar\": {\"outlinewidth\": 0, \"ticks\": \"\"}, \"colorscale\": [[0.0, \"#0d0887\"], [0.1111111111111111, \"#46039f\"], [0.2222222222222222, \"#7201a8\"], [0.3333333333333333, \"#9c179e\"], [0.4444444444444444, \"#bd3786\"], [0.5555555555555556, \"#d8576b\"], [0.6666666666666666, \"#ed7953\"], [0.7777777777777778, \"#fb9f3a\"], [0.8888888888888888, \"#fdca26\"], [1.0, \"#f0f921\"]], \"type\": \"heatmapgl\"}], \"histogram\": [{\"marker\": {\"colorbar\": {\"outlinewidth\": 0, \"ticks\": \"\"}}, \"type\": \"histogram\"}], \"histogram2d\": [{\"colorbar\": {\"outlinewidth\": 0, \"ticks\": \"\"}, \"colorscale\": [[0.0, \"#0d0887\"], [0.1111111111111111, \"#46039f\"], [0.2222222222222222, \"#7201a8\"], [0.3333333333333333, \"#9c179e\"], [0.4444444444444444, \"#bd3786\"], [0.5555555555555556, \"#d8576b\"], [0.6666666666666666, \"#ed7953\"], [0.7777777777777778, \"#fb9f3a\"], [0.8888888888888888, \"#fdca26\"], [1.0, \"#f0f921\"]], \"type\": \"histogram2d\"}], \"histogram2dcontour\": [{\"colorbar\": {\"outlinewidth\": 0, \"ticks\": \"\"}, \"colorscale\": [[0.0, \"#0d0887\"], [0.1111111111111111, \"#46039f\"], [0.2222222222222222, \"#7201a8\"], [0.3333333333333333, \"#9c179e\"], [0.4444444444444444, \"#bd3786\"], [0.5555555555555556, \"#d8576b\"], [0.6666666666666666, \"#ed7953\"], [0.7777777777777778, \"#fb9f3a\"], [0.8888888888888888, \"#fdca26\"], [1.0, \"#f0f921\"]], \"type\": \"histogram2dcontour\"}], \"mesh3d\": [{\"colorbar\": {\"outlinewidth\": 0, \"ticks\": \"\"}, \"type\": \"mesh3d\"}], \"parcoords\": [{\"line\": {\"colorbar\": {\"outlinewidth\": 0, \"ticks\": \"\"}}, \"type\": \"parcoords\"}], \"pie\": [{\"automargin\": true, \"type\": \"pie\"}], \"scatter\": [{\"marker\": {\"colorbar\": {\"outlinewidth\": 0, \"ticks\": \"\"}}, \"type\": \"scatter\"}], \"scatter3d\": [{\"line\": {\"colorbar\": {\"outlinewidth\": 0, \"ticks\": \"\"}}, \"marker\": {\"colorbar\": {\"outlinewidth\": 0, \"ticks\": \"\"}}, \"type\": \"scatter3d\"}], \"scattercarpet\": [{\"marker\": {\"colorbar\": {\"outlinewidth\": 0, \"ticks\": \"\"}}, \"type\": \"scattercarpet\"}], \"scattergeo\": [{\"marker\": {\"colorbar\": {\"outlinewidth\": 0, \"ticks\": \"\"}}, \"type\": \"scattergeo\"}], \"scattergl\": [{\"marker\": {\"colorbar\": {\"outlinewidth\": 0, \"ticks\": \"\"}}, \"type\": \"scattergl\"}], \"scattermapbox\": [{\"marker\": {\"colorbar\": {\"outlinewidth\": 0, \"ticks\": \"\"}}, \"type\": \"scattermapbox\"}], \"scatterpolar\": [{\"marker\": {\"colorbar\": {\"outlinewidth\": 0, \"ticks\": \"\"}}, \"type\": \"scatterpolar\"}], \"scatterpolargl\": [{\"marker\": {\"colorbar\": {\"outlinewidth\": 0, \"ticks\": \"\"}}, \"type\": \"scatterpolargl\"}], \"scatterternary\": [{\"marker\": {\"colorbar\": {\"outlinewidth\": 0, \"ticks\": \"\"}}, \"type\": \"scatterternary\"}], \"surface\": [{\"colorbar\": {\"outlinewidth\": 0, \"ticks\": \"\"}, \"colorscale\": [[0.0, \"#0d0887\"], [0.1111111111111111, \"#46039f\"], [0.2222222222222222, \"#7201a8\"], [0.3333333333333333, \"#9c179e\"], [0.4444444444444444, \"#bd3786\"], [0.5555555555555556, \"#d8576b\"], [0.6666666666666666, \"#ed7953\"], [0.7777777777777778, \"#fb9f3a\"], [0.8888888888888888, \"#fdca26\"], [1.0, \"#f0f921\"]], \"type\": \"surface\"}], \"table\": [{\"cells\": {\"fill\": {\"color\": \"#EBF0F8\"}, \"line\": {\"color\": \"white\"}}, \"header\": {\"fill\": {\"color\": \"#C8D4E3\"}, \"line\": {\"color\": \"white\"}}, \"type\": \"table\"}]}, \"layout\": {\"annotationdefaults\": {\"arrowcolor\": \"#2a3f5f\", \"arrowhead\": 0, \"arrowwidth\": 1}, \"coloraxis\": {\"colorbar\": {\"outlinewidth\": 0, \"ticks\": \"\"}}, \"colorscale\": {\"diverging\": [[0, \"#8e0152\"], [0.1, \"#c51b7d\"], [0.2, \"#de77ae\"], [0.3, \"#f1b6da\"], [0.4, \"#fde0ef\"], [0.5, \"#f7f7f7\"], [0.6, \"#e6f5d0\"], [0.7, \"#b8e186\"], [0.8, \"#7fbc41\"], [0.9, \"#4d9221\"], [1, \"#276419\"]], \"sequential\": [[0.0, \"#0d0887\"], [0.1111111111111111, \"#46039f\"], [0.2222222222222222, \"#7201a8\"], [0.3333333333333333, \"#9c179e\"], [0.4444444444444444, \"#bd3786\"], [0.5555555555555556, \"#d8576b\"], [0.6666666666666666, \"#ed7953\"], [0.7777777777777778, \"#fb9f3a\"], [0.8888888888888888, \"#fdca26\"], [1.0, \"#f0f921\"]], \"sequentialminus\": [[0.0, \"#0d0887\"], [0.1111111111111111, \"#46039f\"], [0.2222222222222222, \"#7201a8\"], [0.3333333333333333, \"#9c179e\"], [0.4444444444444444, \"#bd3786\"], [0.5555555555555556, \"#d8576b\"], [0.6666666666666666, \"#ed7953\"], [0.7777777777777778, \"#fb9f3a\"], [0.8888888888888888, \"#fdca26\"], [1.0, \"#f0f921\"]]}, \"colorway\": [\"#636efa\", \"#EF553B\", \"#00cc96\", \"#ab63fa\", \"#FFA15A\", \"#19d3f3\", \"#FF6692\", \"#B6E880\", \"#FF97FF\", \"#FECB52\"], \"font\": {\"color\": \"#2a3f5f\"}, \"geo\": {\"bgcolor\": \"white\", \"lakecolor\": \"white\", \"landcolor\": \"#E5ECF6\", \"showlakes\": true, \"showland\": true, \"subunitcolor\": \"white\"}, \"hoverlabel\": {\"align\": \"left\"}, \"hovermode\": \"closest\", \"mapbox\": {\"style\": \"light\"}, \"paper_bgcolor\": \"white\", \"plot_bgcolor\": \"#E5ECF6\", \"polar\": {\"angularaxis\": {\"gridcolor\": \"white\", \"linecolor\": \"white\", \"ticks\": \"\"}, \"bgcolor\": \"#E5ECF6\", \"radialaxis\": {\"gridcolor\": \"white\", \"linecolor\": \"white\", \"ticks\": \"\"}}, \"scene\": {\"xaxis\": {\"backgroundcolor\": \"#E5ECF6\", \"gridcolor\": \"white\", \"gridwidth\": 2, \"linecolor\": \"white\", \"showbackground\": true, \"ticks\": \"\", \"zerolinecolor\": \"white\"}, \"yaxis\": {\"backgroundcolor\": \"#E5ECF6\", \"gridcolor\": \"white\", \"gridwidth\": 2, \"linecolor\": \"white\", \"showbackground\": true, \"ticks\": \"\", \"zerolinecolor\": \"white\"}, \"zaxis\": {\"backgroundcolor\": \"#E5ECF6\", \"gridcolor\": \"white\", \"gridwidth\": 2, \"linecolor\": \"white\", \"showbackground\": true, \"ticks\": \"\", \"zerolinecolor\": \"white\"}}, \"shapedefaults\": {\"line\": {\"color\": \"#2a3f5f\"}}, \"ternary\": {\"aaxis\": {\"gridcolor\": \"white\", \"linecolor\": \"white\", \"ticks\": \"\"}, \"baxis\": {\"gridcolor\": \"white\", \"linecolor\": \"white\", \"ticks\": \"\"}, \"bgcolor\": \"#E5ECF6\", \"caxis\": {\"gridcolor\": \"white\", \"linecolor\": \"white\", \"ticks\": \"\"}}, \"title\": {\"x\": 0.05}, \"xaxis\": {\"automargin\": true, \"gridcolor\": \"white\", \"linecolor\": \"white\", \"ticks\": \"\", \"title\": {\"standoff\": 15}, \"zerolinecolor\": \"white\", \"zerolinewidth\": 2}, \"yaxis\": {\"automargin\": true, \"gridcolor\": \"white\", \"linecolor\": \"white\", \"ticks\": \"\", \"title\": {\"standoff\": 15}, \"zerolinecolor\": \"white\", \"zerolinewidth\": 2}}}, \"title\": {\"font\": {\"color\": \"#4D5663\"}}, \"xaxis\": {\"gridcolor\": \"#E1E5ED\", \"showgrid\": true, \"tickfont\": {\"color\": \"#4D5663\"}, \"title\": {\"font\": {\"color\": \"#4D5663\"}, \"text\": \"\"}, \"zerolinecolor\": \"#E1E5ED\"}, \"yaxis\": {\"gridcolor\": \"#E1E5ED\", \"showgrid\": true, \"tickfont\": {\"color\": \"#4D5663\"}, \"title\": {\"font\": {\"color\": \"#4D5663\"}, \"text\": \"\"}, \"zerolinecolor\": \"#E1E5ED\"}},\n",
       "                        {\"showLink\": true, \"linkText\": \"Export to plot.ly\", \"plotlyServerURL\": \"https://plot.ly\", \"responsive\": true}\n",
       "                    ).then(function(){\n",
       "                            \n",
       "var gd = document.getElementById('510e6ef1-a8db-4516-a42f-961767cfb735');\n",
       "var x = new MutationObserver(function (mutations, observer) {{\n",
       "        var display = window.getComputedStyle(gd).display;\n",
       "        if (!display || display === 'none') {{\n",
       "            console.log([gd, 'removed!']);\n",
       "            Plotly.purge(gd);\n",
       "            observer.disconnect();\n",
       "        }}\n",
       "}});\n",
       "\n",
       "// Listen for the removal of the full notebook cells\n",
       "var notebookContainer = gd.closest('#notebook-container');\n",
       "if (notebookContainer) {{\n",
       "    x.observe(notebookContainer, {childList: true});\n",
       "}}\n",
       "\n",
       "// Listen for the clearing of the current output cell\n",
       "var outputEl = gd.closest('.output');\n",
       "if (outputEl) {{\n",
       "    x.observe(outputEl, {childList: true});\n",
       "}}\n",
       "\n",
       "                        })\n",
       "                };\n",
       "                });\n",
       "            </script>\n",
       "        </div>"
      ]
     },
     "metadata": {},
     "output_type": "display_data"
    }
   ],
   "source": [
    "df.count().iplot(kind='bar')"
   ]
  },
  {
   "cell_type": "markdown",
   "metadata": {},
   "source": [
    "## Boxplots"
   ]
  },
  {
   "cell_type": "code",
   "execution_count": 14,
   "metadata": {
    "ExecuteTime": {
     "end_time": "2020-06-19T11:48:36.713741Z",
     "start_time": "2020-06-19T11:48:36.033965Z"
    }
   },
   "outputs": [
    {
     "data": {
      "application/vnd.plotly.v1+json": {
       "config": {
        "linkText": "Export to plot.ly",
        "plotlyServerURL": "https://plot.ly",
        "showLink": true
       },
       "data": [
        {
         "boxpoints": false,
         "line": {
          "width": 1.3
         },
         "marker": {
          "color": "rgba(255, 153, 51, 1.0)"
         },
         "name": "A",
         "orientation": "v",
         "type": "box",
         "y": [
          -0.08665386071286409,
          0.6429420497995871,
          -1.387439097173388,
          -0.1361759913956736,
          -0.49685462905137473,
          1.440321371142075,
          -1.7441026432369262,
          -0.865975895339651,
          1.4464480415250942,
          0.7856225704806149,
          -0.31891864193814634,
          1.3225449466107067,
          0.539518377247178,
          0.5061678509856647,
          0.6671675199658994,
          -0.17240337605432848,
          0.6629088210598313,
          1.8488745314000505,
          0.31606929538836276,
          1.0200752282815864,
          1.3074982808756987,
          -1.132754733028328,
          -0.6292316671802965,
          0.5943986307575858,
          0.3716228687189236,
          0.409573466455306,
          0.8983715886684981,
          1.305469705255862,
          -0.4936090267584502,
          0.692425960422741,
          0.7162775621233937,
          -1.7885293399956528,
          1.1838126987494433,
          1.3811697119289283,
          -1.493696588152164,
          0.04857078294029223,
          0.91016178374172,
          1.8747186014664174,
          1.316048034234304,
          0.5933537387278158,
          -1.1611371901648193,
          0.9458458282123137,
          -1.5226341469689433,
          -1.4767328930835304,
          0.12075070336521955,
          0.9049353950405488,
          -0.5957213110320032,
          -1.5107620653520046,
          -0.09677064704752825,
          1.3253826247550056,
          0.7880995144233671,
          0.07609555524239503,
          -0.8661317595327915,
          -1.1248478244279192,
          0.17309985461444194,
          0.5317845365392089,
          0.8076068870591362,
          0.3952615581172054,
          -1.0541551835085503,
          -0.7207551555338316,
          -1.9751382134225923,
          1.386093530266168,
          1.4908558124581053,
          0.6644071864952659,
          0.5768580774239381,
          -2.031853180211298,
          0.7136819965797955,
          -1.9826291999513945,
          0.19393221235516056,
          1.3753499852196729,
          -0.3337209010139875,
          -1.0225549123931477,
          0.020698274530295043,
          -0.09072887881050878,
          0.7553158348602322,
          -1.2727430223713965,
          -0.5256460103975078,
          -0.1927595363295705,
          -0.08125359600243147,
          -0.013783032145486348,
          -1.8068148421355563,
          0.2456263274841035,
          0.12648049704792919,
          -0.6906330205851243,
          1.36771718870962,
          -0.7974243608291074,
          2.539224252284878,
          0.27749157382185025,
          0.029947613690060854,
          -0.6632734508421413,
          0.4136043951508379,
          -0.4225450143403558,
          -1.1558428073009133,
          -0.06601963292226119,
          -0.44535844109583067,
          0.34771702178762454,
          -0.585448460125657,
          0.374104091421654,
          -1.4427748559727855,
          1.6558084697349387
         ]
        },
        {
         "boxpoints": false,
         "line": {
          "width": 1.3
         },
         "marker": {
          "color": "rgba(55, 128, 191, 1.0)"
         },
         "name": "B",
         "orientation": "v",
         "type": "box",
         "y": [
          1.4077527911809835,
          1.0271546190233385,
          -1.2993676276247845,
          -0.09270174633135952,
          1.2731562542540698,
          0.05355200309288338,
          -0.9303267057868418,
          -0.23179383093477826,
          -0.10357947768316543,
          -0.029818499658561006,
          -0.05705614237373467,
          1.5525580047510374,
          2.0463162967491417,
          -0.5185703901713093,
          -0.46369169156403706,
          1.1677305849731767,
          -0.8106841327867649,
          1.5403165913577637,
          -0.47151869304579025,
          1.8158188334232528,
          -1.004364913144073,
          0.11499760452114692,
          -0.6030915042566525,
          0.07711751819841703,
          0.36999965465738843,
          -0.0941347046558915,
          -1.4031480158727978,
          1.0272289592703079,
          1.7423972545036706,
          0.02797372998216113,
          1.0677071574433021,
          0.5386546041399065,
          -0.07375236121360178,
          -0.3210457962618951,
          1.1140962715960554,
          0.5871012163741027,
          -2.8478305341291223,
          -0.5694357117564559,
          -1.5550589908871388,
          -0.5861784112261942,
          -0.2378101715700083,
          -0.636322880746423,
          0.7058866683532209,
          -0.4232563995104346,
          -2.3523874028368055,
          1.5433139954234343,
          -0.4580160249163262,
          -1.0733750768257757,
          -0.37984272152335574,
          1.223497287323498,
          -1.1520248109612348,
          -1.2179519812020851,
          0.36044118392265284,
          0.06058851598611968,
          -0.173562856880582,
          1.675967095658934,
          -0.8865512457511057,
          -1.4304056681683393,
          -1.822405906571338,
          0.6371108077481631,
          1.9537339609271924,
          0.1456998692396737,
          -1.4466868023505728,
          -0.18261312293046025,
          -0.3680918507318625,
          -0.8109966917442649,
          -1.0391573344640779,
          0.2905092653231368,
          -1.2489195764635277,
          -1.2586692609705625,
          -1.3057891114566242,
          0.3335590173333529,
          -2.138567016205052,
          -1.0805255629015293,
          -0.3413653287466698,
          -0.8068425394192555,
          0.8517418277787769,
          -0.7075361696325824,
          -0.22864902819987004,
          1.2176724333581745,
          1.4070498331363956,
          1.0920957393346802,
          0.2894781107506607,
          -0.08276648654008772,
          0.7962990539303813,
          0.9160470410599457,
          -1.7637840482081515,
          0.8765875500724096,
          0.3958767968311605,
          -1.3654873526409985,
          -0.40046218918350496,
          1.7716467131636042,
          0.3757757616213289,
          0.10574450633701785,
          0.07521942210979464,
          -1.4828132966136425,
          0.5080783839032244,
          -0.5260489652542841,
          0.812383005415542,
          -0.9684789250611435
         ]
        },
        {
         "boxpoints": false,
         "line": {
          "width": 1.3
         },
         "marker": {
          "color": "rgba(50, 171, 96, 1.0)"
         },
         "name": "C",
         "orientation": "v",
         "type": "box",
         "y": [
          -0.8339037167432608,
          0.47713625342735433,
          0.36125521892311857,
          -1.790727964481164,
          1.2520442251996131,
          2.270899112360906,
          0.13478848829777437,
          -1.2605315805048538,
          -0.43632273809711586,
          0.22281670118284783,
          -0.18909073116375286,
          -1.1195907096674502,
          0.018851620939879667,
          0.16047559901932032,
          0.5286541213944139,
          -0.23901706330140438,
          0.8244788629895392,
          -1.2394160085815316,
          0.7943133977973502,
          0.6498109955301424,
          0.43825695072330895,
          0.21849041365048702,
          0.970257495717312,
          0.09960993352175779,
          0.2623511666663897,
          -1.4953912949020698,
          -0.36146425356952544,
          -0.5468326573000943,
          -1.0396262444682403,
          0.8816429152003161,
          0.6973333980044825,
          -0.7754970564572805,
          0.446903904384151,
          0.12686731001377624,
          -0.4782167124194197,
          0.4265896191785563,
          -0.6591613139484621,
          -0.4775754089339432,
          0.49455610932565053,
          0.6833751441116853,
          -0.43914212182868206,
          0.6534721699168478,
          0.5358542380823311,
          0.5814022508987048,
          2.718463766031147,
          0.7740951080592402,
          -1.1257871948122224,
          0.6164251759990872,
          -0.717262108861376,
          1.1911693975357573,
          0.5818555977338326,
          -0.2854817839402973,
          -1.7785450562335767,
          -1.3257490941569388,
          1.0059277765829595,
          -0.5319260172027508,
          0.037641371312012846,
          -1.8109072405899727,
          0.8827374960026927,
          0.026096083269646148,
          0.7385582627930056,
          0.24555944313118658,
          -0.14452073332074622,
          -1.4239340684990642,
          -0.06744700254733821,
          1.2774765225998403,
          -0.5300205702461297,
          -1.4465676244755632,
          1.159007314514464,
          1.6016449201279221,
          -1.4145555650820314,
          0.7775300763731974,
          0.5229977358259508,
          0.3504416840855397,
          1.3459353960906248,
          0.7784714879109437,
          -0.6737030318089459,
          0.3176534543827764,
          0.02766818710964753,
          1.3769921773885467,
          -1.4980380573091954,
          0.49593268099767945,
          -0.3662743108600755,
          0.18276930826280097,
          0.5262192234497935,
          -1.3853593408751512,
          -0.47064226117735597,
          0.12308801327536616,
          -1.4964147928739826,
          0.053324331754776265,
          0.77997403872026,
          -0.06746759817483632,
          -1.1098784387741933,
          -1.387597259215862,
          -0.9345498509836088,
          1.7622638193275257,
          0.4518660579832385,
          0.07211549752456263,
          0.8687444973250126,
          0.1902588105841813
         ]
        },
        {
         "boxpoints": false,
         "line": {
          "width": 1.3
         },
         "marker": {
          "color": "rgba(128, 0, 128, 1.0)"
         },
         "name": "D",
         "orientation": "v",
         "type": "box",
         "y": [
          1.9406388942707384,
          1.324861915044796,
          -0.27939343831483543,
          -2.6984722416448306,
          -1.7045339967812563,
          2.076777587050777,
          0.9696663550677439,
          -1.2771439156987632,
          -1.4072610182887628,
          0.8378642864849669,
          -0.17677729853252572,
          1.4935323027224294,
          0.7888967091464687,
          -0.1232981284205748,
          -0.564814235096356,
          1.804451121895599,
          1.2206461306833276,
          -0.9120960029811378,
          0.6091125095862556,
          1.0776722785170252,
          -0.8076249090727798,
          -0.2624579199961662,
          -0.5191437723977069,
          -0.24658309498816536,
          1.925553720621652,
          0.2782131328157488,
          -0.7804291701893622,
          -0.1308440207564159,
          0.11133383593229837,
          1.4591780674122243,
          -0.6348982672542006,
          -0.29523274821022455,
          0.7117474632669849,
          0.9055849484296992,
          0.956089168314388,
          0.8821642157400651,
          0.11862109248458085,
          0.46804633384593664,
          1.2878403308736548,
          -0.8701204830010937,
          -0.21084923871062916,
          0.7576755545974876,
          -1.6615086061918711,
          -1.6995914520832087,
          1.0792619095979548,
          -1.9634856000105534,
          0.665543485240063,
          1.349461503323047,
          0.2842997113325124,
          -0.9045380024635943,
          -0.6450524156392518,
          0.6217205230827482,
          0.5919475421587387,
          -0.205564498185626,
          0.44376755876553836,
          0.1259141953380817,
          -1.6930916756368246,
          -0.280469364504614,
          0.484818572261024,
          -0.07043177029358762,
          1.182206452177989,
          -0.6072129171737191,
          0.1253676722964975,
          0.2679177736998347,
          0.46067068632119684,
          1.4795786067593484,
          -0.28165530567193753,
          0.6188506863130393,
          -0.36511949294927076,
          -1.2391794945470818,
          -2.1225182290502422,
          -0.3899437031282188,
          2.716737229808457,
          1.5243233792868665,
          0.7396793150808104,
          1.992335264934164,
          -0.35158948577142624,
          -1.0081835738317746,
          0.5910196824755032,
          -2.2434190683723236,
          -0.9049376152679717,
          -0.6025595264153785,
          -0.3144945603774687,
          -0.9096649339630714,
          0.737651406507124,
          1.5532723211763158,
          0.27588861381415186,
          -1.284480547962525,
          0.520877164715035,
          0.19842159102275375,
          0.6241152811871958,
          0.6450837581679141,
          1.4619112802327654,
          -0.5987354012904933,
          -0.8236747436954663,
          -0.8764443272683684,
          0.4169940934480476,
          0.3620783455406504,
          1.04864421240215,
          0.4709725095183373
         ]
        }
       ],
       "layout": {
        "legend": {
         "bgcolor": "#F5F6F9",
         "font": {
          "color": "#4D5663"
         }
        },
        "paper_bgcolor": "#F5F6F9",
        "plot_bgcolor": "#F5F6F9",
        "template": {
         "data": {
          "bar": [
           {
            "error_x": {
             "color": "#2a3f5f"
            },
            "error_y": {
             "color": "#2a3f5f"
            },
            "marker": {
             "line": {
              "color": "#E5ECF6",
              "width": 0.5
             }
            },
            "type": "bar"
           }
          ],
          "barpolar": [
           {
            "marker": {
             "line": {
              "color": "#E5ECF6",
              "width": 0.5
             }
            },
            "type": "barpolar"
           }
          ],
          "carpet": [
           {
            "aaxis": {
             "endlinecolor": "#2a3f5f",
             "gridcolor": "white",
             "linecolor": "white",
             "minorgridcolor": "white",
             "startlinecolor": "#2a3f5f"
            },
            "baxis": {
             "endlinecolor": "#2a3f5f",
             "gridcolor": "white",
             "linecolor": "white",
             "minorgridcolor": "white",
             "startlinecolor": "#2a3f5f"
            },
            "type": "carpet"
           }
          ],
          "choropleth": [
           {
            "colorbar": {
             "outlinewidth": 0,
             "ticks": ""
            },
            "type": "choropleth"
           }
          ],
          "contour": [
           {
            "colorbar": {
             "outlinewidth": 0,
             "ticks": ""
            },
            "colorscale": [
             [
              0,
              "#0d0887"
             ],
             [
              0.1111111111111111,
              "#46039f"
             ],
             [
              0.2222222222222222,
              "#7201a8"
             ],
             [
              0.3333333333333333,
              "#9c179e"
             ],
             [
              0.4444444444444444,
              "#bd3786"
             ],
             [
              0.5555555555555556,
              "#d8576b"
             ],
             [
              0.6666666666666666,
              "#ed7953"
             ],
             [
              0.7777777777777778,
              "#fb9f3a"
             ],
             [
              0.8888888888888888,
              "#fdca26"
             ],
             [
              1,
              "#f0f921"
             ]
            ],
            "type": "contour"
           }
          ],
          "contourcarpet": [
           {
            "colorbar": {
             "outlinewidth": 0,
             "ticks": ""
            },
            "type": "contourcarpet"
           }
          ],
          "heatmap": [
           {
            "colorbar": {
             "outlinewidth": 0,
             "ticks": ""
            },
            "colorscale": [
             [
              0,
              "#0d0887"
             ],
             [
              0.1111111111111111,
              "#46039f"
             ],
             [
              0.2222222222222222,
              "#7201a8"
             ],
             [
              0.3333333333333333,
              "#9c179e"
             ],
             [
              0.4444444444444444,
              "#bd3786"
             ],
             [
              0.5555555555555556,
              "#d8576b"
             ],
             [
              0.6666666666666666,
              "#ed7953"
             ],
             [
              0.7777777777777778,
              "#fb9f3a"
             ],
             [
              0.8888888888888888,
              "#fdca26"
             ],
             [
              1,
              "#f0f921"
             ]
            ],
            "type": "heatmap"
           }
          ],
          "heatmapgl": [
           {
            "colorbar": {
             "outlinewidth": 0,
             "ticks": ""
            },
            "colorscale": [
             [
              0,
              "#0d0887"
             ],
             [
              0.1111111111111111,
              "#46039f"
             ],
             [
              0.2222222222222222,
              "#7201a8"
             ],
             [
              0.3333333333333333,
              "#9c179e"
             ],
             [
              0.4444444444444444,
              "#bd3786"
             ],
             [
              0.5555555555555556,
              "#d8576b"
             ],
             [
              0.6666666666666666,
              "#ed7953"
             ],
             [
              0.7777777777777778,
              "#fb9f3a"
             ],
             [
              0.8888888888888888,
              "#fdca26"
             ],
             [
              1,
              "#f0f921"
             ]
            ],
            "type": "heatmapgl"
           }
          ],
          "histogram": [
           {
            "marker": {
             "colorbar": {
              "outlinewidth": 0,
              "ticks": ""
             }
            },
            "type": "histogram"
           }
          ],
          "histogram2d": [
           {
            "colorbar": {
             "outlinewidth": 0,
             "ticks": ""
            },
            "colorscale": [
             [
              0,
              "#0d0887"
             ],
             [
              0.1111111111111111,
              "#46039f"
             ],
             [
              0.2222222222222222,
              "#7201a8"
             ],
             [
              0.3333333333333333,
              "#9c179e"
             ],
             [
              0.4444444444444444,
              "#bd3786"
             ],
             [
              0.5555555555555556,
              "#d8576b"
             ],
             [
              0.6666666666666666,
              "#ed7953"
             ],
             [
              0.7777777777777778,
              "#fb9f3a"
             ],
             [
              0.8888888888888888,
              "#fdca26"
             ],
             [
              1,
              "#f0f921"
             ]
            ],
            "type": "histogram2d"
           }
          ],
          "histogram2dcontour": [
           {
            "colorbar": {
             "outlinewidth": 0,
             "ticks": ""
            },
            "colorscale": [
             [
              0,
              "#0d0887"
             ],
             [
              0.1111111111111111,
              "#46039f"
             ],
             [
              0.2222222222222222,
              "#7201a8"
             ],
             [
              0.3333333333333333,
              "#9c179e"
             ],
             [
              0.4444444444444444,
              "#bd3786"
             ],
             [
              0.5555555555555556,
              "#d8576b"
             ],
             [
              0.6666666666666666,
              "#ed7953"
             ],
             [
              0.7777777777777778,
              "#fb9f3a"
             ],
             [
              0.8888888888888888,
              "#fdca26"
             ],
             [
              1,
              "#f0f921"
             ]
            ],
            "type": "histogram2dcontour"
           }
          ],
          "mesh3d": [
           {
            "colorbar": {
             "outlinewidth": 0,
             "ticks": ""
            },
            "type": "mesh3d"
           }
          ],
          "parcoords": [
           {
            "line": {
             "colorbar": {
              "outlinewidth": 0,
              "ticks": ""
             }
            },
            "type": "parcoords"
           }
          ],
          "pie": [
           {
            "automargin": true,
            "type": "pie"
           }
          ],
          "scatter": [
           {
            "marker": {
             "colorbar": {
              "outlinewidth": 0,
              "ticks": ""
             }
            },
            "type": "scatter"
           }
          ],
          "scatter3d": [
           {
            "line": {
             "colorbar": {
              "outlinewidth": 0,
              "ticks": ""
             }
            },
            "marker": {
             "colorbar": {
              "outlinewidth": 0,
              "ticks": ""
             }
            },
            "type": "scatter3d"
           }
          ],
          "scattercarpet": [
           {
            "marker": {
             "colorbar": {
              "outlinewidth": 0,
              "ticks": ""
             }
            },
            "type": "scattercarpet"
           }
          ],
          "scattergeo": [
           {
            "marker": {
             "colorbar": {
              "outlinewidth": 0,
              "ticks": ""
             }
            },
            "type": "scattergeo"
           }
          ],
          "scattergl": [
           {
            "marker": {
             "colorbar": {
              "outlinewidth": 0,
              "ticks": ""
             }
            },
            "type": "scattergl"
           }
          ],
          "scattermapbox": [
           {
            "marker": {
             "colorbar": {
              "outlinewidth": 0,
              "ticks": ""
             }
            },
            "type": "scattermapbox"
           }
          ],
          "scatterpolar": [
           {
            "marker": {
             "colorbar": {
              "outlinewidth": 0,
              "ticks": ""
             }
            },
            "type": "scatterpolar"
           }
          ],
          "scatterpolargl": [
           {
            "marker": {
             "colorbar": {
              "outlinewidth": 0,
              "ticks": ""
             }
            },
            "type": "scatterpolargl"
           }
          ],
          "scatterternary": [
           {
            "marker": {
             "colorbar": {
              "outlinewidth": 0,
              "ticks": ""
             }
            },
            "type": "scatterternary"
           }
          ],
          "surface": [
           {
            "colorbar": {
             "outlinewidth": 0,
             "ticks": ""
            },
            "colorscale": [
             [
              0,
              "#0d0887"
             ],
             [
              0.1111111111111111,
              "#46039f"
             ],
             [
              0.2222222222222222,
              "#7201a8"
             ],
             [
              0.3333333333333333,
              "#9c179e"
             ],
             [
              0.4444444444444444,
              "#bd3786"
             ],
             [
              0.5555555555555556,
              "#d8576b"
             ],
             [
              0.6666666666666666,
              "#ed7953"
             ],
             [
              0.7777777777777778,
              "#fb9f3a"
             ],
             [
              0.8888888888888888,
              "#fdca26"
             ],
             [
              1,
              "#f0f921"
             ]
            ],
            "type": "surface"
           }
          ],
          "table": [
           {
            "cells": {
             "fill": {
              "color": "#EBF0F8"
             },
             "line": {
              "color": "white"
             }
            },
            "header": {
             "fill": {
              "color": "#C8D4E3"
             },
             "line": {
              "color": "white"
             }
            },
            "type": "table"
           }
          ]
         },
         "layout": {
          "annotationdefaults": {
           "arrowcolor": "#2a3f5f",
           "arrowhead": 0,
           "arrowwidth": 1
          },
          "coloraxis": {
           "colorbar": {
            "outlinewidth": 0,
            "ticks": ""
           }
          },
          "colorscale": {
           "diverging": [
            [
             0,
             "#8e0152"
            ],
            [
             0.1,
             "#c51b7d"
            ],
            [
             0.2,
             "#de77ae"
            ],
            [
             0.3,
             "#f1b6da"
            ],
            [
             0.4,
             "#fde0ef"
            ],
            [
             0.5,
             "#f7f7f7"
            ],
            [
             0.6,
             "#e6f5d0"
            ],
            [
             0.7,
             "#b8e186"
            ],
            [
             0.8,
             "#7fbc41"
            ],
            [
             0.9,
             "#4d9221"
            ],
            [
             1,
             "#276419"
            ]
           ],
           "sequential": [
            [
             0,
             "#0d0887"
            ],
            [
             0.1111111111111111,
             "#46039f"
            ],
            [
             0.2222222222222222,
             "#7201a8"
            ],
            [
             0.3333333333333333,
             "#9c179e"
            ],
            [
             0.4444444444444444,
             "#bd3786"
            ],
            [
             0.5555555555555556,
             "#d8576b"
            ],
            [
             0.6666666666666666,
             "#ed7953"
            ],
            [
             0.7777777777777778,
             "#fb9f3a"
            ],
            [
             0.8888888888888888,
             "#fdca26"
            ],
            [
             1,
             "#f0f921"
            ]
           ],
           "sequentialminus": [
            [
             0,
             "#0d0887"
            ],
            [
             0.1111111111111111,
             "#46039f"
            ],
            [
             0.2222222222222222,
             "#7201a8"
            ],
            [
             0.3333333333333333,
             "#9c179e"
            ],
            [
             0.4444444444444444,
             "#bd3786"
            ],
            [
             0.5555555555555556,
             "#d8576b"
            ],
            [
             0.6666666666666666,
             "#ed7953"
            ],
            [
             0.7777777777777778,
             "#fb9f3a"
            ],
            [
             0.8888888888888888,
             "#fdca26"
            ],
            [
             1,
             "#f0f921"
            ]
           ]
          },
          "colorway": [
           "#636efa",
           "#EF553B",
           "#00cc96",
           "#ab63fa",
           "#FFA15A",
           "#19d3f3",
           "#FF6692",
           "#B6E880",
           "#FF97FF",
           "#FECB52"
          ],
          "font": {
           "color": "#2a3f5f"
          },
          "geo": {
           "bgcolor": "white",
           "lakecolor": "white",
           "landcolor": "#E5ECF6",
           "showlakes": true,
           "showland": true,
           "subunitcolor": "white"
          },
          "hoverlabel": {
           "align": "left"
          },
          "hovermode": "closest",
          "mapbox": {
           "style": "light"
          },
          "paper_bgcolor": "white",
          "plot_bgcolor": "#E5ECF6",
          "polar": {
           "angularaxis": {
            "gridcolor": "white",
            "linecolor": "white",
            "ticks": ""
           },
           "bgcolor": "#E5ECF6",
           "radialaxis": {
            "gridcolor": "white",
            "linecolor": "white",
            "ticks": ""
           }
          },
          "scene": {
           "xaxis": {
            "backgroundcolor": "#E5ECF6",
            "gridcolor": "white",
            "gridwidth": 2,
            "linecolor": "white",
            "showbackground": true,
            "ticks": "",
            "zerolinecolor": "white"
           },
           "yaxis": {
            "backgroundcolor": "#E5ECF6",
            "gridcolor": "white",
            "gridwidth": 2,
            "linecolor": "white",
            "showbackground": true,
            "ticks": "",
            "zerolinecolor": "white"
           },
           "zaxis": {
            "backgroundcolor": "#E5ECF6",
            "gridcolor": "white",
            "gridwidth": 2,
            "linecolor": "white",
            "showbackground": true,
            "ticks": "",
            "zerolinecolor": "white"
           }
          },
          "shapedefaults": {
           "line": {
            "color": "#2a3f5f"
           }
          },
          "ternary": {
           "aaxis": {
            "gridcolor": "white",
            "linecolor": "white",
            "ticks": ""
           },
           "baxis": {
            "gridcolor": "white",
            "linecolor": "white",
            "ticks": ""
           },
           "bgcolor": "#E5ECF6",
           "caxis": {
            "gridcolor": "white",
            "linecolor": "white",
            "ticks": ""
           }
          },
          "title": {
           "x": 0.05
          },
          "xaxis": {
           "automargin": true,
           "gridcolor": "white",
           "linecolor": "white",
           "ticks": "",
           "title": {
            "standoff": 15
           },
           "zerolinecolor": "white",
           "zerolinewidth": 2
          },
          "yaxis": {
           "automargin": true,
           "gridcolor": "white",
           "linecolor": "white",
           "ticks": "",
           "title": {
            "standoff": 15
           },
           "zerolinecolor": "white",
           "zerolinewidth": 2
          }
         }
        },
        "title": {
         "font": {
          "color": "#4D5663"
         }
        },
        "xaxis": {
         "gridcolor": "#E1E5ED",
         "showgrid": true,
         "tickfont": {
          "color": "#4D5663"
         },
         "title": {
          "font": {
           "color": "#4D5663"
          },
          "text": ""
         },
         "zerolinecolor": "#E1E5ED"
        },
        "yaxis": {
         "gridcolor": "#E1E5ED",
         "showgrid": true,
         "tickfont": {
          "color": "#4D5663"
         },
         "title": {
          "font": {
           "color": "#4D5663"
          },
          "text": ""
         },
         "zerolinecolor": "#E1E5ED"
        }
       }
      },
      "text/html": [
       "<div>\n",
       "        \n",
       "        \n",
       "            <div id=\"f9f988a9-1d03-4555-8bee-99ffc43c8e94\" class=\"plotly-graph-div\" style=\"height:525px; width:100%;\"></div>\n",
       "            <script type=\"text/javascript\">\n",
       "                require([\"plotly\"], function(Plotly) {\n",
       "                    window.PLOTLYENV=window.PLOTLYENV || {};\n",
       "                    window.PLOTLYENV.BASE_URL='https://plot.ly';\n",
       "                    \n",
       "                if (document.getElementById(\"f9f988a9-1d03-4555-8bee-99ffc43c8e94\")) {\n",
       "                    Plotly.newPlot(\n",
       "                        'f9f988a9-1d03-4555-8bee-99ffc43c8e94',\n",
       "                        [{\"boxpoints\": false, \"line\": {\"width\": 1.3}, \"marker\": {\"color\": \"rgba(255, 153, 51, 1.0)\"}, \"name\": \"A\", \"orientation\": \"v\", \"type\": \"box\", \"y\": [-0.08665386071286409, 0.6429420497995871, -1.387439097173388, -0.1361759913956736, -0.49685462905137473, 1.440321371142075, -1.7441026432369262, -0.865975895339651, 1.4464480415250942, 0.7856225704806149, -0.31891864193814634, 1.3225449466107067, 0.539518377247178, 0.5061678509856647, 0.6671675199658994, -0.17240337605432848, 0.6629088210598313, 1.8488745314000505, 0.31606929538836276, 1.0200752282815864, 1.3074982808756987, -1.132754733028328, -0.6292316671802965, 0.5943986307575858, 0.3716228687189236, 0.409573466455306, 0.8983715886684981, 1.305469705255862, -0.4936090267584502, 0.692425960422741, 0.7162775621233937, -1.7885293399956528, 1.1838126987494433, 1.3811697119289283, -1.493696588152164, 0.04857078294029223, 0.91016178374172, 1.8747186014664174, 1.316048034234304, 0.5933537387278158, -1.1611371901648193, 0.9458458282123137, -1.5226341469689433, -1.4767328930835304, 0.12075070336521955, 0.9049353950405488, -0.5957213110320032, -1.5107620653520046, -0.09677064704752825, 1.3253826247550056, 0.7880995144233671, 0.07609555524239503, -0.8661317595327915, -1.1248478244279192, 0.17309985461444194, 0.5317845365392089, 0.8076068870591362, 0.3952615581172054, -1.0541551835085503, -0.7207551555338316, -1.9751382134225923, 1.386093530266168, 1.4908558124581053, 0.6644071864952659, 0.5768580774239381, -2.031853180211298, 0.7136819965797955, -1.9826291999513945, 0.19393221235516056, 1.3753499852196729, -0.3337209010139875, -1.0225549123931477, 0.020698274530295043, -0.09072887881050878, 0.7553158348602322, -1.2727430223713965, -0.5256460103975078, -0.1927595363295705, -0.08125359600243147, -0.013783032145486348, -1.8068148421355563, 0.2456263274841035, 0.12648049704792919, -0.6906330205851243, 1.36771718870962, -0.7974243608291074, 2.539224252284878, 0.27749157382185025, 0.029947613690060854, -0.6632734508421413, 0.4136043951508379, -0.4225450143403558, -1.1558428073009133, -0.06601963292226119, -0.44535844109583067, 0.34771702178762454, -0.585448460125657, 0.374104091421654, -1.4427748559727855, 1.6558084697349387]}, {\"boxpoints\": false, \"line\": {\"width\": 1.3}, \"marker\": {\"color\": \"rgba(55, 128, 191, 1.0)\"}, \"name\": \"B\", \"orientation\": \"v\", \"type\": \"box\", \"y\": [1.4077527911809835, 1.0271546190233385, -1.2993676276247845, -0.09270174633135952, 1.2731562542540698, 0.05355200309288338, -0.9303267057868418, -0.23179383093477826, -0.10357947768316543, -0.029818499658561006, -0.05705614237373467, 1.5525580047510374, 2.0463162967491417, -0.5185703901713093, -0.46369169156403706, 1.1677305849731767, -0.8106841327867649, 1.5403165913577637, -0.47151869304579025, 1.8158188334232528, -1.004364913144073, 0.11499760452114692, -0.6030915042566525, 0.07711751819841703, 0.36999965465738843, -0.0941347046558915, -1.4031480158727978, 1.0272289592703079, 1.7423972545036706, 0.02797372998216113, 1.0677071574433021, 0.5386546041399065, -0.07375236121360178, -0.3210457962618951, 1.1140962715960554, 0.5871012163741027, -2.8478305341291223, -0.5694357117564559, -1.5550589908871388, -0.5861784112261942, -0.2378101715700083, -0.636322880746423, 0.7058866683532209, -0.4232563995104346, -2.3523874028368055, 1.5433139954234343, -0.4580160249163262, -1.0733750768257757, -0.37984272152335574, 1.223497287323498, -1.1520248109612348, -1.2179519812020851, 0.36044118392265284, 0.06058851598611968, -0.173562856880582, 1.675967095658934, -0.8865512457511057, -1.4304056681683393, -1.822405906571338, 0.6371108077481631, 1.9537339609271924, 0.1456998692396737, -1.4466868023505728, -0.18261312293046025, -0.3680918507318625, -0.8109966917442649, -1.0391573344640779, 0.2905092653231368, -1.2489195764635277, -1.2586692609705625, -1.3057891114566242, 0.3335590173333529, -2.138567016205052, -1.0805255629015293, -0.3413653287466698, -0.8068425394192555, 0.8517418277787769, -0.7075361696325824, -0.22864902819987004, 1.2176724333581745, 1.4070498331363956, 1.0920957393346802, 0.2894781107506607, -0.08276648654008772, 0.7962990539303813, 0.9160470410599457, -1.7637840482081515, 0.8765875500724096, 0.3958767968311605, -1.3654873526409985, -0.40046218918350496, 1.7716467131636042, 0.3757757616213289, 0.10574450633701785, 0.07521942210979464, -1.4828132966136425, 0.5080783839032244, -0.5260489652542841, 0.812383005415542, -0.9684789250611435]}, {\"boxpoints\": false, \"line\": {\"width\": 1.3}, \"marker\": {\"color\": \"rgba(50, 171, 96, 1.0)\"}, \"name\": \"C\", \"orientation\": \"v\", \"type\": \"box\", \"y\": [-0.8339037167432608, 0.47713625342735433, 0.36125521892311857, -1.790727964481164, 1.2520442251996131, 2.270899112360906, 0.13478848829777437, -1.2605315805048538, -0.43632273809711586, 0.22281670118284783, -0.18909073116375286, -1.1195907096674502, 0.018851620939879667, 0.16047559901932032, 0.5286541213944139, -0.23901706330140438, 0.8244788629895392, -1.2394160085815316, 0.7943133977973502, 0.6498109955301424, 0.43825695072330895, 0.21849041365048702, 0.970257495717312, 0.09960993352175779, 0.2623511666663897, -1.4953912949020698, -0.36146425356952544, -0.5468326573000943, -1.0396262444682403, 0.8816429152003161, 0.6973333980044825, -0.7754970564572805, 0.446903904384151, 0.12686731001377624, -0.4782167124194197, 0.4265896191785563, -0.6591613139484621, -0.4775754089339432, 0.49455610932565053, 0.6833751441116853, -0.43914212182868206, 0.6534721699168478, 0.5358542380823311, 0.5814022508987048, 2.718463766031147, 0.7740951080592402, -1.1257871948122224, 0.6164251759990872, -0.717262108861376, 1.1911693975357573, 0.5818555977338326, -0.2854817839402973, -1.7785450562335767, -1.3257490941569388, 1.0059277765829595, -0.5319260172027508, 0.037641371312012846, -1.8109072405899727, 0.8827374960026927, 0.026096083269646148, 0.7385582627930056, 0.24555944313118658, -0.14452073332074622, -1.4239340684990642, -0.06744700254733821, 1.2774765225998403, -0.5300205702461297, -1.4465676244755632, 1.159007314514464, 1.6016449201279221, -1.4145555650820314, 0.7775300763731974, 0.5229977358259508, 0.3504416840855397, 1.3459353960906248, 0.7784714879109437, -0.6737030318089459, 0.3176534543827764, 0.02766818710964753, 1.3769921773885467, -1.4980380573091954, 0.49593268099767945, -0.3662743108600755, 0.18276930826280097, 0.5262192234497935, -1.3853593408751512, -0.47064226117735597, 0.12308801327536616, -1.4964147928739826, 0.053324331754776265, 0.77997403872026, -0.06746759817483632, -1.1098784387741933, -1.387597259215862, -0.9345498509836088, 1.7622638193275257, 0.4518660579832385, 0.07211549752456263, 0.8687444973250126, 0.1902588105841813]}, {\"boxpoints\": false, \"line\": {\"width\": 1.3}, \"marker\": {\"color\": \"rgba(128, 0, 128, 1.0)\"}, \"name\": \"D\", \"orientation\": \"v\", \"type\": \"box\", \"y\": [1.9406388942707384, 1.324861915044796, -0.27939343831483543, -2.6984722416448306, -1.7045339967812563, 2.076777587050777, 0.9696663550677439, -1.2771439156987632, -1.4072610182887628, 0.8378642864849669, -0.17677729853252572, 1.4935323027224294, 0.7888967091464687, -0.1232981284205748, -0.564814235096356, 1.804451121895599, 1.2206461306833276, -0.9120960029811378, 0.6091125095862556, 1.0776722785170252, -0.8076249090727798, -0.2624579199961662, -0.5191437723977069, -0.24658309498816536, 1.925553720621652, 0.2782131328157488, -0.7804291701893622, -0.1308440207564159, 0.11133383593229837, 1.4591780674122243, -0.6348982672542006, -0.29523274821022455, 0.7117474632669849, 0.9055849484296992, 0.956089168314388, 0.8821642157400651, 0.11862109248458085, 0.46804633384593664, 1.2878403308736548, -0.8701204830010937, -0.21084923871062916, 0.7576755545974876, -1.6615086061918711, -1.6995914520832087, 1.0792619095979548, -1.9634856000105534, 0.665543485240063, 1.349461503323047, 0.2842997113325124, -0.9045380024635943, -0.6450524156392518, 0.6217205230827482, 0.5919475421587387, -0.205564498185626, 0.44376755876553836, 0.1259141953380817, -1.6930916756368246, -0.280469364504614, 0.484818572261024, -0.07043177029358762, 1.182206452177989, -0.6072129171737191, 0.1253676722964975, 0.2679177736998347, 0.46067068632119684, 1.4795786067593484, -0.28165530567193753, 0.6188506863130393, -0.36511949294927076, -1.2391794945470818, -2.1225182290502422, -0.3899437031282188, 2.716737229808457, 1.5243233792868665, 0.7396793150808104, 1.992335264934164, -0.35158948577142624, -1.0081835738317746, 0.5910196824755032, -2.2434190683723236, -0.9049376152679717, -0.6025595264153785, -0.3144945603774687, -0.9096649339630714, 0.737651406507124, 1.5532723211763158, 0.27588861381415186, -1.284480547962525, 0.520877164715035, 0.19842159102275375, 0.6241152811871958, 0.6450837581679141, 1.4619112802327654, -0.5987354012904933, -0.8236747436954663, -0.8764443272683684, 0.4169940934480476, 0.3620783455406504, 1.04864421240215, 0.4709725095183373]}],\n",
       "                        {\"legend\": {\"bgcolor\": \"#F5F6F9\", \"font\": {\"color\": \"#4D5663\"}}, \"paper_bgcolor\": \"#F5F6F9\", \"plot_bgcolor\": \"#F5F6F9\", \"template\": {\"data\": {\"bar\": [{\"error_x\": {\"color\": \"#2a3f5f\"}, \"error_y\": {\"color\": \"#2a3f5f\"}, \"marker\": {\"line\": {\"color\": \"#E5ECF6\", \"width\": 0.5}}, \"type\": \"bar\"}], \"barpolar\": [{\"marker\": {\"line\": {\"color\": \"#E5ECF6\", \"width\": 0.5}}, \"type\": \"barpolar\"}], \"carpet\": [{\"aaxis\": {\"endlinecolor\": \"#2a3f5f\", \"gridcolor\": \"white\", \"linecolor\": \"white\", \"minorgridcolor\": \"white\", \"startlinecolor\": \"#2a3f5f\"}, \"baxis\": {\"endlinecolor\": \"#2a3f5f\", \"gridcolor\": \"white\", \"linecolor\": \"white\", \"minorgridcolor\": \"white\", \"startlinecolor\": \"#2a3f5f\"}, \"type\": \"carpet\"}], \"choropleth\": [{\"colorbar\": {\"outlinewidth\": 0, \"ticks\": \"\"}, \"type\": \"choropleth\"}], \"contour\": [{\"colorbar\": {\"outlinewidth\": 0, \"ticks\": \"\"}, \"colorscale\": [[0.0, \"#0d0887\"], [0.1111111111111111, \"#46039f\"], [0.2222222222222222, \"#7201a8\"], [0.3333333333333333, \"#9c179e\"], [0.4444444444444444, \"#bd3786\"], [0.5555555555555556, \"#d8576b\"], [0.6666666666666666, \"#ed7953\"], [0.7777777777777778, \"#fb9f3a\"], [0.8888888888888888, \"#fdca26\"], [1.0, \"#f0f921\"]], \"type\": \"contour\"}], \"contourcarpet\": [{\"colorbar\": {\"outlinewidth\": 0, \"ticks\": \"\"}, \"type\": \"contourcarpet\"}], \"heatmap\": [{\"colorbar\": {\"outlinewidth\": 0, \"ticks\": \"\"}, \"colorscale\": [[0.0, \"#0d0887\"], [0.1111111111111111, \"#46039f\"], [0.2222222222222222, \"#7201a8\"], [0.3333333333333333, \"#9c179e\"], [0.4444444444444444, \"#bd3786\"], [0.5555555555555556, \"#d8576b\"], [0.6666666666666666, \"#ed7953\"], [0.7777777777777778, \"#fb9f3a\"], [0.8888888888888888, \"#fdca26\"], [1.0, \"#f0f921\"]], \"type\": \"heatmap\"}], \"heatmapgl\": [{\"colorbar\": {\"outlinewidth\": 0, \"ticks\": \"\"}, \"colorscale\": [[0.0, \"#0d0887\"], [0.1111111111111111, \"#46039f\"], [0.2222222222222222, \"#7201a8\"], [0.3333333333333333, \"#9c179e\"], [0.4444444444444444, \"#bd3786\"], [0.5555555555555556, \"#d8576b\"], [0.6666666666666666, \"#ed7953\"], [0.7777777777777778, \"#fb9f3a\"], [0.8888888888888888, \"#fdca26\"], [1.0, \"#f0f921\"]], \"type\": \"heatmapgl\"}], \"histogram\": [{\"marker\": {\"colorbar\": {\"outlinewidth\": 0, \"ticks\": \"\"}}, \"type\": \"histogram\"}], \"histogram2d\": [{\"colorbar\": {\"outlinewidth\": 0, \"ticks\": \"\"}, \"colorscale\": [[0.0, \"#0d0887\"], [0.1111111111111111, \"#46039f\"], [0.2222222222222222, \"#7201a8\"], [0.3333333333333333, \"#9c179e\"], [0.4444444444444444, \"#bd3786\"], [0.5555555555555556, \"#d8576b\"], [0.6666666666666666, \"#ed7953\"], [0.7777777777777778, \"#fb9f3a\"], [0.8888888888888888, \"#fdca26\"], [1.0, \"#f0f921\"]], \"type\": \"histogram2d\"}], \"histogram2dcontour\": [{\"colorbar\": {\"outlinewidth\": 0, \"ticks\": \"\"}, \"colorscale\": [[0.0, \"#0d0887\"], [0.1111111111111111, \"#46039f\"], [0.2222222222222222, \"#7201a8\"], [0.3333333333333333, \"#9c179e\"], [0.4444444444444444, \"#bd3786\"], [0.5555555555555556, \"#d8576b\"], [0.6666666666666666, \"#ed7953\"], [0.7777777777777778, \"#fb9f3a\"], [0.8888888888888888, \"#fdca26\"], [1.0, \"#f0f921\"]], \"type\": \"histogram2dcontour\"}], \"mesh3d\": [{\"colorbar\": {\"outlinewidth\": 0, \"ticks\": \"\"}, \"type\": \"mesh3d\"}], \"parcoords\": [{\"line\": {\"colorbar\": {\"outlinewidth\": 0, \"ticks\": \"\"}}, \"type\": \"parcoords\"}], \"pie\": [{\"automargin\": true, \"type\": \"pie\"}], \"scatter\": [{\"marker\": {\"colorbar\": {\"outlinewidth\": 0, \"ticks\": \"\"}}, \"type\": \"scatter\"}], \"scatter3d\": [{\"line\": {\"colorbar\": {\"outlinewidth\": 0, \"ticks\": \"\"}}, \"marker\": {\"colorbar\": {\"outlinewidth\": 0, \"ticks\": \"\"}}, \"type\": \"scatter3d\"}], \"scattercarpet\": [{\"marker\": {\"colorbar\": {\"outlinewidth\": 0, \"ticks\": \"\"}}, \"type\": \"scattercarpet\"}], \"scattergeo\": [{\"marker\": {\"colorbar\": {\"outlinewidth\": 0, \"ticks\": \"\"}}, \"type\": \"scattergeo\"}], \"scattergl\": [{\"marker\": {\"colorbar\": {\"outlinewidth\": 0, \"ticks\": \"\"}}, \"type\": \"scattergl\"}], \"scattermapbox\": [{\"marker\": {\"colorbar\": {\"outlinewidth\": 0, \"ticks\": \"\"}}, \"type\": \"scattermapbox\"}], \"scatterpolar\": [{\"marker\": {\"colorbar\": {\"outlinewidth\": 0, \"ticks\": \"\"}}, \"type\": \"scatterpolar\"}], \"scatterpolargl\": [{\"marker\": {\"colorbar\": {\"outlinewidth\": 0, \"ticks\": \"\"}}, \"type\": \"scatterpolargl\"}], \"scatterternary\": [{\"marker\": {\"colorbar\": {\"outlinewidth\": 0, \"ticks\": \"\"}}, \"type\": \"scatterternary\"}], \"surface\": [{\"colorbar\": {\"outlinewidth\": 0, \"ticks\": \"\"}, \"colorscale\": [[0.0, \"#0d0887\"], [0.1111111111111111, \"#46039f\"], [0.2222222222222222, \"#7201a8\"], [0.3333333333333333, \"#9c179e\"], [0.4444444444444444, \"#bd3786\"], [0.5555555555555556, \"#d8576b\"], [0.6666666666666666, \"#ed7953\"], [0.7777777777777778, \"#fb9f3a\"], [0.8888888888888888, \"#fdca26\"], [1.0, \"#f0f921\"]], \"type\": \"surface\"}], \"table\": [{\"cells\": {\"fill\": {\"color\": \"#EBF0F8\"}, \"line\": {\"color\": \"white\"}}, \"header\": {\"fill\": {\"color\": \"#C8D4E3\"}, \"line\": {\"color\": \"white\"}}, \"type\": \"table\"}]}, \"layout\": {\"annotationdefaults\": {\"arrowcolor\": \"#2a3f5f\", \"arrowhead\": 0, \"arrowwidth\": 1}, \"coloraxis\": {\"colorbar\": {\"outlinewidth\": 0, \"ticks\": \"\"}}, \"colorscale\": {\"diverging\": [[0, \"#8e0152\"], [0.1, \"#c51b7d\"], [0.2, \"#de77ae\"], [0.3, \"#f1b6da\"], [0.4, \"#fde0ef\"], [0.5, \"#f7f7f7\"], [0.6, \"#e6f5d0\"], [0.7, \"#b8e186\"], [0.8, \"#7fbc41\"], [0.9, \"#4d9221\"], [1, \"#276419\"]], \"sequential\": [[0.0, \"#0d0887\"], [0.1111111111111111, \"#46039f\"], [0.2222222222222222, \"#7201a8\"], [0.3333333333333333, \"#9c179e\"], [0.4444444444444444, \"#bd3786\"], [0.5555555555555556, \"#d8576b\"], [0.6666666666666666, \"#ed7953\"], [0.7777777777777778, \"#fb9f3a\"], [0.8888888888888888, \"#fdca26\"], [1.0, \"#f0f921\"]], \"sequentialminus\": [[0.0, \"#0d0887\"], [0.1111111111111111, \"#46039f\"], [0.2222222222222222, \"#7201a8\"], [0.3333333333333333, \"#9c179e\"], [0.4444444444444444, \"#bd3786\"], [0.5555555555555556, \"#d8576b\"], [0.6666666666666666, \"#ed7953\"], [0.7777777777777778, \"#fb9f3a\"], [0.8888888888888888, \"#fdca26\"], [1.0, \"#f0f921\"]]}, \"colorway\": [\"#636efa\", \"#EF553B\", \"#00cc96\", \"#ab63fa\", \"#FFA15A\", \"#19d3f3\", \"#FF6692\", \"#B6E880\", \"#FF97FF\", \"#FECB52\"], \"font\": {\"color\": \"#2a3f5f\"}, \"geo\": {\"bgcolor\": \"white\", \"lakecolor\": \"white\", \"landcolor\": \"#E5ECF6\", \"showlakes\": true, \"showland\": true, \"subunitcolor\": \"white\"}, \"hoverlabel\": {\"align\": \"left\"}, \"hovermode\": \"closest\", \"mapbox\": {\"style\": \"light\"}, \"paper_bgcolor\": \"white\", \"plot_bgcolor\": \"#E5ECF6\", \"polar\": {\"angularaxis\": {\"gridcolor\": \"white\", \"linecolor\": \"white\", \"ticks\": \"\"}, \"bgcolor\": \"#E5ECF6\", \"radialaxis\": {\"gridcolor\": \"white\", \"linecolor\": \"white\", \"ticks\": \"\"}}, \"scene\": {\"xaxis\": {\"backgroundcolor\": \"#E5ECF6\", \"gridcolor\": \"white\", \"gridwidth\": 2, \"linecolor\": \"white\", \"showbackground\": true, \"ticks\": \"\", \"zerolinecolor\": \"white\"}, \"yaxis\": {\"backgroundcolor\": \"#E5ECF6\", \"gridcolor\": \"white\", \"gridwidth\": 2, \"linecolor\": \"white\", \"showbackground\": true, \"ticks\": \"\", \"zerolinecolor\": \"white\"}, \"zaxis\": {\"backgroundcolor\": \"#E5ECF6\", \"gridcolor\": \"white\", \"gridwidth\": 2, \"linecolor\": \"white\", \"showbackground\": true, \"ticks\": \"\", \"zerolinecolor\": \"white\"}}, \"shapedefaults\": {\"line\": {\"color\": \"#2a3f5f\"}}, \"ternary\": {\"aaxis\": {\"gridcolor\": \"white\", \"linecolor\": \"white\", \"ticks\": \"\"}, \"baxis\": {\"gridcolor\": \"white\", \"linecolor\": \"white\", \"ticks\": \"\"}, \"bgcolor\": \"#E5ECF6\", \"caxis\": {\"gridcolor\": \"white\", \"linecolor\": \"white\", \"ticks\": \"\"}}, \"title\": {\"x\": 0.05}, \"xaxis\": {\"automargin\": true, \"gridcolor\": \"white\", \"linecolor\": \"white\", \"ticks\": \"\", \"title\": {\"standoff\": 15}, \"zerolinecolor\": \"white\", \"zerolinewidth\": 2}, \"yaxis\": {\"automargin\": true, \"gridcolor\": \"white\", \"linecolor\": \"white\", \"ticks\": \"\", \"title\": {\"standoff\": 15}, \"zerolinecolor\": \"white\", \"zerolinewidth\": 2}}}, \"title\": {\"font\": {\"color\": \"#4D5663\"}}, \"xaxis\": {\"gridcolor\": \"#E1E5ED\", \"showgrid\": true, \"tickfont\": {\"color\": \"#4D5663\"}, \"title\": {\"font\": {\"color\": \"#4D5663\"}, \"text\": \"\"}, \"zerolinecolor\": \"#E1E5ED\"}, \"yaxis\": {\"gridcolor\": \"#E1E5ED\", \"showgrid\": true, \"tickfont\": {\"color\": \"#4D5663\"}, \"title\": {\"font\": {\"color\": \"#4D5663\"}, \"text\": \"\"}, \"zerolinecolor\": \"#E1E5ED\"}},\n",
       "                        {\"showLink\": true, \"linkText\": \"Export to plot.ly\", \"plotlyServerURL\": \"https://plot.ly\", \"responsive\": true}\n",
       "                    ).then(function(){\n",
       "                            \n",
       "var gd = document.getElementById('f9f988a9-1d03-4555-8bee-99ffc43c8e94');\n",
       "var x = new MutationObserver(function (mutations, observer) {{\n",
       "        var display = window.getComputedStyle(gd).display;\n",
       "        if (!display || display === 'none') {{\n",
       "            console.log([gd, 'removed!']);\n",
       "            Plotly.purge(gd);\n",
       "            observer.disconnect();\n",
       "        }}\n",
       "}});\n",
       "\n",
       "// Listen for the removal of the full notebook cells\n",
       "var notebookContainer = gd.closest('#notebook-container');\n",
       "if (notebookContainer) {{\n",
       "    x.observe(notebookContainer, {childList: true});\n",
       "}}\n",
       "\n",
       "// Listen for the clearing of the current output cell\n",
       "var outputEl = gd.closest('.output');\n",
       "if (outputEl) {{\n",
       "    x.observe(outputEl, {childList: true});\n",
       "}}\n",
       "\n",
       "                        })\n",
       "                };\n",
       "                });\n",
       "            </script>\n",
       "        </div>"
      ]
     },
     "metadata": {},
     "output_type": "display_data"
    }
   ],
   "source": [
    "df.iplot(kind='box')"
   ]
  },
  {
   "cell_type": "markdown",
   "metadata": {},
   "source": [
    "## Superfícies 3D"
   ]
  },
  {
   "cell_type": "code",
   "execution_count": 15,
   "metadata": {
    "ExecuteTime": {
     "end_time": "2020-06-19T11:48:38.908826Z",
     "start_time": "2020-06-19T11:48:38.486202Z"
    }
   },
   "outputs": [
    {
     "data": {
      "application/vnd.plotly.v1+json": {
       "config": {
        "linkText": "Export to plot.ly",
        "plotlyServerURL": "https://plot.ly",
        "showLink": true
       },
       "data": [
        {
         "colorscale": [
          [
           0,
           "rgb(165,0,38)"
          ],
          [
           0.1,
           "rgb(215,48,39)"
          ],
          [
           0.2,
           "rgb(244,109,67)"
          ],
          [
           0.3,
           "rgb(253,174,97)"
          ],
          [
           0.4,
           "rgb(254,224,144)"
          ],
          [
           0.5,
           "rgb(255,255,191)"
          ],
          [
           0.6,
           "rgb(224,243,248)"
          ],
          [
           0.7,
           "rgb(171,217,233)"
          ],
          [
           0.8,
           "rgb(116,173,209)"
          ],
          [
           0.9,
           "rgb(69,117,180)"
          ],
          [
           1,
           "rgb(49,54,149)"
          ]
         ],
         "type": "surface",
         "x": [
          0,
          1,
          2,
          3,
          4
         ],
         "y": [
          "x",
          "y",
          "z"
         ],
         "z": [
          [
           1,
           2,
           3,
           4,
           5
          ],
          [
           10,
           20,
           30,
           20,
           10
          ],
          [
           5,
           4,
           3,
           2,
           1
          ]
         ]
        }
       ],
       "layout": {
        "legend": {
         "bgcolor": "#F5F6F9",
         "font": {
          "color": "#4D5663"
         }
        },
        "paper_bgcolor": "#F5F6F9",
        "plot_bgcolor": "#F5F6F9",
        "template": {
         "data": {
          "bar": [
           {
            "error_x": {
             "color": "#2a3f5f"
            },
            "error_y": {
             "color": "#2a3f5f"
            },
            "marker": {
             "line": {
              "color": "#E5ECF6",
              "width": 0.5
             }
            },
            "type": "bar"
           }
          ],
          "barpolar": [
           {
            "marker": {
             "line": {
              "color": "#E5ECF6",
              "width": 0.5
             }
            },
            "type": "barpolar"
           }
          ],
          "carpet": [
           {
            "aaxis": {
             "endlinecolor": "#2a3f5f",
             "gridcolor": "white",
             "linecolor": "white",
             "minorgridcolor": "white",
             "startlinecolor": "#2a3f5f"
            },
            "baxis": {
             "endlinecolor": "#2a3f5f",
             "gridcolor": "white",
             "linecolor": "white",
             "minorgridcolor": "white",
             "startlinecolor": "#2a3f5f"
            },
            "type": "carpet"
           }
          ],
          "choropleth": [
           {
            "colorbar": {
             "outlinewidth": 0,
             "ticks": ""
            },
            "type": "choropleth"
           }
          ],
          "contour": [
           {
            "colorbar": {
             "outlinewidth": 0,
             "ticks": ""
            },
            "colorscale": [
             [
              0,
              "#0d0887"
             ],
             [
              0.1111111111111111,
              "#46039f"
             ],
             [
              0.2222222222222222,
              "#7201a8"
             ],
             [
              0.3333333333333333,
              "#9c179e"
             ],
             [
              0.4444444444444444,
              "#bd3786"
             ],
             [
              0.5555555555555556,
              "#d8576b"
             ],
             [
              0.6666666666666666,
              "#ed7953"
             ],
             [
              0.7777777777777778,
              "#fb9f3a"
             ],
             [
              0.8888888888888888,
              "#fdca26"
             ],
             [
              1,
              "#f0f921"
             ]
            ],
            "type": "contour"
           }
          ],
          "contourcarpet": [
           {
            "colorbar": {
             "outlinewidth": 0,
             "ticks": ""
            },
            "type": "contourcarpet"
           }
          ],
          "heatmap": [
           {
            "colorbar": {
             "outlinewidth": 0,
             "ticks": ""
            },
            "colorscale": [
             [
              0,
              "#0d0887"
             ],
             [
              0.1111111111111111,
              "#46039f"
             ],
             [
              0.2222222222222222,
              "#7201a8"
             ],
             [
              0.3333333333333333,
              "#9c179e"
             ],
             [
              0.4444444444444444,
              "#bd3786"
             ],
             [
              0.5555555555555556,
              "#d8576b"
             ],
             [
              0.6666666666666666,
              "#ed7953"
             ],
             [
              0.7777777777777778,
              "#fb9f3a"
             ],
             [
              0.8888888888888888,
              "#fdca26"
             ],
             [
              1,
              "#f0f921"
             ]
            ],
            "type": "heatmap"
           }
          ],
          "heatmapgl": [
           {
            "colorbar": {
             "outlinewidth": 0,
             "ticks": ""
            },
            "colorscale": [
             [
              0,
              "#0d0887"
             ],
             [
              0.1111111111111111,
              "#46039f"
             ],
             [
              0.2222222222222222,
              "#7201a8"
             ],
             [
              0.3333333333333333,
              "#9c179e"
             ],
             [
              0.4444444444444444,
              "#bd3786"
             ],
             [
              0.5555555555555556,
              "#d8576b"
             ],
             [
              0.6666666666666666,
              "#ed7953"
             ],
             [
              0.7777777777777778,
              "#fb9f3a"
             ],
             [
              0.8888888888888888,
              "#fdca26"
             ],
             [
              1,
              "#f0f921"
             ]
            ],
            "type": "heatmapgl"
           }
          ],
          "histogram": [
           {
            "marker": {
             "colorbar": {
              "outlinewidth": 0,
              "ticks": ""
             }
            },
            "type": "histogram"
           }
          ],
          "histogram2d": [
           {
            "colorbar": {
             "outlinewidth": 0,
             "ticks": ""
            },
            "colorscale": [
             [
              0,
              "#0d0887"
             ],
             [
              0.1111111111111111,
              "#46039f"
             ],
             [
              0.2222222222222222,
              "#7201a8"
             ],
             [
              0.3333333333333333,
              "#9c179e"
             ],
             [
              0.4444444444444444,
              "#bd3786"
             ],
             [
              0.5555555555555556,
              "#d8576b"
             ],
             [
              0.6666666666666666,
              "#ed7953"
             ],
             [
              0.7777777777777778,
              "#fb9f3a"
             ],
             [
              0.8888888888888888,
              "#fdca26"
             ],
             [
              1,
              "#f0f921"
             ]
            ],
            "type": "histogram2d"
           }
          ],
          "histogram2dcontour": [
           {
            "colorbar": {
             "outlinewidth": 0,
             "ticks": ""
            },
            "colorscale": [
             [
              0,
              "#0d0887"
             ],
             [
              0.1111111111111111,
              "#46039f"
             ],
             [
              0.2222222222222222,
              "#7201a8"
             ],
             [
              0.3333333333333333,
              "#9c179e"
             ],
             [
              0.4444444444444444,
              "#bd3786"
             ],
             [
              0.5555555555555556,
              "#d8576b"
             ],
             [
              0.6666666666666666,
              "#ed7953"
             ],
             [
              0.7777777777777778,
              "#fb9f3a"
             ],
             [
              0.8888888888888888,
              "#fdca26"
             ],
             [
              1,
              "#f0f921"
             ]
            ],
            "type": "histogram2dcontour"
           }
          ],
          "mesh3d": [
           {
            "colorbar": {
             "outlinewidth": 0,
             "ticks": ""
            },
            "type": "mesh3d"
           }
          ],
          "parcoords": [
           {
            "line": {
             "colorbar": {
              "outlinewidth": 0,
              "ticks": ""
             }
            },
            "type": "parcoords"
           }
          ],
          "pie": [
           {
            "automargin": true,
            "type": "pie"
           }
          ],
          "scatter": [
           {
            "marker": {
             "colorbar": {
              "outlinewidth": 0,
              "ticks": ""
             }
            },
            "type": "scatter"
           }
          ],
          "scatter3d": [
           {
            "line": {
             "colorbar": {
              "outlinewidth": 0,
              "ticks": ""
             }
            },
            "marker": {
             "colorbar": {
              "outlinewidth": 0,
              "ticks": ""
             }
            },
            "type": "scatter3d"
           }
          ],
          "scattercarpet": [
           {
            "marker": {
             "colorbar": {
              "outlinewidth": 0,
              "ticks": ""
             }
            },
            "type": "scattercarpet"
           }
          ],
          "scattergeo": [
           {
            "marker": {
             "colorbar": {
              "outlinewidth": 0,
              "ticks": ""
             }
            },
            "type": "scattergeo"
           }
          ],
          "scattergl": [
           {
            "marker": {
             "colorbar": {
              "outlinewidth": 0,
              "ticks": ""
             }
            },
            "type": "scattergl"
           }
          ],
          "scattermapbox": [
           {
            "marker": {
             "colorbar": {
              "outlinewidth": 0,
              "ticks": ""
             }
            },
            "type": "scattermapbox"
           }
          ],
          "scatterpolar": [
           {
            "marker": {
             "colorbar": {
              "outlinewidth": 0,
              "ticks": ""
             }
            },
            "type": "scatterpolar"
           }
          ],
          "scatterpolargl": [
           {
            "marker": {
             "colorbar": {
              "outlinewidth": 0,
              "ticks": ""
             }
            },
            "type": "scatterpolargl"
           }
          ],
          "scatterternary": [
           {
            "marker": {
             "colorbar": {
              "outlinewidth": 0,
              "ticks": ""
             }
            },
            "type": "scatterternary"
           }
          ],
          "surface": [
           {
            "colorbar": {
             "outlinewidth": 0,
             "ticks": ""
            },
            "colorscale": [
             [
              0,
              "#0d0887"
             ],
             [
              0.1111111111111111,
              "#46039f"
             ],
             [
              0.2222222222222222,
              "#7201a8"
             ],
             [
              0.3333333333333333,
              "#9c179e"
             ],
             [
              0.4444444444444444,
              "#bd3786"
             ],
             [
              0.5555555555555556,
              "#d8576b"
             ],
             [
              0.6666666666666666,
              "#ed7953"
             ],
             [
              0.7777777777777778,
              "#fb9f3a"
             ],
             [
              0.8888888888888888,
              "#fdca26"
             ],
             [
              1,
              "#f0f921"
             ]
            ],
            "type": "surface"
           }
          ],
          "table": [
           {
            "cells": {
             "fill": {
              "color": "#EBF0F8"
             },
             "line": {
              "color": "white"
             }
            },
            "header": {
             "fill": {
              "color": "#C8D4E3"
             },
             "line": {
              "color": "white"
             }
            },
            "type": "table"
           }
          ]
         },
         "layout": {
          "annotationdefaults": {
           "arrowcolor": "#2a3f5f",
           "arrowhead": 0,
           "arrowwidth": 1
          },
          "coloraxis": {
           "colorbar": {
            "outlinewidth": 0,
            "ticks": ""
           }
          },
          "colorscale": {
           "diverging": [
            [
             0,
             "#8e0152"
            ],
            [
             0.1,
             "#c51b7d"
            ],
            [
             0.2,
             "#de77ae"
            ],
            [
             0.3,
             "#f1b6da"
            ],
            [
             0.4,
             "#fde0ef"
            ],
            [
             0.5,
             "#f7f7f7"
            ],
            [
             0.6,
             "#e6f5d0"
            ],
            [
             0.7,
             "#b8e186"
            ],
            [
             0.8,
             "#7fbc41"
            ],
            [
             0.9,
             "#4d9221"
            ],
            [
             1,
             "#276419"
            ]
           ],
           "sequential": [
            [
             0,
             "#0d0887"
            ],
            [
             0.1111111111111111,
             "#46039f"
            ],
            [
             0.2222222222222222,
             "#7201a8"
            ],
            [
             0.3333333333333333,
             "#9c179e"
            ],
            [
             0.4444444444444444,
             "#bd3786"
            ],
            [
             0.5555555555555556,
             "#d8576b"
            ],
            [
             0.6666666666666666,
             "#ed7953"
            ],
            [
             0.7777777777777778,
             "#fb9f3a"
            ],
            [
             0.8888888888888888,
             "#fdca26"
            ],
            [
             1,
             "#f0f921"
            ]
           ],
           "sequentialminus": [
            [
             0,
             "#0d0887"
            ],
            [
             0.1111111111111111,
             "#46039f"
            ],
            [
             0.2222222222222222,
             "#7201a8"
            ],
            [
             0.3333333333333333,
             "#9c179e"
            ],
            [
             0.4444444444444444,
             "#bd3786"
            ],
            [
             0.5555555555555556,
             "#d8576b"
            ],
            [
             0.6666666666666666,
             "#ed7953"
            ],
            [
             0.7777777777777778,
             "#fb9f3a"
            ],
            [
             0.8888888888888888,
             "#fdca26"
            ],
            [
             1,
             "#f0f921"
            ]
           ]
          },
          "colorway": [
           "#636efa",
           "#EF553B",
           "#00cc96",
           "#ab63fa",
           "#FFA15A",
           "#19d3f3",
           "#FF6692",
           "#B6E880",
           "#FF97FF",
           "#FECB52"
          ],
          "font": {
           "color": "#2a3f5f"
          },
          "geo": {
           "bgcolor": "white",
           "lakecolor": "white",
           "landcolor": "#E5ECF6",
           "showlakes": true,
           "showland": true,
           "subunitcolor": "white"
          },
          "hoverlabel": {
           "align": "left"
          },
          "hovermode": "closest",
          "mapbox": {
           "style": "light"
          },
          "paper_bgcolor": "white",
          "plot_bgcolor": "#E5ECF6",
          "polar": {
           "angularaxis": {
            "gridcolor": "white",
            "linecolor": "white",
            "ticks": ""
           },
           "bgcolor": "#E5ECF6",
           "radialaxis": {
            "gridcolor": "white",
            "linecolor": "white",
            "ticks": ""
           }
          },
          "scene": {
           "xaxis": {
            "backgroundcolor": "#E5ECF6",
            "gridcolor": "white",
            "gridwidth": 2,
            "linecolor": "white",
            "showbackground": true,
            "ticks": "",
            "zerolinecolor": "white"
           },
           "yaxis": {
            "backgroundcolor": "#E5ECF6",
            "gridcolor": "white",
            "gridwidth": 2,
            "linecolor": "white",
            "showbackground": true,
            "ticks": "",
            "zerolinecolor": "white"
           },
           "zaxis": {
            "backgroundcolor": "#E5ECF6",
            "gridcolor": "white",
            "gridwidth": 2,
            "linecolor": "white",
            "showbackground": true,
            "ticks": "",
            "zerolinecolor": "white"
           }
          },
          "shapedefaults": {
           "line": {
            "color": "#2a3f5f"
           }
          },
          "ternary": {
           "aaxis": {
            "gridcolor": "white",
            "linecolor": "white",
            "ticks": ""
           },
           "baxis": {
            "gridcolor": "white",
            "linecolor": "white",
            "ticks": ""
           },
           "bgcolor": "#E5ECF6",
           "caxis": {
            "gridcolor": "white",
            "linecolor": "white",
            "ticks": ""
           }
          },
          "title": {
           "x": 0.05
          },
          "xaxis": {
           "automargin": true,
           "gridcolor": "white",
           "linecolor": "white",
           "ticks": "",
           "title": {
            "standoff": 15
           },
           "zerolinecolor": "white",
           "zerolinewidth": 2
          },
          "yaxis": {
           "automargin": true,
           "gridcolor": "white",
           "linecolor": "white",
           "ticks": "",
           "title": {
            "standoff": 15
           },
           "zerolinecolor": "white",
           "zerolinewidth": 2
          }
         }
        },
        "title": {
         "font": {
          "color": "#4D5663"
         }
        },
        "xaxis": {
         "gridcolor": "#E1E5ED",
         "showgrid": true,
         "tickfont": {
          "color": "#4D5663"
         },
         "title": {
          "font": {
           "color": "#4D5663"
          },
          "text": ""
         },
         "zerolinecolor": "#E1E5ED"
        },
        "yaxis": {
         "gridcolor": "#E1E5ED",
         "showgrid": true,
         "tickfont": {
          "color": "#4D5663"
         },
         "title": {
          "font": {
           "color": "#4D5663"
          },
          "text": ""
         },
         "zerolinecolor": "#E1E5ED"
        }
       }
      },
      "text/html": [
       "<div>\n",
       "        \n",
       "        \n",
       "            <div id=\"fba2155f-564a-4a02-a7c3-e5db2395e3c1\" class=\"plotly-graph-div\" style=\"height:525px; width:100%;\"></div>\n",
       "            <script type=\"text/javascript\">\n",
       "                require([\"plotly\"], function(Plotly) {\n",
       "                    window.PLOTLYENV=window.PLOTLYENV || {};\n",
       "                    window.PLOTLYENV.BASE_URL='https://plot.ly';\n",
       "                    \n",
       "                if (document.getElementById(\"fba2155f-564a-4a02-a7c3-e5db2395e3c1\")) {\n",
       "                    Plotly.newPlot(\n",
       "                        'fba2155f-564a-4a02-a7c3-e5db2395e3c1',\n",
       "                        [{\"colorscale\": [[0.0, \"rgb(165,0,38)\"], [0.1, \"rgb(215,48,39)\"], [0.2, \"rgb(244,109,67)\"], [0.3, \"rgb(253,174,97)\"], [0.4, \"rgb(254,224,144)\"], [0.5, \"rgb(255,255,191)\"], [0.6, \"rgb(224,243,248)\"], [0.7, \"rgb(171,217,233)\"], [0.8, \"rgb(116,173,209)\"], [0.9, \"rgb(69,117,180)\"], [1.0, \"rgb(49,54,149)\"]], \"type\": \"surface\", \"x\": [0, 1, 2, 3, 4], \"y\": [\"x\", \"y\", \"z\"], \"z\": [[1, 2, 3, 4, 5], [10, 20, 30, 20, 10], [5, 4, 3, 2, 1]]}],\n",
       "                        {\"legend\": {\"bgcolor\": \"#F5F6F9\", \"font\": {\"color\": \"#4D5663\"}}, \"paper_bgcolor\": \"#F5F6F9\", \"plot_bgcolor\": \"#F5F6F9\", \"template\": {\"data\": {\"bar\": [{\"error_x\": {\"color\": \"#2a3f5f\"}, \"error_y\": {\"color\": \"#2a3f5f\"}, \"marker\": {\"line\": {\"color\": \"#E5ECF6\", \"width\": 0.5}}, \"type\": \"bar\"}], \"barpolar\": [{\"marker\": {\"line\": {\"color\": \"#E5ECF6\", \"width\": 0.5}}, \"type\": \"barpolar\"}], \"carpet\": [{\"aaxis\": {\"endlinecolor\": \"#2a3f5f\", \"gridcolor\": \"white\", \"linecolor\": \"white\", \"minorgridcolor\": \"white\", \"startlinecolor\": \"#2a3f5f\"}, \"baxis\": {\"endlinecolor\": \"#2a3f5f\", \"gridcolor\": \"white\", \"linecolor\": \"white\", \"minorgridcolor\": \"white\", \"startlinecolor\": \"#2a3f5f\"}, \"type\": \"carpet\"}], \"choropleth\": [{\"colorbar\": {\"outlinewidth\": 0, \"ticks\": \"\"}, \"type\": \"choropleth\"}], \"contour\": [{\"colorbar\": {\"outlinewidth\": 0, \"ticks\": \"\"}, \"colorscale\": [[0.0, \"#0d0887\"], [0.1111111111111111, \"#46039f\"], [0.2222222222222222, \"#7201a8\"], [0.3333333333333333, \"#9c179e\"], [0.4444444444444444, \"#bd3786\"], [0.5555555555555556, \"#d8576b\"], [0.6666666666666666, \"#ed7953\"], [0.7777777777777778, \"#fb9f3a\"], [0.8888888888888888, \"#fdca26\"], [1.0, \"#f0f921\"]], \"type\": \"contour\"}], \"contourcarpet\": [{\"colorbar\": {\"outlinewidth\": 0, \"ticks\": \"\"}, \"type\": \"contourcarpet\"}], \"heatmap\": [{\"colorbar\": {\"outlinewidth\": 0, \"ticks\": \"\"}, \"colorscale\": [[0.0, \"#0d0887\"], [0.1111111111111111, \"#46039f\"], [0.2222222222222222, \"#7201a8\"], [0.3333333333333333, \"#9c179e\"], [0.4444444444444444, \"#bd3786\"], [0.5555555555555556, \"#d8576b\"], [0.6666666666666666, \"#ed7953\"], [0.7777777777777778, \"#fb9f3a\"], [0.8888888888888888, \"#fdca26\"], [1.0, \"#f0f921\"]], \"type\": \"heatmap\"}], \"heatmapgl\": [{\"colorbar\": {\"outlinewidth\": 0, \"ticks\": \"\"}, \"colorscale\": [[0.0, \"#0d0887\"], [0.1111111111111111, \"#46039f\"], [0.2222222222222222, \"#7201a8\"], [0.3333333333333333, \"#9c179e\"], [0.4444444444444444, \"#bd3786\"], [0.5555555555555556, \"#d8576b\"], [0.6666666666666666, \"#ed7953\"], [0.7777777777777778, \"#fb9f3a\"], [0.8888888888888888, \"#fdca26\"], [1.0, \"#f0f921\"]], \"type\": \"heatmapgl\"}], \"histogram\": [{\"marker\": {\"colorbar\": {\"outlinewidth\": 0, \"ticks\": \"\"}}, \"type\": \"histogram\"}], \"histogram2d\": [{\"colorbar\": {\"outlinewidth\": 0, \"ticks\": \"\"}, \"colorscale\": [[0.0, \"#0d0887\"], [0.1111111111111111, \"#46039f\"], [0.2222222222222222, \"#7201a8\"], [0.3333333333333333, \"#9c179e\"], [0.4444444444444444, \"#bd3786\"], [0.5555555555555556, \"#d8576b\"], [0.6666666666666666, \"#ed7953\"], [0.7777777777777778, \"#fb9f3a\"], [0.8888888888888888, \"#fdca26\"], [1.0, \"#f0f921\"]], \"type\": \"histogram2d\"}], \"histogram2dcontour\": [{\"colorbar\": {\"outlinewidth\": 0, \"ticks\": \"\"}, \"colorscale\": [[0.0, \"#0d0887\"], [0.1111111111111111, \"#46039f\"], [0.2222222222222222, \"#7201a8\"], [0.3333333333333333, \"#9c179e\"], [0.4444444444444444, \"#bd3786\"], [0.5555555555555556, \"#d8576b\"], [0.6666666666666666, \"#ed7953\"], [0.7777777777777778, \"#fb9f3a\"], [0.8888888888888888, \"#fdca26\"], [1.0, \"#f0f921\"]], \"type\": \"histogram2dcontour\"}], \"mesh3d\": [{\"colorbar\": {\"outlinewidth\": 0, \"ticks\": \"\"}, \"type\": \"mesh3d\"}], \"parcoords\": [{\"line\": {\"colorbar\": {\"outlinewidth\": 0, \"ticks\": \"\"}}, \"type\": \"parcoords\"}], \"pie\": [{\"automargin\": true, \"type\": \"pie\"}], \"scatter\": [{\"marker\": {\"colorbar\": {\"outlinewidth\": 0, \"ticks\": \"\"}}, \"type\": \"scatter\"}], \"scatter3d\": [{\"line\": {\"colorbar\": {\"outlinewidth\": 0, \"ticks\": \"\"}}, \"marker\": {\"colorbar\": {\"outlinewidth\": 0, \"ticks\": \"\"}}, \"type\": \"scatter3d\"}], \"scattercarpet\": [{\"marker\": {\"colorbar\": {\"outlinewidth\": 0, \"ticks\": \"\"}}, \"type\": \"scattercarpet\"}], \"scattergeo\": [{\"marker\": {\"colorbar\": {\"outlinewidth\": 0, \"ticks\": \"\"}}, \"type\": \"scattergeo\"}], \"scattergl\": [{\"marker\": {\"colorbar\": {\"outlinewidth\": 0, \"ticks\": \"\"}}, \"type\": \"scattergl\"}], \"scattermapbox\": [{\"marker\": {\"colorbar\": {\"outlinewidth\": 0, \"ticks\": \"\"}}, \"type\": \"scattermapbox\"}], \"scatterpolar\": [{\"marker\": {\"colorbar\": {\"outlinewidth\": 0, \"ticks\": \"\"}}, \"type\": \"scatterpolar\"}], \"scatterpolargl\": [{\"marker\": {\"colorbar\": {\"outlinewidth\": 0, \"ticks\": \"\"}}, \"type\": \"scatterpolargl\"}], \"scatterternary\": [{\"marker\": {\"colorbar\": {\"outlinewidth\": 0, \"ticks\": \"\"}}, \"type\": \"scatterternary\"}], \"surface\": [{\"colorbar\": {\"outlinewidth\": 0, \"ticks\": \"\"}, \"colorscale\": [[0.0, \"#0d0887\"], [0.1111111111111111, \"#46039f\"], [0.2222222222222222, \"#7201a8\"], [0.3333333333333333, \"#9c179e\"], [0.4444444444444444, \"#bd3786\"], [0.5555555555555556, \"#d8576b\"], [0.6666666666666666, \"#ed7953\"], [0.7777777777777778, \"#fb9f3a\"], [0.8888888888888888, \"#fdca26\"], [1.0, \"#f0f921\"]], \"type\": \"surface\"}], \"table\": [{\"cells\": {\"fill\": {\"color\": \"#EBF0F8\"}, \"line\": {\"color\": \"white\"}}, \"header\": {\"fill\": {\"color\": \"#C8D4E3\"}, \"line\": {\"color\": \"white\"}}, \"type\": \"table\"}]}, \"layout\": {\"annotationdefaults\": {\"arrowcolor\": \"#2a3f5f\", \"arrowhead\": 0, \"arrowwidth\": 1}, \"coloraxis\": {\"colorbar\": {\"outlinewidth\": 0, \"ticks\": \"\"}}, \"colorscale\": {\"diverging\": [[0, \"#8e0152\"], [0.1, \"#c51b7d\"], [0.2, \"#de77ae\"], [0.3, \"#f1b6da\"], [0.4, \"#fde0ef\"], [0.5, \"#f7f7f7\"], [0.6, \"#e6f5d0\"], [0.7, \"#b8e186\"], [0.8, \"#7fbc41\"], [0.9, \"#4d9221\"], [1, \"#276419\"]], \"sequential\": [[0.0, \"#0d0887\"], [0.1111111111111111, \"#46039f\"], [0.2222222222222222, \"#7201a8\"], [0.3333333333333333, \"#9c179e\"], [0.4444444444444444, \"#bd3786\"], [0.5555555555555556, \"#d8576b\"], [0.6666666666666666, \"#ed7953\"], [0.7777777777777778, \"#fb9f3a\"], [0.8888888888888888, \"#fdca26\"], [1.0, \"#f0f921\"]], \"sequentialminus\": [[0.0, \"#0d0887\"], [0.1111111111111111, \"#46039f\"], [0.2222222222222222, \"#7201a8\"], [0.3333333333333333, \"#9c179e\"], [0.4444444444444444, \"#bd3786\"], [0.5555555555555556, \"#d8576b\"], [0.6666666666666666, \"#ed7953\"], [0.7777777777777778, \"#fb9f3a\"], [0.8888888888888888, \"#fdca26\"], [1.0, \"#f0f921\"]]}, \"colorway\": [\"#636efa\", \"#EF553B\", \"#00cc96\", \"#ab63fa\", \"#FFA15A\", \"#19d3f3\", \"#FF6692\", \"#B6E880\", \"#FF97FF\", \"#FECB52\"], \"font\": {\"color\": \"#2a3f5f\"}, \"geo\": {\"bgcolor\": \"white\", \"lakecolor\": \"white\", \"landcolor\": \"#E5ECF6\", \"showlakes\": true, \"showland\": true, \"subunitcolor\": \"white\"}, \"hoverlabel\": {\"align\": \"left\"}, \"hovermode\": \"closest\", \"mapbox\": {\"style\": \"light\"}, \"paper_bgcolor\": \"white\", \"plot_bgcolor\": \"#E5ECF6\", \"polar\": {\"angularaxis\": {\"gridcolor\": \"white\", \"linecolor\": \"white\", \"ticks\": \"\"}, \"bgcolor\": \"#E5ECF6\", \"radialaxis\": {\"gridcolor\": \"white\", \"linecolor\": \"white\", \"ticks\": \"\"}}, \"scene\": {\"xaxis\": {\"backgroundcolor\": \"#E5ECF6\", \"gridcolor\": \"white\", \"gridwidth\": 2, \"linecolor\": \"white\", \"showbackground\": true, \"ticks\": \"\", \"zerolinecolor\": \"white\"}, \"yaxis\": {\"backgroundcolor\": \"#E5ECF6\", \"gridcolor\": \"white\", \"gridwidth\": 2, \"linecolor\": \"white\", \"showbackground\": true, \"ticks\": \"\", \"zerolinecolor\": \"white\"}, \"zaxis\": {\"backgroundcolor\": \"#E5ECF6\", \"gridcolor\": \"white\", \"gridwidth\": 2, \"linecolor\": \"white\", \"showbackground\": true, \"ticks\": \"\", \"zerolinecolor\": \"white\"}}, \"shapedefaults\": {\"line\": {\"color\": \"#2a3f5f\"}}, \"ternary\": {\"aaxis\": {\"gridcolor\": \"white\", \"linecolor\": \"white\", \"ticks\": \"\"}, \"baxis\": {\"gridcolor\": \"white\", \"linecolor\": \"white\", \"ticks\": \"\"}, \"bgcolor\": \"#E5ECF6\", \"caxis\": {\"gridcolor\": \"white\", \"linecolor\": \"white\", \"ticks\": \"\"}}, \"title\": {\"x\": 0.05}, \"xaxis\": {\"automargin\": true, \"gridcolor\": \"white\", \"linecolor\": \"white\", \"ticks\": \"\", \"title\": {\"standoff\": 15}, \"zerolinecolor\": \"white\", \"zerolinewidth\": 2}, \"yaxis\": {\"automargin\": true, \"gridcolor\": \"white\", \"linecolor\": \"white\", \"ticks\": \"\", \"title\": {\"standoff\": 15}, \"zerolinecolor\": \"white\", \"zerolinewidth\": 2}}}, \"title\": {\"font\": {\"color\": \"#4D5663\"}}, \"xaxis\": {\"gridcolor\": \"#E1E5ED\", \"showgrid\": true, \"tickfont\": {\"color\": \"#4D5663\"}, \"title\": {\"font\": {\"color\": \"#4D5663\"}, \"text\": \"\"}, \"zerolinecolor\": \"#E1E5ED\"}, \"yaxis\": {\"gridcolor\": \"#E1E5ED\", \"showgrid\": true, \"tickfont\": {\"color\": \"#4D5663\"}, \"title\": {\"font\": {\"color\": \"#4D5663\"}, \"text\": \"\"}, \"zerolinecolor\": \"#E1E5ED\"}},\n",
       "                        {\"showLink\": true, \"linkText\": \"Export to plot.ly\", \"plotlyServerURL\": \"https://plot.ly\", \"responsive\": true}\n",
       "                    ).then(function(){\n",
       "                            \n",
       "var gd = document.getElementById('fba2155f-564a-4a02-a7c3-e5db2395e3c1');\n",
       "var x = new MutationObserver(function (mutations, observer) {{\n",
       "        var display = window.getComputedStyle(gd).display;\n",
       "        if (!display || display === 'none') {{\n",
       "            console.log([gd, 'removed!']);\n",
       "            Plotly.purge(gd);\n",
       "            observer.disconnect();\n",
       "        }}\n",
       "}});\n",
       "\n",
       "// Listen for the removal of the full notebook cells\n",
       "var notebookContainer = gd.closest('#notebook-container');\n",
       "if (notebookContainer) {{\n",
       "    x.observe(notebookContainer, {childList: true});\n",
       "}}\n",
       "\n",
       "// Listen for the clearing of the current output cell\n",
       "var outputEl = gd.closest('.output');\n",
       "if (outputEl) {{\n",
       "    x.observe(outputEl, {childList: true});\n",
       "}}\n",
       "\n",
       "                        })\n",
       "                };\n",
       "                });\n",
       "            </script>\n",
       "        </div>"
      ]
     },
     "metadata": {},
     "output_type": "display_data"
    }
   ],
   "source": [
    "df3 = pd.DataFrame({'x':[1,2,3,4,5],'y':[10,20,30,20,10],'z':[5,4,3,2,1]})\n",
    "df3.iplot(kind='surface',colorscale='rdylbu')"
   ]
  },
  {
   "cell_type": "markdown",
   "metadata": {},
   "source": [
    "## Spread"
   ]
  },
  {
   "cell_type": "code",
   "execution_count": 15,
   "metadata": {
    "ExecuteTime": {
     "end_time": "2020-05-02T00:39:52.032761Z",
     "start_time": "2020-05-02T00:39:51.596370Z"
    }
   },
   "outputs": [
    {
     "data": {
      "application/vnd.plotly.v1+json": {
       "config": {
        "linkText": "Export to plot.ly",
        "plotlyServerURL": "https://plot.ly",
        "showLink": true
       },
       "data": [
        {
         "line": {
          "color": "rgba(255, 153, 51, 1.0)",
          "dash": "solid",
          "shape": "linear",
          "width": 1.3
         },
         "mode": "lines",
         "name": "A",
         "text": "",
         "type": "scatter",
         "x": [
          0,
          1,
          2,
          3,
          4,
          5,
          6,
          7,
          8,
          9,
          10,
          11,
          12,
          13,
          14,
          15,
          16,
          17,
          18,
          19,
          20,
          21,
          22,
          23,
          24,
          25,
          26,
          27,
          28,
          29,
          30,
          31,
          32,
          33,
          34,
          35,
          36,
          37,
          38,
          39,
          40,
          41,
          42,
          43,
          44,
          45,
          46,
          47,
          48,
          49,
          50,
          51,
          52,
          53,
          54,
          55,
          56,
          57,
          58,
          59,
          60,
          61,
          62,
          63,
          64,
          65,
          66,
          67,
          68,
          69,
          70,
          71,
          72,
          73,
          74,
          75,
          76,
          77,
          78,
          79,
          80,
          81,
          82,
          83,
          84,
          85,
          86,
          87,
          88,
          89,
          90,
          91,
          92,
          93,
          94,
          95,
          96,
          97,
          98,
          99
         ],
         "y": [
          -1.1657268930546911,
          -0.8257896723416672,
          -1.5692473690498552,
          0.04148074727700573,
          -0.37141526705551925,
          -1.0252331492540236,
          0.03808643193886817,
          0.6385237277266756,
          -0.03634094726247845,
          0.930639523996398,
          -0.15769993863339335,
          -1.3115818372959207,
          -0.6956200174046264,
          0.4485882406005429,
          0.31649879044255985,
          -1.4018139640972982,
          0.39920864559665786,
          -0.10592261410136272,
          -0.058408468861257425,
          0.11338790552456374,
          0.771451750196267,
          -0.20401324182769112,
          1.3834361156529802,
          -0.9274853486806579,
          0.14036807996280848,
          0.6504871783878534,
          -0.4012916567745803,
          -1.1123688423070532,
          -0.5206109202042801,
          -1.5299164801300464,
          -0.17446907711289097,
          -1.6506726554876658,
          0.9342351699264133,
          -1.6113583437291723,
          0.9098913890383441,
          1.9770747503734736,
          0.047668778464560066,
          1.7923434064461392,
          -1.3772213470058206,
          0.03494868487903562,
          0.481504547200912,
          -0.26260218876180397,
          0.8406656571888367,
          0.4773931682096321,
          -0.9327329880484112,
          -0.5315533595411261,
          -1.3582888550555947,
          -0.35490398446858434,
          -1.1157896762940882,
          0.41272172170477245,
          1.0458864663929586,
          0.43451589045221944,
          -0.37577300950511977,
          0.33808657491023214,
          -0.07152345355591183,
          0.8032108462133098,
          0.18245491124717708,
          -1.0571104834254184,
          0.16438257249290036,
          -0.5780890823220005,
          -0.9380222318218958,
          0.44229935023690725,
          -0.9278374618952944,
          -0.034949624334541546,
          -1.0340872672557324,
          -0.13974001324651703,
          -0.2919368733015318,
          1.002702264475855,
          -1.1968979548754446,
          -1.3850973493257903,
          -0.42714008580848406,
          -1.7214297712861604,
          1.0140274495229493,
          -0.36021770144701604,
          -0.6794761363706949,
          -0.6845284565795763,
          0.99605538773384,
          -0.38619946663320476,
          0.7320702176568683,
          -0.7643548322570244,
          1.1807445406919128,
          0.8501345416418742,
          2.678462426358552,
          -0.15578485067074094,
          -0.7370355672026178,
          0.44753721006704444,
          -0.2301867988745454,
          0.12298020901905306,
          1.2125072035295636,
          -0.4934142231343045,
          -1.0972864412529257,
          -0.4296862077321958,
          -0.5941610509888187,
          0.9961970490955918,
          -0.7870054622770482,
          0.19608051727138479,
          0.5840004135465414,
          -0.5238514262542873,
          0.9153080729266359,
          -0.4605436669206109
         ]
        },
        {
         "line": {
          "color": "rgba(55, 128, 191, 1.0)",
          "dash": "solid",
          "shape": "linear",
          "width": 1.3
         },
         "mode": "lines",
         "name": "B",
         "text": "",
         "type": "scatter",
         "x": [
          0,
          1,
          2,
          3,
          4,
          5,
          6,
          7,
          8,
          9,
          10,
          11,
          12,
          13,
          14,
          15,
          16,
          17,
          18,
          19,
          20,
          21,
          22,
          23,
          24,
          25,
          26,
          27,
          28,
          29,
          30,
          31,
          32,
          33,
          34,
          35,
          36,
          37,
          38,
          39,
          40,
          41,
          42,
          43,
          44,
          45,
          46,
          47,
          48,
          49,
          50,
          51,
          52,
          53,
          54,
          55,
          56,
          57,
          58,
          59,
          60,
          61,
          62,
          63,
          64,
          65,
          66,
          67,
          68,
          69,
          70,
          71,
          72,
          73,
          74,
          75,
          76,
          77,
          78,
          79,
          80,
          81,
          82,
          83,
          84,
          85,
          86,
          87,
          88,
          89,
          90,
          91,
          92,
          93,
          94,
          95,
          96,
          97,
          98,
          99
         ],
         "y": [
          0.8841355807884956,
          -1.2018519903039573,
          -0.7813604437074404,
          -0.6919248283962665,
          -0.6090700517991942,
          -1.5847425272462459,
          0.8800941130873866,
          -1.117152954326337,
          0.30839191877406763,
          0.4992507443148893,
          0.811019128617171,
          -1.1194697152788227,
          0.26132616109683876,
          -0.04063312576310276,
          -0.040617208546109174,
          1.4521803080354538,
          0.7188186269954967,
          -1.1949315720134128,
          0.20886087549922405,
          0.8840313510069323,
          0.31312789635592975,
          0.7160149644554132,
          -0.4221003899412094,
          -2.2802874512727898,
          -1.246436604263054,
          0.6866102012400632,
          0.5677203393248417,
          -0.5963896855140837,
          0.79409494373185,
          1.2867304239152937,
          0.5538692349797086,
          0.900332290774584,
          1.1823357315962189,
          0.6177834000735457,
          0.6896077406770214,
          -0.27076731126208353,
          0.39706171337341184,
          -0.16615594156962268,
          -0.1703820000471231,
          0.6333428442434194,
          -0.8839784064479783,
          0.8710611118205372,
          0.018128528664612762,
          0.059077932094537,
          -2.7152166112873672,
          -0.0640831904263152,
          -0.9710375266761576,
          0.2552825123045555,
          0.327422499269327,
          -1.1647597142547192,
          0.7605994940595009,
          0.017750790409212316,
          0.1994961650671732,
          0.10943274780509042,
          0.21794904931044667,
          -0.40058981514845116,
          1.2267678416756223,
          -0.7059097947692653,
          0.42194973120502605,
          -1.3726147490117409,
          -0.3632837397565943,
          1.0591388513310673,
          0.7844724227029937,
          -0.7212655767076589,
          -0.26657468033646126,
          1.4689154351444949,
          -0.3055071427197533,
          -0.6825021367594182,
          1.9382793081063177,
          1.9878772760134318,
          0.3427107055806652,
          0.14069874522957815,
          0.9448495574182093,
          1.6379714237382257,
          0.43704396091988845,
          -1.2498194806763598,
          -0.19402341742139284,
          -0.7658491996505546,
          -0.3932725942609261,
          0.3712040975782359,
          -0.3784211046426365,
          -0.9732140681745898,
          0.3317598863575627,
          0.15036006159105378,
          0.6009175803960332,
          0.6340183275484096,
          0.9447966454362406,
          0.8009564616629822,
          0.5517526246690576,
          -0.24974977970951584,
          1.366375419299985,
          1.5056227833986284,
          -0.19461046242137378,
          -0.7931977016755076,
          -1.465297233176536,
          -0.6561276547721709,
          0.2694406537658064,
          -1.963384192387417,
          -0.03977409852472031,
          -0.25942371843808265
         ]
        },
        {
         "connectgaps": false,
         "fill": "tozeroy",
         "line": {
          "color": "green",
          "dash": "solid",
          "shape": "linear",
          "width": 0.5
         },
         "mode": "lines",
         "name": "Spread",
         "showlegend": false,
         "type": "scatter",
         "x": [
          0,
          1,
          2,
          3,
          4,
          5,
          6,
          7,
          8,
          9,
          10,
          11,
          12,
          13,
          14,
          15,
          16,
          17,
          18,
          19,
          20,
          21,
          22,
          23,
          24,
          25,
          26,
          27,
          28,
          29,
          30,
          31,
          32,
          33,
          34,
          35,
          36,
          37,
          38,
          39,
          40,
          41,
          42,
          43,
          44,
          45,
          46,
          47,
          48,
          49,
          50,
          51,
          52,
          53,
          54,
          55,
          56,
          57,
          58,
          59,
          60,
          61,
          62,
          63,
          64,
          65,
          66,
          67,
          68,
          69,
          70,
          71,
          72,
          73,
          74,
          75,
          76,
          77,
          78,
          79,
          80,
          81,
          82,
          83,
          84,
          85,
          86,
          87,
          88,
          89,
          90,
          91,
          92,
          93,
          94,
          95,
          96,
          97,
          98,
          99
         ],
         "xaxis": "x2",
         "y": [
          "",
          0.37606231796229006,
          "",
          0.7334055756732721,
          0.2376547847436749,
          0.5595093779922222,
          "",
          1.7556766820530125,
          "",
          0.43138877968150874,
          "",
          "",
          "",
          0.48922136636364566,
          0.357115998988669,
          "",
          "",
          1.08900895791205,
          "",
          "",
          0.45832385384033725,
          "",
          1.8055365055941897,
          1.3528021025921317,
          1.3868046842258623,
          "",
          "",
          "",
          "",
          "",
          "",
          "",
          "",
          "",
          0.22028364836132275,
          2.247842061635557,
          "",
          1.958499348015762,
          "",
          "",
          1.3654829536488904,
          "",
          0.8225371285242239,
          0.41831523611509513,
          1.782483623238956,
          "",
          "",
          "",
          "",
          1.5774814359594918,
          0.2852869723334577,
          0.41676510004300715,
          "",
          0.2286538271051417,
          "",
          1.2038006613617611,
          "",
          "",
          "",
          0.7945256666897403,
          "",
          "",
          "",
          0.6863159523731174,
          "",
          "",
          0.013570269418221537,
          1.6852044012352732,
          "",
          "",
          "",
          "",
          0.06917789210474001,
          "",
          "",
          0.5652910240967836,
          1.190078805155233,
          0.3796497330173499,
          1.1253428119177944,
          "",
          1.5591656453345493,
          1.823348609816464,
          2.3467025400009893,
          "",
          "",
          "",
          "",
          "",
          0.660754578860506,
          "",
          "",
          "",
          "",
          1.7893947507710994,
          0.6782917708994878,
          0.8522081720435557,
          0.314559759780735,
          1.4395327661331296,
          0.9550821714513562,
          ""
         ],
         "yaxis": "y2"
        },
        {
         "connectgaps": false,
         "fill": "tozeroy",
         "line": {
          "color": "red",
          "dash": "solid",
          "shape": "linear",
          "width": 0.5
         },
         "mode": "lines",
         "name": "Spread",
         "showlegend": false,
         "type": "scatter",
         "x": [
          0,
          1,
          2,
          3,
          4,
          5,
          6,
          7,
          8,
          9,
          10,
          11,
          12,
          13,
          14,
          15,
          16,
          17,
          18,
          19,
          20,
          21,
          22,
          23,
          24,
          25,
          26,
          27,
          28,
          29,
          30,
          31,
          32,
          33,
          34,
          35,
          36,
          37,
          38,
          39,
          40,
          41,
          42,
          43,
          44,
          45,
          46,
          47,
          48,
          49,
          50,
          51,
          52,
          53,
          54,
          55,
          56,
          57,
          58,
          59,
          60,
          61,
          62,
          63,
          64,
          65,
          66,
          67,
          68,
          69,
          70,
          71,
          72,
          73,
          74,
          75,
          76,
          77,
          78,
          79,
          80,
          81,
          82,
          83,
          84,
          85,
          86,
          87,
          88,
          89,
          90,
          91,
          92,
          93,
          94,
          95,
          96,
          97,
          98,
          99
         ],
         "xaxis": "x2",
         "y": [
          -2.049862473843187,
          "",
          -0.7878869253424148,
          "",
          "",
          "",
          -0.8420076811485184,
          "",
          -0.34473286603654607,
          "",
          -0.9687190672505643,
          -0.19211212201709804,
          -0.9569461785014652,
          "",
          "",
          -2.853994272132752,
          -0.31960998139883884,
          "",
          -0.2672693443604815,
          -0.7706434454823685,
          "",
          -0.9200282062831043,
          "",
          "",
          "",
          -0.03612302285220981,
          -0.9690119960994219,
          -0.5159791567929696,
          -1.3147058639361302,
          -2.8166469040453403,
          -0.7283383120925996,
          -2.5510049462622497,
          -0.24810056166980554,
          -2.229141743802718,
          "",
          "",
          -0.34939293490885176,
          "",
          -1.2068393469586975,
          -0.5983941593643838,
          "",
          -1.133663300582341,
          "",
          "",
          "",
          -0.46747016911481093,
          -0.3872513283794371,
          -0.6101864967731399,
          -1.4432121755634153,
          "",
          "",
          "",
          -0.575269174572293,
          "",
          -0.2894725028663585,
          "",
          -1.044312930428445,
          -0.35120068865615306,
          -0.25756715871212565,
          "",
          -0.5747384920653016,
          -0.6168395010941601,
          -1.712309884598288,
          "",
          -0.7675125869192712,
          -1.6086554483910118,
          "",
          "",
          -3.1351772629817622,
          -3.3729746253392223,
          -0.7698507913891492,
          -1.8621285165157384,
          "",
          -1.9981891251852417,
          -1.1165200972905833,
          "",
          "",
          "",
          "",
          -1.1355589298352604,
          "",
          "",
          "",
          -0.30614491226179474,
          -1.3379531475986508,
          -0.18648111748136514,
          -1.174983444310786,
          -0.6779762526439291,
          "",
          -0.24366444342478866,
          -2.463661860552911,
          -1.935308991130824,
          -0.39955058856744485,
          "",
          "",
          "",
          "",
          "",
          "",
          -0.20111994848252823
         ],
         "yaxis": "y2"
        }
       ],
       "layout": {
        "hovermode": "x",
        "legend": {
         "bgcolor": "#F5F6F9",
         "font": {
          "color": "#4D5663"
         }
        },
        "paper_bgcolor": "#F5F6F9",
        "plot_bgcolor": "#F5F6F9",
        "template": {
         "data": {
          "bar": [
           {
            "error_x": {
             "color": "#2a3f5f"
            },
            "error_y": {
             "color": "#2a3f5f"
            },
            "marker": {
             "line": {
              "color": "#E5ECF6",
              "width": 0.5
             }
            },
            "type": "bar"
           }
          ],
          "barpolar": [
           {
            "marker": {
             "line": {
              "color": "#E5ECF6",
              "width": 0.5
             }
            },
            "type": "barpolar"
           }
          ],
          "carpet": [
           {
            "aaxis": {
             "endlinecolor": "#2a3f5f",
             "gridcolor": "white",
             "linecolor": "white",
             "minorgridcolor": "white",
             "startlinecolor": "#2a3f5f"
            },
            "baxis": {
             "endlinecolor": "#2a3f5f",
             "gridcolor": "white",
             "linecolor": "white",
             "minorgridcolor": "white",
             "startlinecolor": "#2a3f5f"
            },
            "type": "carpet"
           }
          ],
          "choropleth": [
           {
            "colorbar": {
             "outlinewidth": 0,
             "ticks": ""
            },
            "type": "choropleth"
           }
          ],
          "contour": [
           {
            "colorbar": {
             "outlinewidth": 0,
             "ticks": ""
            },
            "colorscale": [
             [
              0,
              "#0d0887"
             ],
             [
              0.1111111111111111,
              "#46039f"
             ],
             [
              0.2222222222222222,
              "#7201a8"
             ],
             [
              0.3333333333333333,
              "#9c179e"
             ],
             [
              0.4444444444444444,
              "#bd3786"
             ],
             [
              0.5555555555555556,
              "#d8576b"
             ],
             [
              0.6666666666666666,
              "#ed7953"
             ],
             [
              0.7777777777777778,
              "#fb9f3a"
             ],
             [
              0.8888888888888888,
              "#fdca26"
             ],
             [
              1,
              "#f0f921"
             ]
            ],
            "type": "contour"
           }
          ],
          "contourcarpet": [
           {
            "colorbar": {
             "outlinewidth": 0,
             "ticks": ""
            },
            "type": "contourcarpet"
           }
          ],
          "heatmap": [
           {
            "colorbar": {
             "outlinewidth": 0,
             "ticks": ""
            },
            "colorscale": [
             [
              0,
              "#0d0887"
             ],
             [
              0.1111111111111111,
              "#46039f"
             ],
             [
              0.2222222222222222,
              "#7201a8"
             ],
             [
              0.3333333333333333,
              "#9c179e"
             ],
             [
              0.4444444444444444,
              "#bd3786"
             ],
             [
              0.5555555555555556,
              "#d8576b"
             ],
             [
              0.6666666666666666,
              "#ed7953"
             ],
             [
              0.7777777777777778,
              "#fb9f3a"
             ],
             [
              0.8888888888888888,
              "#fdca26"
             ],
             [
              1,
              "#f0f921"
             ]
            ],
            "type": "heatmap"
           }
          ],
          "heatmapgl": [
           {
            "colorbar": {
             "outlinewidth": 0,
             "ticks": ""
            },
            "colorscale": [
             [
              0,
              "#0d0887"
             ],
             [
              0.1111111111111111,
              "#46039f"
             ],
             [
              0.2222222222222222,
              "#7201a8"
             ],
             [
              0.3333333333333333,
              "#9c179e"
             ],
             [
              0.4444444444444444,
              "#bd3786"
             ],
             [
              0.5555555555555556,
              "#d8576b"
             ],
             [
              0.6666666666666666,
              "#ed7953"
             ],
             [
              0.7777777777777778,
              "#fb9f3a"
             ],
             [
              0.8888888888888888,
              "#fdca26"
             ],
             [
              1,
              "#f0f921"
             ]
            ],
            "type": "heatmapgl"
           }
          ],
          "histogram": [
           {
            "marker": {
             "colorbar": {
              "outlinewidth": 0,
              "ticks": ""
             }
            },
            "type": "histogram"
           }
          ],
          "histogram2d": [
           {
            "colorbar": {
             "outlinewidth": 0,
             "ticks": ""
            },
            "colorscale": [
             [
              0,
              "#0d0887"
             ],
             [
              0.1111111111111111,
              "#46039f"
             ],
             [
              0.2222222222222222,
              "#7201a8"
             ],
             [
              0.3333333333333333,
              "#9c179e"
             ],
             [
              0.4444444444444444,
              "#bd3786"
             ],
             [
              0.5555555555555556,
              "#d8576b"
             ],
             [
              0.6666666666666666,
              "#ed7953"
             ],
             [
              0.7777777777777778,
              "#fb9f3a"
             ],
             [
              0.8888888888888888,
              "#fdca26"
             ],
             [
              1,
              "#f0f921"
             ]
            ],
            "type": "histogram2d"
           }
          ],
          "histogram2dcontour": [
           {
            "colorbar": {
             "outlinewidth": 0,
             "ticks": ""
            },
            "colorscale": [
             [
              0,
              "#0d0887"
             ],
             [
              0.1111111111111111,
              "#46039f"
             ],
             [
              0.2222222222222222,
              "#7201a8"
             ],
             [
              0.3333333333333333,
              "#9c179e"
             ],
             [
              0.4444444444444444,
              "#bd3786"
             ],
             [
              0.5555555555555556,
              "#d8576b"
             ],
             [
              0.6666666666666666,
              "#ed7953"
             ],
             [
              0.7777777777777778,
              "#fb9f3a"
             ],
             [
              0.8888888888888888,
              "#fdca26"
             ],
             [
              1,
              "#f0f921"
             ]
            ],
            "type": "histogram2dcontour"
           }
          ],
          "mesh3d": [
           {
            "colorbar": {
             "outlinewidth": 0,
             "ticks": ""
            },
            "type": "mesh3d"
           }
          ],
          "parcoords": [
           {
            "line": {
             "colorbar": {
              "outlinewidth": 0,
              "ticks": ""
             }
            },
            "type": "parcoords"
           }
          ],
          "pie": [
           {
            "automargin": true,
            "type": "pie"
           }
          ],
          "scatter": [
           {
            "marker": {
             "colorbar": {
              "outlinewidth": 0,
              "ticks": ""
             }
            },
            "type": "scatter"
           }
          ],
          "scatter3d": [
           {
            "line": {
             "colorbar": {
              "outlinewidth": 0,
              "ticks": ""
             }
            },
            "marker": {
             "colorbar": {
              "outlinewidth": 0,
              "ticks": ""
             }
            },
            "type": "scatter3d"
           }
          ],
          "scattercarpet": [
           {
            "marker": {
             "colorbar": {
              "outlinewidth": 0,
              "ticks": ""
             }
            },
            "type": "scattercarpet"
           }
          ],
          "scattergeo": [
           {
            "marker": {
             "colorbar": {
              "outlinewidth": 0,
              "ticks": ""
             }
            },
            "type": "scattergeo"
           }
          ],
          "scattergl": [
           {
            "marker": {
             "colorbar": {
              "outlinewidth": 0,
              "ticks": ""
             }
            },
            "type": "scattergl"
           }
          ],
          "scattermapbox": [
           {
            "marker": {
             "colorbar": {
              "outlinewidth": 0,
              "ticks": ""
             }
            },
            "type": "scattermapbox"
           }
          ],
          "scatterpolar": [
           {
            "marker": {
             "colorbar": {
              "outlinewidth": 0,
              "ticks": ""
             }
            },
            "type": "scatterpolar"
           }
          ],
          "scatterpolargl": [
           {
            "marker": {
             "colorbar": {
              "outlinewidth": 0,
              "ticks": ""
             }
            },
            "type": "scatterpolargl"
           }
          ],
          "scatterternary": [
           {
            "marker": {
             "colorbar": {
              "outlinewidth": 0,
              "ticks": ""
             }
            },
            "type": "scatterternary"
           }
          ],
          "surface": [
           {
            "colorbar": {
             "outlinewidth": 0,
             "ticks": ""
            },
            "colorscale": [
             [
              0,
              "#0d0887"
             ],
             [
              0.1111111111111111,
              "#46039f"
             ],
             [
              0.2222222222222222,
              "#7201a8"
             ],
             [
              0.3333333333333333,
              "#9c179e"
             ],
             [
              0.4444444444444444,
              "#bd3786"
             ],
             [
              0.5555555555555556,
              "#d8576b"
             ],
             [
              0.6666666666666666,
              "#ed7953"
             ],
             [
              0.7777777777777778,
              "#fb9f3a"
             ],
             [
              0.8888888888888888,
              "#fdca26"
             ],
             [
              1,
              "#f0f921"
             ]
            ],
            "type": "surface"
           }
          ],
          "table": [
           {
            "cells": {
             "fill": {
              "color": "#EBF0F8"
             },
             "line": {
              "color": "white"
             }
            },
            "header": {
             "fill": {
              "color": "#C8D4E3"
             },
             "line": {
              "color": "white"
             }
            },
            "type": "table"
           }
          ]
         },
         "layout": {
          "annotationdefaults": {
           "arrowcolor": "#2a3f5f",
           "arrowhead": 0,
           "arrowwidth": 1
          },
          "coloraxis": {
           "colorbar": {
            "outlinewidth": 0,
            "ticks": ""
           }
          },
          "colorscale": {
           "diverging": [
            [
             0,
             "#8e0152"
            ],
            [
             0.1,
             "#c51b7d"
            ],
            [
             0.2,
             "#de77ae"
            ],
            [
             0.3,
             "#f1b6da"
            ],
            [
             0.4,
             "#fde0ef"
            ],
            [
             0.5,
             "#f7f7f7"
            ],
            [
             0.6,
             "#e6f5d0"
            ],
            [
             0.7,
             "#b8e186"
            ],
            [
             0.8,
             "#7fbc41"
            ],
            [
             0.9,
             "#4d9221"
            ],
            [
             1,
             "#276419"
            ]
           ],
           "sequential": [
            [
             0,
             "#0d0887"
            ],
            [
             0.1111111111111111,
             "#46039f"
            ],
            [
             0.2222222222222222,
             "#7201a8"
            ],
            [
             0.3333333333333333,
             "#9c179e"
            ],
            [
             0.4444444444444444,
             "#bd3786"
            ],
            [
             0.5555555555555556,
             "#d8576b"
            ],
            [
             0.6666666666666666,
             "#ed7953"
            ],
            [
             0.7777777777777778,
             "#fb9f3a"
            ],
            [
             0.8888888888888888,
             "#fdca26"
            ],
            [
             1,
             "#f0f921"
            ]
           ],
           "sequentialminus": [
            [
             0,
             "#0d0887"
            ],
            [
             0.1111111111111111,
             "#46039f"
            ],
            [
             0.2222222222222222,
             "#7201a8"
            ],
            [
             0.3333333333333333,
             "#9c179e"
            ],
            [
             0.4444444444444444,
             "#bd3786"
            ],
            [
             0.5555555555555556,
             "#d8576b"
            ],
            [
             0.6666666666666666,
             "#ed7953"
            ],
            [
             0.7777777777777778,
             "#fb9f3a"
            ],
            [
             0.8888888888888888,
             "#fdca26"
            ],
            [
             1,
             "#f0f921"
            ]
           ]
          },
          "colorway": [
           "#636efa",
           "#EF553B",
           "#00cc96",
           "#ab63fa",
           "#FFA15A",
           "#19d3f3",
           "#FF6692",
           "#B6E880",
           "#FF97FF",
           "#FECB52"
          ],
          "font": {
           "color": "#2a3f5f"
          },
          "geo": {
           "bgcolor": "white",
           "lakecolor": "white",
           "landcolor": "#E5ECF6",
           "showlakes": true,
           "showland": true,
           "subunitcolor": "white"
          },
          "hoverlabel": {
           "align": "left"
          },
          "hovermode": "closest",
          "mapbox": {
           "style": "light"
          },
          "paper_bgcolor": "white",
          "plot_bgcolor": "#E5ECF6",
          "polar": {
           "angularaxis": {
            "gridcolor": "white",
            "linecolor": "white",
            "ticks": ""
           },
           "bgcolor": "#E5ECF6",
           "radialaxis": {
            "gridcolor": "white",
            "linecolor": "white",
            "ticks": ""
           }
          },
          "scene": {
           "xaxis": {
            "backgroundcolor": "#E5ECF6",
            "gridcolor": "white",
            "gridwidth": 2,
            "linecolor": "white",
            "showbackground": true,
            "ticks": "",
            "zerolinecolor": "white"
           },
           "yaxis": {
            "backgroundcolor": "#E5ECF6",
            "gridcolor": "white",
            "gridwidth": 2,
            "linecolor": "white",
            "showbackground": true,
            "ticks": "",
            "zerolinecolor": "white"
           },
           "zaxis": {
            "backgroundcolor": "#E5ECF6",
            "gridcolor": "white",
            "gridwidth": 2,
            "linecolor": "white",
            "showbackground": true,
            "ticks": "",
            "zerolinecolor": "white"
           }
          },
          "shapedefaults": {
           "line": {
            "color": "#2a3f5f"
           }
          },
          "ternary": {
           "aaxis": {
            "gridcolor": "white",
            "linecolor": "white",
            "ticks": ""
           },
           "baxis": {
            "gridcolor": "white",
            "linecolor": "white",
            "ticks": ""
           },
           "bgcolor": "#E5ECF6",
           "caxis": {
            "gridcolor": "white",
            "linecolor": "white",
            "ticks": ""
           }
          },
          "title": {
           "x": 0.05
          },
          "xaxis": {
           "automargin": true,
           "gridcolor": "white",
           "linecolor": "white",
           "ticks": "",
           "title": {
            "standoff": 15
           },
           "zerolinecolor": "white",
           "zerolinewidth": 2
          },
          "yaxis": {
           "automargin": true,
           "gridcolor": "white",
           "linecolor": "white",
           "ticks": "",
           "title": {
            "standoff": 15
           },
           "zerolinecolor": "white",
           "zerolinewidth": 2
          }
         }
        },
        "title": {
         "font": {
          "color": "#4D5663"
         }
        },
        "xaxis": {
         "gridcolor": "#E1E5ED",
         "showgrid": true,
         "tickfont": {
          "color": "#4D5663"
         },
         "title": {
          "font": {
           "color": "#4D5663"
          },
          "text": ""
         },
         "zerolinecolor": "#E1E5ED"
        },
        "xaxis2": {
         "anchor": "y2",
         "gridcolor": "#E1E5ED",
         "showgrid": true,
         "showticklabels": false,
         "tickfont": {
          "color": "#4D5663"
         },
         "title": {
          "font": {
           "color": "#4D5663"
          },
          "text": ""
         },
         "zerolinecolor": "#E1E5ED"
        },
        "yaxis": {
         "domain": [
          0.3,
          1
         ],
         "gridcolor": "#E1E5ED",
         "showgrid": true,
         "tickfont": {
          "color": "#4D5663"
         },
         "title": {
          "font": {
           "color": "#4D5663"
          },
          "text": ""
         },
         "zerolinecolor": "#E1E5ED"
        },
        "yaxis2": {
         "domain": [
          0,
          0.25
         ],
         "gridcolor": "#E1E5ED",
         "showgrid": true,
         "tickfont": {
          "color": "#4D5663"
         },
         "title": {
          "font": {
           "color": "#4D5663"
          },
          "text": "Spread"
         },
         "zerolinecolor": "#E1E5ED"
        }
       }
      },
      "text/html": [
       "<div>\n",
       "        \n",
       "        \n",
       "            <div id=\"cebd368c-a5b8-4fd7-92c1-164e21952946\" class=\"plotly-graph-div\" style=\"height:525px; width:100%;\"></div>\n",
       "            <script type=\"text/javascript\">\n",
       "                require([\"plotly\"], function(Plotly) {\n",
       "                    window.PLOTLYENV=window.PLOTLYENV || {};\n",
       "                    window.PLOTLYENV.BASE_URL='https://plot.ly';\n",
       "                    \n",
       "                if (document.getElementById(\"cebd368c-a5b8-4fd7-92c1-164e21952946\")) {\n",
       "                    Plotly.newPlot(\n",
       "                        'cebd368c-a5b8-4fd7-92c1-164e21952946',\n",
       "                        [{\"line\": {\"color\": \"rgba(255, 153, 51, 1.0)\", \"dash\": \"solid\", \"shape\": \"linear\", \"width\": 1.3}, \"mode\": \"lines\", \"name\": \"A\", \"text\": \"\", \"type\": \"scatter\", \"x\": [0, 1, 2, 3, 4, 5, 6, 7, 8, 9, 10, 11, 12, 13, 14, 15, 16, 17, 18, 19, 20, 21, 22, 23, 24, 25, 26, 27, 28, 29, 30, 31, 32, 33, 34, 35, 36, 37, 38, 39, 40, 41, 42, 43, 44, 45, 46, 47, 48, 49, 50, 51, 52, 53, 54, 55, 56, 57, 58, 59, 60, 61, 62, 63, 64, 65, 66, 67, 68, 69, 70, 71, 72, 73, 74, 75, 76, 77, 78, 79, 80, 81, 82, 83, 84, 85, 86, 87, 88, 89, 90, 91, 92, 93, 94, 95, 96, 97, 98, 99], \"y\": [-1.1657268930546911, -0.8257896723416672, -1.5692473690498552, 0.04148074727700573, -0.37141526705551925, -1.0252331492540236, 0.03808643193886817, 0.6385237277266756, -0.03634094726247845, 0.930639523996398, -0.15769993863339335, -1.3115818372959207, -0.6956200174046264, 0.4485882406005429, 0.31649879044255985, -1.4018139640972982, 0.39920864559665786, -0.10592261410136272, -0.058408468861257425, 0.11338790552456374, 0.771451750196267, -0.20401324182769112, 1.3834361156529802, -0.9274853486806579, 0.14036807996280848, 0.6504871783878534, -0.4012916567745803, -1.1123688423070532, -0.5206109202042801, -1.5299164801300464, -0.17446907711289097, -1.6506726554876658, 0.9342351699264133, -1.6113583437291723, 0.9098913890383441, 1.9770747503734736, 0.047668778464560066, 1.7923434064461392, -1.3772213470058206, 0.03494868487903562, 0.481504547200912, -0.26260218876180397, 0.8406656571888367, 0.4773931682096321, -0.9327329880484112, -0.5315533595411261, -1.3582888550555947, -0.35490398446858434, -1.1157896762940882, 0.41272172170477245, 1.0458864663929586, 0.43451589045221944, -0.37577300950511977, 0.33808657491023214, -0.07152345355591183, 0.8032108462133098, 0.18245491124717708, -1.0571104834254184, 0.16438257249290036, -0.5780890823220005, -0.9380222318218958, 0.44229935023690725, -0.9278374618952944, -0.034949624334541546, -1.0340872672557324, -0.13974001324651703, -0.2919368733015318, 1.002702264475855, -1.1968979548754446, -1.3850973493257903, -0.42714008580848406, -1.7214297712861604, 1.0140274495229493, -0.36021770144701604, -0.6794761363706949, -0.6845284565795763, 0.99605538773384, -0.38619946663320476, 0.7320702176568683, -0.7643548322570244, 1.1807445406919128, 0.8501345416418742, 2.678462426358552, -0.15578485067074094, -0.7370355672026178, 0.44753721006704444, -0.2301867988745454, 0.12298020901905306, 1.2125072035295636, -0.4934142231343045, -1.0972864412529257, -0.4296862077321958, -0.5941610509888187, 0.9961970490955918, -0.7870054622770482, 0.19608051727138479, 0.5840004135465414, -0.5238514262542873, 0.9153080729266359, -0.4605436669206109]}, {\"line\": {\"color\": \"rgba(55, 128, 191, 1.0)\", \"dash\": \"solid\", \"shape\": \"linear\", \"width\": 1.3}, \"mode\": \"lines\", \"name\": \"B\", \"text\": \"\", \"type\": \"scatter\", \"x\": [0, 1, 2, 3, 4, 5, 6, 7, 8, 9, 10, 11, 12, 13, 14, 15, 16, 17, 18, 19, 20, 21, 22, 23, 24, 25, 26, 27, 28, 29, 30, 31, 32, 33, 34, 35, 36, 37, 38, 39, 40, 41, 42, 43, 44, 45, 46, 47, 48, 49, 50, 51, 52, 53, 54, 55, 56, 57, 58, 59, 60, 61, 62, 63, 64, 65, 66, 67, 68, 69, 70, 71, 72, 73, 74, 75, 76, 77, 78, 79, 80, 81, 82, 83, 84, 85, 86, 87, 88, 89, 90, 91, 92, 93, 94, 95, 96, 97, 98, 99], \"y\": [0.8841355807884956, -1.2018519903039573, -0.7813604437074404, -0.6919248283962665, -0.6090700517991942, -1.5847425272462459, 0.8800941130873866, -1.117152954326337, 0.30839191877406763, 0.4992507443148893, 0.811019128617171, -1.1194697152788227, 0.26132616109683876, -0.04063312576310276, -0.040617208546109174, 1.4521803080354538, 0.7188186269954967, -1.1949315720134128, 0.20886087549922405, 0.8840313510069323, 0.31312789635592975, 0.7160149644554132, -0.4221003899412094, -2.2802874512727898, -1.246436604263054, 0.6866102012400632, 0.5677203393248417, -0.5963896855140837, 0.79409494373185, 1.2867304239152937, 0.5538692349797086, 0.900332290774584, 1.1823357315962189, 0.6177834000735457, 0.6896077406770214, -0.27076731126208353, 0.39706171337341184, -0.16615594156962268, -0.1703820000471231, 0.6333428442434194, -0.8839784064479783, 0.8710611118205372, 0.018128528664612762, 0.059077932094537, -2.7152166112873672, -0.0640831904263152, -0.9710375266761576, 0.2552825123045555, 0.327422499269327, -1.1647597142547192, 0.7605994940595009, 0.017750790409212316, 0.1994961650671732, 0.10943274780509042, 0.21794904931044667, -0.40058981514845116, 1.2267678416756223, -0.7059097947692653, 0.42194973120502605, -1.3726147490117409, -0.3632837397565943, 1.0591388513310673, 0.7844724227029937, -0.7212655767076589, -0.26657468033646126, 1.4689154351444949, -0.3055071427197533, -0.6825021367594182, 1.9382793081063177, 1.9878772760134318, 0.3427107055806652, 0.14069874522957815, 0.9448495574182093, 1.6379714237382257, 0.43704396091988845, -1.2498194806763598, -0.19402341742139284, -0.7658491996505546, -0.3932725942609261, 0.3712040975782359, -0.3784211046426365, -0.9732140681745898, 0.3317598863575627, 0.15036006159105378, 0.6009175803960332, 0.6340183275484096, 0.9447966454362406, 0.8009564616629822, 0.5517526246690576, -0.24974977970951584, 1.366375419299985, 1.5056227833986284, -0.19461046242137378, -0.7931977016755076, -1.465297233176536, -0.6561276547721709, 0.2694406537658064, -1.963384192387417, -0.03977409852472031, -0.25942371843808265]}, {\"connectgaps\": false, \"fill\": \"tozeroy\", \"line\": {\"color\": \"green\", \"dash\": \"solid\", \"shape\": \"linear\", \"width\": 0.5}, \"mode\": \"lines\", \"name\": \"Spread\", \"showlegend\": false, \"type\": \"scatter\", \"x\": [0, 1, 2, 3, 4, 5, 6, 7, 8, 9, 10, 11, 12, 13, 14, 15, 16, 17, 18, 19, 20, 21, 22, 23, 24, 25, 26, 27, 28, 29, 30, 31, 32, 33, 34, 35, 36, 37, 38, 39, 40, 41, 42, 43, 44, 45, 46, 47, 48, 49, 50, 51, 52, 53, 54, 55, 56, 57, 58, 59, 60, 61, 62, 63, 64, 65, 66, 67, 68, 69, 70, 71, 72, 73, 74, 75, 76, 77, 78, 79, 80, 81, 82, 83, 84, 85, 86, 87, 88, 89, 90, 91, 92, 93, 94, 95, 96, 97, 98, 99], \"xaxis\": \"x2\", \"y\": [\"\", 0.37606231796229006, \"\", 0.7334055756732721, 0.2376547847436749, 0.5595093779922222, \"\", 1.7556766820530125, \"\", 0.43138877968150874, \"\", \"\", \"\", 0.48922136636364566, 0.357115998988669, \"\", \"\", 1.08900895791205, \"\", \"\", 0.45832385384033725, \"\", 1.8055365055941897, 1.3528021025921317, 1.3868046842258623, \"\", \"\", \"\", \"\", \"\", \"\", \"\", \"\", \"\", 0.22028364836132275, 2.247842061635557, \"\", 1.958499348015762, \"\", \"\", 1.3654829536488904, \"\", 0.8225371285242239, 0.41831523611509513, 1.782483623238956, \"\", \"\", \"\", \"\", 1.5774814359594918, 0.2852869723334577, 0.41676510004300715, \"\", 0.2286538271051417, \"\", 1.2038006613617611, \"\", \"\", \"\", 0.7945256666897403, \"\", \"\", \"\", 0.6863159523731174, \"\", \"\", 0.013570269418221537, 1.6852044012352732, \"\", \"\", \"\", \"\", 0.06917789210474001, \"\", \"\", 0.5652910240967836, 1.190078805155233, 0.3796497330173499, 1.1253428119177944, \"\", 1.5591656453345493, 1.823348609816464, 2.3467025400009893, \"\", \"\", \"\", \"\", \"\", 0.660754578860506, \"\", \"\", \"\", \"\", 1.7893947507710994, 0.6782917708994878, 0.8522081720435557, 0.314559759780735, 1.4395327661331296, 0.9550821714513562, \"\"], \"yaxis\": \"y2\"}, {\"connectgaps\": false, \"fill\": \"tozeroy\", \"line\": {\"color\": \"red\", \"dash\": \"solid\", \"shape\": \"linear\", \"width\": 0.5}, \"mode\": \"lines\", \"name\": \"Spread\", \"showlegend\": false, \"type\": \"scatter\", \"x\": [0, 1, 2, 3, 4, 5, 6, 7, 8, 9, 10, 11, 12, 13, 14, 15, 16, 17, 18, 19, 20, 21, 22, 23, 24, 25, 26, 27, 28, 29, 30, 31, 32, 33, 34, 35, 36, 37, 38, 39, 40, 41, 42, 43, 44, 45, 46, 47, 48, 49, 50, 51, 52, 53, 54, 55, 56, 57, 58, 59, 60, 61, 62, 63, 64, 65, 66, 67, 68, 69, 70, 71, 72, 73, 74, 75, 76, 77, 78, 79, 80, 81, 82, 83, 84, 85, 86, 87, 88, 89, 90, 91, 92, 93, 94, 95, 96, 97, 98, 99], \"xaxis\": \"x2\", \"y\": [-2.049862473843187, \"\", -0.7878869253424148, \"\", \"\", \"\", -0.8420076811485184, \"\", -0.34473286603654607, \"\", -0.9687190672505643, -0.19211212201709804, -0.9569461785014652, \"\", \"\", -2.853994272132752, -0.31960998139883884, \"\", -0.2672693443604815, -0.7706434454823685, \"\", -0.9200282062831043, \"\", \"\", \"\", -0.03612302285220981, -0.9690119960994219, -0.5159791567929696, -1.3147058639361302, -2.8166469040453403, -0.7283383120925996, -2.5510049462622497, -0.24810056166980554, -2.229141743802718, \"\", \"\", -0.34939293490885176, \"\", -1.2068393469586975, -0.5983941593643838, \"\", -1.133663300582341, \"\", \"\", \"\", -0.46747016911481093, -0.3872513283794371, -0.6101864967731399, -1.4432121755634153, \"\", \"\", \"\", -0.575269174572293, \"\", -0.2894725028663585, \"\", -1.044312930428445, -0.35120068865615306, -0.25756715871212565, \"\", -0.5747384920653016, -0.6168395010941601, -1.712309884598288, \"\", -0.7675125869192712, -1.6086554483910118, \"\", \"\", -3.1351772629817622, -3.3729746253392223, -0.7698507913891492, -1.8621285165157384, \"\", -1.9981891251852417, -1.1165200972905833, \"\", \"\", \"\", \"\", -1.1355589298352604, \"\", \"\", \"\", -0.30614491226179474, -1.3379531475986508, -0.18648111748136514, -1.174983444310786, -0.6779762526439291, \"\", -0.24366444342478866, -2.463661860552911, -1.935308991130824, -0.39955058856744485, \"\", \"\", \"\", \"\", \"\", \"\", -0.20111994848252823], \"yaxis\": \"y2\"}],\n",
       "                        {\"hovermode\": \"x\", \"legend\": {\"bgcolor\": \"#F5F6F9\", \"font\": {\"color\": \"#4D5663\"}}, \"paper_bgcolor\": \"#F5F6F9\", \"plot_bgcolor\": \"#F5F6F9\", \"template\": {\"data\": {\"bar\": [{\"error_x\": {\"color\": \"#2a3f5f\"}, \"error_y\": {\"color\": \"#2a3f5f\"}, \"marker\": {\"line\": {\"color\": \"#E5ECF6\", \"width\": 0.5}}, \"type\": \"bar\"}], \"barpolar\": [{\"marker\": {\"line\": {\"color\": \"#E5ECF6\", \"width\": 0.5}}, \"type\": \"barpolar\"}], \"carpet\": [{\"aaxis\": {\"endlinecolor\": \"#2a3f5f\", \"gridcolor\": \"white\", \"linecolor\": \"white\", \"minorgridcolor\": \"white\", \"startlinecolor\": \"#2a3f5f\"}, \"baxis\": {\"endlinecolor\": \"#2a3f5f\", \"gridcolor\": \"white\", \"linecolor\": \"white\", \"minorgridcolor\": \"white\", \"startlinecolor\": \"#2a3f5f\"}, \"type\": \"carpet\"}], \"choropleth\": [{\"colorbar\": {\"outlinewidth\": 0, \"ticks\": \"\"}, \"type\": \"choropleth\"}], \"contour\": [{\"colorbar\": {\"outlinewidth\": 0, \"ticks\": \"\"}, \"colorscale\": [[0.0, \"#0d0887\"], [0.1111111111111111, \"#46039f\"], [0.2222222222222222, \"#7201a8\"], [0.3333333333333333, \"#9c179e\"], [0.4444444444444444, \"#bd3786\"], [0.5555555555555556, \"#d8576b\"], [0.6666666666666666, \"#ed7953\"], [0.7777777777777778, \"#fb9f3a\"], [0.8888888888888888, \"#fdca26\"], [1.0, \"#f0f921\"]], \"type\": \"contour\"}], \"contourcarpet\": [{\"colorbar\": {\"outlinewidth\": 0, \"ticks\": \"\"}, \"type\": \"contourcarpet\"}], \"heatmap\": [{\"colorbar\": {\"outlinewidth\": 0, \"ticks\": \"\"}, \"colorscale\": [[0.0, \"#0d0887\"], [0.1111111111111111, \"#46039f\"], [0.2222222222222222, \"#7201a8\"], [0.3333333333333333, \"#9c179e\"], [0.4444444444444444, \"#bd3786\"], [0.5555555555555556, \"#d8576b\"], [0.6666666666666666, \"#ed7953\"], [0.7777777777777778, \"#fb9f3a\"], [0.8888888888888888, \"#fdca26\"], [1.0, \"#f0f921\"]], \"type\": \"heatmap\"}], \"heatmapgl\": [{\"colorbar\": {\"outlinewidth\": 0, \"ticks\": \"\"}, \"colorscale\": [[0.0, \"#0d0887\"], [0.1111111111111111, \"#46039f\"], [0.2222222222222222, \"#7201a8\"], [0.3333333333333333, \"#9c179e\"], [0.4444444444444444, \"#bd3786\"], [0.5555555555555556, \"#d8576b\"], [0.6666666666666666, \"#ed7953\"], [0.7777777777777778, \"#fb9f3a\"], [0.8888888888888888, \"#fdca26\"], [1.0, \"#f0f921\"]], \"type\": \"heatmapgl\"}], \"histogram\": [{\"marker\": {\"colorbar\": {\"outlinewidth\": 0, \"ticks\": \"\"}}, \"type\": \"histogram\"}], \"histogram2d\": [{\"colorbar\": {\"outlinewidth\": 0, \"ticks\": \"\"}, \"colorscale\": [[0.0, \"#0d0887\"], [0.1111111111111111, \"#46039f\"], [0.2222222222222222, \"#7201a8\"], [0.3333333333333333, \"#9c179e\"], [0.4444444444444444, \"#bd3786\"], [0.5555555555555556, \"#d8576b\"], [0.6666666666666666, \"#ed7953\"], [0.7777777777777778, \"#fb9f3a\"], [0.8888888888888888, \"#fdca26\"], [1.0, \"#f0f921\"]], \"type\": \"histogram2d\"}], \"histogram2dcontour\": [{\"colorbar\": {\"outlinewidth\": 0, \"ticks\": \"\"}, \"colorscale\": [[0.0, \"#0d0887\"], [0.1111111111111111, \"#46039f\"], [0.2222222222222222, \"#7201a8\"], [0.3333333333333333, \"#9c179e\"], [0.4444444444444444, \"#bd3786\"], [0.5555555555555556, \"#d8576b\"], [0.6666666666666666, \"#ed7953\"], [0.7777777777777778, \"#fb9f3a\"], [0.8888888888888888, \"#fdca26\"], [1.0, \"#f0f921\"]], \"type\": \"histogram2dcontour\"}], \"mesh3d\": [{\"colorbar\": {\"outlinewidth\": 0, \"ticks\": \"\"}, \"type\": \"mesh3d\"}], \"parcoords\": [{\"line\": {\"colorbar\": {\"outlinewidth\": 0, \"ticks\": \"\"}}, \"type\": \"parcoords\"}], \"pie\": [{\"automargin\": true, \"type\": \"pie\"}], \"scatter\": [{\"marker\": {\"colorbar\": {\"outlinewidth\": 0, \"ticks\": \"\"}}, \"type\": \"scatter\"}], \"scatter3d\": [{\"line\": {\"colorbar\": {\"outlinewidth\": 0, \"ticks\": \"\"}}, \"marker\": {\"colorbar\": {\"outlinewidth\": 0, \"ticks\": \"\"}}, \"type\": \"scatter3d\"}], \"scattercarpet\": [{\"marker\": {\"colorbar\": {\"outlinewidth\": 0, \"ticks\": \"\"}}, \"type\": \"scattercarpet\"}], \"scattergeo\": [{\"marker\": {\"colorbar\": {\"outlinewidth\": 0, \"ticks\": \"\"}}, \"type\": \"scattergeo\"}], \"scattergl\": [{\"marker\": {\"colorbar\": {\"outlinewidth\": 0, \"ticks\": \"\"}}, \"type\": \"scattergl\"}], \"scattermapbox\": [{\"marker\": {\"colorbar\": {\"outlinewidth\": 0, \"ticks\": \"\"}}, \"type\": \"scattermapbox\"}], \"scatterpolar\": [{\"marker\": {\"colorbar\": {\"outlinewidth\": 0, \"ticks\": \"\"}}, \"type\": \"scatterpolar\"}], \"scatterpolargl\": [{\"marker\": {\"colorbar\": {\"outlinewidth\": 0, \"ticks\": \"\"}}, \"type\": \"scatterpolargl\"}], \"scatterternary\": [{\"marker\": {\"colorbar\": {\"outlinewidth\": 0, \"ticks\": \"\"}}, \"type\": \"scatterternary\"}], \"surface\": [{\"colorbar\": {\"outlinewidth\": 0, \"ticks\": \"\"}, \"colorscale\": [[0.0, \"#0d0887\"], [0.1111111111111111, \"#46039f\"], [0.2222222222222222, \"#7201a8\"], [0.3333333333333333, \"#9c179e\"], [0.4444444444444444, \"#bd3786\"], [0.5555555555555556, \"#d8576b\"], [0.6666666666666666, \"#ed7953\"], [0.7777777777777778, \"#fb9f3a\"], [0.8888888888888888, \"#fdca26\"], [1.0, \"#f0f921\"]], \"type\": \"surface\"}], \"table\": [{\"cells\": {\"fill\": {\"color\": \"#EBF0F8\"}, \"line\": {\"color\": \"white\"}}, \"header\": {\"fill\": {\"color\": \"#C8D4E3\"}, \"line\": {\"color\": \"white\"}}, \"type\": \"table\"}]}, \"layout\": {\"annotationdefaults\": {\"arrowcolor\": \"#2a3f5f\", \"arrowhead\": 0, \"arrowwidth\": 1}, \"coloraxis\": {\"colorbar\": {\"outlinewidth\": 0, \"ticks\": \"\"}}, \"colorscale\": {\"diverging\": [[0, \"#8e0152\"], [0.1, \"#c51b7d\"], [0.2, \"#de77ae\"], [0.3, \"#f1b6da\"], [0.4, \"#fde0ef\"], [0.5, \"#f7f7f7\"], [0.6, \"#e6f5d0\"], [0.7, \"#b8e186\"], [0.8, \"#7fbc41\"], [0.9, \"#4d9221\"], [1, \"#276419\"]], \"sequential\": [[0.0, \"#0d0887\"], [0.1111111111111111, \"#46039f\"], [0.2222222222222222, \"#7201a8\"], [0.3333333333333333, \"#9c179e\"], [0.4444444444444444, \"#bd3786\"], [0.5555555555555556, \"#d8576b\"], [0.6666666666666666, \"#ed7953\"], [0.7777777777777778, \"#fb9f3a\"], [0.8888888888888888, \"#fdca26\"], [1.0, \"#f0f921\"]], \"sequentialminus\": [[0.0, \"#0d0887\"], [0.1111111111111111, \"#46039f\"], [0.2222222222222222, \"#7201a8\"], [0.3333333333333333, \"#9c179e\"], [0.4444444444444444, \"#bd3786\"], [0.5555555555555556, \"#d8576b\"], [0.6666666666666666, \"#ed7953\"], [0.7777777777777778, \"#fb9f3a\"], [0.8888888888888888, \"#fdca26\"], [1.0, \"#f0f921\"]]}, \"colorway\": [\"#636efa\", \"#EF553B\", \"#00cc96\", \"#ab63fa\", \"#FFA15A\", \"#19d3f3\", \"#FF6692\", \"#B6E880\", \"#FF97FF\", \"#FECB52\"], \"font\": {\"color\": \"#2a3f5f\"}, \"geo\": {\"bgcolor\": \"white\", \"lakecolor\": \"white\", \"landcolor\": \"#E5ECF6\", \"showlakes\": true, \"showland\": true, \"subunitcolor\": \"white\"}, \"hoverlabel\": {\"align\": \"left\"}, \"hovermode\": \"closest\", \"mapbox\": {\"style\": \"light\"}, \"paper_bgcolor\": \"white\", \"plot_bgcolor\": \"#E5ECF6\", \"polar\": {\"angularaxis\": {\"gridcolor\": \"white\", \"linecolor\": \"white\", \"ticks\": \"\"}, \"bgcolor\": \"#E5ECF6\", \"radialaxis\": {\"gridcolor\": \"white\", \"linecolor\": \"white\", \"ticks\": \"\"}}, \"scene\": {\"xaxis\": {\"backgroundcolor\": \"#E5ECF6\", \"gridcolor\": \"white\", \"gridwidth\": 2, \"linecolor\": \"white\", \"showbackground\": true, \"ticks\": \"\", \"zerolinecolor\": \"white\"}, \"yaxis\": {\"backgroundcolor\": \"#E5ECF6\", \"gridcolor\": \"white\", \"gridwidth\": 2, \"linecolor\": \"white\", \"showbackground\": true, \"ticks\": \"\", \"zerolinecolor\": \"white\"}, \"zaxis\": {\"backgroundcolor\": \"#E5ECF6\", \"gridcolor\": \"white\", \"gridwidth\": 2, \"linecolor\": \"white\", \"showbackground\": true, \"ticks\": \"\", \"zerolinecolor\": \"white\"}}, \"shapedefaults\": {\"line\": {\"color\": \"#2a3f5f\"}}, \"ternary\": {\"aaxis\": {\"gridcolor\": \"white\", \"linecolor\": \"white\", \"ticks\": \"\"}, \"baxis\": {\"gridcolor\": \"white\", \"linecolor\": \"white\", \"ticks\": \"\"}, \"bgcolor\": \"#E5ECF6\", \"caxis\": {\"gridcolor\": \"white\", \"linecolor\": \"white\", \"ticks\": \"\"}}, \"title\": {\"x\": 0.05}, \"xaxis\": {\"automargin\": true, \"gridcolor\": \"white\", \"linecolor\": \"white\", \"ticks\": \"\", \"title\": {\"standoff\": 15}, \"zerolinecolor\": \"white\", \"zerolinewidth\": 2}, \"yaxis\": {\"automargin\": true, \"gridcolor\": \"white\", \"linecolor\": \"white\", \"ticks\": \"\", \"title\": {\"standoff\": 15}, \"zerolinecolor\": \"white\", \"zerolinewidth\": 2}}}, \"title\": {\"font\": {\"color\": \"#4D5663\"}}, \"xaxis\": {\"gridcolor\": \"#E1E5ED\", \"showgrid\": true, \"tickfont\": {\"color\": \"#4D5663\"}, \"title\": {\"font\": {\"color\": \"#4D5663\"}, \"text\": \"\"}, \"zerolinecolor\": \"#E1E5ED\"}, \"xaxis2\": {\"anchor\": \"y2\", \"gridcolor\": \"#E1E5ED\", \"showgrid\": true, \"showticklabels\": false, \"tickfont\": {\"color\": \"#4D5663\"}, \"title\": {\"font\": {\"color\": \"#4D5663\"}, \"text\": \"\"}, \"zerolinecolor\": \"#E1E5ED\"}, \"yaxis\": {\"domain\": [0.3, 1], \"gridcolor\": \"#E1E5ED\", \"showgrid\": true, \"tickfont\": {\"color\": \"#4D5663\"}, \"title\": {\"font\": {\"color\": \"#4D5663\"}, \"text\": \"\"}, \"zerolinecolor\": \"#E1E5ED\"}, \"yaxis2\": {\"domain\": [0, 0.25], \"gridcolor\": \"#E1E5ED\", \"showgrid\": true, \"tickfont\": {\"color\": \"#4D5663\"}, \"title\": {\"font\": {\"color\": \"#4D5663\"}, \"text\": \"Spread\"}, \"zerolinecolor\": \"#E1E5ED\"}},\n",
       "                        {\"showLink\": true, \"linkText\": \"Export to plot.ly\", \"plotlyServerURL\": \"https://plot.ly\", \"responsive\": true}\n",
       "                    ).then(function(){\n",
       "                            \n",
       "var gd = document.getElementById('cebd368c-a5b8-4fd7-92c1-164e21952946');\n",
       "var x = new MutationObserver(function (mutations, observer) {{\n",
       "        var display = window.getComputedStyle(gd).display;\n",
       "        if (!display || display === 'none') {{\n",
       "            console.log([gd, 'removed!']);\n",
       "            Plotly.purge(gd);\n",
       "            observer.disconnect();\n",
       "        }}\n",
       "}});\n",
       "\n",
       "// Listen for the removal of the full notebook cells\n",
       "var notebookContainer = gd.closest('#notebook-container');\n",
       "if (notebookContainer) {{\n",
       "    x.observe(notebookContainer, {childList: true});\n",
       "}}\n",
       "\n",
       "// Listen for the clearing of the current output cell\n",
       "var outputEl = gd.closest('.output');\n",
       "if (outputEl) {{\n",
       "    x.observe(outputEl, {childList: true});\n",
       "}}\n",
       "\n",
       "                        })\n",
       "                };\n",
       "                });\n",
       "            </script>\n",
       "        </div>"
      ]
     },
     "metadata": {},
     "output_type": "display_data"
    }
   ],
   "source": [
    "df[['A','B']].iplot(kind='spread')"
   ]
  },
  {
   "cell_type": "markdown",
   "metadata": {},
   "source": [
    "## Histograma"
   ]
  },
  {
   "cell_type": "code",
   "execution_count": 16,
   "metadata": {
    "ExecuteTime": {
     "end_time": "2020-05-02T00:39:52.319966Z",
     "start_time": "2020-05-02T00:39:52.034730Z"
    }
   },
   "outputs": [
    {
     "data": {
      "application/vnd.plotly.v1+json": {
       "config": {
        "linkText": "Export to plot.ly",
        "plotlyServerURL": "https://plot.ly",
        "showLink": true
       },
       "data": [
        {
         "histfunc": "count",
         "histnorm": "",
         "marker": {
          "color": "rgba(255, 153, 51, 1.0)",
          "line": {
           "color": "#4D5663",
           "width": 1.3
          }
         },
         "name": "A",
         "nbinsx": 25,
         "opacity": 0.8,
         "orientation": "v",
         "type": "histogram",
         "x": [
          -1.1657268930546911,
          -0.8257896723416672,
          -1.5692473690498552,
          0.04148074727700573,
          -0.37141526705551925,
          -1.0252331492540236,
          0.03808643193886817,
          0.6385237277266756,
          -0.03634094726247845,
          0.930639523996398,
          -0.15769993863339335,
          -1.3115818372959207,
          -0.6956200174046264,
          0.4485882406005429,
          0.31649879044255985,
          -1.4018139640972982,
          0.39920864559665786,
          -0.10592261410136272,
          -0.058408468861257425,
          0.11338790552456374,
          0.771451750196267,
          -0.20401324182769112,
          1.3834361156529802,
          -0.9274853486806579,
          0.14036807996280848,
          0.6504871783878534,
          -0.4012916567745803,
          -1.1123688423070532,
          -0.5206109202042801,
          -1.5299164801300464,
          -0.17446907711289097,
          -1.6506726554876658,
          0.9342351699264133,
          -1.6113583437291723,
          0.9098913890383441,
          1.9770747503734736,
          0.047668778464560066,
          1.7923434064461392,
          -1.3772213470058206,
          0.03494868487903562,
          0.481504547200912,
          -0.26260218876180397,
          0.8406656571888367,
          0.4773931682096321,
          -0.9327329880484112,
          -0.5315533595411261,
          -1.3582888550555947,
          -0.35490398446858434,
          -1.1157896762940882,
          0.41272172170477245,
          1.0458864663929586,
          0.43451589045221944,
          -0.37577300950511977,
          0.33808657491023214,
          -0.07152345355591183,
          0.8032108462133098,
          0.18245491124717708,
          -1.0571104834254184,
          0.16438257249290036,
          -0.5780890823220005,
          -0.9380222318218958,
          0.44229935023690725,
          -0.9278374618952944,
          -0.034949624334541546,
          -1.0340872672557324,
          -0.13974001324651703,
          -0.2919368733015318,
          1.002702264475855,
          -1.1968979548754446,
          -1.3850973493257903,
          -0.42714008580848406,
          -1.7214297712861604,
          1.0140274495229493,
          -0.36021770144701604,
          -0.6794761363706949,
          -0.6845284565795763,
          0.99605538773384,
          -0.38619946663320476,
          0.7320702176568683,
          -0.7643548322570244,
          1.1807445406919128,
          0.8501345416418742,
          2.678462426358552,
          -0.15578485067074094,
          -0.7370355672026178,
          0.44753721006704444,
          -0.2301867988745454,
          0.12298020901905306,
          1.2125072035295636,
          -0.4934142231343045,
          -1.0972864412529257,
          -0.4296862077321958,
          -0.5941610509888187,
          0.9961970490955918,
          -0.7870054622770482,
          0.19608051727138479,
          0.5840004135465414,
          -0.5238514262542873,
          0.9153080729266359,
          -0.4605436669206109
         ]
        }
       ],
       "layout": {
        "barmode": "overlay",
        "legend": {
         "bgcolor": "#F5F6F9",
         "font": {
          "color": "#4D5663"
         }
        },
        "paper_bgcolor": "#F5F6F9",
        "plot_bgcolor": "#F5F6F9",
        "template": {
         "data": {
          "bar": [
           {
            "error_x": {
             "color": "#2a3f5f"
            },
            "error_y": {
             "color": "#2a3f5f"
            },
            "marker": {
             "line": {
              "color": "#E5ECF6",
              "width": 0.5
             }
            },
            "type": "bar"
           }
          ],
          "barpolar": [
           {
            "marker": {
             "line": {
              "color": "#E5ECF6",
              "width": 0.5
             }
            },
            "type": "barpolar"
           }
          ],
          "carpet": [
           {
            "aaxis": {
             "endlinecolor": "#2a3f5f",
             "gridcolor": "white",
             "linecolor": "white",
             "minorgridcolor": "white",
             "startlinecolor": "#2a3f5f"
            },
            "baxis": {
             "endlinecolor": "#2a3f5f",
             "gridcolor": "white",
             "linecolor": "white",
             "minorgridcolor": "white",
             "startlinecolor": "#2a3f5f"
            },
            "type": "carpet"
           }
          ],
          "choropleth": [
           {
            "colorbar": {
             "outlinewidth": 0,
             "ticks": ""
            },
            "type": "choropleth"
           }
          ],
          "contour": [
           {
            "colorbar": {
             "outlinewidth": 0,
             "ticks": ""
            },
            "colorscale": [
             [
              0,
              "#0d0887"
             ],
             [
              0.1111111111111111,
              "#46039f"
             ],
             [
              0.2222222222222222,
              "#7201a8"
             ],
             [
              0.3333333333333333,
              "#9c179e"
             ],
             [
              0.4444444444444444,
              "#bd3786"
             ],
             [
              0.5555555555555556,
              "#d8576b"
             ],
             [
              0.6666666666666666,
              "#ed7953"
             ],
             [
              0.7777777777777778,
              "#fb9f3a"
             ],
             [
              0.8888888888888888,
              "#fdca26"
             ],
             [
              1,
              "#f0f921"
             ]
            ],
            "type": "contour"
           }
          ],
          "contourcarpet": [
           {
            "colorbar": {
             "outlinewidth": 0,
             "ticks": ""
            },
            "type": "contourcarpet"
           }
          ],
          "heatmap": [
           {
            "colorbar": {
             "outlinewidth": 0,
             "ticks": ""
            },
            "colorscale": [
             [
              0,
              "#0d0887"
             ],
             [
              0.1111111111111111,
              "#46039f"
             ],
             [
              0.2222222222222222,
              "#7201a8"
             ],
             [
              0.3333333333333333,
              "#9c179e"
             ],
             [
              0.4444444444444444,
              "#bd3786"
             ],
             [
              0.5555555555555556,
              "#d8576b"
             ],
             [
              0.6666666666666666,
              "#ed7953"
             ],
             [
              0.7777777777777778,
              "#fb9f3a"
             ],
             [
              0.8888888888888888,
              "#fdca26"
             ],
             [
              1,
              "#f0f921"
             ]
            ],
            "type": "heatmap"
           }
          ],
          "heatmapgl": [
           {
            "colorbar": {
             "outlinewidth": 0,
             "ticks": ""
            },
            "colorscale": [
             [
              0,
              "#0d0887"
             ],
             [
              0.1111111111111111,
              "#46039f"
             ],
             [
              0.2222222222222222,
              "#7201a8"
             ],
             [
              0.3333333333333333,
              "#9c179e"
             ],
             [
              0.4444444444444444,
              "#bd3786"
             ],
             [
              0.5555555555555556,
              "#d8576b"
             ],
             [
              0.6666666666666666,
              "#ed7953"
             ],
             [
              0.7777777777777778,
              "#fb9f3a"
             ],
             [
              0.8888888888888888,
              "#fdca26"
             ],
             [
              1,
              "#f0f921"
             ]
            ],
            "type": "heatmapgl"
           }
          ],
          "histogram": [
           {
            "marker": {
             "colorbar": {
              "outlinewidth": 0,
              "ticks": ""
             }
            },
            "type": "histogram"
           }
          ],
          "histogram2d": [
           {
            "colorbar": {
             "outlinewidth": 0,
             "ticks": ""
            },
            "colorscale": [
             [
              0,
              "#0d0887"
             ],
             [
              0.1111111111111111,
              "#46039f"
             ],
             [
              0.2222222222222222,
              "#7201a8"
             ],
             [
              0.3333333333333333,
              "#9c179e"
             ],
             [
              0.4444444444444444,
              "#bd3786"
             ],
             [
              0.5555555555555556,
              "#d8576b"
             ],
             [
              0.6666666666666666,
              "#ed7953"
             ],
             [
              0.7777777777777778,
              "#fb9f3a"
             ],
             [
              0.8888888888888888,
              "#fdca26"
             ],
             [
              1,
              "#f0f921"
             ]
            ],
            "type": "histogram2d"
           }
          ],
          "histogram2dcontour": [
           {
            "colorbar": {
             "outlinewidth": 0,
             "ticks": ""
            },
            "colorscale": [
             [
              0,
              "#0d0887"
             ],
             [
              0.1111111111111111,
              "#46039f"
             ],
             [
              0.2222222222222222,
              "#7201a8"
             ],
             [
              0.3333333333333333,
              "#9c179e"
             ],
             [
              0.4444444444444444,
              "#bd3786"
             ],
             [
              0.5555555555555556,
              "#d8576b"
             ],
             [
              0.6666666666666666,
              "#ed7953"
             ],
             [
              0.7777777777777778,
              "#fb9f3a"
             ],
             [
              0.8888888888888888,
              "#fdca26"
             ],
             [
              1,
              "#f0f921"
             ]
            ],
            "type": "histogram2dcontour"
           }
          ],
          "mesh3d": [
           {
            "colorbar": {
             "outlinewidth": 0,
             "ticks": ""
            },
            "type": "mesh3d"
           }
          ],
          "parcoords": [
           {
            "line": {
             "colorbar": {
              "outlinewidth": 0,
              "ticks": ""
             }
            },
            "type": "parcoords"
           }
          ],
          "pie": [
           {
            "automargin": true,
            "type": "pie"
           }
          ],
          "scatter": [
           {
            "marker": {
             "colorbar": {
              "outlinewidth": 0,
              "ticks": ""
             }
            },
            "type": "scatter"
           }
          ],
          "scatter3d": [
           {
            "line": {
             "colorbar": {
              "outlinewidth": 0,
              "ticks": ""
             }
            },
            "marker": {
             "colorbar": {
              "outlinewidth": 0,
              "ticks": ""
             }
            },
            "type": "scatter3d"
           }
          ],
          "scattercarpet": [
           {
            "marker": {
             "colorbar": {
              "outlinewidth": 0,
              "ticks": ""
             }
            },
            "type": "scattercarpet"
           }
          ],
          "scattergeo": [
           {
            "marker": {
             "colorbar": {
              "outlinewidth": 0,
              "ticks": ""
             }
            },
            "type": "scattergeo"
           }
          ],
          "scattergl": [
           {
            "marker": {
             "colorbar": {
              "outlinewidth": 0,
              "ticks": ""
             }
            },
            "type": "scattergl"
           }
          ],
          "scattermapbox": [
           {
            "marker": {
             "colorbar": {
              "outlinewidth": 0,
              "ticks": ""
             }
            },
            "type": "scattermapbox"
           }
          ],
          "scatterpolar": [
           {
            "marker": {
             "colorbar": {
              "outlinewidth": 0,
              "ticks": ""
             }
            },
            "type": "scatterpolar"
           }
          ],
          "scatterpolargl": [
           {
            "marker": {
             "colorbar": {
              "outlinewidth": 0,
              "ticks": ""
             }
            },
            "type": "scatterpolargl"
           }
          ],
          "scatterternary": [
           {
            "marker": {
             "colorbar": {
              "outlinewidth": 0,
              "ticks": ""
             }
            },
            "type": "scatterternary"
           }
          ],
          "surface": [
           {
            "colorbar": {
             "outlinewidth": 0,
             "ticks": ""
            },
            "colorscale": [
             [
              0,
              "#0d0887"
             ],
             [
              0.1111111111111111,
              "#46039f"
             ],
             [
              0.2222222222222222,
              "#7201a8"
             ],
             [
              0.3333333333333333,
              "#9c179e"
             ],
             [
              0.4444444444444444,
              "#bd3786"
             ],
             [
              0.5555555555555556,
              "#d8576b"
             ],
             [
              0.6666666666666666,
              "#ed7953"
             ],
             [
              0.7777777777777778,
              "#fb9f3a"
             ],
             [
              0.8888888888888888,
              "#fdca26"
             ],
             [
              1,
              "#f0f921"
             ]
            ],
            "type": "surface"
           }
          ],
          "table": [
           {
            "cells": {
             "fill": {
              "color": "#EBF0F8"
             },
             "line": {
              "color": "white"
             }
            },
            "header": {
             "fill": {
              "color": "#C8D4E3"
             },
             "line": {
              "color": "white"
             }
            },
            "type": "table"
           }
          ]
         },
         "layout": {
          "annotationdefaults": {
           "arrowcolor": "#2a3f5f",
           "arrowhead": 0,
           "arrowwidth": 1
          },
          "coloraxis": {
           "colorbar": {
            "outlinewidth": 0,
            "ticks": ""
           }
          },
          "colorscale": {
           "diverging": [
            [
             0,
             "#8e0152"
            ],
            [
             0.1,
             "#c51b7d"
            ],
            [
             0.2,
             "#de77ae"
            ],
            [
             0.3,
             "#f1b6da"
            ],
            [
             0.4,
             "#fde0ef"
            ],
            [
             0.5,
             "#f7f7f7"
            ],
            [
             0.6,
             "#e6f5d0"
            ],
            [
             0.7,
             "#b8e186"
            ],
            [
             0.8,
             "#7fbc41"
            ],
            [
             0.9,
             "#4d9221"
            ],
            [
             1,
             "#276419"
            ]
           ],
           "sequential": [
            [
             0,
             "#0d0887"
            ],
            [
             0.1111111111111111,
             "#46039f"
            ],
            [
             0.2222222222222222,
             "#7201a8"
            ],
            [
             0.3333333333333333,
             "#9c179e"
            ],
            [
             0.4444444444444444,
             "#bd3786"
            ],
            [
             0.5555555555555556,
             "#d8576b"
            ],
            [
             0.6666666666666666,
             "#ed7953"
            ],
            [
             0.7777777777777778,
             "#fb9f3a"
            ],
            [
             0.8888888888888888,
             "#fdca26"
            ],
            [
             1,
             "#f0f921"
            ]
           ],
           "sequentialminus": [
            [
             0,
             "#0d0887"
            ],
            [
             0.1111111111111111,
             "#46039f"
            ],
            [
             0.2222222222222222,
             "#7201a8"
            ],
            [
             0.3333333333333333,
             "#9c179e"
            ],
            [
             0.4444444444444444,
             "#bd3786"
            ],
            [
             0.5555555555555556,
             "#d8576b"
            ],
            [
             0.6666666666666666,
             "#ed7953"
            ],
            [
             0.7777777777777778,
             "#fb9f3a"
            ],
            [
             0.8888888888888888,
             "#fdca26"
            ],
            [
             1,
             "#f0f921"
            ]
           ]
          },
          "colorway": [
           "#636efa",
           "#EF553B",
           "#00cc96",
           "#ab63fa",
           "#FFA15A",
           "#19d3f3",
           "#FF6692",
           "#B6E880",
           "#FF97FF",
           "#FECB52"
          ],
          "font": {
           "color": "#2a3f5f"
          },
          "geo": {
           "bgcolor": "white",
           "lakecolor": "white",
           "landcolor": "#E5ECF6",
           "showlakes": true,
           "showland": true,
           "subunitcolor": "white"
          },
          "hoverlabel": {
           "align": "left"
          },
          "hovermode": "closest",
          "mapbox": {
           "style": "light"
          },
          "paper_bgcolor": "white",
          "plot_bgcolor": "#E5ECF6",
          "polar": {
           "angularaxis": {
            "gridcolor": "white",
            "linecolor": "white",
            "ticks": ""
           },
           "bgcolor": "#E5ECF6",
           "radialaxis": {
            "gridcolor": "white",
            "linecolor": "white",
            "ticks": ""
           }
          },
          "scene": {
           "xaxis": {
            "backgroundcolor": "#E5ECF6",
            "gridcolor": "white",
            "gridwidth": 2,
            "linecolor": "white",
            "showbackground": true,
            "ticks": "",
            "zerolinecolor": "white"
           },
           "yaxis": {
            "backgroundcolor": "#E5ECF6",
            "gridcolor": "white",
            "gridwidth": 2,
            "linecolor": "white",
            "showbackground": true,
            "ticks": "",
            "zerolinecolor": "white"
           },
           "zaxis": {
            "backgroundcolor": "#E5ECF6",
            "gridcolor": "white",
            "gridwidth": 2,
            "linecolor": "white",
            "showbackground": true,
            "ticks": "",
            "zerolinecolor": "white"
           }
          },
          "shapedefaults": {
           "line": {
            "color": "#2a3f5f"
           }
          },
          "ternary": {
           "aaxis": {
            "gridcolor": "white",
            "linecolor": "white",
            "ticks": ""
           },
           "baxis": {
            "gridcolor": "white",
            "linecolor": "white",
            "ticks": ""
           },
           "bgcolor": "#E5ECF6",
           "caxis": {
            "gridcolor": "white",
            "linecolor": "white",
            "ticks": ""
           }
          },
          "title": {
           "x": 0.05
          },
          "xaxis": {
           "automargin": true,
           "gridcolor": "white",
           "linecolor": "white",
           "ticks": "",
           "title": {
            "standoff": 15
           },
           "zerolinecolor": "white",
           "zerolinewidth": 2
          },
          "yaxis": {
           "automargin": true,
           "gridcolor": "white",
           "linecolor": "white",
           "ticks": "",
           "title": {
            "standoff": 15
           },
           "zerolinecolor": "white",
           "zerolinewidth": 2
          }
         }
        },
        "title": {
         "font": {
          "color": "#4D5663"
         }
        },
        "xaxis": {
         "gridcolor": "#E1E5ED",
         "showgrid": true,
         "tickfont": {
          "color": "#4D5663"
         },
         "title": {
          "font": {
           "color": "#4D5663"
          },
          "text": ""
         },
         "zerolinecolor": "#E1E5ED"
        },
        "yaxis": {
         "gridcolor": "#E1E5ED",
         "showgrid": true,
         "tickfont": {
          "color": "#4D5663"
         },
         "title": {
          "font": {
           "color": "#4D5663"
          },
          "text": ""
         },
         "zerolinecolor": "#E1E5ED"
        }
       }
      },
      "text/html": [
       "<div>\n",
       "        \n",
       "        \n",
       "            <div id=\"f974e3fb-0e84-4709-9620-1b17c38418c8\" class=\"plotly-graph-div\" style=\"height:525px; width:100%;\"></div>\n",
       "            <script type=\"text/javascript\">\n",
       "                require([\"plotly\"], function(Plotly) {\n",
       "                    window.PLOTLYENV=window.PLOTLYENV || {};\n",
       "                    window.PLOTLYENV.BASE_URL='https://plot.ly';\n",
       "                    \n",
       "                if (document.getElementById(\"f974e3fb-0e84-4709-9620-1b17c38418c8\")) {\n",
       "                    Plotly.newPlot(\n",
       "                        'f974e3fb-0e84-4709-9620-1b17c38418c8',\n",
       "                        [{\"histfunc\": \"count\", \"histnorm\": \"\", \"marker\": {\"color\": \"rgba(255, 153, 51, 1.0)\", \"line\": {\"color\": \"#4D5663\", \"width\": 1.3}}, \"name\": \"A\", \"nbinsx\": 25, \"opacity\": 0.8, \"orientation\": \"v\", \"type\": \"histogram\", \"x\": [-1.1657268930546911, -0.8257896723416672, -1.5692473690498552, 0.04148074727700573, -0.37141526705551925, -1.0252331492540236, 0.03808643193886817, 0.6385237277266756, -0.03634094726247845, 0.930639523996398, -0.15769993863339335, -1.3115818372959207, -0.6956200174046264, 0.4485882406005429, 0.31649879044255985, -1.4018139640972982, 0.39920864559665786, -0.10592261410136272, -0.058408468861257425, 0.11338790552456374, 0.771451750196267, -0.20401324182769112, 1.3834361156529802, -0.9274853486806579, 0.14036807996280848, 0.6504871783878534, -0.4012916567745803, -1.1123688423070532, -0.5206109202042801, -1.5299164801300464, -0.17446907711289097, -1.6506726554876658, 0.9342351699264133, -1.6113583437291723, 0.9098913890383441, 1.9770747503734736, 0.047668778464560066, 1.7923434064461392, -1.3772213470058206, 0.03494868487903562, 0.481504547200912, -0.26260218876180397, 0.8406656571888367, 0.4773931682096321, -0.9327329880484112, -0.5315533595411261, -1.3582888550555947, -0.35490398446858434, -1.1157896762940882, 0.41272172170477245, 1.0458864663929586, 0.43451589045221944, -0.37577300950511977, 0.33808657491023214, -0.07152345355591183, 0.8032108462133098, 0.18245491124717708, -1.0571104834254184, 0.16438257249290036, -0.5780890823220005, -0.9380222318218958, 0.44229935023690725, -0.9278374618952944, -0.034949624334541546, -1.0340872672557324, -0.13974001324651703, -0.2919368733015318, 1.002702264475855, -1.1968979548754446, -1.3850973493257903, -0.42714008580848406, -1.7214297712861604, 1.0140274495229493, -0.36021770144701604, -0.6794761363706949, -0.6845284565795763, 0.99605538773384, -0.38619946663320476, 0.7320702176568683, -0.7643548322570244, 1.1807445406919128, 0.8501345416418742, 2.678462426358552, -0.15578485067074094, -0.7370355672026178, 0.44753721006704444, -0.2301867988745454, 0.12298020901905306, 1.2125072035295636, -0.4934142231343045, -1.0972864412529257, -0.4296862077321958, -0.5941610509888187, 0.9961970490955918, -0.7870054622770482, 0.19608051727138479, 0.5840004135465414, -0.5238514262542873, 0.9153080729266359, -0.4605436669206109]}],\n",
       "                        {\"barmode\": \"overlay\", \"legend\": {\"bgcolor\": \"#F5F6F9\", \"font\": {\"color\": \"#4D5663\"}}, \"paper_bgcolor\": \"#F5F6F9\", \"plot_bgcolor\": \"#F5F6F9\", \"template\": {\"data\": {\"bar\": [{\"error_x\": {\"color\": \"#2a3f5f\"}, \"error_y\": {\"color\": \"#2a3f5f\"}, \"marker\": {\"line\": {\"color\": \"#E5ECF6\", \"width\": 0.5}}, \"type\": \"bar\"}], \"barpolar\": [{\"marker\": {\"line\": {\"color\": \"#E5ECF6\", \"width\": 0.5}}, \"type\": \"barpolar\"}], \"carpet\": [{\"aaxis\": {\"endlinecolor\": \"#2a3f5f\", \"gridcolor\": \"white\", \"linecolor\": \"white\", \"minorgridcolor\": \"white\", \"startlinecolor\": \"#2a3f5f\"}, \"baxis\": {\"endlinecolor\": \"#2a3f5f\", \"gridcolor\": \"white\", \"linecolor\": \"white\", \"minorgridcolor\": \"white\", \"startlinecolor\": \"#2a3f5f\"}, \"type\": \"carpet\"}], \"choropleth\": [{\"colorbar\": {\"outlinewidth\": 0, \"ticks\": \"\"}, \"type\": \"choropleth\"}], \"contour\": [{\"colorbar\": {\"outlinewidth\": 0, \"ticks\": \"\"}, \"colorscale\": [[0.0, \"#0d0887\"], [0.1111111111111111, \"#46039f\"], [0.2222222222222222, \"#7201a8\"], [0.3333333333333333, \"#9c179e\"], [0.4444444444444444, \"#bd3786\"], [0.5555555555555556, \"#d8576b\"], [0.6666666666666666, \"#ed7953\"], [0.7777777777777778, \"#fb9f3a\"], [0.8888888888888888, \"#fdca26\"], [1.0, \"#f0f921\"]], \"type\": \"contour\"}], \"contourcarpet\": [{\"colorbar\": {\"outlinewidth\": 0, \"ticks\": \"\"}, \"type\": \"contourcarpet\"}], \"heatmap\": [{\"colorbar\": {\"outlinewidth\": 0, \"ticks\": \"\"}, \"colorscale\": [[0.0, \"#0d0887\"], [0.1111111111111111, \"#46039f\"], [0.2222222222222222, \"#7201a8\"], [0.3333333333333333, \"#9c179e\"], [0.4444444444444444, \"#bd3786\"], [0.5555555555555556, \"#d8576b\"], [0.6666666666666666, \"#ed7953\"], [0.7777777777777778, \"#fb9f3a\"], [0.8888888888888888, \"#fdca26\"], [1.0, \"#f0f921\"]], \"type\": \"heatmap\"}], \"heatmapgl\": [{\"colorbar\": {\"outlinewidth\": 0, \"ticks\": \"\"}, \"colorscale\": [[0.0, \"#0d0887\"], [0.1111111111111111, \"#46039f\"], [0.2222222222222222, \"#7201a8\"], [0.3333333333333333, \"#9c179e\"], [0.4444444444444444, \"#bd3786\"], [0.5555555555555556, \"#d8576b\"], [0.6666666666666666, \"#ed7953\"], [0.7777777777777778, \"#fb9f3a\"], [0.8888888888888888, \"#fdca26\"], [1.0, \"#f0f921\"]], \"type\": \"heatmapgl\"}], \"histogram\": [{\"marker\": {\"colorbar\": {\"outlinewidth\": 0, \"ticks\": \"\"}}, \"type\": \"histogram\"}], \"histogram2d\": [{\"colorbar\": {\"outlinewidth\": 0, \"ticks\": \"\"}, \"colorscale\": [[0.0, \"#0d0887\"], [0.1111111111111111, \"#46039f\"], [0.2222222222222222, \"#7201a8\"], [0.3333333333333333, \"#9c179e\"], [0.4444444444444444, \"#bd3786\"], [0.5555555555555556, \"#d8576b\"], [0.6666666666666666, \"#ed7953\"], [0.7777777777777778, \"#fb9f3a\"], [0.8888888888888888, \"#fdca26\"], [1.0, \"#f0f921\"]], \"type\": \"histogram2d\"}], \"histogram2dcontour\": [{\"colorbar\": {\"outlinewidth\": 0, \"ticks\": \"\"}, \"colorscale\": [[0.0, \"#0d0887\"], [0.1111111111111111, \"#46039f\"], [0.2222222222222222, \"#7201a8\"], [0.3333333333333333, \"#9c179e\"], [0.4444444444444444, \"#bd3786\"], [0.5555555555555556, \"#d8576b\"], [0.6666666666666666, \"#ed7953\"], [0.7777777777777778, \"#fb9f3a\"], [0.8888888888888888, \"#fdca26\"], [1.0, \"#f0f921\"]], \"type\": \"histogram2dcontour\"}], \"mesh3d\": [{\"colorbar\": {\"outlinewidth\": 0, \"ticks\": \"\"}, \"type\": \"mesh3d\"}], \"parcoords\": [{\"line\": {\"colorbar\": {\"outlinewidth\": 0, \"ticks\": \"\"}}, \"type\": \"parcoords\"}], \"pie\": [{\"automargin\": true, \"type\": \"pie\"}], \"scatter\": [{\"marker\": {\"colorbar\": {\"outlinewidth\": 0, \"ticks\": \"\"}}, \"type\": \"scatter\"}], \"scatter3d\": [{\"line\": {\"colorbar\": {\"outlinewidth\": 0, \"ticks\": \"\"}}, \"marker\": {\"colorbar\": {\"outlinewidth\": 0, \"ticks\": \"\"}}, \"type\": \"scatter3d\"}], \"scattercarpet\": [{\"marker\": {\"colorbar\": {\"outlinewidth\": 0, \"ticks\": \"\"}}, \"type\": \"scattercarpet\"}], \"scattergeo\": [{\"marker\": {\"colorbar\": {\"outlinewidth\": 0, \"ticks\": \"\"}}, \"type\": \"scattergeo\"}], \"scattergl\": [{\"marker\": {\"colorbar\": {\"outlinewidth\": 0, \"ticks\": \"\"}}, \"type\": \"scattergl\"}], \"scattermapbox\": [{\"marker\": {\"colorbar\": {\"outlinewidth\": 0, \"ticks\": \"\"}}, \"type\": \"scattermapbox\"}], \"scatterpolar\": [{\"marker\": {\"colorbar\": {\"outlinewidth\": 0, \"ticks\": \"\"}}, \"type\": \"scatterpolar\"}], \"scatterpolargl\": [{\"marker\": {\"colorbar\": {\"outlinewidth\": 0, \"ticks\": \"\"}}, \"type\": \"scatterpolargl\"}], \"scatterternary\": [{\"marker\": {\"colorbar\": {\"outlinewidth\": 0, \"ticks\": \"\"}}, \"type\": \"scatterternary\"}], \"surface\": [{\"colorbar\": {\"outlinewidth\": 0, \"ticks\": \"\"}, \"colorscale\": [[0.0, \"#0d0887\"], [0.1111111111111111, \"#46039f\"], [0.2222222222222222, \"#7201a8\"], [0.3333333333333333, \"#9c179e\"], [0.4444444444444444, \"#bd3786\"], [0.5555555555555556, \"#d8576b\"], [0.6666666666666666, \"#ed7953\"], [0.7777777777777778, \"#fb9f3a\"], [0.8888888888888888, \"#fdca26\"], [1.0, \"#f0f921\"]], \"type\": \"surface\"}], \"table\": [{\"cells\": {\"fill\": {\"color\": \"#EBF0F8\"}, \"line\": {\"color\": \"white\"}}, \"header\": {\"fill\": {\"color\": \"#C8D4E3\"}, \"line\": {\"color\": \"white\"}}, \"type\": \"table\"}]}, \"layout\": {\"annotationdefaults\": {\"arrowcolor\": \"#2a3f5f\", \"arrowhead\": 0, \"arrowwidth\": 1}, \"coloraxis\": {\"colorbar\": {\"outlinewidth\": 0, \"ticks\": \"\"}}, \"colorscale\": {\"diverging\": [[0, \"#8e0152\"], [0.1, \"#c51b7d\"], [0.2, \"#de77ae\"], [0.3, \"#f1b6da\"], [0.4, \"#fde0ef\"], [0.5, \"#f7f7f7\"], [0.6, \"#e6f5d0\"], [0.7, \"#b8e186\"], [0.8, \"#7fbc41\"], [0.9, \"#4d9221\"], [1, \"#276419\"]], \"sequential\": [[0.0, \"#0d0887\"], [0.1111111111111111, \"#46039f\"], [0.2222222222222222, \"#7201a8\"], [0.3333333333333333, \"#9c179e\"], [0.4444444444444444, \"#bd3786\"], [0.5555555555555556, \"#d8576b\"], [0.6666666666666666, \"#ed7953\"], [0.7777777777777778, \"#fb9f3a\"], [0.8888888888888888, \"#fdca26\"], [1.0, \"#f0f921\"]], \"sequentialminus\": [[0.0, \"#0d0887\"], [0.1111111111111111, \"#46039f\"], [0.2222222222222222, \"#7201a8\"], [0.3333333333333333, \"#9c179e\"], [0.4444444444444444, \"#bd3786\"], [0.5555555555555556, \"#d8576b\"], [0.6666666666666666, \"#ed7953\"], [0.7777777777777778, \"#fb9f3a\"], [0.8888888888888888, \"#fdca26\"], [1.0, \"#f0f921\"]]}, \"colorway\": [\"#636efa\", \"#EF553B\", \"#00cc96\", \"#ab63fa\", \"#FFA15A\", \"#19d3f3\", \"#FF6692\", \"#B6E880\", \"#FF97FF\", \"#FECB52\"], \"font\": {\"color\": \"#2a3f5f\"}, \"geo\": {\"bgcolor\": \"white\", \"lakecolor\": \"white\", \"landcolor\": \"#E5ECF6\", \"showlakes\": true, \"showland\": true, \"subunitcolor\": \"white\"}, \"hoverlabel\": {\"align\": \"left\"}, \"hovermode\": \"closest\", \"mapbox\": {\"style\": \"light\"}, \"paper_bgcolor\": \"white\", \"plot_bgcolor\": \"#E5ECF6\", \"polar\": {\"angularaxis\": {\"gridcolor\": \"white\", \"linecolor\": \"white\", \"ticks\": \"\"}, \"bgcolor\": \"#E5ECF6\", \"radialaxis\": {\"gridcolor\": \"white\", \"linecolor\": \"white\", \"ticks\": \"\"}}, \"scene\": {\"xaxis\": {\"backgroundcolor\": \"#E5ECF6\", \"gridcolor\": \"white\", \"gridwidth\": 2, \"linecolor\": \"white\", \"showbackground\": true, \"ticks\": \"\", \"zerolinecolor\": \"white\"}, \"yaxis\": {\"backgroundcolor\": \"#E5ECF6\", \"gridcolor\": \"white\", \"gridwidth\": 2, \"linecolor\": \"white\", \"showbackground\": true, \"ticks\": \"\", \"zerolinecolor\": \"white\"}, \"zaxis\": {\"backgroundcolor\": \"#E5ECF6\", \"gridcolor\": \"white\", \"gridwidth\": 2, \"linecolor\": \"white\", \"showbackground\": true, \"ticks\": \"\", \"zerolinecolor\": \"white\"}}, \"shapedefaults\": {\"line\": {\"color\": \"#2a3f5f\"}}, \"ternary\": {\"aaxis\": {\"gridcolor\": \"white\", \"linecolor\": \"white\", \"ticks\": \"\"}, \"baxis\": {\"gridcolor\": \"white\", \"linecolor\": \"white\", \"ticks\": \"\"}, \"bgcolor\": \"#E5ECF6\", \"caxis\": {\"gridcolor\": \"white\", \"linecolor\": \"white\", \"ticks\": \"\"}}, \"title\": {\"x\": 0.05}, \"xaxis\": {\"automargin\": true, \"gridcolor\": \"white\", \"linecolor\": \"white\", \"ticks\": \"\", \"title\": {\"standoff\": 15}, \"zerolinecolor\": \"white\", \"zerolinewidth\": 2}, \"yaxis\": {\"automargin\": true, \"gridcolor\": \"white\", \"linecolor\": \"white\", \"ticks\": \"\", \"title\": {\"standoff\": 15}, \"zerolinecolor\": \"white\", \"zerolinewidth\": 2}}}, \"title\": {\"font\": {\"color\": \"#4D5663\"}}, \"xaxis\": {\"gridcolor\": \"#E1E5ED\", \"showgrid\": true, \"tickfont\": {\"color\": \"#4D5663\"}, \"title\": {\"font\": {\"color\": \"#4D5663\"}, \"text\": \"\"}, \"zerolinecolor\": \"#E1E5ED\"}, \"yaxis\": {\"gridcolor\": \"#E1E5ED\", \"showgrid\": true, \"tickfont\": {\"color\": \"#4D5663\"}, \"title\": {\"font\": {\"color\": \"#4D5663\"}, \"text\": \"\"}, \"zerolinecolor\": \"#E1E5ED\"}},\n",
       "                        {\"showLink\": true, \"linkText\": \"Export to plot.ly\", \"plotlyServerURL\": \"https://plot.ly\", \"responsive\": true}\n",
       "                    ).then(function(){\n",
       "                            \n",
       "var gd = document.getElementById('f974e3fb-0e84-4709-9620-1b17c38418c8');\n",
       "var x = new MutationObserver(function (mutations, observer) {{\n",
       "        var display = window.getComputedStyle(gd).display;\n",
       "        if (!display || display === 'none') {{\n",
       "            console.log([gd, 'removed!']);\n",
       "            Plotly.purge(gd);\n",
       "            observer.disconnect();\n",
       "        }}\n",
       "}});\n",
       "\n",
       "// Listen for the removal of the full notebook cells\n",
       "var notebookContainer = gd.closest('#notebook-container');\n",
       "if (notebookContainer) {{\n",
       "    x.observe(notebookContainer, {childList: true});\n",
       "}}\n",
       "\n",
       "// Listen for the clearing of the current output cell\n",
       "var outputEl = gd.closest('.output');\n",
       "if (outputEl) {{\n",
       "    x.observe(outputEl, {childList: true});\n",
       "}}\n",
       "\n",
       "                        })\n",
       "                };\n",
       "                });\n",
       "            </script>\n",
       "        </div>"
      ]
     },
     "metadata": {},
     "output_type": "display_data"
    }
   ],
   "source": [
    "df['A'].iplot(kind='hist',bins=25)"
   ]
  },
  {
   "cell_type": "markdown",
   "metadata": {},
   "source": [
    "## Bolha"
   ]
  },
  {
   "cell_type": "code",
   "execution_count": 17,
   "metadata": {
    "ExecuteTime": {
     "end_time": "2020-05-02T00:39:52.622157Z",
     "start_time": "2020-05-02T00:39:52.320982Z"
    }
   },
   "outputs": [
    {
     "data": {
      "application/vnd.plotly.v1+json": {
       "config": {
        "linkText": "Export to plot.ly",
        "plotlyServerURL": "https://plot.ly",
        "showLink": true
       },
       "data": [
        {
         "marker": {
          "color": [
           "rgb(255, 153, 51)",
           "rgb(55, 128, 191)",
           "rgb(50, 171, 96)",
           "rgb(128, 0, 128)",
           "rgb(219, 64, 82)",
           "rgb(0, 128, 128)",
           "rgb(255, 255, 51)",
           "rgb(128, 128, 0)",
           "rgb(251, 128, 114)",
           "rgb(128, 177, 211)"
          ],
          "line": {
           "width": 1.3
          },
          "size": [
           60,
           101,
           75,
           61,
           69,
           73,
           96,
           96,
           62,
           81,
           84,
           70,
           89,
           95,
           49,
           98,
           96,
           71,
           72,
           66,
           72,
           75,
           68,
           39,
           61,
           44,
           74,
           72,
           76,
           50,
           53,
           81,
           62,
           73,
           42,
           68,
           79,
           47,
           48,
           87,
           60,
           46,
           78,
           74,
           108,
           59,
           99,
           77,
           68,
           73,
           47,
           69,
           74,
           95,
           96,
           96,
           90,
           75,
           12,
           50,
           66,
           61,
           78,
           72,
           64,
           60,
           96,
           96,
           62,
           43,
           58,
           105,
           62,
           57,
           54,
           80,
           69,
           62,
           60,
           95,
           109,
           82,
           87,
           79,
           61,
           93,
           81,
           48,
           91,
           73,
           25,
           72,
           107,
           74,
           111,
           111,
           102,
           86,
           80,
           55
          ],
          "symbol": "circle"
         },
         "mode": "markers",
         "text": "",
         "type": "scatter",
         "x": [
          -1.1657268930546911,
          -0.8257896723416672,
          -1.5692473690498552,
          0.04148074727700573,
          -0.37141526705551925,
          -1.0252331492540236,
          0.03808643193886817,
          0.6385237277266756,
          -0.03634094726247845,
          0.930639523996398,
          -0.15769993863339335,
          -1.3115818372959207,
          -0.6956200174046264,
          0.4485882406005429,
          0.31649879044255985,
          -1.4018139640972982,
          0.39920864559665786,
          -0.10592261410136272,
          -0.058408468861257425,
          0.11338790552456374,
          0.771451750196267,
          -0.20401324182769112,
          1.3834361156529802,
          -0.9274853486806579,
          0.14036807996280848,
          0.6504871783878534,
          -0.4012916567745803,
          -1.1123688423070532,
          -0.5206109202042801,
          -1.5299164801300464,
          -0.17446907711289097,
          -1.6506726554876658,
          0.9342351699264133,
          -1.6113583437291723,
          0.9098913890383441,
          1.9770747503734736,
          0.047668778464560066,
          1.7923434064461392,
          -1.3772213470058206,
          0.03494868487903562,
          0.481504547200912,
          -0.26260218876180397,
          0.8406656571888367,
          0.4773931682096321,
          -0.9327329880484112,
          -0.5315533595411261,
          -1.3582888550555947,
          -0.35490398446858434,
          -1.1157896762940882,
          0.41272172170477245,
          1.0458864663929586,
          0.43451589045221944,
          -0.37577300950511977,
          0.33808657491023214,
          -0.07152345355591183,
          0.8032108462133098,
          0.18245491124717708,
          -1.0571104834254184,
          0.16438257249290036,
          -0.5780890823220005,
          -0.9380222318218958,
          0.44229935023690725,
          -0.9278374618952944,
          -0.034949624334541546,
          -1.0340872672557324,
          -0.13974001324651703,
          -0.2919368733015318,
          1.002702264475855,
          -1.1968979548754446,
          -1.3850973493257903,
          -0.42714008580848406,
          -1.7214297712861604,
          1.0140274495229493,
          -0.36021770144701604,
          -0.6794761363706949,
          -0.6845284565795763,
          0.99605538773384,
          -0.38619946663320476,
          0.7320702176568683,
          -0.7643548322570244,
          1.1807445406919128,
          0.8501345416418742,
          2.678462426358552,
          -0.15578485067074094,
          -0.7370355672026178,
          0.44753721006704444,
          -0.2301867988745454,
          0.12298020901905306,
          1.2125072035295636,
          -0.4934142231343045,
          -1.0972864412529257,
          -0.4296862077321958,
          -0.5941610509888187,
          0.9961970490955918,
          -0.7870054622770482,
          0.19608051727138479,
          0.5840004135465414,
          -0.5238514262542873,
          0.9153080729266359,
          -0.4605436669206109
         ],
         "y": [
          0.8841355807884956,
          -1.2018519903039573,
          -0.7813604437074404,
          -0.6919248283962665,
          -0.6090700517991942,
          -1.5847425272462459,
          0.8800941130873866,
          -1.117152954326337,
          0.30839191877406763,
          0.4992507443148893,
          0.811019128617171,
          -1.1194697152788227,
          0.26132616109683876,
          -0.04063312576310276,
          -0.040617208546109174,
          1.4521803080354538,
          0.7188186269954967,
          -1.1949315720134128,
          0.20886087549922405,
          0.8840313510069323,
          0.31312789635592975,
          0.7160149644554132,
          -0.4221003899412094,
          -2.2802874512727898,
          -1.246436604263054,
          0.6866102012400632,
          0.5677203393248417,
          -0.5963896855140837,
          0.79409494373185,
          1.2867304239152937,
          0.5538692349797086,
          0.900332290774584,
          1.1823357315962189,
          0.6177834000735457,
          0.6896077406770214,
          -0.27076731126208353,
          0.39706171337341184,
          -0.16615594156962268,
          -0.1703820000471231,
          0.6333428442434194,
          -0.8839784064479783,
          0.8710611118205372,
          0.018128528664612762,
          0.059077932094537,
          -2.7152166112873672,
          -0.0640831904263152,
          -0.9710375266761576,
          0.2552825123045555,
          0.327422499269327,
          -1.1647597142547192,
          0.7605994940595009,
          0.017750790409212316,
          0.1994961650671732,
          0.10943274780509042,
          0.21794904931044667,
          -0.40058981514845116,
          1.2267678416756223,
          -0.7059097947692653,
          0.42194973120502605,
          -1.3726147490117409,
          -0.3632837397565943,
          1.0591388513310673,
          0.7844724227029937,
          -0.7212655767076589,
          -0.26657468033646126,
          1.4689154351444949,
          -0.3055071427197533,
          -0.6825021367594182,
          1.9382793081063177,
          1.9878772760134318,
          0.3427107055806652,
          0.14069874522957815,
          0.9448495574182093,
          1.6379714237382257,
          0.43704396091988845,
          -1.2498194806763598,
          -0.19402341742139284,
          -0.7658491996505546,
          -0.3932725942609261,
          0.3712040975782359,
          -0.3784211046426365,
          -0.9732140681745898,
          0.3317598863575627,
          0.15036006159105378,
          0.6009175803960332,
          0.6340183275484096,
          0.9447966454362406,
          0.8009564616629822,
          0.5517526246690576,
          -0.24974977970951584,
          1.366375419299985,
          1.5056227833986284,
          -0.19461046242137378,
          -0.7931977016755076,
          -1.465297233176536,
          -0.6561276547721709,
          0.2694406537658064,
          -1.963384192387417,
          -0.03977409852472031,
          -0.25942371843808265
         ]
        }
       ],
       "layout": {
        "legend": {
         "bgcolor": "#F5F6F9",
         "font": {
          "color": "#4D5663"
         }
        },
        "paper_bgcolor": "#F5F6F9",
        "plot_bgcolor": "#F5F6F9",
        "template": {
         "data": {
          "bar": [
           {
            "error_x": {
             "color": "#2a3f5f"
            },
            "error_y": {
             "color": "#2a3f5f"
            },
            "marker": {
             "line": {
              "color": "#E5ECF6",
              "width": 0.5
             }
            },
            "type": "bar"
           }
          ],
          "barpolar": [
           {
            "marker": {
             "line": {
              "color": "#E5ECF6",
              "width": 0.5
             }
            },
            "type": "barpolar"
           }
          ],
          "carpet": [
           {
            "aaxis": {
             "endlinecolor": "#2a3f5f",
             "gridcolor": "white",
             "linecolor": "white",
             "minorgridcolor": "white",
             "startlinecolor": "#2a3f5f"
            },
            "baxis": {
             "endlinecolor": "#2a3f5f",
             "gridcolor": "white",
             "linecolor": "white",
             "minorgridcolor": "white",
             "startlinecolor": "#2a3f5f"
            },
            "type": "carpet"
           }
          ],
          "choropleth": [
           {
            "colorbar": {
             "outlinewidth": 0,
             "ticks": ""
            },
            "type": "choropleth"
           }
          ],
          "contour": [
           {
            "colorbar": {
             "outlinewidth": 0,
             "ticks": ""
            },
            "colorscale": [
             [
              0,
              "#0d0887"
             ],
             [
              0.1111111111111111,
              "#46039f"
             ],
             [
              0.2222222222222222,
              "#7201a8"
             ],
             [
              0.3333333333333333,
              "#9c179e"
             ],
             [
              0.4444444444444444,
              "#bd3786"
             ],
             [
              0.5555555555555556,
              "#d8576b"
             ],
             [
              0.6666666666666666,
              "#ed7953"
             ],
             [
              0.7777777777777778,
              "#fb9f3a"
             ],
             [
              0.8888888888888888,
              "#fdca26"
             ],
             [
              1,
              "#f0f921"
             ]
            ],
            "type": "contour"
           }
          ],
          "contourcarpet": [
           {
            "colorbar": {
             "outlinewidth": 0,
             "ticks": ""
            },
            "type": "contourcarpet"
           }
          ],
          "heatmap": [
           {
            "colorbar": {
             "outlinewidth": 0,
             "ticks": ""
            },
            "colorscale": [
             [
              0,
              "#0d0887"
             ],
             [
              0.1111111111111111,
              "#46039f"
             ],
             [
              0.2222222222222222,
              "#7201a8"
             ],
             [
              0.3333333333333333,
              "#9c179e"
             ],
             [
              0.4444444444444444,
              "#bd3786"
             ],
             [
              0.5555555555555556,
              "#d8576b"
             ],
             [
              0.6666666666666666,
              "#ed7953"
             ],
             [
              0.7777777777777778,
              "#fb9f3a"
             ],
             [
              0.8888888888888888,
              "#fdca26"
             ],
             [
              1,
              "#f0f921"
             ]
            ],
            "type": "heatmap"
           }
          ],
          "heatmapgl": [
           {
            "colorbar": {
             "outlinewidth": 0,
             "ticks": ""
            },
            "colorscale": [
             [
              0,
              "#0d0887"
             ],
             [
              0.1111111111111111,
              "#46039f"
             ],
             [
              0.2222222222222222,
              "#7201a8"
             ],
             [
              0.3333333333333333,
              "#9c179e"
             ],
             [
              0.4444444444444444,
              "#bd3786"
             ],
             [
              0.5555555555555556,
              "#d8576b"
             ],
             [
              0.6666666666666666,
              "#ed7953"
             ],
             [
              0.7777777777777778,
              "#fb9f3a"
             ],
             [
              0.8888888888888888,
              "#fdca26"
             ],
             [
              1,
              "#f0f921"
             ]
            ],
            "type": "heatmapgl"
           }
          ],
          "histogram": [
           {
            "marker": {
             "colorbar": {
              "outlinewidth": 0,
              "ticks": ""
             }
            },
            "type": "histogram"
           }
          ],
          "histogram2d": [
           {
            "colorbar": {
             "outlinewidth": 0,
             "ticks": ""
            },
            "colorscale": [
             [
              0,
              "#0d0887"
             ],
             [
              0.1111111111111111,
              "#46039f"
             ],
             [
              0.2222222222222222,
              "#7201a8"
             ],
             [
              0.3333333333333333,
              "#9c179e"
             ],
             [
              0.4444444444444444,
              "#bd3786"
             ],
             [
              0.5555555555555556,
              "#d8576b"
             ],
             [
              0.6666666666666666,
              "#ed7953"
             ],
             [
              0.7777777777777778,
              "#fb9f3a"
             ],
             [
              0.8888888888888888,
              "#fdca26"
             ],
             [
              1,
              "#f0f921"
             ]
            ],
            "type": "histogram2d"
           }
          ],
          "histogram2dcontour": [
           {
            "colorbar": {
             "outlinewidth": 0,
             "ticks": ""
            },
            "colorscale": [
             [
              0,
              "#0d0887"
             ],
             [
              0.1111111111111111,
              "#46039f"
             ],
             [
              0.2222222222222222,
              "#7201a8"
             ],
             [
              0.3333333333333333,
              "#9c179e"
             ],
             [
              0.4444444444444444,
              "#bd3786"
             ],
             [
              0.5555555555555556,
              "#d8576b"
             ],
             [
              0.6666666666666666,
              "#ed7953"
             ],
             [
              0.7777777777777778,
              "#fb9f3a"
             ],
             [
              0.8888888888888888,
              "#fdca26"
             ],
             [
              1,
              "#f0f921"
             ]
            ],
            "type": "histogram2dcontour"
           }
          ],
          "mesh3d": [
           {
            "colorbar": {
             "outlinewidth": 0,
             "ticks": ""
            },
            "type": "mesh3d"
           }
          ],
          "parcoords": [
           {
            "line": {
             "colorbar": {
              "outlinewidth": 0,
              "ticks": ""
             }
            },
            "type": "parcoords"
           }
          ],
          "pie": [
           {
            "automargin": true,
            "type": "pie"
           }
          ],
          "scatter": [
           {
            "marker": {
             "colorbar": {
              "outlinewidth": 0,
              "ticks": ""
             }
            },
            "type": "scatter"
           }
          ],
          "scatter3d": [
           {
            "line": {
             "colorbar": {
              "outlinewidth": 0,
              "ticks": ""
             }
            },
            "marker": {
             "colorbar": {
              "outlinewidth": 0,
              "ticks": ""
             }
            },
            "type": "scatter3d"
           }
          ],
          "scattercarpet": [
           {
            "marker": {
             "colorbar": {
              "outlinewidth": 0,
              "ticks": ""
             }
            },
            "type": "scattercarpet"
           }
          ],
          "scattergeo": [
           {
            "marker": {
             "colorbar": {
              "outlinewidth": 0,
              "ticks": ""
             }
            },
            "type": "scattergeo"
           }
          ],
          "scattergl": [
           {
            "marker": {
             "colorbar": {
              "outlinewidth": 0,
              "ticks": ""
             }
            },
            "type": "scattergl"
           }
          ],
          "scattermapbox": [
           {
            "marker": {
             "colorbar": {
              "outlinewidth": 0,
              "ticks": ""
             }
            },
            "type": "scattermapbox"
           }
          ],
          "scatterpolar": [
           {
            "marker": {
             "colorbar": {
              "outlinewidth": 0,
              "ticks": ""
             }
            },
            "type": "scatterpolar"
           }
          ],
          "scatterpolargl": [
           {
            "marker": {
             "colorbar": {
              "outlinewidth": 0,
              "ticks": ""
             }
            },
            "type": "scatterpolargl"
           }
          ],
          "scatterternary": [
           {
            "marker": {
             "colorbar": {
              "outlinewidth": 0,
              "ticks": ""
             }
            },
            "type": "scatterternary"
           }
          ],
          "surface": [
           {
            "colorbar": {
             "outlinewidth": 0,
             "ticks": ""
            },
            "colorscale": [
             [
              0,
              "#0d0887"
             ],
             [
              0.1111111111111111,
              "#46039f"
             ],
             [
              0.2222222222222222,
              "#7201a8"
             ],
             [
              0.3333333333333333,
              "#9c179e"
             ],
             [
              0.4444444444444444,
              "#bd3786"
             ],
             [
              0.5555555555555556,
              "#d8576b"
             ],
             [
              0.6666666666666666,
              "#ed7953"
             ],
             [
              0.7777777777777778,
              "#fb9f3a"
             ],
             [
              0.8888888888888888,
              "#fdca26"
             ],
             [
              1,
              "#f0f921"
             ]
            ],
            "type": "surface"
           }
          ],
          "table": [
           {
            "cells": {
             "fill": {
              "color": "#EBF0F8"
             },
             "line": {
              "color": "white"
             }
            },
            "header": {
             "fill": {
              "color": "#C8D4E3"
             },
             "line": {
              "color": "white"
             }
            },
            "type": "table"
           }
          ]
         },
         "layout": {
          "annotationdefaults": {
           "arrowcolor": "#2a3f5f",
           "arrowhead": 0,
           "arrowwidth": 1
          },
          "coloraxis": {
           "colorbar": {
            "outlinewidth": 0,
            "ticks": ""
           }
          },
          "colorscale": {
           "diverging": [
            [
             0,
             "#8e0152"
            ],
            [
             0.1,
             "#c51b7d"
            ],
            [
             0.2,
             "#de77ae"
            ],
            [
             0.3,
             "#f1b6da"
            ],
            [
             0.4,
             "#fde0ef"
            ],
            [
             0.5,
             "#f7f7f7"
            ],
            [
             0.6,
             "#e6f5d0"
            ],
            [
             0.7,
             "#b8e186"
            ],
            [
             0.8,
             "#7fbc41"
            ],
            [
             0.9,
             "#4d9221"
            ],
            [
             1,
             "#276419"
            ]
           ],
           "sequential": [
            [
             0,
             "#0d0887"
            ],
            [
             0.1111111111111111,
             "#46039f"
            ],
            [
             0.2222222222222222,
             "#7201a8"
            ],
            [
             0.3333333333333333,
             "#9c179e"
            ],
            [
             0.4444444444444444,
             "#bd3786"
            ],
            [
             0.5555555555555556,
             "#d8576b"
            ],
            [
             0.6666666666666666,
             "#ed7953"
            ],
            [
             0.7777777777777778,
             "#fb9f3a"
            ],
            [
             0.8888888888888888,
             "#fdca26"
            ],
            [
             1,
             "#f0f921"
            ]
           ],
           "sequentialminus": [
            [
             0,
             "#0d0887"
            ],
            [
             0.1111111111111111,
             "#46039f"
            ],
            [
             0.2222222222222222,
             "#7201a8"
            ],
            [
             0.3333333333333333,
             "#9c179e"
            ],
            [
             0.4444444444444444,
             "#bd3786"
            ],
            [
             0.5555555555555556,
             "#d8576b"
            ],
            [
             0.6666666666666666,
             "#ed7953"
            ],
            [
             0.7777777777777778,
             "#fb9f3a"
            ],
            [
             0.8888888888888888,
             "#fdca26"
            ],
            [
             1,
             "#f0f921"
            ]
           ]
          },
          "colorway": [
           "#636efa",
           "#EF553B",
           "#00cc96",
           "#ab63fa",
           "#FFA15A",
           "#19d3f3",
           "#FF6692",
           "#B6E880",
           "#FF97FF",
           "#FECB52"
          ],
          "font": {
           "color": "#2a3f5f"
          },
          "geo": {
           "bgcolor": "white",
           "lakecolor": "white",
           "landcolor": "#E5ECF6",
           "showlakes": true,
           "showland": true,
           "subunitcolor": "white"
          },
          "hoverlabel": {
           "align": "left"
          },
          "hovermode": "closest",
          "mapbox": {
           "style": "light"
          },
          "paper_bgcolor": "white",
          "plot_bgcolor": "#E5ECF6",
          "polar": {
           "angularaxis": {
            "gridcolor": "white",
            "linecolor": "white",
            "ticks": ""
           },
           "bgcolor": "#E5ECF6",
           "radialaxis": {
            "gridcolor": "white",
            "linecolor": "white",
            "ticks": ""
           }
          },
          "scene": {
           "xaxis": {
            "backgroundcolor": "#E5ECF6",
            "gridcolor": "white",
            "gridwidth": 2,
            "linecolor": "white",
            "showbackground": true,
            "ticks": "",
            "zerolinecolor": "white"
           },
           "yaxis": {
            "backgroundcolor": "#E5ECF6",
            "gridcolor": "white",
            "gridwidth": 2,
            "linecolor": "white",
            "showbackground": true,
            "ticks": "",
            "zerolinecolor": "white"
           },
           "zaxis": {
            "backgroundcolor": "#E5ECF6",
            "gridcolor": "white",
            "gridwidth": 2,
            "linecolor": "white",
            "showbackground": true,
            "ticks": "",
            "zerolinecolor": "white"
           }
          },
          "shapedefaults": {
           "line": {
            "color": "#2a3f5f"
           }
          },
          "ternary": {
           "aaxis": {
            "gridcolor": "white",
            "linecolor": "white",
            "ticks": ""
           },
           "baxis": {
            "gridcolor": "white",
            "linecolor": "white",
            "ticks": ""
           },
           "bgcolor": "#E5ECF6",
           "caxis": {
            "gridcolor": "white",
            "linecolor": "white",
            "ticks": ""
           }
          },
          "title": {
           "x": 0.05
          },
          "xaxis": {
           "automargin": true,
           "gridcolor": "white",
           "linecolor": "white",
           "ticks": "",
           "title": {
            "standoff": 15
           },
           "zerolinecolor": "white",
           "zerolinewidth": 2
          },
          "yaxis": {
           "automargin": true,
           "gridcolor": "white",
           "linecolor": "white",
           "ticks": "",
           "title": {
            "standoff": 15
           },
           "zerolinecolor": "white",
           "zerolinewidth": 2
          }
         }
        },
        "title": {
         "font": {
          "color": "#4D5663"
         }
        },
        "xaxis": {
         "gridcolor": "#E1E5ED",
         "showgrid": true,
         "tickfont": {
          "color": "#4D5663"
         },
         "title": {
          "font": {
           "color": "#4D5663"
          },
          "text": ""
         },
         "zerolinecolor": "#E1E5ED"
        },
        "yaxis": {
         "gridcolor": "#E1E5ED",
         "showgrid": true,
         "tickfont": {
          "color": "#4D5663"
         },
         "title": {
          "font": {
           "color": "#4D5663"
          },
          "text": ""
         },
         "zerolinecolor": "#E1E5ED"
        }
       }
      },
      "text/html": [
       "<div>\n",
       "        \n",
       "        \n",
       "            <div id=\"071761da-3580-46d5-8edb-1e48f14cf963\" class=\"plotly-graph-div\" style=\"height:525px; width:100%;\"></div>\n",
       "            <script type=\"text/javascript\">\n",
       "                require([\"plotly\"], function(Plotly) {\n",
       "                    window.PLOTLYENV=window.PLOTLYENV || {};\n",
       "                    window.PLOTLYENV.BASE_URL='https://plot.ly';\n",
       "                    \n",
       "                if (document.getElementById(\"071761da-3580-46d5-8edb-1e48f14cf963\")) {\n",
       "                    Plotly.newPlot(\n",
       "                        '071761da-3580-46d5-8edb-1e48f14cf963',\n",
       "                        [{\"marker\": {\"color\": [\"rgb(255, 153, 51)\", \"rgb(55, 128, 191)\", \"rgb(50, 171, 96)\", \"rgb(128, 0, 128)\", \"rgb(219, 64, 82)\", \"rgb(0, 128, 128)\", \"rgb(255, 255, 51)\", \"rgb(128, 128, 0)\", \"rgb(251, 128, 114)\", \"rgb(128, 177, 211)\"], \"line\": {\"width\": 1.3}, \"size\": [60, 101, 75, 61, 69, 73, 96, 96, 62, 81, 84, 70, 89, 95, 49, 98, 96, 71, 72, 66, 72, 75, 68, 39, 61, 44, 74, 72, 76, 50, 53, 81, 62, 73, 42, 68, 79, 47, 48, 87, 60, 46, 78, 74, 108, 59, 99, 77, 68, 73, 47, 69, 74, 95, 96, 96, 90, 75, 12, 50, 66, 61, 78, 72, 64, 60, 96, 96, 62, 43, 58, 105, 62, 57, 54, 80, 69, 62, 60, 95, 109, 82, 87, 79, 61, 93, 81, 48, 91, 73, 25, 72, 107, 74, 111, 111, 102, 86, 80, 55], \"symbol\": \"circle\"}, \"mode\": \"markers\", \"text\": \"\", \"type\": \"scatter\", \"x\": [-1.1657268930546911, -0.8257896723416672, -1.5692473690498552, 0.04148074727700573, -0.37141526705551925, -1.0252331492540236, 0.03808643193886817, 0.6385237277266756, -0.03634094726247845, 0.930639523996398, -0.15769993863339335, -1.3115818372959207, -0.6956200174046264, 0.4485882406005429, 0.31649879044255985, -1.4018139640972982, 0.39920864559665786, -0.10592261410136272, -0.058408468861257425, 0.11338790552456374, 0.771451750196267, -0.20401324182769112, 1.3834361156529802, -0.9274853486806579, 0.14036807996280848, 0.6504871783878534, -0.4012916567745803, -1.1123688423070532, -0.5206109202042801, -1.5299164801300464, -0.17446907711289097, -1.6506726554876658, 0.9342351699264133, -1.6113583437291723, 0.9098913890383441, 1.9770747503734736, 0.047668778464560066, 1.7923434064461392, -1.3772213470058206, 0.03494868487903562, 0.481504547200912, -0.26260218876180397, 0.8406656571888367, 0.4773931682096321, -0.9327329880484112, -0.5315533595411261, -1.3582888550555947, -0.35490398446858434, -1.1157896762940882, 0.41272172170477245, 1.0458864663929586, 0.43451589045221944, -0.37577300950511977, 0.33808657491023214, -0.07152345355591183, 0.8032108462133098, 0.18245491124717708, -1.0571104834254184, 0.16438257249290036, -0.5780890823220005, -0.9380222318218958, 0.44229935023690725, -0.9278374618952944, -0.034949624334541546, -1.0340872672557324, -0.13974001324651703, -0.2919368733015318, 1.002702264475855, -1.1968979548754446, -1.3850973493257903, -0.42714008580848406, -1.7214297712861604, 1.0140274495229493, -0.36021770144701604, -0.6794761363706949, -0.6845284565795763, 0.99605538773384, -0.38619946663320476, 0.7320702176568683, -0.7643548322570244, 1.1807445406919128, 0.8501345416418742, 2.678462426358552, -0.15578485067074094, -0.7370355672026178, 0.44753721006704444, -0.2301867988745454, 0.12298020901905306, 1.2125072035295636, -0.4934142231343045, -1.0972864412529257, -0.4296862077321958, -0.5941610509888187, 0.9961970490955918, -0.7870054622770482, 0.19608051727138479, 0.5840004135465414, -0.5238514262542873, 0.9153080729266359, -0.4605436669206109], \"y\": [0.8841355807884956, -1.2018519903039573, -0.7813604437074404, -0.6919248283962665, -0.6090700517991942, -1.5847425272462459, 0.8800941130873866, -1.117152954326337, 0.30839191877406763, 0.4992507443148893, 0.811019128617171, -1.1194697152788227, 0.26132616109683876, -0.04063312576310276, -0.040617208546109174, 1.4521803080354538, 0.7188186269954967, -1.1949315720134128, 0.20886087549922405, 0.8840313510069323, 0.31312789635592975, 0.7160149644554132, -0.4221003899412094, -2.2802874512727898, -1.246436604263054, 0.6866102012400632, 0.5677203393248417, -0.5963896855140837, 0.79409494373185, 1.2867304239152937, 0.5538692349797086, 0.900332290774584, 1.1823357315962189, 0.6177834000735457, 0.6896077406770214, -0.27076731126208353, 0.39706171337341184, -0.16615594156962268, -0.1703820000471231, 0.6333428442434194, -0.8839784064479783, 0.8710611118205372, 0.018128528664612762, 0.059077932094537, -2.7152166112873672, -0.0640831904263152, -0.9710375266761576, 0.2552825123045555, 0.327422499269327, -1.1647597142547192, 0.7605994940595009, 0.017750790409212316, 0.1994961650671732, 0.10943274780509042, 0.21794904931044667, -0.40058981514845116, 1.2267678416756223, -0.7059097947692653, 0.42194973120502605, -1.3726147490117409, -0.3632837397565943, 1.0591388513310673, 0.7844724227029937, -0.7212655767076589, -0.26657468033646126, 1.4689154351444949, -0.3055071427197533, -0.6825021367594182, 1.9382793081063177, 1.9878772760134318, 0.3427107055806652, 0.14069874522957815, 0.9448495574182093, 1.6379714237382257, 0.43704396091988845, -1.2498194806763598, -0.19402341742139284, -0.7658491996505546, -0.3932725942609261, 0.3712040975782359, -0.3784211046426365, -0.9732140681745898, 0.3317598863575627, 0.15036006159105378, 0.6009175803960332, 0.6340183275484096, 0.9447966454362406, 0.8009564616629822, 0.5517526246690576, -0.24974977970951584, 1.366375419299985, 1.5056227833986284, -0.19461046242137378, -0.7931977016755076, -1.465297233176536, -0.6561276547721709, 0.2694406537658064, -1.963384192387417, -0.03977409852472031, -0.25942371843808265]}],\n",
       "                        {\"legend\": {\"bgcolor\": \"#F5F6F9\", \"font\": {\"color\": \"#4D5663\"}}, \"paper_bgcolor\": \"#F5F6F9\", \"plot_bgcolor\": \"#F5F6F9\", \"template\": {\"data\": {\"bar\": [{\"error_x\": {\"color\": \"#2a3f5f\"}, \"error_y\": {\"color\": \"#2a3f5f\"}, \"marker\": {\"line\": {\"color\": \"#E5ECF6\", \"width\": 0.5}}, \"type\": \"bar\"}], \"barpolar\": [{\"marker\": {\"line\": {\"color\": \"#E5ECF6\", \"width\": 0.5}}, \"type\": \"barpolar\"}], \"carpet\": [{\"aaxis\": {\"endlinecolor\": \"#2a3f5f\", \"gridcolor\": \"white\", \"linecolor\": \"white\", \"minorgridcolor\": \"white\", \"startlinecolor\": \"#2a3f5f\"}, \"baxis\": {\"endlinecolor\": \"#2a3f5f\", \"gridcolor\": \"white\", \"linecolor\": \"white\", \"minorgridcolor\": \"white\", \"startlinecolor\": \"#2a3f5f\"}, \"type\": \"carpet\"}], \"choropleth\": [{\"colorbar\": {\"outlinewidth\": 0, \"ticks\": \"\"}, \"type\": \"choropleth\"}], \"contour\": [{\"colorbar\": {\"outlinewidth\": 0, \"ticks\": \"\"}, \"colorscale\": [[0.0, \"#0d0887\"], [0.1111111111111111, \"#46039f\"], [0.2222222222222222, \"#7201a8\"], [0.3333333333333333, \"#9c179e\"], [0.4444444444444444, \"#bd3786\"], [0.5555555555555556, \"#d8576b\"], [0.6666666666666666, \"#ed7953\"], [0.7777777777777778, \"#fb9f3a\"], [0.8888888888888888, \"#fdca26\"], [1.0, \"#f0f921\"]], \"type\": \"contour\"}], \"contourcarpet\": [{\"colorbar\": {\"outlinewidth\": 0, \"ticks\": \"\"}, \"type\": \"contourcarpet\"}], \"heatmap\": [{\"colorbar\": {\"outlinewidth\": 0, \"ticks\": \"\"}, \"colorscale\": [[0.0, \"#0d0887\"], [0.1111111111111111, \"#46039f\"], [0.2222222222222222, \"#7201a8\"], [0.3333333333333333, \"#9c179e\"], [0.4444444444444444, \"#bd3786\"], [0.5555555555555556, \"#d8576b\"], [0.6666666666666666, \"#ed7953\"], [0.7777777777777778, \"#fb9f3a\"], [0.8888888888888888, \"#fdca26\"], [1.0, \"#f0f921\"]], \"type\": \"heatmap\"}], \"heatmapgl\": [{\"colorbar\": {\"outlinewidth\": 0, \"ticks\": \"\"}, \"colorscale\": [[0.0, \"#0d0887\"], [0.1111111111111111, \"#46039f\"], [0.2222222222222222, \"#7201a8\"], [0.3333333333333333, \"#9c179e\"], [0.4444444444444444, \"#bd3786\"], [0.5555555555555556, \"#d8576b\"], [0.6666666666666666, \"#ed7953\"], [0.7777777777777778, \"#fb9f3a\"], [0.8888888888888888, \"#fdca26\"], [1.0, \"#f0f921\"]], \"type\": \"heatmapgl\"}], \"histogram\": [{\"marker\": {\"colorbar\": {\"outlinewidth\": 0, \"ticks\": \"\"}}, \"type\": \"histogram\"}], \"histogram2d\": [{\"colorbar\": {\"outlinewidth\": 0, \"ticks\": \"\"}, \"colorscale\": [[0.0, \"#0d0887\"], [0.1111111111111111, \"#46039f\"], [0.2222222222222222, \"#7201a8\"], [0.3333333333333333, \"#9c179e\"], [0.4444444444444444, \"#bd3786\"], [0.5555555555555556, \"#d8576b\"], [0.6666666666666666, \"#ed7953\"], [0.7777777777777778, \"#fb9f3a\"], [0.8888888888888888, \"#fdca26\"], [1.0, \"#f0f921\"]], \"type\": \"histogram2d\"}], \"histogram2dcontour\": [{\"colorbar\": {\"outlinewidth\": 0, \"ticks\": \"\"}, \"colorscale\": [[0.0, \"#0d0887\"], [0.1111111111111111, \"#46039f\"], [0.2222222222222222, \"#7201a8\"], [0.3333333333333333, \"#9c179e\"], [0.4444444444444444, \"#bd3786\"], [0.5555555555555556, \"#d8576b\"], [0.6666666666666666, \"#ed7953\"], [0.7777777777777778, \"#fb9f3a\"], [0.8888888888888888, \"#fdca26\"], [1.0, \"#f0f921\"]], \"type\": \"histogram2dcontour\"}], \"mesh3d\": [{\"colorbar\": {\"outlinewidth\": 0, \"ticks\": \"\"}, \"type\": \"mesh3d\"}], \"parcoords\": [{\"line\": {\"colorbar\": {\"outlinewidth\": 0, \"ticks\": \"\"}}, \"type\": \"parcoords\"}], \"pie\": [{\"automargin\": true, \"type\": \"pie\"}], \"scatter\": [{\"marker\": {\"colorbar\": {\"outlinewidth\": 0, \"ticks\": \"\"}}, \"type\": \"scatter\"}], \"scatter3d\": [{\"line\": {\"colorbar\": {\"outlinewidth\": 0, \"ticks\": \"\"}}, \"marker\": {\"colorbar\": {\"outlinewidth\": 0, \"ticks\": \"\"}}, \"type\": \"scatter3d\"}], \"scattercarpet\": [{\"marker\": {\"colorbar\": {\"outlinewidth\": 0, \"ticks\": \"\"}}, \"type\": \"scattercarpet\"}], \"scattergeo\": [{\"marker\": {\"colorbar\": {\"outlinewidth\": 0, \"ticks\": \"\"}}, \"type\": \"scattergeo\"}], \"scattergl\": [{\"marker\": {\"colorbar\": {\"outlinewidth\": 0, \"ticks\": \"\"}}, \"type\": \"scattergl\"}], \"scattermapbox\": [{\"marker\": {\"colorbar\": {\"outlinewidth\": 0, \"ticks\": \"\"}}, \"type\": \"scattermapbox\"}], \"scatterpolar\": [{\"marker\": {\"colorbar\": {\"outlinewidth\": 0, \"ticks\": \"\"}}, \"type\": \"scatterpolar\"}], \"scatterpolargl\": [{\"marker\": {\"colorbar\": {\"outlinewidth\": 0, \"ticks\": \"\"}}, \"type\": \"scatterpolargl\"}], \"scatterternary\": [{\"marker\": {\"colorbar\": {\"outlinewidth\": 0, \"ticks\": \"\"}}, \"type\": \"scatterternary\"}], \"surface\": [{\"colorbar\": {\"outlinewidth\": 0, \"ticks\": \"\"}, \"colorscale\": [[0.0, \"#0d0887\"], [0.1111111111111111, \"#46039f\"], [0.2222222222222222, \"#7201a8\"], [0.3333333333333333, \"#9c179e\"], [0.4444444444444444, \"#bd3786\"], [0.5555555555555556, \"#d8576b\"], [0.6666666666666666, \"#ed7953\"], [0.7777777777777778, \"#fb9f3a\"], [0.8888888888888888, \"#fdca26\"], [1.0, \"#f0f921\"]], \"type\": \"surface\"}], \"table\": [{\"cells\": {\"fill\": {\"color\": \"#EBF0F8\"}, \"line\": {\"color\": \"white\"}}, \"header\": {\"fill\": {\"color\": \"#C8D4E3\"}, \"line\": {\"color\": \"white\"}}, \"type\": \"table\"}]}, \"layout\": {\"annotationdefaults\": {\"arrowcolor\": \"#2a3f5f\", \"arrowhead\": 0, \"arrowwidth\": 1}, \"coloraxis\": {\"colorbar\": {\"outlinewidth\": 0, \"ticks\": \"\"}}, \"colorscale\": {\"diverging\": [[0, \"#8e0152\"], [0.1, \"#c51b7d\"], [0.2, \"#de77ae\"], [0.3, \"#f1b6da\"], [0.4, \"#fde0ef\"], [0.5, \"#f7f7f7\"], [0.6, \"#e6f5d0\"], [0.7, \"#b8e186\"], [0.8, \"#7fbc41\"], [0.9, \"#4d9221\"], [1, \"#276419\"]], \"sequential\": [[0.0, \"#0d0887\"], [0.1111111111111111, \"#46039f\"], [0.2222222222222222, \"#7201a8\"], [0.3333333333333333, \"#9c179e\"], [0.4444444444444444, \"#bd3786\"], [0.5555555555555556, \"#d8576b\"], [0.6666666666666666, \"#ed7953\"], [0.7777777777777778, \"#fb9f3a\"], [0.8888888888888888, \"#fdca26\"], [1.0, \"#f0f921\"]], \"sequentialminus\": [[0.0, \"#0d0887\"], [0.1111111111111111, \"#46039f\"], [0.2222222222222222, \"#7201a8\"], [0.3333333333333333, \"#9c179e\"], [0.4444444444444444, \"#bd3786\"], [0.5555555555555556, \"#d8576b\"], [0.6666666666666666, \"#ed7953\"], [0.7777777777777778, \"#fb9f3a\"], [0.8888888888888888, \"#fdca26\"], [1.0, \"#f0f921\"]]}, \"colorway\": [\"#636efa\", \"#EF553B\", \"#00cc96\", \"#ab63fa\", \"#FFA15A\", \"#19d3f3\", \"#FF6692\", \"#B6E880\", \"#FF97FF\", \"#FECB52\"], \"font\": {\"color\": \"#2a3f5f\"}, \"geo\": {\"bgcolor\": \"white\", \"lakecolor\": \"white\", \"landcolor\": \"#E5ECF6\", \"showlakes\": true, \"showland\": true, \"subunitcolor\": \"white\"}, \"hoverlabel\": {\"align\": \"left\"}, \"hovermode\": \"closest\", \"mapbox\": {\"style\": \"light\"}, \"paper_bgcolor\": \"white\", \"plot_bgcolor\": \"#E5ECF6\", \"polar\": {\"angularaxis\": {\"gridcolor\": \"white\", \"linecolor\": \"white\", \"ticks\": \"\"}, \"bgcolor\": \"#E5ECF6\", \"radialaxis\": {\"gridcolor\": \"white\", \"linecolor\": \"white\", \"ticks\": \"\"}}, \"scene\": {\"xaxis\": {\"backgroundcolor\": \"#E5ECF6\", \"gridcolor\": \"white\", \"gridwidth\": 2, \"linecolor\": \"white\", \"showbackground\": true, \"ticks\": \"\", \"zerolinecolor\": \"white\"}, \"yaxis\": {\"backgroundcolor\": \"#E5ECF6\", \"gridcolor\": \"white\", \"gridwidth\": 2, \"linecolor\": \"white\", \"showbackground\": true, \"ticks\": \"\", \"zerolinecolor\": \"white\"}, \"zaxis\": {\"backgroundcolor\": \"#E5ECF6\", \"gridcolor\": \"white\", \"gridwidth\": 2, \"linecolor\": \"white\", \"showbackground\": true, \"ticks\": \"\", \"zerolinecolor\": \"white\"}}, \"shapedefaults\": {\"line\": {\"color\": \"#2a3f5f\"}}, \"ternary\": {\"aaxis\": {\"gridcolor\": \"white\", \"linecolor\": \"white\", \"ticks\": \"\"}, \"baxis\": {\"gridcolor\": \"white\", \"linecolor\": \"white\", \"ticks\": \"\"}, \"bgcolor\": \"#E5ECF6\", \"caxis\": {\"gridcolor\": \"white\", \"linecolor\": \"white\", \"ticks\": \"\"}}, \"title\": {\"x\": 0.05}, \"xaxis\": {\"automargin\": true, \"gridcolor\": \"white\", \"linecolor\": \"white\", \"ticks\": \"\", \"title\": {\"standoff\": 15}, \"zerolinecolor\": \"white\", \"zerolinewidth\": 2}, \"yaxis\": {\"automargin\": true, \"gridcolor\": \"white\", \"linecolor\": \"white\", \"ticks\": \"\", \"title\": {\"standoff\": 15}, \"zerolinecolor\": \"white\", \"zerolinewidth\": 2}}}, \"title\": {\"font\": {\"color\": \"#4D5663\"}}, \"xaxis\": {\"gridcolor\": \"#E1E5ED\", \"showgrid\": true, \"tickfont\": {\"color\": \"#4D5663\"}, \"title\": {\"font\": {\"color\": \"#4D5663\"}, \"text\": \"\"}, \"zerolinecolor\": \"#E1E5ED\"}, \"yaxis\": {\"gridcolor\": \"#E1E5ED\", \"showgrid\": true, \"tickfont\": {\"color\": \"#4D5663\"}, \"title\": {\"font\": {\"color\": \"#4D5663\"}, \"text\": \"\"}, \"zerolinecolor\": \"#E1E5ED\"}},\n",
       "                        {\"showLink\": true, \"linkText\": \"Export to plot.ly\", \"plotlyServerURL\": \"https://plot.ly\", \"responsive\": true}\n",
       "                    ).then(function(){\n",
       "                            \n",
       "var gd = document.getElementById('071761da-3580-46d5-8edb-1e48f14cf963');\n",
       "var x = new MutationObserver(function (mutations, observer) {{\n",
       "        var display = window.getComputedStyle(gd).display;\n",
       "        if (!display || display === 'none') {{\n",
       "            console.log([gd, 'removed!']);\n",
       "            Plotly.purge(gd);\n",
       "            observer.disconnect();\n",
       "        }}\n",
       "}});\n",
       "\n",
       "// Listen for the removal of the full notebook cells\n",
       "var notebookContainer = gd.closest('#notebook-container');\n",
       "if (notebookContainer) {{\n",
       "    x.observe(notebookContainer, {childList: true});\n",
       "}}\n",
       "\n",
       "// Listen for the clearing of the current output cell\n",
       "var outputEl = gd.closest('.output');\n",
       "if (outputEl) {{\n",
       "    x.observe(outputEl, {childList: true});\n",
       "}}\n",
       "\n",
       "                        })\n",
       "                };\n",
       "                });\n",
       "            </script>\n",
       "        </div>"
      ]
     },
     "metadata": {},
     "output_type": "display_data"
    }
   ],
   "source": [
    "df.iplot(kind='bubble',x='A',y='B',size='C')"
   ]
  },
  {
   "cell_type": "markdown",
   "metadata": {},
   "source": [
    "## scatter_matrix()\n",
    "\n",
    "Similar à sns.pairplot()"
   ]
  },
  {
   "cell_type": "code",
   "execution_count": 18,
   "metadata": {
    "ExecuteTime": {
     "end_time": "2020-05-02T00:39:56.127362Z",
     "start_time": "2020-05-02T00:39:52.624153Z"
    }
   },
   "outputs": [
    {
     "data": {
      "application/vnd.plotly.v1+json": {
       "config": {
        "linkText": "Export to plot.ly",
        "plotlyServerURL": "https://plot.ly",
        "showLink": true
       },
       "data": [
        {
         "histfunc": "count",
         "histnorm": "",
         "marker": {
          "color": "rgba(255, 153, 51, 1.0)",
          "line": {
           "color": "#4D5663",
           "width": 1.3
          }
         },
         "name": "A",
         "nbinsx": 10,
         "opacity": 0.8,
         "orientation": "v",
         "type": "histogram",
         "x": [
          -1.1657268930546911,
          -0.8257896723416672,
          -1.5692473690498552,
          0.04148074727700573,
          -0.37141526705551925,
          -1.0252331492540236,
          0.03808643193886817,
          0.6385237277266756,
          -0.03634094726247845,
          0.930639523996398,
          -0.15769993863339335,
          -1.3115818372959207,
          -0.6956200174046264,
          0.4485882406005429,
          0.31649879044255985,
          -1.4018139640972982,
          0.39920864559665786,
          -0.10592261410136272,
          -0.058408468861257425,
          0.11338790552456374,
          0.771451750196267,
          -0.20401324182769112,
          1.3834361156529802,
          -0.9274853486806579,
          0.14036807996280848,
          0.6504871783878534,
          -0.4012916567745803,
          -1.1123688423070532,
          -0.5206109202042801,
          -1.5299164801300464,
          -0.17446907711289097,
          -1.6506726554876658,
          0.9342351699264133,
          -1.6113583437291723,
          0.9098913890383441,
          1.9770747503734736,
          0.047668778464560066,
          1.7923434064461392,
          -1.3772213470058206,
          0.03494868487903562,
          0.481504547200912,
          -0.26260218876180397,
          0.8406656571888367,
          0.4773931682096321,
          -0.9327329880484112,
          -0.5315533595411261,
          -1.3582888550555947,
          -0.35490398446858434,
          -1.1157896762940882,
          0.41272172170477245,
          1.0458864663929586,
          0.43451589045221944,
          -0.37577300950511977,
          0.33808657491023214,
          -0.07152345355591183,
          0.8032108462133098,
          0.18245491124717708,
          -1.0571104834254184,
          0.16438257249290036,
          -0.5780890823220005,
          -0.9380222318218958,
          0.44229935023690725,
          -0.9278374618952944,
          -0.034949624334541546,
          -1.0340872672557324,
          -0.13974001324651703,
          -0.2919368733015318,
          1.002702264475855,
          -1.1968979548754446,
          -1.3850973493257903,
          -0.42714008580848406,
          -1.7214297712861604,
          1.0140274495229493,
          -0.36021770144701604,
          -0.6794761363706949,
          -0.6845284565795763,
          0.99605538773384,
          -0.38619946663320476,
          0.7320702176568683,
          -0.7643548322570244,
          1.1807445406919128,
          0.8501345416418742,
          2.678462426358552,
          -0.15578485067074094,
          -0.7370355672026178,
          0.44753721006704444,
          -0.2301867988745454,
          0.12298020901905306,
          1.2125072035295636,
          -0.4934142231343045,
          -1.0972864412529257,
          -0.4296862077321958,
          -0.5941610509888187,
          0.9961970490955918,
          -0.7870054622770482,
          0.19608051727138479,
          0.5840004135465414,
          -0.5238514262542873,
          0.9153080729266359,
          -0.4605436669206109
         ],
         "xaxis": "x",
         "yaxis": "y"
        },
        {
         "line": {
          "color": "rgba(128, 128, 128, 1.0)",
          "dash": "solid",
          "shape": "linear",
          "width": 1.3
         },
         "marker": {
          "size": 2,
          "symbol": "circle"
         },
         "mode": "markers",
         "name": "A",
         "text": "",
         "type": "scatter",
         "x": [
          0.8841355807884956,
          -1.2018519903039573,
          -0.7813604437074404,
          -0.6919248283962665,
          -0.6090700517991942,
          -1.5847425272462459,
          0.8800941130873866,
          -1.117152954326337,
          0.30839191877406763,
          0.4992507443148893,
          0.811019128617171,
          -1.1194697152788227,
          0.26132616109683876,
          -0.04063312576310276,
          -0.040617208546109174,
          1.4521803080354538,
          0.7188186269954967,
          -1.1949315720134128,
          0.20886087549922405,
          0.8840313510069323,
          0.31312789635592975,
          0.7160149644554132,
          -0.4221003899412094,
          -2.2802874512727898,
          -1.246436604263054,
          0.6866102012400632,
          0.5677203393248417,
          -0.5963896855140837,
          0.79409494373185,
          1.2867304239152937,
          0.5538692349797086,
          0.900332290774584,
          1.1823357315962189,
          0.6177834000735457,
          0.6896077406770214,
          -0.27076731126208353,
          0.39706171337341184,
          -0.16615594156962268,
          -0.1703820000471231,
          0.6333428442434194,
          -0.8839784064479783,
          0.8710611118205372,
          0.018128528664612762,
          0.059077932094537,
          -2.7152166112873672,
          -0.0640831904263152,
          -0.9710375266761576,
          0.2552825123045555,
          0.327422499269327,
          -1.1647597142547192,
          0.7605994940595009,
          0.017750790409212316,
          0.1994961650671732,
          0.10943274780509042,
          0.21794904931044667,
          -0.40058981514845116,
          1.2267678416756223,
          -0.7059097947692653,
          0.42194973120502605,
          -1.3726147490117409,
          -0.3632837397565943,
          1.0591388513310673,
          0.7844724227029937,
          -0.7212655767076589,
          -0.26657468033646126,
          1.4689154351444949,
          -0.3055071427197533,
          -0.6825021367594182,
          1.9382793081063177,
          1.9878772760134318,
          0.3427107055806652,
          0.14069874522957815,
          0.9448495574182093,
          1.6379714237382257,
          0.43704396091988845,
          -1.2498194806763598,
          -0.19402341742139284,
          -0.7658491996505546,
          -0.3932725942609261,
          0.3712040975782359,
          -0.3784211046426365,
          -0.9732140681745898,
          0.3317598863575627,
          0.15036006159105378,
          0.6009175803960332,
          0.6340183275484096,
          0.9447966454362406,
          0.8009564616629822,
          0.5517526246690576,
          -0.24974977970951584,
          1.366375419299985,
          1.5056227833986284,
          -0.19461046242137378,
          -0.7931977016755076,
          -1.465297233176536,
          -0.6561276547721709,
          0.2694406537658064,
          -1.963384192387417,
          -0.03977409852472031,
          -0.25942371843808265
         ],
         "xaxis": "x2",
         "y": [
          -1.1657268930546911,
          -0.8257896723416672,
          -1.5692473690498552,
          0.04148074727700573,
          -0.37141526705551925,
          -1.0252331492540236,
          0.03808643193886817,
          0.6385237277266756,
          -0.03634094726247845,
          0.930639523996398,
          -0.15769993863339335,
          -1.3115818372959207,
          -0.6956200174046264,
          0.4485882406005429,
          0.31649879044255985,
          -1.4018139640972982,
          0.39920864559665786,
          -0.10592261410136272,
          -0.058408468861257425,
          0.11338790552456374,
          0.771451750196267,
          -0.20401324182769112,
          1.3834361156529802,
          -0.9274853486806579,
          0.14036807996280848,
          0.6504871783878534,
          -0.4012916567745803,
          -1.1123688423070532,
          -0.5206109202042801,
          -1.5299164801300464,
          -0.17446907711289097,
          -1.6506726554876658,
          0.9342351699264133,
          -1.6113583437291723,
          0.9098913890383441,
          1.9770747503734736,
          0.047668778464560066,
          1.7923434064461392,
          -1.3772213470058206,
          0.03494868487903562,
          0.481504547200912,
          -0.26260218876180397,
          0.8406656571888367,
          0.4773931682096321,
          -0.9327329880484112,
          -0.5315533595411261,
          -1.3582888550555947,
          -0.35490398446858434,
          -1.1157896762940882,
          0.41272172170477245,
          1.0458864663929586,
          0.43451589045221944,
          -0.37577300950511977,
          0.33808657491023214,
          -0.07152345355591183,
          0.8032108462133098,
          0.18245491124717708,
          -1.0571104834254184,
          0.16438257249290036,
          -0.5780890823220005,
          -0.9380222318218958,
          0.44229935023690725,
          -0.9278374618952944,
          -0.034949624334541546,
          -1.0340872672557324,
          -0.13974001324651703,
          -0.2919368733015318,
          1.002702264475855,
          -1.1968979548754446,
          -1.3850973493257903,
          -0.42714008580848406,
          -1.7214297712861604,
          1.0140274495229493,
          -0.36021770144701604,
          -0.6794761363706949,
          -0.6845284565795763,
          0.99605538773384,
          -0.38619946663320476,
          0.7320702176568683,
          -0.7643548322570244,
          1.1807445406919128,
          0.8501345416418742,
          2.678462426358552,
          -0.15578485067074094,
          -0.7370355672026178,
          0.44753721006704444,
          -0.2301867988745454,
          0.12298020901905306,
          1.2125072035295636,
          -0.4934142231343045,
          -1.0972864412529257,
          -0.4296862077321958,
          -0.5941610509888187,
          0.9961970490955918,
          -0.7870054622770482,
          0.19608051727138479,
          0.5840004135465414,
          -0.5238514262542873,
          0.9153080729266359,
          -0.4605436669206109
         ],
         "yaxis": "y2"
        },
        {
         "line": {
          "color": "rgba(128, 128, 128, 1.0)",
          "dash": "solid",
          "shape": "linear",
          "width": 1.3
         },
         "marker": {
          "size": 2,
          "symbol": "circle"
         },
         "mode": "markers",
         "name": "A",
         "text": "",
         "type": "scatter",
         "x": [
          -0.6577419470666775,
          1.5468328854157893,
          0.15055942353848414,
          -0.6166951991924662,
          -0.17696035549092132,
          0.0026159205405225042,
          1.2331865720032635,
          1.2435528088543073,
          -0.5667531689608509,
          0.4630368885755947,
          0.6391231441591966,
          -0.1429541644335827,
          0.8805438770540935,
          1.1849212235092015,
          -1.2728784962465851,
          1.346781675013242,
          1.2482247918277778,
          -0.10396199557224642,
          -0.028906831431156986,
          -0.3572981365831892,
          -0.05223546732515046,
          0.15786227922202295,
          -0.22009412895249236,
          -1.7721864067462902,
          -0.6061448275657668,
          -1.5308377336006376,
          0.07041961683058189,
          -0.03830912190432932,
          0.2135282713552872,
          -1.1935584154464867,
          -1.0677516214342473,
          0.44175940635296035,
          -0.5562173071499407,
          0.0176240616889017,
          -1.6211847095100522,
          -0.2575871901559379,
          0.33748999172485566,
          -1.3784111551517109,
          -1.2958205545388826,
          0.7785079111442709,
          -0.654447389504053,
          -1.3999313788086734,
          0.3167097883572841,
          0.07731932475096173,
          1.8827191381966604,
          -0.7083923654989508,
          1.3926633512282667,
          0.24526098808364127,
          -0.2210347711090506,
          0.038281908314065076,
          -1.3357478551192634,
          -0.16227660062644264,
          0.06406613898696684,
          1.213518760817214,
          1.2457277288385022,
          1.247373441376304,
          0.921374684450078,
          0.14034040891334543,
          -3.257339327618611,
          -1.213543392402012,
          -0.3445247702276053,
          -0.5969991004026705,
          0.2719557150165253,
          -0.036248336471367645,
          -0.4580189614691427,
          -0.6709366758127309,
          1.2358352087586708,
          1.2312434994547732,
          -0.538717224541438,
          -1.5966239135719764,
          -0.760305428049948,
          1.7572443209590902,
          -0.5739219510008042,
          -0.8324710695457126,
          -1.0143133987575614,
          0.42630799512701356,
          -0.17451166862510278,
          -0.5526444573230915,
          -0.6556668389465901,
          1.2012044387582725,
          1.9310312337228657,
          0.5076657033800569,
          0.7995228996441234,
          0.3430015789595602,
          -0.6105581367353852,
          1.099914761180952,
          0.42969561622664854,
          -1.3180076819962583,
          0.9940939848559184,
          0.016833009453457417,
          -2.520279558101372,
          -0.00830409476513253,
          1.8249939096826509,
          0.0536635012668011,
          2.0828997434481793,
          2.0446329233848886,
          1.5922253838727163,
          0.7335493331596151,
          0.39576990054133315,
          -0.9420576028250149
         ],
         "xaxis": "x3",
         "y": [
          -1.1657268930546911,
          -0.8257896723416672,
          -1.5692473690498552,
          0.04148074727700573,
          -0.37141526705551925,
          -1.0252331492540236,
          0.03808643193886817,
          0.6385237277266756,
          -0.03634094726247845,
          0.930639523996398,
          -0.15769993863339335,
          -1.3115818372959207,
          -0.6956200174046264,
          0.4485882406005429,
          0.31649879044255985,
          -1.4018139640972982,
          0.39920864559665786,
          -0.10592261410136272,
          -0.058408468861257425,
          0.11338790552456374,
          0.771451750196267,
          -0.20401324182769112,
          1.3834361156529802,
          -0.9274853486806579,
          0.14036807996280848,
          0.6504871783878534,
          -0.4012916567745803,
          -1.1123688423070532,
          -0.5206109202042801,
          -1.5299164801300464,
          -0.17446907711289097,
          -1.6506726554876658,
          0.9342351699264133,
          -1.6113583437291723,
          0.9098913890383441,
          1.9770747503734736,
          0.047668778464560066,
          1.7923434064461392,
          -1.3772213470058206,
          0.03494868487903562,
          0.481504547200912,
          -0.26260218876180397,
          0.8406656571888367,
          0.4773931682096321,
          -0.9327329880484112,
          -0.5315533595411261,
          -1.3582888550555947,
          -0.35490398446858434,
          -1.1157896762940882,
          0.41272172170477245,
          1.0458864663929586,
          0.43451589045221944,
          -0.37577300950511977,
          0.33808657491023214,
          -0.07152345355591183,
          0.8032108462133098,
          0.18245491124717708,
          -1.0571104834254184,
          0.16438257249290036,
          -0.5780890823220005,
          -0.9380222318218958,
          0.44229935023690725,
          -0.9278374618952944,
          -0.034949624334541546,
          -1.0340872672557324,
          -0.13974001324651703,
          -0.2919368733015318,
          1.002702264475855,
          -1.1968979548754446,
          -1.3850973493257903,
          -0.42714008580848406,
          -1.7214297712861604,
          1.0140274495229493,
          -0.36021770144701604,
          -0.6794761363706949,
          -0.6845284565795763,
          0.99605538773384,
          -0.38619946663320476,
          0.7320702176568683,
          -0.7643548322570244,
          1.1807445406919128,
          0.8501345416418742,
          2.678462426358552,
          -0.15578485067074094,
          -0.7370355672026178,
          0.44753721006704444,
          -0.2301867988745454,
          0.12298020901905306,
          1.2125072035295636,
          -0.4934142231343045,
          -1.0972864412529257,
          -0.4296862077321958,
          -0.5941610509888187,
          0.9961970490955918,
          -0.7870054622770482,
          0.19608051727138479,
          0.5840004135465414,
          -0.5238514262542873,
          0.9153080729266359,
          -0.4605436669206109
         ],
         "yaxis": "y3"
        },
        {
         "line": {
          "color": "rgba(128, 128, 128, 1.0)",
          "dash": "solid",
          "shape": "linear",
          "width": 1.3
         },
         "marker": {
          "size": 2,
          "symbol": "circle"
         },
         "mode": "markers",
         "name": "A",
         "text": "",
         "type": "scatter",
         "x": [
          -0.17098599570917958,
          -1.393236655946603,
          -1.0693801396851572,
          -0.10936613135512015,
          -0.8314593670479007,
          -0.4092384624054739,
          1.591365527813672,
          0.11362375490085795,
          -0.25776072822892904,
          -0.8125864413251922,
          -0.4016254821547242,
          -0.40314548041442333,
          0.441318892858655,
          -0.9951032400894578,
          0.7046896087329072,
          1.4338435709601507,
          1.2900813394365953,
          0.7566969910329154,
          0.6054782545258194,
          -0.3812538164486021,
          1.7252861447847634,
          -0.3097180343167236,
          1.2634026380699939,
          -0.3310218412132827,
          1.2981841087496109,
          -1.3164876377541306,
          1.3385133730049839,
          0.408919062636667,
          0.26155431919249206,
          0.16179530977109546,
          1.1882180742137027,
          -0.5373015572622404,
          1.0851103049503912,
          -0.11971988208771717,
          -3.1534897814326572,
          1.0636433852077034,
          -0.24206197356159356,
          -0.4805364352370448,
          0.0825621351357835,
          0.3213995162912668,
          -1.3860840204546088,
          0.7076515268193385,
          -0.38418705166305434,
          1.0503272088152968,
          -0.1507001548323202,
          0.1326781167019228,
          0.031640977634701674,
          0.3270643194243436,
          -1.0240130765030746,
          -0.9850468081299435,
          0.6407835817746089,
          0.9226485955501837,
          0.6099910920980564,
          -0.1338015368573558,
          1.1102649237501483,
          -1.3958011343771304,
          -0.480761295431456,
          -0.9197336470771523,
          0.2436166046180653,
          -0.491075080205768,
          -0.602342191813965,
          -0.03627264045796918,
          -0.3246622644750205,
          -0.7081351488085751,
          0.8219705780465458,
          0.9068696677971314,
          0.1321076675794045,
          0.8483071774032414,
          2.0991711366157677,
          -1.4080771727787935,
          -0.562424101202065,
          -0.503291241503718,
          2.007100335200901,
          -0.28186514240083355,
          1.204314296055594,
          -1.100511062799972,
          -0.37739914584103695,
          -0.015960137805170572,
          -0.7025926609072702,
          -0.8810281259328301,
          0.42328129208618703,
          2.1393670406737364,
          0.5518423152603928,
          -0.3312696030093754,
          -1.37661535159739,
          -0.8407676307979148,
          -1.8980143897008703,
          0.8495286569154681,
          1.3565444156846354,
          -1.2594996674990298,
          0.84456290056292,
          -0.916750420464946,
          -0.3679405135481918,
          -0.8743197683849901,
          -1.8077341234023898,
          0.658157297890938,
          -0.9806995633402245,
          -1.0790459382261648,
          -0.9211654559956725,
          0.9446836227411445
         ],
         "xaxis": "x4",
         "y": [
          -1.1657268930546911,
          -0.8257896723416672,
          -1.5692473690498552,
          0.04148074727700573,
          -0.37141526705551925,
          -1.0252331492540236,
          0.03808643193886817,
          0.6385237277266756,
          -0.03634094726247845,
          0.930639523996398,
          -0.15769993863339335,
          -1.3115818372959207,
          -0.6956200174046264,
          0.4485882406005429,
          0.31649879044255985,
          -1.4018139640972982,
          0.39920864559665786,
          -0.10592261410136272,
          -0.058408468861257425,
          0.11338790552456374,
          0.771451750196267,
          -0.20401324182769112,
          1.3834361156529802,
          -0.9274853486806579,
          0.14036807996280848,
          0.6504871783878534,
          -0.4012916567745803,
          -1.1123688423070532,
          -0.5206109202042801,
          -1.5299164801300464,
          -0.17446907711289097,
          -1.6506726554876658,
          0.9342351699264133,
          -1.6113583437291723,
          0.9098913890383441,
          1.9770747503734736,
          0.047668778464560066,
          1.7923434064461392,
          -1.3772213470058206,
          0.03494868487903562,
          0.481504547200912,
          -0.26260218876180397,
          0.8406656571888367,
          0.4773931682096321,
          -0.9327329880484112,
          -0.5315533595411261,
          -1.3582888550555947,
          -0.35490398446858434,
          -1.1157896762940882,
          0.41272172170477245,
          1.0458864663929586,
          0.43451589045221944,
          -0.37577300950511977,
          0.33808657491023214,
          -0.07152345355591183,
          0.8032108462133098,
          0.18245491124717708,
          -1.0571104834254184,
          0.16438257249290036,
          -0.5780890823220005,
          -0.9380222318218958,
          0.44229935023690725,
          -0.9278374618952944,
          -0.034949624334541546,
          -1.0340872672557324,
          -0.13974001324651703,
          -0.2919368733015318,
          1.002702264475855,
          -1.1968979548754446,
          -1.3850973493257903,
          -0.42714008580848406,
          -1.7214297712861604,
          1.0140274495229493,
          -0.36021770144701604,
          -0.6794761363706949,
          -0.6845284565795763,
          0.99605538773384,
          -0.38619946663320476,
          0.7320702176568683,
          -0.7643548322570244,
          1.1807445406919128,
          0.8501345416418742,
          2.678462426358552,
          -0.15578485067074094,
          -0.7370355672026178,
          0.44753721006704444,
          -0.2301867988745454,
          0.12298020901905306,
          1.2125072035295636,
          -0.4934142231343045,
          -1.0972864412529257,
          -0.4296862077321958,
          -0.5941610509888187,
          0.9961970490955918,
          -0.7870054622770482,
          0.19608051727138479,
          0.5840004135465414,
          -0.5238514262542873,
          0.9153080729266359,
          -0.4605436669206109
         ],
         "yaxis": "y4"
        },
        {
         "line": {
          "color": "rgba(128, 128, 128, 1.0)",
          "dash": "solid",
          "shape": "linear",
          "width": 1.3
         },
         "marker": {
          "size": 2,
          "symbol": "circle"
         },
         "mode": "markers",
         "name": "B",
         "text": "",
         "type": "scatter",
         "x": [
          -1.1657268930546911,
          -0.8257896723416672,
          -1.5692473690498552,
          0.04148074727700573,
          -0.37141526705551925,
          -1.0252331492540236,
          0.03808643193886817,
          0.6385237277266756,
          -0.03634094726247845,
          0.930639523996398,
          -0.15769993863339335,
          -1.3115818372959207,
          -0.6956200174046264,
          0.4485882406005429,
          0.31649879044255985,
          -1.4018139640972982,
          0.39920864559665786,
          -0.10592261410136272,
          -0.058408468861257425,
          0.11338790552456374,
          0.771451750196267,
          -0.20401324182769112,
          1.3834361156529802,
          -0.9274853486806579,
          0.14036807996280848,
          0.6504871783878534,
          -0.4012916567745803,
          -1.1123688423070532,
          -0.5206109202042801,
          -1.5299164801300464,
          -0.17446907711289097,
          -1.6506726554876658,
          0.9342351699264133,
          -1.6113583437291723,
          0.9098913890383441,
          1.9770747503734736,
          0.047668778464560066,
          1.7923434064461392,
          -1.3772213470058206,
          0.03494868487903562,
          0.481504547200912,
          -0.26260218876180397,
          0.8406656571888367,
          0.4773931682096321,
          -0.9327329880484112,
          -0.5315533595411261,
          -1.3582888550555947,
          -0.35490398446858434,
          -1.1157896762940882,
          0.41272172170477245,
          1.0458864663929586,
          0.43451589045221944,
          -0.37577300950511977,
          0.33808657491023214,
          -0.07152345355591183,
          0.8032108462133098,
          0.18245491124717708,
          -1.0571104834254184,
          0.16438257249290036,
          -0.5780890823220005,
          -0.9380222318218958,
          0.44229935023690725,
          -0.9278374618952944,
          -0.034949624334541546,
          -1.0340872672557324,
          -0.13974001324651703,
          -0.2919368733015318,
          1.002702264475855,
          -1.1968979548754446,
          -1.3850973493257903,
          -0.42714008580848406,
          -1.7214297712861604,
          1.0140274495229493,
          -0.36021770144701604,
          -0.6794761363706949,
          -0.6845284565795763,
          0.99605538773384,
          -0.38619946663320476,
          0.7320702176568683,
          -0.7643548322570244,
          1.1807445406919128,
          0.8501345416418742,
          2.678462426358552,
          -0.15578485067074094,
          -0.7370355672026178,
          0.44753721006704444,
          -0.2301867988745454,
          0.12298020901905306,
          1.2125072035295636,
          -0.4934142231343045,
          -1.0972864412529257,
          -0.4296862077321958,
          -0.5941610509888187,
          0.9961970490955918,
          -0.7870054622770482,
          0.19608051727138479,
          0.5840004135465414,
          -0.5238514262542873,
          0.9153080729266359,
          -0.4605436669206109
         ],
         "xaxis": "x5",
         "y": [
          0.8841355807884956,
          -1.2018519903039573,
          -0.7813604437074404,
          -0.6919248283962665,
          -0.6090700517991942,
          -1.5847425272462459,
          0.8800941130873866,
          -1.117152954326337,
          0.30839191877406763,
          0.4992507443148893,
          0.811019128617171,
          -1.1194697152788227,
          0.26132616109683876,
          -0.04063312576310276,
          -0.040617208546109174,
          1.4521803080354538,
          0.7188186269954967,
          -1.1949315720134128,
          0.20886087549922405,
          0.8840313510069323,
          0.31312789635592975,
          0.7160149644554132,
          -0.4221003899412094,
          -2.2802874512727898,
          -1.246436604263054,
          0.6866102012400632,
          0.5677203393248417,
          -0.5963896855140837,
          0.79409494373185,
          1.2867304239152937,
          0.5538692349797086,
          0.900332290774584,
          1.1823357315962189,
          0.6177834000735457,
          0.6896077406770214,
          -0.27076731126208353,
          0.39706171337341184,
          -0.16615594156962268,
          -0.1703820000471231,
          0.6333428442434194,
          -0.8839784064479783,
          0.8710611118205372,
          0.018128528664612762,
          0.059077932094537,
          -2.7152166112873672,
          -0.0640831904263152,
          -0.9710375266761576,
          0.2552825123045555,
          0.327422499269327,
          -1.1647597142547192,
          0.7605994940595009,
          0.017750790409212316,
          0.1994961650671732,
          0.10943274780509042,
          0.21794904931044667,
          -0.40058981514845116,
          1.2267678416756223,
          -0.7059097947692653,
          0.42194973120502605,
          -1.3726147490117409,
          -0.3632837397565943,
          1.0591388513310673,
          0.7844724227029937,
          -0.7212655767076589,
          -0.26657468033646126,
          1.4689154351444949,
          -0.3055071427197533,
          -0.6825021367594182,
          1.9382793081063177,
          1.9878772760134318,
          0.3427107055806652,
          0.14069874522957815,
          0.9448495574182093,
          1.6379714237382257,
          0.43704396091988845,
          -1.2498194806763598,
          -0.19402341742139284,
          -0.7658491996505546,
          -0.3932725942609261,
          0.3712040975782359,
          -0.3784211046426365,
          -0.9732140681745898,
          0.3317598863575627,
          0.15036006159105378,
          0.6009175803960332,
          0.6340183275484096,
          0.9447966454362406,
          0.8009564616629822,
          0.5517526246690576,
          -0.24974977970951584,
          1.366375419299985,
          1.5056227833986284,
          -0.19461046242137378,
          -0.7931977016755076,
          -1.465297233176536,
          -0.6561276547721709,
          0.2694406537658064,
          -1.963384192387417,
          -0.03977409852472031,
          -0.25942371843808265
         ],
         "yaxis": "y5"
        },
        {
         "histfunc": "count",
         "histnorm": "",
         "marker": {
          "color": "rgba(55, 128, 191, 1.0)",
          "line": {
           "color": "#4D5663",
           "width": 1.3
          }
         },
         "name": "B",
         "nbinsx": 10,
         "opacity": 0.8,
         "orientation": "v",
         "type": "histogram",
         "x": [
          0.8841355807884956,
          -1.2018519903039573,
          -0.7813604437074404,
          -0.6919248283962665,
          -0.6090700517991942,
          -1.5847425272462459,
          0.8800941130873866,
          -1.117152954326337,
          0.30839191877406763,
          0.4992507443148893,
          0.811019128617171,
          -1.1194697152788227,
          0.26132616109683876,
          -0.04063312576310276,
          -0.040617208546109174,
          1.4521803080354538,
          0.7188186269954967,
          -1.1949315720134128,
          0.20886087549922405,
          0.8840313510069323,
          0.31312789635592975,
          0.7160149644554132,
          -0.4221003899412094,
          -2.2802874512727898,
          -1.246436604263054,
          0.6866102012400632,
          0.5677203393248417,
          -0.5963896855140837,
          0.79409494373185,
          1.2867304239152937,
          0.5538692349797086,
          0.900332290774584,
          1.1823357315962189,
          0.6177834000735457,
          0.6896077406770214,
          -0.27076731126208353,
          0.39706171337341184,
          -0.16615594156962268,
          -0.1703820000471231,
          0.6333428442434194,
          -0.8839784064479783,
          0.8710611118205372,
          0.018128528664612762,
          0.059077932094537,
          -2.7152166112873672,
          -0.0640831904263152,
          -0.9710375266761576,
          0.2552825123045555,
          0.327422499269327,
          -1.1647597142547192,
          0.7605994940595009,
          0.017750790409212316,
          0.1994961650671732,
          0.10943274780509042,
          0.21794904931044667,
          -0.40058981514845116,
          1.2267678416756223,
          -0.7059097947692653,
          0.42194973120502605,
          -1.3726147490117409,
          -0.3632837397565943,
          1.0591388513310673,
          0.7844724227029937,
          -0.7212655767076589,
          -0.26657468033646126,
          1.4689154351444949,
          -0.3055071427197533,
          -0.6825021367594182,
          1.9382793081063177,
          1.9878772760134318,
          0.3427107055806652,
          0.14069874522957815,
          0.9448495574182093,
          1.6379714237382257,
          0.43704396091988845,
          -1.2498194806763598,
          -0.19402341742139284,
          -0.7658491996505546,
          -0.3932725942609261,
          0.3712040975782359,
          -0.3784211046426365,
          -0.9732140681745898,
          0.3317598863575627,
          0.15036006159105378,
          0.6009175803960332,
          0.6340183275484096,
          0.9447966454362406,
          0.8009564616629822,
          0.5517526246690576,
          -0.24974977970951584,
          1.366375419299985,
          1.5056227833986284,
          -0.19461046242137378,
          -0.7931977016755076,
          -1.465297233176536,
          -0.6561276547721709,
          0.2694406537658064,
          -1.963384192387417,
          -0.03977409852472031,
          -0.25942371843808265
         ],
         "xaxis": "x6",
         "yaxis": "y6"
        },
        {
         "line": {
          "color": "rgba(128, 128, 128, 1.0)",
          "dash": "solid",
          "shape": "linear",
          "width": 1.3
         },
         "marker": {
          "size": 2,
          "symbol": "circle"
         },
         "mode": "markers",
         "name": "B",
         "text": "",
         "type": "scatter",
         "x": [
          -0.6577419470666775,
          1.5468328854157893,
          0.15055942353848414,
          -0.6166951991924662,
          -0.17696035549092132,
          0.0026159205405225042,
          1.2331865720032635,
          1.2435528088543073,
          -0.5667531689608509,
          0.4630368885755947,
          0.6391231441591966,
          -0.1429541644335827,
          0.8805438770540935,
          1.1849212235092015,
          -1.2728784962465851,
          1.346781675013242,
          1.2482247918277778,
          -0.10396199557224642,
          -0.028906831431156986,
          -0.3572981365831892,
          -0.05223546732515046,
          0.15786227922202295,
          -0.22009412895249236,
          -1.7721864067462902,
          -0.6061448275657668,
          -1.5308377336006376,
          0.07041961683058189,
          -0.03830912190432932,
          0.2135282713552872,
          -1.1935584154464867,
          -1.0677516214342473,
          0.44175940635296035,
          -0.5562173071499407,
          0.0176240616889017,
          -1.6211847095100522,
          -0.2575871901559379,
          0.33748999172485566,
          -1.3784111551517109,
          -1.2958205545388826,
          0.7785079111442709,
          -0.654447389504053,
          -1.3999313788086734,
          0.3167097883572841,
          0.07731932475096173,
          1.8827191381966604,
          -0.7083923654989508,
          1.3926633512282667,
          0.24526098808364127,
          -0.2210347711090506,
          0.038281908314065076,
          -1.3357478551192634,
          -0.16227660062644264,
          0.06406613898696684,
          1.213518760817214,
          1.2457277288385022,
          1.247373441376304,
          0.921374684450078,
          0.14034040891334543,
          -3.257339327618611,
          -1.213543392402012,
          -0.3445247702276053,
          -0.5969991004026705,
          0.2719557150165253,
          -0.036248336471367645,
          -0.4580189614691427,
          -0.6709366758127309,
          1.2358352087586708,
          1.2312434994547732,
          -0.538717224541438,
          -1.5966239135719764,
          -0.760305428049948,
          1.7572443209590902,
          -0.5739219510008042,
          -0.8324710695457126,
          -1.0143133987575614,
          0.42630799512701356,
          -0.17451166862510278,
          -0.5526444573230915,
          -0.6556668389465901,
          1.2012044387582725,
          1.9310312337228657,
          0.5076657033800569,
          0.7995228996441234,
          0.3430015789595602,
          -0.6105581367353852,
          1.099914761180952,
          0.42969561622664854,
          -1.3180076819962583,
          0.9940939848559184,
          0.016833009453457417,
          -2.520279558101372,
          -0.00830409476513253,
          1.8249939096826509,
          0.0536635012668011,
          2.0828997434481793,
          2.0446329233848886,
          1.5922253838727163,
          0.7335493331596151,
          0.39576990054133315,
          -0.9420576028250149
         ],
         "xaxis": "x7",
         "y": [
          0.8841355807884956,
          -1.2018519903039573,
          -0.7813604437074404,
          -0.6919248283962665,
          -0.6090700517991942,
          -1.5847425272462459,
          0.8800941130873866,
          -1.117152954326337,
          0.30839191877406763,
          0.4992507443148893,
          0.811019128617171,
          -1.1194697152788227,
          0.26132616109683876,
          -0.04063312576310276,
          -0.040617208546109174,
          1.4521803080354538,
          0.7188186269954967,
          -1.1949315720134128,
          0.20886087549922405,
          0.8840313510069323,
          0.31312789635592975,
          0.7160149644554132,
          -0.4221003899412094,
          -2.2802874512727898,
          -1.246436604263054,
          0.6866102012400632,
          0.5677203393248417,
          -0.5963896855140837,
          0.79409494373185,
          1.2867304239152937,
          0.5538692349797086,
          0.900332290774584,
          1.1823357315962189,
          0.6177834000735457,
          0.6896077406770214,
          -0.27076731126208353,
          0.39706171337341184,
          -0.16615594156962268,
          -0.1703820000471231,
          0.6333428442434194,
          -0.8839784064479783,
          0.8710611118205372,
          0.018128528664612762,
          0.059077932094537,
          -2.7152166112873672,
          -0.0640831904263152,
          -0.9710375266761576,
          0.2552825123045555,
          0.327422499269327,
          -1.1647597142547192,
          0.7605994940595009,
          0.017750790409212316,
          0.1994961650671732,
          0.10943274780509042,
          0.21794904931044667,
          -0.40058981514845116,
          1.2267678416756223,
          -0.7059097947692653,
          0.42194973120502605,
          -1.3726147490117409,
          -0.3632837397565943,
          1.0591388513310673,
          0.7844724227029937,
          -0.7212655767076589,
          -0.26657468033646126,
          1.4689154351444949,
          -0.3055071427197533,
          -0.6825021367594182,
          1.9382793081063177,
          1.9878772760134318,
          0.3427107055806652,
          0.14069874522957815,
          0.9448495574182093,
          1.6379714237382257,
          0.43704396091988845,
          -1.2498194806763598,
          -0.19402341742139284,
          -0.7658491996505546,
          -0.3932725942609261,
          0.3712040975782359,
          -0.3784211046426365,
          -0.9732140681745898,
          0.3317598863575627,
          0.15036006159105378,
          0.6009175803960332,
          0.6340183275484096,
          0.9447966454362406,
          0.8009564616629822,
          0.5517526246690576,
          -0.24974977970951584,
          1.366375419299985,
          1.5056227833986284,
          -0.19461046242137378,
          -0.7931977016755076,
          -1.465297233176536,
          -0.6561276547721709,
          0.2694406537658064,
          -1.963384192387417,
          -0.03977409852472031,
          -0.25942371843808265
         ],
         "yaxis": "y7"
        },
        {
         "line": {
          "color": "rgba(128, 128, 128, 1.0)",
          "dash": "solid",
          "shape": "linear",
          "width": 1.3
         },
         "marker": {
          "size": 2,
          "symbol": "circle"
         },
         "mode": "markers",
         "name": "B",
         "text": "",
         "type": "scatter",
         "x": [
          -0.17098599570917958,
          -1.393236655946603,
          -1.0693801396851572,
          -0.10936613135512015,
          -0.8314593670479007,
          -0.4092384624054739,
          1.591365527813672,
          0.11362375490085795,
          -0.25776072822892904,
          -0.8125864413251922,
          -0.4016254821547242,
          -0.40314548041442333,
          0.441318892858655,
          -0.9951032400894578,
          0.7046896087329072,
          1.4338435709601507,
          1.2900813394365953,
          0.7566969910329154,
          0.6054782545258194,
          -0.3812538164486021,
          1.7252861447847634,
          -0.3097180343167236,
          1.2634026380699939,
          -0.3310218412132827,
          1.2981841087496109,
          -1.3164876377541306,
          1.3385133730049839,
          0.408919062636667,
          0.26155431919249206,
          0.16179530977109546,
          1.1882180742137027,
          -0.5373015572622404,
          1.0851103049503912,
          -0.11971988208771717,
          -3.1534897814326572,
          1.0636433852077034,
          -0.24206197356159356,
          -0.4805364352370448,
          0.0825621351357835,
          0.3213995162912668,
          -1.3860840204546088,
          0.7076515268193385,
          -0.38418705166305434,
          1.0503272088152968,
          -0.1507001548323202,
          0.1326781167019228,
          0.031640977634701674,
          0.3270643194243436,
          -1.0240130765030746,
          -0.9850468081299435,
          0.6407835817746089,
          0.9226485955501837,
          0.6099910920980564,
          -0.1338015368573558,
          1.1102649237501483,
          -1.3958011343771304,
          -0.480761295431456,
          -0.9197336470771523,
          0.2436166046180653,
          -0.491075080205768,
          -0.602342191813965,
          -0.03627264045796918,
          -0.3246622644750205,
          -0.7081351488085751,
          0.8219705780465458,
          0.9068696677971314,
          0.1321076675794045,
          0.8483071774032414,
          2.0991711366157677,
          -1.4080771727787935,
          -0.562424101202065,
          -0.503291241503718,
          2.007100335200901,
          -0.28186514240083355,
          1.204314296055594,
          -1.100511062799972,
          -0.37739914584103695,
          -0.015960137805170572,
          -0.7025926609072702,
          -0.8810281259328301,
          0.42328129208618703,
          2.1393670406737364,
          0.5518423152603928,
          -0.3312696030093754,
          -1.37661535159739,
          -0.8407676307979148,
          -1.8980143897008703,
          0.8495286569154681,
          1.3565444156846354,
          -1.2594996674990298,
          0.84456290056292,
          -0.916750420464946,
          -0.3679405135481918,
          -0.8743197683849901,
          -1.8077341234023898,
          0.658157297890938,
          -0.9806995633402245,
          -1.0790459382261648,
          -0.9211654559956725,
          0.9446836227411445
         ],
         "xaxis": "x8",
         "y": [
          0.8841355807884956,
          -1.2018519903039573,
          -0.7813604437074404,
          -0.6919248283962665,
          -0.6090700517991942,
          -1.5847425272462459,
          0.8800941130873866,
          -1.117152954326337,
          0.30839191877406763,
          0.4992507443148893,
          0.811019128617171,
          -1.1194697152788227,
          0.26132616109683876,
          -0.04063312576310276,
          -0.040617208546109174,
          1.4521803080354538,
          0.7188186269954967,
          -1.1949315720134128,
          0.20886087549922405,
          0.8840313510069323,
          0.31312789635592975,
          0.7160149644554132,
          -0.4221003899412094,
          -2.2802874512727898,
          -1.246436604263054,
          0.6866102012400632,
          0.5677203393248417,
          -0.5963896855140837,
          0.79409494373185,
          1.2867304239152937,
          0.5538692349797086,
          0.900332290774584,
          1.1823357315962189,
          0.6177834000735457,
          0.6896077406770214,
          -0.27076731126208353,
          0.39706171337341184,
          -0.16615594156962268,
          -0.1703820000471231,
          0.6333428442434194,
          -0.8839784064479783,
          0.8710611118205372,
          0.018128528664612762,
          0.059077932094537,
          -2.7152166112873672,
          -0.0640831904263152,
          -0.9710375266761576,
          0.2552825123045555,
          0.327422499269327,
          -1.1647597142547192,
          0.7605994940595009,
          0.017750790409212316,
          0.1994961650671732,
          0.10943274780509042,
          0.21794904931044667,
          -0.40058981514845116,
          1.2267678416756223,
          -0.7059097947692653,
          0.42194973120502605,
          -1.3726147490117409,
          -0.3632837397565943,
          1.0591388513310673,
          0.7844724227029937,
          -0.7212655767076589,
          -0.26657468033646126,
          1.4689154351444949,
          -0.3055071427197533,
          -0.6825021367594182,
          1.9382793081063177,
          1.9878772760134318,
          0.3427107055806652,
          0.14069874522957815,
          0.9448495574182093,
          1.6379714237382257,
          0.43704396091988845,
          -1.2498194806763598,
          -0.19402341742139284,
          -0.7658491996505546,
          -0.3932725942609261,
          0.3712040975782359,
          -0.3784211046426365,
          -0.9732140681745898,
          0.3317598863575627,
          0.15036006159105378,
          0.6009175803960332,
          0.6340183275484096,
          0.9447966454362406,
          0.8009564616629822,
          0.5517526246690576,
          -0.24974977970951584,
          1.366375419299985,
          1.5056227833986284,
          -0.19461046242137378,
          -0.7931977016755076,
          -1.465297233176536,
          -0.6561276547721709,
          0.2694406537658064,
          -1.963384192387417,
          -0.03977409852472031,
          -0.25942371843808265
         ],
         "yaxis": "y8"
        },
        {
         "line": {
          "color": "rgba(128, 128, 128, 1.0)",
          "dash": "solid",
          "shape": "linear",
          "width": 1.3
         },
         "marker": {
          "size": 2,
          "symbol": "circle"
         },
         "mode": "markers",
         "name": "C",
         "text": "",
         "type": "scatter",
         "x": [
          -1.1657268930546911,
          -0.8257896723416672,
          -1.5692473690498552,
          0.04148074727700573,
          -0.37141526705551925,
          -1.0252331492540236,
          0.03808643193886817,
          0.6385237277266756,
          -0.03634094726247845,
          0.930639523996398,
          -0.15769993863339335,
          -1.3115818372959207,
          -0.6956200174046264,
          0.4485882406005429,
          0.31649879044255985,
          -1.4018139640972982,
          0.39920864559665786,
          -0.10592261410136272,
          -0.058408468861257425,
          0.11338790552456374,
          0.771451750196267,
          -0.20401324182769112,
          1.3834361156529802,
          -0.9274853486806579,
          0.14036807996280848,
          0.6504871783878534,
          -0.4012916567745803,
          -1.1123688423070532,
          -0.5206109202042801,
          -1.5299164801300464,
          -0.17446907711289097,
          -1.6506726554876658,
          0.9342351699264133,
          -1.6113583437291723,
          0.9098913890383441,
          1.9770747503734736,
          0.047668778464560066,
          1.7923434064461392,
          -1.3772213470058206,
          0.03494868487903562,
          0.481504547200912,
          -0.26260218876180397,
          0.8406656571888367,
          0.4773931682096321,
          -0.9327329880484112,
          -0.5315533595411261,
          -1.3582888550555947,
          -0.35490398446858434,
          -1.1157896762940882,
          0.41272172170477245,
          1.0458864663929586,
          0.43451589045221944,
          -0.37577300950511977,
          0.33808657491023214,
          -0.07152345355591183,
          0.8032108462133098,
          0.18245491124717708,
          -1.0571104834254184,
          0.16438257249290036,
          -0.5780890823220005,
          -0.9380222318218958,
          0.44229935023690725,
          -0.9278374618952944,
          -0.034949624334541546,
          -1.0340872672557324,
          -0.13974001324651703,
          -0.2919368733015318,
          1.002702264475855,
          -1.1968979548754446,
          -1.3850973493257903,
          -0.42714008580848406,
          -1.7214297712861604,
          1.0140274495229493,
          -0.36021770144701604,
          -0.6794761363706949,
          -0.6845284565795763,
          0.99605538773384,
          -0.38619946663320476,
          0.7320702176568683,
          -0.7643548322570244,
          1.1807445406919128,
          0.8501345416418742,
          2.678462426358552,
          -0.15578485067074094,
          -0.7370355672026178,
          0.44753721006704444,
          -0.2301867988745454,
          0.12298020901905306,
          1.2125072035295636,
          -0.4934142231343045,
          -1.0972864412529257,
          -0.4296862077321958,
          -0.5941610509888187,
          0.9961970490955918,
          -0.7870054622770482,
          0.19608051727138479,
          0.5840004135465414,
          -0.5238514262542873,
          0.9153080729266359,
          -0.4605436669206109
         ],
         "xaxis": "x9",
         "y": [
          -0.6577419470666775,
          1.5468328854157893,
          0.15055942353848414,
          -0.6166951991924662,
          -0.17696035549092132,
          0.0026159205405225042,
          1.2331865720032635,
          1.2435528088543073,
          -0.5667531689608509,
          0.4630368885755947,
          0.6391231441591966,
          -0.1429541644335827,
          0.8805438770540935,
          1.1849212235092015,
          -1.2728784962465851,
          1.346781675013242,
          1.2482247918277778,
          -0.10396199557224642,
          -0.028906831431156986,
          -0.3572981365831892,
          -0.05223546732515046,
          0.15786227922202295,
          -0.22009412895249236,
          -1.7721864067462902,
          -0.6061448275657668,
          -1.5308377336006376,
          0.07041961683058189,
          -0.03830912190432932,
          0.2135282713552872,
          -1.1935584154464867,
          -1.0677516214342473,
          0.44175940635296035,
          -0.5562173071499407,
          0.0176240616889017,
          -1.6211847095100522,
          -0.2575871901559379,
          0.33748999172485566,
          -1.3784111551517109,
          -1.2958205545388826,
          0.7785079111442709,
          -0.654447389504053,
          -1.3999313788086734,
          0.3167097883572841,
          0.07731932475096173,
          1.8827191381966604,
          -0.7083923654989508,
          1.3926633512282667,
          0.24526098808364127,
          -0.2210347711090506,
          0.038281908314065076,
          -1.3357478551192634,
          -0.16227660062644264,
          0.06406613898696684,
          1.213518760817214,
          1.2457277288385022,
          1.247373441376304,
          0.921374684450078,
          0.14034040891334543,
          -3.257339327618611,
          -1.213543392402012,
          -0.3445247702276053,
          -0.5969991004026705,
          0.2719557150165253,
          -0.036248336471367645,
          -0.4580189614691427,
          -0.6709366758127309,
          1.2358352087586708,
          1.2312434994547732,
          -0.538717224541438,
          -1.5966239135719764,
          -0.760305428049948,
          1.7572443209590902,
          -0.5739219510008042,
          -0.8324710695457126,
          -1.0143133987575614,
          0.42630799512701356,
          -0.17451166862510278,
          -0.5526444573230915,
          -0.6556668389465901,
          1.2012044387582725,
          1.9310312337228657,
          0.5076657033800569,
          0.7995228996441234,
          0.3430015789595602,
          -0.6105581367353852,
          1.099914761180952,
          0.42969561622664854,
          -1.3180076819962583,
          0.9940939848559184,
          0.016833009453457417,
          -2.520279558101372,
          -0.00830409476513253,
          1.8249939096826509,
          0.0536635012668011,
          2.0828997434481793,
          2.0446329233848886,
          1.5922253838727163,
          0.7335493331596151,
          0.39576990054133315,
          -0.9420576028250149
         ],
         "yaxis": "y9"
        },
        {
         "line": {
          "color": "rgba(128, 128, 128, 1.0)",
          "dash": "solid",
          "shape": "linear",
          "width": 1.3
         },
         "marker": {
          "size": 2,
          "symbol": "circle"
         },
         "mode": "markers",
         "name": "C",
         "text": "",
         "type": "scatter",
         "x": [
          0.8841355807884956,
          -1.2018519903039573,
          -0.7813604437074404,
          -0.6919248283962665,
          -0.6090700517991942,
          -1.5847425272462459,
          0.8800941130873866,
          -1.117152954326337,
          0.30839191877406763,
          0.4992507443148893,
          0.811019128617171,
          -1.1194697152788227,
          0.26132616109683876,
          -0.04063312576310276,
          -0.040617208546109174,
          1.4521803080354538,
          0.7188186269954967,
          -1.1949315720134128,
          0.20886087549922405,
          0.8840313510069323,
          0.31312789635592975,
          0.7160149644554132,
          -0.4221003899412094,
          -2.2802874512727898,
          -1.246436604263054,
          0.6866102012400632,
          0.5677203393248417,
          -0.5963896855140837,
          0.79409494373185,
          1.2867304239152937,
          0.5538692349797086,
          0.900332290774584,
          1.1823357315962189,
          0.6177834000735457,
          0.6896077406770214,
          -0.27076731126208353,
          0.39706171337341184,
          -0.16615594156962268,
          -0.1703820000471231,
          0.6333428442434194,
          -0.8839784064479783,
          0.8710611118205372,
          0.018128528664612762,
          0.059077932094537,
          -2.7152166112873672,
          -0.0640831904263152,
          -0.9710375266761576,
          0.2552825123045555,
          0.327422499269327,
          -1.1647597142547192,
          0.7605994940595009,
          0.017750790409212316,
          0.1994961650671732,
          0.10943274780509042,
          0.21794904931044667,
          -0.40058981514845116,
          1.2267678416756223,
          -0.7059097947692653,
          0.42194973120502605,
          -1.3726147490117409,
          -0.3632837397565943,
          1.0591388513310673,
          0.7844724227029937,
          -0.7212655767076589,
          -0.26657468033646126,
          1.4689154351444949,
          -0.3055071427197533,
          -0.6825021367594182,
          1.9382793081063177,
          1.9878772760134318,
          0.3427107055806652,
          0.14069874522957815,
          0.9448495574182093,
          1.6379714237382257,
          0.43704396091988845,
          -1.2498194806763598,
          -0.19402341742139284,
          -0.7658491996505546,
          -0.3932725942609261,
          0.3712040975782359,
          -0.3784211046426365,
          -0.9732140681745898,
          0.3317598863575627,
          0.15036006159105378,
          0.6009175803960332,
          0.6340183275484096,
          0.9447966454362406,
          0.8009564616629822,
          0.5517526246690576,
          -0.24974977970951584,
          1.366375419299985,
          1.5056227833986284,
          -0.19461046242137378,
          -0.7931977016755076,
          -1.465297233176536,
          -0.6561276547721709,
          0.2694406537658064,
          -1.963384192387417,
          -0.03977409852472031,
          -0.25942371843808265
         ],
         "xaxis": "x10",
         "y": [
          -0.6577419470666775,
          1.5468328854157893,
          0.15055942353848414,
          -0.6166951991924662,
          -0.17696035549092132,
          0.0026159205405225042,
          1.2331865720032635,
          1.2435528088543073,
          -0.5667531689608509,
          0.4630368885755947,
          0.6391231441591966,
          -0.1429541644335827,
          0.8805438770540935,
          1.1849212235092015,
          -1.2728784962465851,
          1.346781675013242,
          1.2482247918277778,
          -0.10396199557224642,
          -0.028906831431156986,
          -0.3572981365831892,
          -0.05223546732515046,
          0.15786227922202295,
          -0.22009412895249236,
          -1.7721864067462902,
          -0.6061448275657668,
          -1.5308377336006376,
          0.07041961683058189,
          -0.03830912190432932,
          0.2135282713552872,
          -1.1935584154464867,
          -1.0677516214342473,
          0.44175940635296035,
          -0.5562173071499407,
          0.0176240616889017,
          -1.6211847095100522,
          -0.2575871901559379,
          0.33748999172485566,
          -1.3784111551517109,
          -1.2958205545388826,
          0.7785079111442709,
          -0.654447389504053,
          -1.3999313788086734,
          0.3167097883572841,
          0.07731932475096173,
          1.8827191381966604,
          -0.7083923654989508,
          1.3926633512282667,
          0.24526098808364127,
          -0.2210347711090506,
          0.038281908314065076,
          -1.3357478551192634,
          -0.16227660062644264,
          0.06406613898696684,
          1.213518760817214,
          1.2457277288385022,
          1.247373441376304,
          0.921374684450078,
          0.14034040891334543,
          -3.257339327618611,
          -1.213543392402012,
          -0.3445247702276053,
          -0.5969991004026705,
          0.2719557150165253,
          -0.036248336471367645,
          -0.4580189614691427,
          -0.6709366758127309,
          1.2358352087586708,
          1.2312434994547732,
          -0.538717224541438,
          -1.5966239135719764,
          -0.760305428049948,
          1.7572443209590902,
          -0.5739219510008042,
          -0.8324710695457126,
          -1.0143133987575614,
          0.42630799512701356,
          -0.17451166862510278,
          -0.5526444573230915,
          -0.6556668389465901,
          1.2012044387582725,
          1.9310312337228657,
          0.5076657033800569,
          0.7995228996441234,
          0.3430015789595602,
          -0.6105581367353852,
          1.099914761180952,
          0.42969561622664854,
          -1.3180076819962583,
          0.9940939848559184,
          0.016833009453457417,
          -2.520279558101372,
          -0.00830409476513253,
          1.8249939096826509,
          0.0536635012668011,
          2.0828997434481793,
          2.0446329233848886,
          1.5922253838727163,
          0.7335493331596151,
          0.39576990054133315,
          -0.9420576028250149
         ],
         "yaxis": "y10"
        },
        {
         "histfunc": "count",
         "histnorm": "",
         "marker": {
          "color": "rgba(50, 171, 96, 1.0)",
          "line": {
           "color": "#4D5663",
           "width": 1.3
          }
         },
         "name": "C",
         "nbinsx": 10,
         "opacity": 0.8,
         "orientation": "v",
         "type": "histogram",
         "x": [
          -0.6577419470666775,
          1.5468328854157893,
          0.15055942353848414,
          -0.6166951991924662,
          -0.17696035549092132,
          0.0026159205405225042,
          1.2331865720032635,
          1.2435528088543073,
          -0.5667531689608509,
          0.4630368885755947,
          0.6391231441591966,
          -0.1429541644335827,
          0.8805438770540935,
          1.1849212235092015,
          -1.2728784962465851,
          1.346781675013242,
          1.2482247918277778,
          -0.10396199557224642,
          -0.028906831431156986,
          -0.3572981365831892,
          -0.05223546732515046,
          0.15786227922202295,
          -0.22009412895249236,
          -1.7721864067462902,
          -0.6061448275657668,
          -1.5308377336006376,
          0.07041961683058189,
          -0.03830912190432932,
          0.2135282713552872,
          -1.1935584154464867,
          -1.0677516214342473,
          0.44175940635296035,
          -0.5562173071499407,
          0.0176240616889017,
          -1.6211847095100522,
          -0.2575871901559379,
          0.33748999172485566,
          -1.3784111551517109,
          -1.2958205545388826,
          0.7785079111442709,
          -0.654447389504053,
          -1.3999313788086734,
          0.3167097883572841,
          0.07731932475096173,
          1.8827191381966604,
          -0.7083923654989508,
          1.3926633512282667,
          0.24526098808364127,
          -0.2210347711090506,
          0.038281908314065076,
          -1.3357478551192634,
          -0.16227660062644264,
          0.06406613898696684,
          1.213518760817214,
          1.2457277288385022,
          1.247373441376304,
          0.921374684450078,
          0.14034040891334543,
          -3.257339327618611,
          -1.213543392402012,
          -0.3445247702276053,
          -0.5969991004026705,
          0.2719557150165253,
          -0.036248336471367645,
          -0.4580189614691427,
          -0.6709366758127309,
          1.2358352087586708,
          1.2312434994547732,
          -0.538717224541438,
          -1.5966239135719764,
          -0.760305428049948,
          1.7572443209590902,
          -0.5739219510008042,
          -0.8324710695457126,
          -1.0143133987575614,
          0.42630799512701356,
          -0.17451166862510278,
          -0.5526444573230915,
          -0.6556668389465901,
          1.2012044387582725,
          1.9310312337228657,
          0.5076657033800569,
          0.7995228996441234,
          0.3430015789595602,
          -0.6105581367353852,
          1.099914761180952,
          0.42969561622664854,
          -1.3180076819962583,
          0.9940939848559184,
          0.016833009453457417,
          -2.520279558101372,
          -0.00830409476513253,
          1.8249939096826509,
          0.0536635012668011,
          2.0828997434481793,
          2.0446329233848886,
          1.5922253838727163,
          0.7335493331596151,
          0.39576990054133315,
          -0.9420576028250149
         ],
         "xaxis": "x11",
         "yaxis": "y11"
        },
        {
         "line": {
          "color": "rgba(128, 128, 128, 1.0)",
          "dash": "solid",
          "shape": "linear",
          "width": 1.3
         },
         "marker": {
          "size": 2,
          "symbol": "circle"
         },
         "mode": "markers",
         "name": "C",
         "text": "",
         "type": "scatter",
         "x": [
          -0.17098599570917958,
          -1.393236655946603,
          -1.0693801396851572,
          -0.10936613135512015,
          -0.8314593670479007,
          -0.4092384624054739,
          1.591365527813672,
          0.11362375490085795,
          -0.25776072822892904,
          -0.8125864413251922,
          -0.4016254821547242,
          -0.40314548041442333,
          0.441318892858655,
          -0.9951032400894578,
          0.7046896087329072,
          1.4338435709601507,
          1.2900813394365953,
          0.7566969910329154,
          0.6054782545258194,
          -0.3812538164486021,
          1.7252861447847634,
          -0.3097180343167236,
          1.2634026380699939,
          -0.3310218412132827,
          1.2981841087496109,
          -1.3164876377541306,
          1.3385133730049839,
          0.408919062636667,
          0.26155431919249206,
          0.16179530977109546,
          1.1882180742137027,
          -0.5373015572622404,
          1.0851103049503912,
          -0.11971988208771717,
          -3.1534897814326572,
          1.0636433852077034,
          -0.24206197356159356,
          -0.4805364352370448,
          0.0825621351357835,
          0.3213995162912668,
          -1.3860840204546088,
          0.7076515268193385,
          -0.38418705166305434,
          1.0503272088152968,
          -0.1507001548323202,
          0.1326781167019228,
          0.031640977634701674,
          0.3270643194243436,
          -1.0240130765030746,
          -0.9850468081299435,
          0.6407835817746089,
          0.9226485955501837,
          0.6099910920980564,
          -0.1338015368573558,
          1.1102649237501483,
          -1.3958011343771304,
          -0.480761295431456,
          -0.9197336470771523,
          0.2436166046180653,
          -0.491075080205768,
          -0.602342191813965,
          -0.03627264045796918,
          -0.3246622644750205,
          -0.7081351488085751,
          0.8219705780465458,
          0.9068696677971314,
          0.1321076675794045,
          0.8483071774032414,
          2.0991711366157677,
          -1.4080771727787935,
          -0.562424101202065,
          -0.503291241503718,
          2.007100335200901,
          -0.28186514240083355,
          1.204314296055594,
          -1.100511062799972,
          -0.37739914584103695,
          -0.015960137805170572,
          -0.7025926609072702,
          -0.8810281259328301,
          0.42328129208618703,
          2.1393670406737364,
          0.5518423152603928,
          -0.3312696030093754,
          -1.37661535159739,
          -0.8407676307979148,
          -1.8980143897008703,
          0.8495286569154681,
          1.3565444156846354,
          -1.2594996674990298,
          0.84456290056292,
          -0.916750420464946,
          -0.3679405135481918,
          -0.8743197683849901,
          -1.8077341234023898,
          0.658157297890938,
          -0.9806995633402245,
          -1.0790459382261648,
          -0.9211654559956725,
          0.9446836227411445
         ],
         "xaxis": "x12",
         "y": [
          -0.6577419470666775,
          1.5468328854157893,
          0.15055942353848414,
          -0.6166951991924662,
          -0.17696035549092132,
          0.0026159205405225042,
          1.2331865720032635,
          1.2435528088543073,
          -0.5667531689608509,
          0.4630368885755947,
          0.6391231441591966,
          -0.1429541644335827,
          0.8805438770540935,
          1.1849212235092015,
          -1.2728784962465851,
          1.346781675013242,
          1.2482247918277778,
          -0.10396199557224642,
          -0.028906831431156986,
          -0.3572981365831892,
          -0.05223546732515046,
          0.15786227922202295,
          -0.22009412895249236,
          -1.7721864067462902,
          -0.6061448275657668,
          -1.5308377336006376,
          0.07041961683058189,
          -0.03830912190432932,
          0.2135282713552872,
          -1.1935584154464867,
          -1.0677516214342473,
          0.44175940635296035,
          -0.5562173071499407,
          0.0176240616889017,
          -1.6211847095100522,
          -0.2575871901559379,
          0.33748999172485566,
          -1.3784111551517109,
          -1.2958205545388826,
          0.7785079111442709,
          -0.654447389504053,
          -1.3999313788086734,
          0.3167097883572841,
          0.07731932475096173,
          1.8827191381966604,
          -0.7083923654989508,
          1.3926633512282667,
          0.24526098808364127,
          -0.2210347711090506,
          0.038281908314065076,
          -1.3357478551192634,
          -0.16227660062644264,
          0.06406613898696684,
          1.213518760817214,
          1.2457277288385022,
          1.247373441376304,
          0.921374684450078,
          0.14034040891334543,
          -3.257339327618611,
          -1.213543392402012,
          -0.3445247702276053,
          -0.5969991004026705,
          0.2719557150165253,
          -0.036248336471367645,
          -0.4580189614691427,
          -0.6709366758127309,
          1.2358352087586708,
          1.2312434994547732,
          -0.538717224541438,
          -1.5966239135719764,
          -0.760305428049948,
          1.7572443209590902,
          -0.5739219510008042,
          -0.8324710695457126,
          -1.0143133987575614,
          0.42630799512701356,
          -0.17451166862510278,
          -0.5526444573230915,
          -0.6556668389465901,
          1.2012044387582725,
          1.9310312337228657,
          0.5076657033800569,
          0.7995228996441234,
          0.3430015789595602,
          -0.6105581367353852,
          1.099914761180952,
          0.42969561622664854,
          -1.3180076819962583,
          0.9940939848559184,
          0.016833009453457417,
          -2.520279558101372,
          -0.00830409476513253,
          1.8249939096826509,
          0.0536635012668011,
          2.0828997434481793,
          2.0446329233848886,
          1.5922253838727163,
          0.7335493331596151,
          0.39576990054133315,
          -0.9420576028250149
         ],
         "yaxis": "y12"
        },
        {
         "line": {
          "color": "rgba(128, 128, 128, 1.0)",
          "dash": "solid",
          "shape": "linear",
          "width": 1.3
         },
         "marker": {
          "size": 2,
          "symbol": "circle"
         },
         "mode": "markers",
         "name": "D",
         "text": "",
         "type": "scatter",
         "x": [
          -1.1657268930546911,
          -0.8257896723416672,
          -1.5692473690498552,
          0.04148074727700573,
          -0.37141526705551925,
          -1.0252331492540236,
          0.03808643193886817,
          0.6385237277266756,
          -0.03634094726247845,
          0.930639523996398,
          -0.15769993863339335,
          -1.3115818372959207,
          -0.6956200174046264,
          0.4485882406005429,
          0.31649879044255985,
          -1.4018139640972982,
          0.39920864559665786,
          -0.10592261410136272,
          -0.058408468861257425,
          0.11338790552456374,
          0.771451750196267,
          -0.20401324182769112,
          1.3834361156529802,
          -0.9274853486806579,
          0.14036807996280848,
          0.6504871783878534,
          -0.4012916567745803,
          -1.1123688423070532,
          -0.5206109202042801,
          -1.5299164801300464,
          -0.17446907711289097,
          -1.6506726554876658,
          0.9342351699264133,
          -1.6113583437291723,
          0.9098913890383441,
          1.9770747503734736,
          0.047668778464560066,
          1.7923434064461392,
          -1.3772213470058206,
          0.03494868487903562,
          0.481504547200912,
          -0.26260218876180397,
          0.8406656571888367,
          0.4773931682096321,
          -0.9327329880484112,
          -0.5315533595411261,
          -1.3582888550555947,
          -0.35490398446858434,
          -1.1157896762940882,
          0.41272172170477245,
          1.0458864663929586,
          0.43451589045221944,
          -0.37577300950511977,
          0.33808657491023214,
          -0.07152345355591183,
          0.8032108462133098,
          0.18245491124717708,
          -1.0571104834254184,
          0.16438257249290036,
          -0.5780890823220005,
          -0.9380222318218958,
          0.44229935023690725,
          -0.9278374618952944,
          -0.034949624334541546,
          -1.0340872672557324,
          -0.13974001324651703,
          -0.2919368733015318,
          1.002702264475855,
          -1.1968979548754446,
          -1.3850973493257903,
          -0.42714008580848406,
          -1.7214297712861604,
          1.0140274495229493,
          -0.36021770144701604,
          -0.6794761363706949,
          -0.6845284565795763,
          0.99605538773384,
          -0.38619946663320476,
          0.7320702176568683,
          -0.7643548322570244,
          1.1807445406919128,
          0.8501345416418742,
          2.678462426358552,
          -0.15578485067074094,
          -0.7370355672026178,
          0.44753721006704444,
          -0.2301867988745454,
          0.12298020901905306,
          1.2125072035295636,
          -0.4934142231343045,
          -1.0972864412529257,
          -0.4296862077321958,
          -0.5941610509888187,
          0.9961970490955918,
          -0.7870054622770482,
          0.19608051727138479,
          0.5840004135465414,
          -0.5238514262542873,
          0.9153080729266359,
          -0.4605436669206109
         ],
         "xaxis": "x13",
         "y": [
          -0.17098599570917958,
          -1.393236655946603,
          -1.0693801396851572,
          -0.10936613135512015,
          -0.8314593670479007,
          -0.4092384624054739,
          1.591365527813672,
          0.11362375490085795,
          -0.25776072822892904,
          -0.8125864413251922,
          -0.4016254821547242,
          -0.40314548041442333,
          0.441318892858655,
          -0.9951032400894578,
          0.7046896087329072,
          1.4338435709601507,
          1.2900813394365953,
          0.7566969910329154,
          0.6054782545258194,
          -0.3812538164486021,
          1.7252861447847634,
          -0.3097180343167236,
          1.2634026380699939,
          -0.3310218412132827,
          1.2981841087496109,
          -1.3164876377541306,
          1.3385133730049839,
          0.408919062636667,
          0.26155431919249206,
          0.16179530977109546,
          1.1882180742137027,
          -0.5373015572622404,
          1.0851103049503912,
          -0.11971988208771717,
          -3.1534897814326572,
          1.0636433852077034,
          -0.24206197356159356,
          -0.4805364352370448,
          0.0825621351357835,
          0.3213995162912668,
          -1.3860840204546088,
          0.7076515268193385,
          -0.38418705166305434,
          1.0503272088152968,
          -0.1507001548323202,
          0.1326781167019228,
          0.031640977634701674,
          0.3270643194243436,
          -1.0240130765030746,
          -0.9850468081299435,
          0.6407835817746089,
          0.9226485955501837,
          0.6099910920980564,
          -0.1338015368573558,
          1.1102649237501483,
          -1.3958011343771304,
          -0.480761295431456,
          -0.9197336470771523,
          0.2436166046180653,
          -0.491075080205768,
          -0.602342191813965,
          -0.03627264045796918,
          -0.3246622644750205,
          -0.7081351488085751,
          0.8219705780465458,
          0.9068696677971314,
          0.1321076675794045,
          0.8483071774032414,
          2.0991711366157677,
          -1.4080771727787935,
          -0.562424101202065,
          -0.503291241503718,
          2.007100335200901,
          -0.28186514240083355,
          1.204314296055594,
          -1.100511062799972,
          -0.37739914584103695,
          -0.015960137805170572,
          -0.7025926609072702,
          -0.8810281259328301,
          0.42328129208618703,
          2.1393670406737364,
          0.5518423152603928,
          -0.3312696030093754,
          -1.37661535159739,
          -0.8407676307979148,
          -1.8980143897008703,
          0.8495286569154681,
          1.3565444156846354,
          -1.2594996674990298,
          0.84456290056292,
          -0.916750420464946,
          -0.3679405135481918,
          -0.8743197683849901,
          -1.8077341234023898,
          0.658157297890938,
          -0.9806995633402245,
          -1.0790459382261648,
          -0.9211654559956725,
          0.9446836227411445
         ],
         "yaxis": "y13"
        },
        {
         "line": {
          "color": "rgba(128, 128, 128, 1.0)",
          "dash": "solid",
          "shape": "linear",
          "width": 1.3
         },
         "marker": {
          "size": 2,
          "symbol": "circle"
         },
         "mode": "markers",
         "name": "D",
         "text": "",
         "type": "scatter",
         "x": [
          0.8841355807884956,
          -1.2018519903039573,
          -0.7813604437074404,
          -0.6919248283962665,
          -0.6090700517991942,
          -1.5847425272462459,
          0.8800941130873866,
          -1.117152954326337,
          0.30839191877406763,
          0.4992507443148893,
          0.811019128617171,
          -1.1194697152788227,
          0.26132616109683876,
          -0.04063312576310276,
          -0.040617208546109174,
          1.4521803080354538,
          0.7188186269954967,
          -1.1949315720134128,
          0.20886087549922405,
          0.8840313510069323,
          0.31312789635592975,
          0.7160149644554132,
          -0.4221003899412094,
          -2.2802874512727898,
          -1.246436604263054,
          0.6866102012400632,
          0.5677203393248417,
          -0.5963896855140837,
          0.79409494373185,
          1.2867304239152937,
          0.5538692349797086,
          0.900332290774584,
          1.1823357315962189,
          0.6177834000735457,
          0.6896077406770214,
          -0.27076731126208353,
          0.39706171337341184,
          -0.16615594156962268,
          -0.1703820000471231,
          0.6333428442434194,
          -0.8839784064479783,
          0.8710611118205372,
          0.018128528664612762,
          0.059077932094537,
          -2.7152166112873672,
          -0.0640831904263152,
          -0.9710375266761576,
          0.2552825123045555,
          0.327422499269327,
          -1.1647597142547192,
          0.7605994940595009,
          0.017750790409212316,
          0.1994961650671732,
          0.10943274780509042,
          0.21794904931044667,
          -0.40058981514845116,
          1.2267678416756223,
          -0.7059097947692653,
          0.42194973120502605,
          -1.3726147490117409,
          -0.3632837397565943,
          1.0591388513310673,
          0.7844724227029937,
          -0.7212655767076589,
          -0.26657468033646126,
          1.4689154351444949,
          -0.3055071427197533,
          -0.6825021367594182,
          1.9382793081063177,
          1.9878772760134318,
          0.3427107055806652,
          0.14069874522957815,
          0.9448495574182093,
          1.6379714237382257,
          0.43704396091988845,
          -1.2498194806763598,
          -0.19402341742139284,
          -0.7658491996505546,
          -0.3932725942609261,
          0.3712040975782359,
          -0.3784211046426365,
          -0.9732140681745898,
          0.3317598863575627,
          0.15036006159105378,
          0.6009175803960332,
          0.6340183275484096,
          0.9447966454362406,
          0.8009564616629822,
          0.5517526246690576,
          -0.24974977970951584,
          1.366375419299985,
          1.5056227833986284,
          -0.19461046242137378,
          -0.7931977016755076,
          -1.465297233176536,
          -0.6561276547721709,
          0.2694406537658064,
          -1.963384192387417,
          -0.03977409852472031,
          -0.25942371843808265
         ],
         "xaxis": "x14",
         "y": [
          -0.17098599570917958,
          -1.393236655946603,
          -1.0693801396851572,
          -0.10936613135512015,
          -0.8314593670479007,
          -0.4092384624054739,
          1.591365527813672,
          0.11362375490085795,
          -0.25776072822892904,
          -0.8125864413251922,
          -0.4016254821547242,
          -0.40314548041442333,
          0.441318892858655,
          -0.9951032400894578,
          0.7046896087329072,
          1.4338435709601507,
          1.2900813394365953,
          0.7566969910329154,
          0.6054782545258194,
          -0.3812538164486021,
          1.7252861447847634,
          -0.3097180343167236,
          1.2634026380699939,
          -0.3310218412132827,
          1.2981841087496109,
          -1.3164876377541306,
          1.3385133730049839,
          0.408919062636667,
          0.26155431919249206,
          0.16179530977109546,
          1.1882180742137027,
          -0.5373015572622404,
          1.0851103049503912,
          -0.11971988208771717,
          -3.1534897814326572,
          1.0636433852077034,
          -0.24206197356159356,
          -0.4805364352370448,
          0.0825621351357835,
          0.3213995162912668,
          -1.3860840204546088,
          0.7076515268193385,
          -0.38418705166305434,
          1.0503272088152968,
          -0.1507001548323202,
          0.1326781167019228,
          0.031640977634701674,
          0.3270643194243436,
          -1.0240130765030746,
          -0.9850468081299435,
          0.6407835817746089,
          0.9226485955501837,
          0.6099910920980564,
          -0.1338015368573558,
          1.1102649237501483,
          -1.3958011343771304,
          -0.480761295431456,
          -0.9197336470771523,
          0.2436166046180653,
          -0.491075080205768,
          -0.602342191813965,
          -0.03627264045796918,
          -0.3246622644750205,
          -0.7081351488085751,
          0.8219705780465458,
          0.9068696677971314,
          0.1321076675794045,
          0.8483071774032414,
          2.0991711366157677,
          -1.4080771727787935,
          -0.562424101202065,
          -0.503291241503718,
          2.007100335200901,
          -0.28186514240083355,
          1.204314296055594,
          -1.100511062799972,
          -0.37739914584103695,
          -0.015960137805170572,
          -0.7025926609072702,
          -0.8810281259328301,
          0.42328129208618703,
          2.1393670406737364,
          0.5518423152603928,
          -0.3312696030093754,
          -1.37661535159739,
          -0.8407676307979148,
          -1.8980143897008703,
          0.8495286569154681,
          1.3565444156846354,
          -1.2594996674990298,
          0.84456290056292,
          -0.916750420464946,
          -0.3679405135481918,
          -0.8743197683849901,
          -1.8077341234023898,
          0.658157297890938,
          -0.9806995633402245,
          -1.0790459382261648,
          -0.9211654559956725,
          0.9446836227411445
         ],
         "yaxis": "y14"
        },
        {
         "line": {
          "color": "rgba(128, 128, 128, 1.0)",
          "dash": "solid",
          "shape": "linear",
          "width": 1.3
         },
         "marker": {
          "size": 2,
          "symbol": "circle"
         },
         "mode": "markers",
         "name": "D",
         "text": "",
         "type": "scatter",
         "x": [
          -0.6577419470666775,
          1.5468328854157893,
          0.15055942353848414,
          -0.6166951991924662,
          -0.17696035549092132,
          0.0026159205405225042,
          1.2331865720032635,
          1.2435528088543073,
          -0.5667531689608509,
          0.4630368885755947,
          0.6391231441591966,
          -0.1429541644335827,
          0.8805438770540935,
          1.1849212235092015,
          -1.2728784962465851,
          1.346781675013242,
          1.2482247918277778,
          -0.10396199557224642,
          -0.028906831431156986,
          -0.3572981365831892,
          -0.05223546732515046,
          0.15786227922202295,
          -0.22009412895249236,
          -1.7721864067462902,
          -0.6061448275657668,
          -1.5308377336006376,
          0.07041961683058189,
          -0.03830912190432932,
          0.2135282713552872,
          -1.1935584154464867,
          -1.0677516214342473,
          0.44175940635296035,
          -0.5562173071499407,
          0.0176240616889017,
          -1.6211847095100522,
          -0.2575871901559379,
          0.33748999172485566,
          -1.3784111551517109,
          -1.2958205545388826,
          0.7785079111442709,
          -0.654447389504053,
          -1.3999313788086734,
          0.3167097883572841,
          0.07731932475096173,
          1.8827191381966604,
          -0.7083923654989508,
          1.3926633512282667,
          0.24526098808364127,
          -0.2210347711090506,
          0.038281908314065076,
          -1.3357478551192634,
          -0.16227660062644264,
          0.06406613898696684,
          1.213518760817214,
          1.2457277288385022,
          1.247373441376304,
          0.921374684450078,
          0.14034040891334543,
          -3.257339327618611,
          -1.213543392402012,
          -0.3445247702276053,
          -0.5969991004026705,
          0.2719557150165253,
          -0.036248336471367645,
          -0.4580189614691427,
          -0.6709366758127309,
          1.2358352087586708,
          1.2312434994547732,
          -0.538717224541438,
          -1.5966239135719764,
          -0.760305428049948,
          1.7572443209590902,
          -0.5739219510008042,
          -0.8324710695457126,
          -1.0143133987575614,
          0.42630799512701356,
          -0.17451166862510278,
          -0.5526444573230915,
          -0.6556668389465901,
          1.2012044387582725,
          1.9310312337228657,
          0.5076657033800569,
          0.7995228996441234,
          0.3430015789595602,
          -0.6105581367353852,
          1.099914761180952,
          0.42969561622664854,
          -1.3180076819962583,
          0.9940939848559184,
          0.016833009453457417,
          -2.520279558101372,
          -0.00830409476513253,
          1.8249939096826509,
          0.0536635012668011,
          2.0828997434481793,
          2.0446329233848886,
          1.5922253838727163,
          0.7335493331596151,
          0.39576990054133315,
          -0.9420576028250149
         ],
         "xaxis": "x15",
         "y": [
          -0.17098599570917958,
          -1.393236655946603,
          -1.0693801396851572,
          -0.10936613135512015,
          -0.8314593670479007,
          -0.4092384624054739,
          1.591365527813672,
          0.11362375490085795,
          -0.25776072822892904,
          -0.8125864413251922,
          -0.4016254821547242,
          -0.40314548041442333,
          0.441318892858655,
          -0.9951032400894578,
          0.7046896087329072,
          1.4338435709601507,
          1.2900813394365953,
          0.7566969910329154,
          0.6054782545258194,
          -0.3812538164486021,
          1.7252861447847634,
          -0.3097180343167236,
          1.2634026380699939,
          -0.3310218412132827,
          1.2981841087496109,
          -1.3164876377541306,
          1.3385133730049839,
          0.408919062636667,
          0.26155431919249206,
          0.16179530977109546,
          1.1882180742137027,
          -0.5373015572622404,
          1.0851103049503912,
          -0.11971988208771717,
          -3.1534897814326572,
          1.0636433852077034,
          -0.24206197356159356,
          -0.4805364352370448,
          0.0825621351357835,
          0.3213995162912668,
          -1.3860840204546088,
          0.7076515268193385,
          -0.38418705166305434,
          1.0503272088152968,
          -0.1507001548323202,
          0.1326781167019228,
          0.031640977634701674,
          0.3270643194243436,
          -1.0240130765030746,
          -0.9850468081299435,
          0.6407835817746089,
          0.9226485955501837,
          0.6099910920980564,
          -0.1338015368573558,
          1.1102649237501483,
          -1.3958011343771304,
          -0.480761295431456,
          -0.9197336470771523,
          0.2436166046180653,
          -0.491075080205768,
          -0.602342191813965,
          -0.03627264045796918,
          -0.3246622644750205,
          -0.7081351488085751,
          0.8219705780465458,
          0.9068696677971314,
          0.1321076675794045,
          0.8483071774032414,
          2.0991711366157677,
          -1.4080771727787935,
          -0.562424101202065,
          -0.503291241503718,
          2.007100335200901,
          -0.28186514240083355,
          1.204314296055594,
          -1.100511062799972,
          -0.37739914584103695,
          -0.015960137805170572,
          -0.7025926609072702,
          -0.8810281259328301,
          0.42328129208618703,
          2.1393670406737364,
          0.5518423152603928,
          -0.3312696030093754,
          -1.37661535159739,
          -0.8407676307979148,
          -1.8980143897008703,
          0.8495286569154681,
          1.3565444156846354,
          -1.2594996674990298,
          0.84456290056292,
          -0.916750420464946,
          -0.3679405135481918,
          -0.8743197683849901,
          -1.8077341234023898,
          0.658157297890938,
          -0.9806995633402245,
          -1.0790459382261648,
          -0.9211654559956725,
          0.9446836227411445
         ],
         "yaxis": "y15"
        },
        {
         "histfunc": "count",
         "histnorm": "",
         "marker": {
          "color": "rgba(128, 0, 128, 1.0)",
          "line": {
           "color": "#4D5663",
           "width": 1.3
          }
         },
         "name": "D",
         "nbinsx": 10,
         "opacity": 0.8,
         "orientation": "v",
         "type": "histogram",
         "x": [
          -0.17098599570917958,
          -1.393236655946603,
          -1.0693801396851572,
          -0.10936613135512015,
          -0.8314593670479007,
          -0.4092384624054739,
          1.591365527813672,
          0.11362375490085795,
          -0.25776072822892904,
          -0.8125864413251922,
          -0.4016254821547242,
          -0.40314548041442333,
          0.441318892858655,
          -0.9951032400894578,
          0.7046896087329072,
          1.4338435709601507,
          1.2900813394365953,
          0.7566969910329154,
          0.6054782545258194,
          -0.3812538164486021,
          1.7252861447847634,
          -0.3097180343167236,
          1.2634026380699939,
          -0.3310218412132827,
          1.2981841087496109,
          -1.3164876377541306,
          1.3385133730049839,
          0.408919062636667,
          0.26155431919249206,
          0.16179530977109546,
          1.1882180742137027,
          -0.5373015572622404,
          1.0851103049503912,
          -0.11971988208771717,
          -3.1534897814326572,
          1.0636433852077034,
          -0.24206197356159356,
          -0.4805364352370448,
          0.0825621351357835,
          0.3213995162912668,
          -1.3860840204546088,
          0.7076515268193385,
          -0.38418705166305434,
          1.0503272088152968,
          -0.1507001548323202,
          0.1326781167019228,
          0.031640977634701674,
          0.3270643194243436,
          -1.0240130765030746,
          -0.9850468081299435,
          0.6407835817746089,
          0.9226485955501837,
          0.6099910920980564,
          -0.1338015368573558,
          1.1102649237501483,
          -1.3958011343771304,
          -0.480761295431456,
          -0.9197336470771523,
          0.2436166046180653,
          -0.491075080205768,
          -0.602342191813965,
          -0.03627264045796918,
          -0.3246622644750205,
          -0.7081351488085751,
          0.8219705780465458,
          0.9068696677971314,
          0.1321076675794045,
          0.8483071774032414,
          2.0991711366157677,
          -1.4080771727787935,
          -0.562424101202065,
          -0.503291241503718,
          2.007100335200901,
          -0.28186514240083355,
          1.204314296055594,
          -1.100511062799972,
          -0.37739914584103695,
          -0.015960137805170572,
          -0.7025926609072702,
          -0.8810281259328301,
          0.42328129208618703,
          2.1393670406737364,
          0.5518423152603928,
          -0.3312696030093754,
          -1.37661535159739,
          -0.8407676307979148,
          -1.8980143897008703,
          0.8495286569154681,
          1.3565444156846354,
          -1.2594996674990298,
          0.84456290056292,
          -0.916750420464946,
          -0.3679405135481918,
          -0.8743197683849901,
          -1.8077341234023898,
          0.658157297890938,
          -0.9806995633402245,
          -1.0790459382261648,
          -0.9211654559956725,
          0.9446836227411445
         ],
         "xaxis": "x16",
         "yaxis": "y16"
        }
       ],
       "layout": {
        "bargap": 0.02,
        "legend": {
         "bgcolor": "#F5F6F9",
         "font": {
          "color": "#4D5663"
         }
        },
        "paper_bgcolor": "#F5F6F9",
        "plot_bgcolor": "#F5F6F9",
        "showlegend": false,
        "template": {
         "data": {
          "bar": [
           {
            "error_x": {
             "color": "#2a3f5f"
            },
            "error_y": {
             "color": "#2a3f5f"
            },
            "marker": {
             "line": {
              "color": "#E5ECF6",
              "width": 0.5
             }
            },
            "type": "bar"
           }
          ],
          "barpolar": [
           {
            "marker": {
             "line": {
              "color": "#E5ECF6",
              "width": 0.5
             }
            },
            "type": "barpolar"
           }
          ],
          "carpet": [
           {
            "aaxis": {
             "endlinecolor": "#2a3f5f",
             "gridcolor": "white",
             "linecolor": "white",
             "minorgridcolor": "white",
             "startlinecolor": "#2a3f5f"
            },
            "baxis": {
             "endlinecolor": "#2a3f5f",
             "gridcolor": "white",
             "linecolor": "white",
             "minorgridcolor": "white",
             "startlinecolor": "#2a3f5f"
            },
            "type": "carpet"
           }
          ],
          "choropleth": [
           {
            "colorbar": {
             "outlinewidth": 0,
             "ticks": ""
            },
            "type": "choropleth"
           }
          ],
          "contour": [
           {
            "colorbar": {
             "outlinewidth": 0,
             "ticks": ""
            },
            "colorscale": [
             [
              0,
              "#0d0887"
             ],
             [
              0.1111111111111111,
              "#46039f"
             ],
             [
              0.2222222222222222,
              "#7201a8"
             ],
             [
              0.3333333333333333,
              "#9c179e"
             ],
             [
              0.4444444444444444,
              "#bd3786"
             ],
             [
              0.5555555555555556,
              "#d8576b"
             ],
             [
              0.6666666666666666,
              "#ed7953"
             ],
             [
              0.7777777777777778,
              "#fb9f3a"
             ],
             [
              0.8888888888888888,
              "#fdca26"
             ],
             [
              1,
              "#f0f921"
             ]
            ],
            "type": "contour"
           }
          ],
          "contourcarpet": [
           {
            "colorbar": {
             "outlinewidth": 0,
             "ticks": ""
            },
            "type": "contourcarpet"
           }
          ],
          "heatmap": [
           {
            "colorbar": {
             "outlinewidth": 0,
             "ticks": ""
            },
            "colorscale": [
             [
              0,
              "#0d0887"
             ],
             [
              0.1111111111111111,
              "#46039f"
             ],
             [
              0.2222222222222222,
              "#7201a8"
             ],
             [
              0.3333333333333333,
              "#9c179e"
             ],
             [
              0.4444444444444444,
              "#bd3786"
             ],
             [
              0.5555555555555556,
              "#d8576b"
             ],
             [
              0.6666666666666666,
              "#ed7953"
             ],
             [
              0.7777777777777778,
              "#fb9f3a"
             ],
             [
              0.8888888888888888,
              "#fdca26"
             ],
             [
              1,
              "#f0f921"
             ]
            ],
            "type": "heatmap"
           }
          ],
          "heatmapgl": [
           {
            "colorbar": {
             "outlinewidth": 0,
             "ticks": ""
            },
            "colorscale": [
             [
              0,
              "#0d0887"
             ],
             [
              0.1111111111111111,
              "#46039f"
             ],
             [
              0.2222222222222222,
              "#7201a8"
             ],
             [
              0.3333333333333333,
              "#9c179e"
             ],
             [
              0.4444444444444444,
              "#bd3786"
             ],
             [
              0.5555555555555556,
              "#d8576b"
             ],
             [
              0.6666666666666666,
              "#ed7953"
             ],
             [
              0.7777777777777778,
              "#fb9f3a"
             ],
             [
              0.8888888888888888,
              "#fdca26"
             ],
             [
              1,
              "#f0f921"
             ]
            ],
            "type": "heatmapgl"
           }
          ],
          "histogram": [
           {
            "marker": {
             "colorbar": {
              "outlinewidth": 0,
              "ticks": ""
             }
            },
            "type": "histogram"
           }
          ],
          "histogram2d": [
           {
            "colorbar": {
             "outlinewidth": 0,
             "ticks": ""
            },
            "colorscale": [
             [
              0,
              "#0d0887"
             ],
             [
              0.1111111111111111,
              "#46039f"
             ],
             [
              0.2222222222222222,
              "#7201a8"
             ],
             [
              0.3333333333333333,
              "#9c179e"
             ],
             [
              0.4444444444444444,
              "#bd3786"
             ],
             [
              0.5555555555555556,
              "#d8576b"
             ],
             [
              0.6666666666666666,
              "#ed7953"
             ],
             [
              0.7777777777777778,
              "#fb9f3a"
             ],
             [
              0.8888888888888888,
              "#fdca26"
             ],
             [
              1,
              "#f0f921"
             ]
            ],
            "type": "histogram2d"
           }
          ],
          "histogram2dcontour": [
           {
            "colorbar": {
             "outlinewidth": 0,
             "ticks": ""
            },
            "colorscale": [
             [
              0,
              "#0d0887"
             ],
             [
              0.1111111111111111,
              "#46039f"
             ],
             [
              0.2222222222222222,
              "#7201a8"
             ],
             [
              0.3333333333333333,
              "#9c179e"
             ],
             [
              0.4444444444444444,
              "#bd3786"
             ],
             [
              0.5555555555555556,
              "#d8576b"
             ],
             [
              0.6666666666666666,
              "#ed7953"
             ],
             [
              0.7777777777777778,
              "#fb9f3a"
             ],
             [
              0.8888888888888888,
              "#fdca26"
             ],
             [
              1,
              "#f0f921"
             ]
            ],
            "type": "histogram2dcontour"
           }
          ],
          "mesh3d": [
           {
            "colorbar": {
             "outlinewidth": 0,
             "ticks": ""
            },
            "type": "mesh3d"
           }
          ],
          "parcoords": [
           {
            "line": {
             "colorbar": {
              "outlinewidth": 0,
              "ticks": ""
             }
            },
            "type": "parcoords"
           }
          ],
          "pie": [
           {
            "automargin": true,
            "type": "pie"
           }
          ],
          "scatter": [
           {
            "marker": {
             "colorbar": {
              "outlinewidth": 0,
              "ticks": ""
             }
            },
            "type": "scatter"
           }
          ],
          "scatter3d": [
           {
            "line": {
             "colorbar": {
              "outlinewidth": 0,
              "ticks": ""
             }
            },
            "marker": {
             "colorbar": {
              "outlinewidth": 0,
              "ticks": ""
             }
            },
            "type": "scatter3d"
           }
          ],
          "scattercarpet": [
           {
            "marker": {
             "colorbar": {
              "outlinewidth": 0,
              "ticks": ""
             }
            },
            "type": "scattercarpet"
           }
          ],
          "scattergeo": [
           {
            "marker": {
             "colorbar": {
              "outlinewidth": 0,
              "ticks": ""
             }
            },
            "type": "scattergeo"
           }
          ],
          "scattergl": [
           {
            "marker": {
             "colorbar": {
              "outlinewidth": 0,
              "ticks": ""
             }
            },
            "type": "scattergl"
           }
          ],
          "scattermapbox": [
           {
            "marker": {
             "colorbar": {
              "outlinewidth": 0,
              "ticks": ""
             }
            },
            "type": "scattermapbox"
           }
          ],
          "scatterpolar": [
           {
            "marker": {
             "colorbar": {
              "outlinewidth": 0,
              "ticks": ""
             }
            },
            "type": "scatterpolar"
           }
          ],
          "scatterpolargl": [
           {
            "marker": {
             "colorbar": {
              "outlinewidth": 0,
              "ticks": ""
             }
            },
            "type": "scatterpolargl"
           }
          ],
          "scatterternary": [
           {
            "marker": {
             "colorbar": {
              "outlinewidth": 0,
              "ticks": ""
             }
            },
            "type": "scatterternary"
           }
          ],
          "surface": [
           {
            "colorbar": {
             "outlinewidth": 0,
             "ticks": ""
            },
            "colorscale": [
             [
              0,
              "#0d0887"
             ],
             [
              0.1111111111111111,
              "#46039f"
             ],
             [
              0.2222222222222222,
              "#7201a8"
             ],
             [
              0.3333333333333333,
              "#9c179e"
             ],
             [
              0.4444444444444444,
              "#bd3786"
             ],
             [
              0.5555555555555556,
              "#d8576b"
             ],
             [
              0.6666666666666666,
              "#ed7953"
             ],
             [
              0.7777777777777778,
              "#fb9f3a"
             ],
             [
              0.8888888888888888,
              "#fdca26"
             ],
             [
              1,
              "#f0f921"
             ]
            ],
            "type": "surface"
           }
          ],
          "table": [
           {
            "cells": {
             "fill": {
              "color": "#EBF0F8"
             },
             "line": {
              "color": "white"
             }
            },
            "header": {
             "fill": {
              "color": "#C8D4E3"
             },
             "line": {
              "color": "white"
             }
            },
            "type": "table"
           }
          ]
         },
         "layout": {
          "annotationdefaults": {
           "arrowcolor": "#2a3f5f",
           "arrowhead": 0,
           "arrowwidth": 1
          },
          "coloraxis": {
           "colorbar": {
            "outlinewidth": 0,
            "ticks": ""
           }
          },
          "colorscale": {
           "diverging": [
            [
             0,
             "#8e0152"
            ],
            [
             0.1,
             "#c51b7d"
            ],
            [
             0.2,
             "#de77ae"
            ],
            [
             0.3,
             "#f1b6da"
            ],
            [
             0.4,
             "#fde0ef"
            ],
            [
             0.5,
             "#f7f7f7"
            ],
            [
             0.6,
             "#e6f5d0"
            ],
            [
             0.7,
             "#b8e186"
            ],
            [
             0.8,
             "#7fbc41"
            ],
            [
             0.9,
             "#4d9221"
            ],
            [
             1,
             "#276419"
            ]
           ],
           "sequential": [
            [
             0,
             "#0d0887"
            ],
            [
             0.1111111111111111,
             "#46039f"
            ],
            [
             0.2222222222222222,
             "#7201a8"
            ],
            [
             0.3333333333333333,
             "#9c179e"
            ],
            [
             0.4444444444444444,
             "#bd3786"
            ],
            [
             0.5555555555555556,
             "#d8576b"
            ],
            [
             0.6666666666666666,
             "#ed7953"
            ],
            [
             0.7777777777777778,
             "#fb9f3a"
            ],
            [
             0.8888888888888888,
             "#fdca26"
            ],
            [
             1,
             "#f0f921"
            ]
           ],
           "sequentialminus": [
            [
             0,
             "#0d0887"
            ],
            [
             0.1111111111111111,
             "#46039f"
            ],
            [
             0.2222222222222222,
             "#7201a8"
            ],
            [
             0.3333333333333333,
             "#9c179e"
            ],
            [
             0.4444444444444444,
             "#bd3786"
            ],
            [
             0.5555555555555556,
             "#d8576b"
            ],
            [
             0.6666666666666666,
             "#ed7953"
            ],
            [
             0.7777777777777778,
             "#fb9f3a"
            ],
            [
             0.8888888888888888,
             "#fdca26"
            ],
            [
             1,
             "#f0f921"
            ]
           ]
          },
          "colorway": [
           "#636efa",
           "#EF553B",
           "#00cc96",
           "#ab63fa",
           "#FFA15A",
           "#19d3f3",
           "#FF6692",
           "#B6E880",
           "#FF97FF",
           "#FECB52"
          ],
          "font": {
           "color": "#2a3f5f"
          },
          "geo": {
           "bgcolor": "white",
           "lakecolor": "white",
           "landcolor": "#E5ECF6",
           "showlakes": true,
           "showland": true,
           "subunitcolor": "white"
          },
          "hoverlabel": {
           "align": "left"
          },
          "hovermode": "closest",
          "mapbox": {
           "style": "light"
          },
          "paper_bgcolor": "white",
          "plot_bgcolor": "#E5ECF6",
          "polar": {
           "angularaxis": {
            "gridcolor": "white",
            "linecolor": "white",
            "ticks": ""
           },
           "bgcolor": "#E5ECF6",
           "radialaxis": {
            "gridcolor": "white",
            "linecolor": "white",
            "ticks": ""
           }
          },
          "scene": {
           "xaxis": {
            "backgroundcolor": "#E5ECF6",
            "gridcolor": "white",
            "gridwidth": 2,
            "linecolor": "white",
            "showbackground": true,
            "ticks": "",
            "zerolinecolor": "white"
           },
           "yaxis": {
            "backgroundcolor": "#E5ECF6",
            "gridcolor": "white",
            "gridwidth": 2,
            "linecolor": "white",
            "showbackground": true,
            "ticks": "",
            "zerolinecolor": "white"
           },
           "zaxis": {
            "backgroundcolor": "#E5ECF6",
            "gridcolor": "white",
            "gridwidth": 2,
            "linecolor": "white",
            "showbackground": true,
            "ticks": "",
            "zerolinecolor": "white"
           }
          },
          "shapedefaults": {
           "line": {
            "color": "#2a3f5f"
           }
          },
          "ternary": {
           "aaxis": {
            "gridcolor": "white",
            "linecolor": "white",
            "ticks": ""
           },
           "baxis": {
            "gridcolor": "white",
            "linecolor": "white",
            "ticks": ""
           },
           "bgcolor": "#E5ECF6",
           "caxis": {
            "gridcolor": "white",
            "linecolor": "white",
            "ticks": ""
           }
          },
          "title": {
           "x": 0.05
          },
          "xaxis": {
           "automargin": true,
           "gridcolor": "white",
           "linecolor": "white",
           "ticks": "",
           "title": {
            "standoff": 15
           },
           "zerolinecolor": "white",
           "zerolinewidth": 2
          },
          "yaxis": {
           "automargin": true,
           "gridcolor": "white",
           "linecolor": "white",
           "ticks": "",
           "title": {
            "standoff": 15
           },
           "zerolinecolor": "white",
           "zerolinewidth": 2
          }
         }
        },
        "title": {
         "font": {
          "color": "#4D5663"
         }
        },
        "xaxis": {
         "anchor": "y",
         "domain": [
          0,
          0.2125
         ],
         "gridcolor": "#E1E5ED",
         "showgrid": false,
         "tickfont": {
          "color": "#4D5663"
         },
         "title": {
          "font": {
           "color": "#4D5663"
          },
          "text": ""
         },
         "zerolinecolor": "#E1E5ED"
        },
        "xaxis10": {
         "anchor": "y10",
         "domain": [
          0.2625,
          0.475
         ],
         "gridcolor": "#E1E5ED",
         "showgrid": false,
         "tickfont": {
          "color": "#4D5663"
         },
         "title": {
          "font": {
           "color": "#4D5663"
          },
          "text": ""
         },
         "zerolinecolor": "#E1E5ED"
        },
        "xaxis11": {
         "anchor": "y11",
         "domain": [
          0.525,
          0.7375
         ],
         "gridcolor": "#E1E5ED",
         "showgrid": false,
         "tickfont": {
          "color": "#4D5663"
         },
         "title": {
          "font": {
           "color": "#4D5663"
          },
          "text": ""
         },
         "zerolinecolor": "#E1E5ED"
        },
        "xaxis12": {
         "anchor": "y12",
         "domain": [
          0.7875,
          1
         ],
         "gridcolor": "#E1E5ED",
         "showgrid": false,
         "tickfont": {
          "color": "#4D5663"
         },
         "title": {
          "font": {
           "color": "#4D5663"
          },
          "text": ""
         },
         "zerolinecolor": "#E1E5ED"
        },
        "xaxis13": {
         "anchor": "y13",
         "domain": [
          0,
          0.2125
         ],
         "gridcolor": "#E1E5ED",
         "showgrid": false,
         "tickfont": {
          "color": "#4D5663"
         },
         "title": {
          "font": {
           "color": "#4D5663"
          },
          "text": ""
         },
         "zerolinecolor": "#E1E5ED"
        },
        "xaxis14": {
         "anchor": "y14",
         "domain": [
          0.2625,
          0.475
         ],
         "gridcolor": "#E1E5ED",
         "showgrid": false,
         "tickfont": {
          "color": "#4D5663"
         },
         "title": {
          "font": {
           "color": "#4D5663"
          },
          "text": ""
         },
         "zerolinecolor": "#E1E5ED"
        },
        "xaxis15": {
         "anchor": "y15",
         "domain": [
          0.525,
          0.7375
         ],
         "gridcolor": "#E1E5ED",
         "showgrid": false,
         "tickfont": {
          "color": "#4D5663"
         },
         "title": {
          "font": {
           "color": "#4D5663"
          },
          "text": ""
         },
         "zerolinecolor": "#E1E5ED"
        },
        "xaxis16": {
         "anchor": "y16",
         "domain": [
          0.7875,
          1
         ],
         "gridcolor": "#E1E5ED",
         "showgrid": false,
         "tickfont": {
          "color": "#4D5663"
         },
         "title": {
          "font": {
           "color": "#4D5663"
          },
          "text": ""
         },
         "zerolinecolor": "#E1E5ED"
        },
        "xaxis2": {
         "anchor": "y2",
         "domain": [
          0.2625,
          0.475
         ],
         "gridcolor": "#E1E5ED",
         "showgrid": false,
         "tickfont": {
          "color": "#4D5663"
         },
         "title": {
          "font": {
           "color": "#4D5663"
          },
          "text": ""
         },
         "zerolinecolor": "#E1E5ED"
        },
        "xaxis3": {
         "anchor": "y3",
         "domain": [
          0.525,
          0.7375
         ],
         "gridcolor": "#E1E5ED",
         "showgrid": false,
         "tickfont": {
          "color": "#4D5663"
         },
         "title": {
          "font": {
           "color": "#4D5663"
          },
          "text": ""
         },
         "zerolinecolor": "#E1E5ED"
        },
        "xaxis4": {
         "anchor": "y4",
         "domain": [
          0.7875,
          1
         ],
         "gridcolor": "#E1E5ED",
         "showgrid": false,
         "tickfont": {
          "color": "#4D5663"
         },
         "title": {
          "font": {
           "color": "#4D5663"
          },
          "text": ""
         },
         "zerolinecolor": "#E1E5ED"
        },
        "xaxis5": {
         "anchor": "y5",
         "domain": [
          0,
          0.2125
         ],
         "gridcolor": "#E1E5ED",
         "showgrid": false,
         "tickfont": {
          "color": "#4D5663"
         },
         "title": {
          "font": {
           "color": "#4D5663"
          },
          "text": ""
         },
         "zerolinecolor": "#E1E5ED"
        },
        "xaxis6": {
         "anchor": "y6",
         "domain": [
          0.2625,
          0.475
         ],
         "gridcolor": "#E1E5ED",
         "showgrid": false,
         "tickfont": {
          "color": "#4D5663"
         },
         "title": {
          "font": {
           "color": "#4D5663"
          },
          "text": ""
         },
         "zerolinecolor": "#E1E5ED"
        },
        "xaxis7": {
         "anchor": "y7",
         "domain": [
          0.525,
          0.7375
         ],
         "gridcolor": "#E1E5ED",
         "showgrid": false,
         "tickfont": {
          "color": "#4D5663"
         },
         "title": {
          "font": {
           "color": "#4D5663"
          },
          "text": ""
         },
         "zerolinecolor": "#E1E5ED"
        },
        "xaxis8": {
         "anchor": "y8",
         "domain": [
          0.7875,
          1
         ],
         "gridcolor": "#E1E5ED",
         "showgrid": false,
         "tickfont": {
          "color": "#4D5663"
         },
         "title": {
          "font": {
           "color": "#4D5663"
          },
          "text": ""
         },
         "zerolinecolor": "#E1E5ED"
        },
        "xaxis9": {
         "anchor": "y9",
         "domain": [
          0,
          0.2125
         ],
         "gridcolor": "#E1E5ED",
         "showgrid": false,
         "tickfont": {
          "color": "#4D5663"
         },
         "title": {
          "font": {
           "color": "#4D5663"
          },
          "text": ""
         },
         "zerolinecolor": "#E1E5ED"
        },
        "yaxis": {
         "anchor": "x",
         "domain": [
          0.8025,
          1
         ],
         "gridcolor": "#E1E5ED",
         "showgrid": false,
         "tickfont": {
          "color": "#4D5663"
         },
         "title": {
          "font": {
           "color": "#4D5663"
          },
          "text": ""
         },
         "zerolinecolor": "#E1E5ED"
        },
        "yaxis10": {
         "anchor": "x10",
         "domain": [
          0.2675,
          0.465
         ],
         "gridcolor": "#E1E5ED",
         "showgrid": false,
         "tickfont": {
          "color": "#4D5663"
         },
         "title": {
          "font": {
           "color": "#4D5663"
          },
          "text": ""
         },
         "zerolinecolor": "#E1E5ED"
        },
        "yaxis11": {
         "anchor": "x11",
         "domain": [
          0.2675,
          0.465
         ],
         "gridcolor": "#E1E5ED",
         "showgrid": false,
         "tickfont": {
          "color": "#4D5663"
         },
         "title": {
          "font": {
           "color": "#4D5663"
          },
          "text": ""
         },
         "zerolinecolor": "#E1E5ED"
        },
        "yaxis12": {
         "anchor": "x12",
         "domain": [
          0.2675,
          0.465
         ],
         "gridcolor": "#E1E5ED",
         "showgrid": false,
         "tickfont": {
          "color": "#4D5663"
         },
         "title": {
          "font": {
           "color": "#4D5663"
          },
          "text": ""
         },
         "zerolinecolor": "#E1E5ED"
        },
        "yaxis13": {
         "anchor": "x13",
         "domain": [
          0,
          0.1975
         ],
         "gridcolor": "#E1E5ED",
         "showgrid": false,
         "tickfont": {
          "color": "#4D5663"
         },
         "title": {
          "font": {
           "color": "#4D5663"
          },
          "text": ""
         },
         "zerolinecolor": "#E1E5ED"
        },
        "yaxis14": {
         "anchor": "x14",
         "domain": [
          0,
          0.1975
         ],
         "gridcolor": "#E1E5ED",
         "showgrid": false,
         "tickfont": {
          "color": "#4D5663"
         },
         "title": {
          "font": {
           "color": "#4D5663"
          },
          "text": ""
         },
         "zerolinecolor": "#E1E5ED"
        },
        "yaxis15": {
         "anchor": "x15",
         "domain": [
          0,
          0.1975
         ],
         "gridcolor": "#E1E5ED",
         "showgrid": false,
         "tickfont": {
          "color": "#4D5663"
         },
         "title": {
          "font": {
           "color": "#4D5663"
          },
          "text": ""
         },
         "zerolinecolor": "#E1E5ED"
        },
        "yaxis16": {
         "anchor": "x16",
         "domain": [
          0,
          0.1975
         ],
         "gridcolor": "#E1E5ED",
         "showgrid": false,
         "tickfont": {
          "color": "#4D5663"
         },
         "title": {
          "font": {
           "color": "#4D5663"
          },
          "text": ""
         },
         "zerolinecolor": "#E1E5ED"
        },
        "yaxis2": {
         "anchor": "x2",
         "domain": [
          0.8025,
          1
         ],
         "gridcolor": "#E1E5ED",
         "showgrid": false,
         "tickfont": {
          "color": "#4D5663"
         },
         "title": {
          "font": {
           "color": "#4D5663"
          },
          "text": ""
         },
         "zerolinecolor": "#E1E5ED"
        },
        "yaxis3": {
         "anchor": "x3",
         "domain": [
          0.8025,
          1
         ],
         "gridcolor": "#E1E5ED",
         "showgrid": false,
         "tickfont": {
          "color": "#4D5663"
         },
         "title": {
          "font": {
           "color": "#4D5663"
          },
          "text": ""
         },
         "zerolinecolor": "#E1E5ED"
        },
        "yaxis4": {
         "anchor": "x4",
         "domain": [
          0.8025,
          1
         ],
         "gridcolor": "#E1E5ED",
         "showgrid": false,
         "tickfont": {
          "color": "#4D5663"
         },
         "title": {
          "font": {
           "color": "#4D5663"
          },
          "text": ""
         },
         "zerolinecolor": "#E1E5ED"
        },
        "yaxis5": {
         "anchor": "x5",
         "domain": [
          0.535,
          0.7325
         ],
         "gridcolor": "#E1E5ED",
         "showgrid": false,
         "tickfont": {
          "color": "#4D5663"
         },
         "title": {
          "font": {
           "color": "#4D5663"
          },
          "text": ""
         },
         "zerolinecolor": "#E1E5ED"
        },
        "yaxis6": {
         "anchor": "x6",
         "domain": [
          0.535,
          0.7325
         ],
         "gridcolor": "#E1E5ED",
         "showgrid": false,
         "tickfont": {
          "color": "#4D5663"
         },
         "title": {
          "font": {
           "color": "#4D5663"
          },
          "text": ""
         },
         "zerolinecolor": "#E1E5ED"
        },
        "yaxis7": {
         "anchor": "x7",
         "domain": [
          0.535,
          0.7325
         ],
         "gridcolor": "#E1E5ED",
         "showgrid": false,
         "tickfont": {
          "color": "#4D5663"
         },
         "title": {
          "font": {
           "color": "#4D5663"
          },
          "text": ""
         },
         "zerolinecolor": "#E1E5ED"
        },
        "yaxis8": {
         "anchor": "x8",
         "domain": [
          0.535,
          0.7325
         ],
         "gridcolor": "#E1E5ED",
         "showgrid": false,
         "tickfont": {
          "color": "#4D5663"
         },
         "title": {
          "font": {
           "color": "#4D5663"
          },
          "text": ""
         },
         "zerolinecolor": "#E1E5ED"
        },
        "yaxis9": {
         "anchor": "x9",
         "domain": [
          0.2675,
          0.465
         ],
         "gridcolor": "#E1E5ED",
         "showgrid": false,
         "tickfont": {
          "color": "#4D5663"
         },
         "title": {
          "font": {
           "color": "#4D5663"
          },
          "text": ""
         },
         "zerolinecolor": "#E1E5ED"
        }
       }
      },
      "text/html": [
       "<div>\n",
       "        \n",
       "        \n",
       "            <div id=\"7c1cc7a3-169c-4e6c-a2fc-3d2857d5f556\" class=\"plotly-graph-div\" style=\"height:525px; width:100%;\"></div>\n",
       "            <script type=\"text/javascript\">\n",
       "                require([\"plotly\"], function(Plotly) {\n",
       "                    window.PLOTLYENV=window.PLOTLYENV || {};\n",
       "                    window.PLOTLYENV.BASE_URL='https://plot.ly';\n",
       "                    \n",
       "                if (document.getElementById(\"7c1cc7a3-169c-4e6c-a2fc-3d2857d5f556\")) {\n",
       "                    Plotly.newPlot(\n",
       "                        '7c1cc7a3-169c-4e6c-a2fc-3d2857d5f556',\n",
       "                        [{\"histfunc\": \"count\", \"histnorm\": \"\", \"marker\": {\"color\": \"rgba(255, 153, 51, 1.0)\", \"line\": {\"color\": \"#4D5663\", \"width\": 1.3}}, \"name\": \"A\", \"nbinsx\": 10, \"opacity\": 0.8, \"orientation\": \"v\", \"type\": \"histogram\", \"x\": [-1.1657268930546911, -0.8257896723416672, -1.5692473690498552, 0.04148074727700573, -0.37141526705551925, -1.0252331492540236, 0.03808643193886817, 0.6385237277266756, -0.03634094726247845, 0.930639523996398, -0.15769993863339335, -1.3115818372959207, -0.6956200174046264, 0.4485882406005429, 0.31649879044255985, -1.4018139640972982, 0.39920864559665786, -0.10592261410136272, -0.058408468861257425, 0.11338790552456374, 0.771451750196267, -0.20401324182769112, 1.3834361156529802, -0.9274853486806579, 0.14036807996280848, 0.6504871783878534, -0.4012916567745803, -1.1123688423070532, -0.5206109202042801, -1.5299164801300464, -0.17446907711289097, -1.6506726554876658, 0.9342351699264133, -1.6113583437291723, 0.9098913890383441, 1.9770747503734736, 0.047668778464560066, 1.7923434064461392, -1.3772213470058206, 0.03494868487903562, 0.481504547200912, -0.26260218876180397, 0.8406656571888367, 0.4773931682096321, -0.9327329880484112, -0.5315533595411261, -1.3582888550555947, -0.35490398446858434, -1.1157896762940882, 0.41272172170477245, 1.0458864663929586, 0.43451589045221944, -0.37577300950511977, 0.33808657491023214, -0.07152345355591183, 0.8032108462133098, 0.18245491124717708, -1.0571104834254184, 0.16438257249290036, -0.5780890823220005, -0.9380222318218958, 0.44229935023690725, -0.9278374618952944, -0.034949624334541546, -1.0340872672557324, -0.13974001324651703, -0.2919368733015318, 1.002702264475855, -1.1968979548754446, -1.3850973493257903, -0.42714008580848406, -1.7214297712861604, 1.0140274495229493, -0.36021770144701604, -0.6794761363706949, -0.6845284565795763, 0.99605538773384, -0.38619946663320476, 0.7320702176568683, -0.7643548322570244, 1.1807445406919128, 0.8501345416418742, 2.678462426358552, -0.15578485067074094, -0.7370355672026178, 0.44753721006704444, -0.2301867988745454, 0.12298020901905306, 1.2125072035295636, -0.4934142231343045, -1.0972864412529257, -0.4296862077321958, -0.5941610509888187, 0.9961970490955918, -0.7870054622770482, 0.19608051727138479, 0.5840004135465414, -0.5238514262542873, 0.9153080729266359, -0.4605436669206109], \"xaxis\": \"x\", \"yaxis\": \"y\"}, {\"line\": {\"color\": \"rgba(128, 128, 128, 1.0)\", \"dash\": \"solid\", \"shape\": \"linear\", \"width\": 1.3}, \"marker\": {\"size\": 2, \"symbol\": \"circle\"}, \"mode\": \"markers\", \"name\": \"A\", \"text\": \"\", \"type\": \"scatter\", \"x\": [0.8841355807884956, -1.2018519903039573, -0.7813604437074404, -0.6919248283962665, -0.6090700517991942, -1.5847425272462459, 0.8800941130873866, -1.117152954326337, 0.30839191877406763, 0.4992507443148893, 0.811019128617171, -1.1194697152788227, 0.26132616109683876, -0.04063312576310276, -0.040617208546109174, 1.4521803080354538, 0.7188186269954967, -1.1949315720134128, 0.20886087549922405, 0.8840313510069323, 0.31312789635592975, 0.7160149644554132, -0.4221003899412094, -2.2802874512727898, -1.246436604263054, 0.6866102012400632, 0.5677203393248417, -0.5963896855140837, 0.79409494373185, 1.2867304239152937, 0.5538692349797086, 0.900332290774584, 1.1823357315962189, 0.6177834000735457, 0.6896077406770214, -0.27076731126208353, 0.39706171337341184, -0.16615594156962268, -0.1703820000471231, 0.6333428442434194, -0.8839784064479783, 0.8710611118205372, 0.018128528664612762, 0.059077932094537, -2.7152166112873672, -0.0640831904263152, -0.9710375266761576, 0.2552825123045555, 0.327422499269327, -1.1647597142547192, 0.7605994940595009, 0.017750790409212316, 0.1994961650671732, 0.10943274780509042, 0.21794904931044667, -0.40058981514845116, 1.2267678416756223, -0.7059097947692653, 0.42194973120502605, -1.3726147490117409, -0.3632837397565943, 1.0591388513310673, 0.7844724227029937, -0.7212655767076589, -0.26657468033646126, 1.4689154351444949, -0.3055071427197533, -0.6825021367594182, 1.9382793081063177, 1.9878772760134318, 0.3427107055806652, 0.14069874522957815, 0.9448495574182093, 1.6379714237382257, 0.43704396091988845, -1.2498194806763598, -0.19402341742139284, -0.7658491996505546, -0.3932725942609261, 0.3712040975782359, -0.3784211046426365, -0.9732140681745898, 0.3317598863575627, 0.15036006159105378, 0.6009175803960332, 0.6340183275484096, 0.9447966454362406, 0.8009564616629822, 0.5517526246690576, -0.24974977970951584, 1.366375419299985, 1.5056227833986284, -0.19461046242137378, -0.7931977016755076, -1.465297233176536, -0.6561276547721709, 0.2694406537658064, -1.963384192387417, -0.03977409852472031, -0.25942371843808265], \"xaxis\": \"x2\", \"y\": [-1.1657268930546911, -0.8257896723416672, -1.5692473690498552, 0.04148074727700573, -0.37141526705551925, -1.0252331492540236, 0.03808643193886817, 0.6385237277266756, -0.03634094726247845, 0.930639523996398, -0.15769993863339335, -1.3115818372959207, -0.6956200174046264, 0.4485882406005429, 0.31649879044255985, -1.4018139640972982, 0.39920864559665786, -0.10592261410136272, -0.058408468861257425, 0.11338790552456374, 0.771451750196267, -0.20401324182769112, 1.3834361156529802, -0.9274853486806579, 0.14036807996280848, 0.6504871783878534, -0.4012916567745803, -1.1123688423070532, -0.5206109202042801, -1.5299164801300464, -0.17446907711289097, -1.6506726554876658, 0.9342351699264133, -1.6113583437291723, 0.9098913890383441, 1.9770747503734736, 0.047668778464560066, 1.7923434064461392, -1.3772213470058206, 0.03494868487903562, 0.481504547200912, -0.26260218876180397, 0.8406656571888367, 0.4773931682096321, -0.9327329880484112, -0.5315533595411261, -1.3582888550555947, -0.35490398446858434, -1.1157896762940882, 0.41272172170477245, 1.0458864663929586, 0.43451589045221944, -0.37577300950511977, 0.33808657491023214, -0.07152345355591183, 0.8032108462133098, 0.18245491124717708, -1.0571104834254184, 0.16438257249290036, -0.5780890823220005, -0.9380222318218958, 0.44229935023690725, -0.9278374618952944, -0.034949624334541546, -1.0340872672557324, -0.13974001324651703, -0.2919368733015318, 1.002702264475855, -1.1968979548754446, -1.3850973493257903, -0.42714008580848406, -1.7214297712861604, 1.0140274495229493, -0.36021770144701604, -0.6794761363706949, -0.6845284565795763, 0.99605538773384, -0.38619946663320476, 0.7320702176568683, -0.7643548322570244, 1.1807445406919128, 0.8501345416418742, 2.678462426358552, -0.15578485067074094, -0.7370355672026178, 0.44753721006704444, -0.2301867988745454, 0.12298020901905306, 1.2125072035295636, -0.4934142231343045, -1.0972864412529257, -0.4296862077321958, -0.5941610509888187, 0.9961970490955918, -0.7870054622770482, 0.19608051727138479, 0.5840004135465414, -0.5238514262542873, 0.9153080729266359, -0.4605436669206109], \"yaxis\": \"y2\"}, {\"line\": {\"color\": \"rgba(128, 128, 128, 1.0)\", \"dash\": \"solid\", \"shape\": \"linear\", \"width\": 1.3}, \"marker\": {\"size\": 2, \"symbol\": \"circle\"}, \"mode\": \"markers\", \"name\": \"A\", \"text\": \"\", \"type\": \"scatter\", \"x\": [-0.6577419470666775, 1.5468328854157893, 0.15055942353848414, -0.6166951991924662, -0.17696035549092132, 0.0026159205405225042, 1.2331865720032635, 1.2435528088543073, -0.5667531689608509, 0.4630368885755947, 0.6391231441591966, -0.1429541644335827, 0.8805438770540935, 1.1849212235092015, -1.2728784962465851, 1.346781675013242, 1.2482247918277778, -0.10396199557224642, -0.028906831431156986, -0.3572981365831892, -0.05223546732515046, 0.15786227922202295, -0.22009412895249236, -1.7721864067462902, -0.6061448275657668, -1.5308377336006376, 0.07041961683058189, -0.03830912190432932, 0.2135282713552872, -1.1935584154464867, -1.0677516214342473, 0.44175940635296035, -0.5562173071499407, 0.0176240616889017, -1.6211847095100522, -0.2575871901559379, 0.33748999172485566, -1.3784111551517109, -1.2958205545388826, 0.7785079111442709, -0.654447389504053, -1.3999313788086734, 0.3167097883572841, 0.07731932475096173, 1.8827191381966604, -0.7083923654989508, 1.3926633512282667, 0.24526098808364127, -0.2210347711090506, 0.038281908314065076, -1.3357478551192634, -0.16227660062644264, 0.06406613898696684, 1.213518760817214, 1.2457277288385022, 1.247373441376304, 0.921374684450078, 0.14034040891334543, -3.257339327618611, -1.213543392402012, -0.3445247702276053, -0.5969991004026705, 0.2719557150165253, -0.036248336471367645, -0.4580189614691427, -0.6709366758127309, 1.2358352087586708, 1.2312434994547732, -0.538717224541438, -1.5966239135719764, -0.760305428049948, 1.7572443209590902, -0.5739219510008042, -0.8324710695457126, -1.0143133987575614, 0.42630799512701356, -0.17451166862510278, -0.5526444573230915, -0.6556668389465901, 1.2012044387582725, 1.9310312337228657, 0.5076657033800569, 0.7995228996441234, 0.3430015789595602, -0.6105581367353852, 1.099914761180952, 0.42969561622664854, -1.3180076819962583, 0.9940939848559184, 0.016833009453457417, -2.520279558101372, -0.00830409476513253, 1.8249939096826509, 0.0536635012668011, 2.0828997434481793, 2.0446329233848886, 1.5922253838727163, 0.7335493331596151, 0.39576990054133315, -0.9420576028250149], \"xaxis\": \"x3\", \"y\": [-1.1657268930546911, -0.8257896723416672, -1.5692473690498552, 0.04148074727700573, -0.37141526705551925, -1.0252331492540236, 0.03808643193886817, 0.6385237277266756, -0.03634094726247845, 0.930639523996398, -0.15769993863339335, -1.3115818372959207, -0.6956200174046264, 0.4485882406005429, 0.31649879044255985, -1.4018139640972982, 0.39920864559665786, -0.10592261410136272, -0.058408468861257425, 0.11338790552456374, 0.771451750196267, -0.20401324182769112, 1.3834361156529802, -0.9274853486806579, 0.14036807996280848, 0.6504871783878534, -0.4012916567745803, -1.1123688423070532, -0.5206109202042801, -1.5299164801300464, -0.17446907711289097, -1.6506726554876658, 0.9342351699264133, -1.6113583437291723, 0.9098913890383441, 1.9770747503734736, 0.047668778464560066, 1.7923434064461392, -1.3772213470058206, 0.03494868487903562, 0.481504547200912, -0.26260218876180397, 0.8406656571888367, 0.4773931682096321, -0.9327329880484112, -0.5315533595411261, -1.3582888550555947, -0.35490398446858434, -1.1157896762940882, 0.41272172170477245, 1.0458864663929586, 0.43451589045221944, -0.37577300950511977, 0.33808657491023214, -0.07152345355591183, 0.8032108462133098, 0.18245491124717708, -1.0571104834254184, 0.16438257249290036, -0.5780890823220005, -0.9380222318218958, 0.44229935023690725, -0.9278374618952944, -0.034949624334541546, -1.0340872672557324, -0.13974001324651703, -0.2919368733015318, 1.002702264475855, -1.1968979548754446, -1.3850973493257903, -0.42714008580848406, -1.7214297712861604, 1.0140274495229493, -0.36021770144701604, -0.6794761363706949, -0.6845284565795763, 0.99605538773384, -0.38619946663320476, 0.7320702176568683, -0.7643548322570244, 1.1807445406919128, 0.8501345416418742, 2.678462426358552, -0.15578485067074094, -0.7370355672026178, 0.44753721006704444, -0.2301867988745454, 0.12298020901905306, 1.2125072035295636, -0.4934142231343045, -1.0972864412529257, -0.4296862077321958, -0.5941610509888187, 0.9961970490955918, -0.7870054622770482, 0.19608051727138479, 0.5840004135465414, -0.5238514262542873, 0.9153080729266359, -0.4605436669206109], \"yaxis\": \"y3\"}, {\"line\": {\"color\": \"rgba(128, 128, 128, 1.0)\", \"dash\": \"solid\", \"shape\": \"linear\", \"width\": 1.3}, \"marker\": {\"size\": 2, \"symbol\": \"circle\"}, \"mode\": \"markers\", \"name\": \"A\", \"text\": \"\", \"type\": \"scatter\", \"x\": [-0.17098599570917958, -1.393236655946603, -1.0693801396851572, -0.10936613135512015, -0.8314593670479007, -0.4092384624054739, 1.591365527813672, 0.11362375490085795, -0.25776072822892904, -0.8125864413251922, -0.4016254821547242, -0.40314548041442333, 0.441318892858655, -0.9951032400894578, 0.7046896087329072, 1.4338435709601507, 1.2900813394365953, 0.7566969910329154, 0.6054782545258194, -0.3812538164486021, 1.7252861447847634, -0.3097180343167236, 1.2634026380699939, -0.3310218412132827, 1.2981841087496109, -1.3164876377541306, 1.3385133730049839, 0.408919062636667, 0.26155431919249206, 0.16179530977109546, 1.1882180742137027, -0.5373015572622404, 1.0851103049503912, -0.11971988208771717, -3.1534897814326572, 1.0636433852077034, -0.24206197356159356, -0.4805364352370448, 0.0825621351357835, 0.3213995162912668, -1.3860840204546088, 0.7076515268193385, -0.38418705166305434, 1.0503272088152968, -0.1507001548323202, 0.1326781167019228, 0.031640977634701674, 0.3270643194243436, -1.0240130765030746, -0.9850468081299435, 0.6407835817746089, 0.9226485955501837, 0.6099910920980564, -0.1338015368573558, 1.1102649237501483, -1.3958011343771304, -0.480761295431456, -0.9197336470771523, 0.2436166046180653, -0.491075080205768, -0.602342191813965, -0.03627264045796918, -0.3246622644750205, -0.7081351488085751, 0.8219705780465458, 0.9068696677971314, 0.1321076675794045, 0.8483071774032414, 2.0991711366157677, -1.4080771727787935, -0.562424101202065, -0.503291241503718, 2.007100335200901, -0.28186514240083355, 1.204314296055594, -1.100511062799972, -0.37739914584103695, -0.015960137805170572, -0.7025926609072702, -0.8810281259328301, 0.42328129208618703, 2.1393670406737364, 0.5518423152603928, -0.3312696030093754, -1.37661535159739, -0.8407676307979148, -1.8980143897008703, 0.8495286569154681, 1.3565444156846354, -1.2594996674990298, 0.84456290056292, -0.916750420464946, -0.3679405135481918, -0.8743197683849901, -1.8077341234023898, 0.658157297890938, -0.9806995633402245, -1.0790459382261648, -0.9211654559956725, 0.9446836227411445], \"xaxis\": \"x4\", \"y\": [-1.1657268930546911, -0.8257896723416672, -1.5692473690498552, 0.04148074727700573, -0.37141526705551925, -1.0252331492540236, 0.03808643193886817, 0.6385237277266756, -0.03634094726247845, 0.930639523996398, -0.15769993863339335, -1.3115818372959207, -0.6956200174046264, 0.4485882406005429, 0.31649879044255985, -1.4018139640972982, 0.39920864559665786, -0.10592261410136272, -0.058408468861257425, 0.11338790552456374, 0.771451750196267, -0.20401324182769112, 1.3834361156529802, -0.9274853486806579, 0.14036807996280848, 0.6504871783878534, -0.4012916567745803, -1.1123688423070532, -0.5206109202042801, -1.5299164801300464, -0.17446907711289097, -1.6506726554876658, 0.9342351699264133, -1.6113583437291723, 0.9098913890383441, 1.9770747503734736, 0.047668778464560066, 1.7923434064461392, -1.3772213470058206, 0.03494868487903562, 0.481504547200912, -0.26260218876180397, 0.8406656571888367, 0.4773931682096321, -0.9327329880484112, -0.5315533595411261, -1.3582888550555947, -0.35490398446858434, -1.1157896762940882, 0.41272172170477245, 1.0458864663929586, 0.43451589045221944, -0.37577300950511977, 0.33808657491023214, -0.07152345355591183, 0.8032108462133098, 0.18245491124717708, -1.0571104834254184, 0.16438257249290036, -0.5780890823220005, -0.9380222318218958, 0.44229935023690725, -0.9278374618952944, -0.034949624334541546, -1.0340872672557324, -0.13974001324651703, -0.2919368733015318, 1.002702264475855, -1.1968979548754446, -1.3850973493257903, -0.42714008580848406, -1.7214297712861604, 1.0140274495229493, -0.36021770144701604, -0.6794761363706949, -0.6845284565795763, 0.99605538773384, -0.38619946663320476, 0.7320702176568683, -0.7643548322570244, 1.1807445406919128, 0.8501345416418742, 2.678462426358552, -0.15578485067074094, -0.7370355672026178, 0.44753721006704444, -0.2301867988745454, 0.12298020901905306, 1.2125072035295636, -0.4934142231343045, -1.0972864412529257, -0.4296862077321958, -0.5941610509888187, 0.9961970490955918, -0.7870054622770482, 0.19608051727138479, 0.5840004135465414, -0.5238514262542873, 0.9153080729266359, -0.4605436669206109], \"yaxis\": \"y4\"}, {\"line\": {\"color\": \"rgba(128, 128, 128, 1.0)\", \"dash\": \"solid\", \"shape\": \"linear\", \"width\": 1.3}, \"marker\": {\"size\": 2, \"symbol\": \"circle\"}, \"mode\": \"markers\", \"name\": \"B\", \"text\": \"\", \"type\": \"scatter\", \"x\": [-1.1657268930546911, -0.8257896723416672, -1.5692473690498552, 0.04148074727700573, -0.37141526705551925, -1.0252331492540236, 0.03808643193886817, 0.6385237277266756, -0.03634094726247845, 0.930639523996398, -0.15769993863339335, -1.3115818372959207, -0.6956200174046264, 0.4485882406005429, 0.31649879044255985, -1.4018139640972982, 0.39920864559665786, -0.10592261410136272, -0.058408468861257425, 0.11338790552456374, 0.771451750196267, -0.20401324182769112, 1.3834361156529802, -0.9274853486806579, 0.14036807996280848, 0.6504871783878534, -0.4012916567745803, -1.1123688423070532, -0.5206109202042801, -1.5299164801300464, -0.17446907711289097, -1.6506726554876658, 0.9342351699264133, -1.6113583437291723, 0.9098913890383441, 1.9770747503734736, 0.047668778464560066, 1.7923434064461392, -1.3772213470058206, 0.03494868487903562, 0.481504547200912, -0.26260218876180397, 0.8406656571888367, 0.4773931682096321, -0.9327329880484112, -0.5315533595411261, -1.3582888550555947, -0.35490398446858434, -1.1157896762940882, 0.41272172170477245, 1.0458864663929586, 0.43451589045221944, -0.37577300950511977, 0.33808657491023214, -0.07152345355591183, 0.8032108462133098, 0.18245491124717708, -1.0571104834254184, 0.16438257249290036, -0.5780890823220005, -0.9380222318218958, 0.44229935023690725, -0.9278374618952944, -0.034949624334541546, -1.0340872672557324, -0.13974001324651703, -0.2919368733015318, 1.002702264475855, -1.1968979548754446, -1.3850973493257903, -0.42714008580848406, -1.7214297712861604, 1.0140274495229493, -0.36021770144701604, -0.6794761363706949, -0.6845284565795763, 0.99605538773384, -0.38619946663320476, 0.7320702176568683, -0.7643548322570244, 1.1807445406919128, 0.8501345416418742, 2.678462426358552, -0.15578485067074094, -0.7370355672026178, 0.44753721006704444, -0.2301867988745454, 0.12298020901905306, 1.2125072035295636, -0.4934142231343045, -1.0972864412529257, -0.4296862077321958, -0.5941610509888187, 0.9961970490955918, -0.7870054622770482, 0.19608051727138479, 0.5840004135465414, -0.5238514262542873, 0.9153080729266359, -0.4605436669206109], \"xaxis\": \"x5\", \"y\": [0.8841355807884956, -1.2018519903039573, -0.7813604437074404, -0.6919248283962665, -0.6090700517991942, -1.5847425272462459, 0.8800941130873866, -1.117152954326337, 0.30839191877406763, 0.4992507443148893, 0.811019128617171, -1.1194697152788227, 0.26132616109683876, -0.04063312576310276, -0.040617208546109174, 1.4521803080354538, 0.7188186269954967, -1.1949315720134128, 0.20886087549922405, 0.8840313510069323, 0.31312789635592975, 0.7160149644554132, -0.4221003899412094, -2.2802874512727898, -1.246436604263054, 0.6866102012400632, 0.5677203393248417, -0.5963896855140837, 0.79409494373185, 1.2867304239152937, 0.5538692349797086, 0.900332290774584, 1.1823357315962189, 0.6177834000735457, 0.6896077406770214, -0.27076731126208353, 0.39706171337341184, -0.16615594156962268, -0.1703820000471231, 0.6333428442434194, -0.8839784064479783, 0.8710611118205372, 0.018128528664612762, 0.059077932094537, -2.7152166112873672, -0.0640831904263152, -0.9710375266761576, 0.2552825123045555, 0.327422499269327, -1.1647597142547192, 0.7605994940595009, 0.017750790409212316, 0.1994961650671732, 0.10943274780509042, 0.21794904931044667, -0.40058981514845116, 1.2267678416756223, -0.7059097947692653, 0.42194973120502605, -1.3726147490117409, -0.3632837397565943, 1.0591388513310673, 0.7844724227029937, -0.7212655767076589, -0.26657468033646126, 1.4689154351444949, -0.3055071427197533, -0.6825021367594182, 1.9382793081063177, 1.9878772760134318, 0.3427107055806652, 0.14069874522957815, 0.9448495574182093, 1.6379714237382257, 0.43704396091988845, -1.2498194806763598, -0.19402341742139284, -0.7658491996505546, -0.3932725942609261, 0.3712040975782359, -0.3784211046426365, -0.9732140681745898, 0.3317598863575627, 0.15036006159105378, 0.6009175803960332, 0.6340183275484096, 0.9447966454362406, 0.8009564616629822, 0.5517526246690576, -0.24974977970951584, 1.366375419299985, 1.5056227833986284, -0.19461046242137378, -0.7931977016755076, -1.465297233176536, -0.6561276547721709, 0.2694406537658064, -1.963384192387417, -0.03977409852472031, -0.25942371843808265], \"yaxis\": \"y5\"}, {\"histfunc\": \"count\", \"histnorm\": \"\", \"marker\": {\"color\": \"rgba(55, 128, 191, 1.0)\", \"line\": {\"color\": \"#4D5663\", \"width\": 1.3}}, \"name\": \"B\", \"nbinsx\": 10, \"opacity\": 0.8, \"orientation\": \"v\", \"type\": \"histogram\", \"x\": [0.8841355807884956, -1.2018519903039573, -0.7813604437074404, -0.6919248283962665, -0.6090700517991942, -1.5847425272462459, 0.8800941130873866, -1.117152954326337, 0.30839191877406763, 0.4992507443148893, 0.811019128617171, -1.1194697152788227, 0.26132616109683876, -0.04063312576310276, -0.040617208546109174, 1.4521803080354538, 0.7188186269954967, -1.1949315720134128, 0.20886087549922405, 0.8840313510069323, 0.31312789635592975, 0.7160149644554132, -0.4221003899412094, -2.2802874512727898, -1.246436604263054, 0.6866102012400632, 0.5677203393248417, -0.5963896855140837, 0.79409494373185, 1.2867304239152937, 0.5538692349797086, 0.900332290774584, 1.1823357315962189, 0.6177834000735457, 0.6896077406770214, -0.27076731126208353, 0.39706171337341184, -0.16615594156962268, -0.1703820000471231, 0.6333428442434194, -0.8839784064479783, 0.8710611118205372, 0.018128528664612762, 0.059077932094537, -2.7152166112873672, -0.0640831904263152, -0.9710375266761576, 0.2552825123045555, 0.327422499269327, -1.1647597142547192, 0.7605994940595009, 0.017750790409212316, 0.1994961650671732, 0.10943274780509042, 0.21794904931044667, -0.40058981514845116, 1.2267678416756223, -0.7059097947692653, 0.42194973120502605, -1.3726147490117409, -0.3632837397565943, 1.0591388513310673, 0.7844724227029937, -0.7212655767076589, -0.26657468033646126, 1.4689154351444949, -0.3055071427197533, -0.6825021367594182, 1.9382793081063177, 1.9878772760134318, 0.3427107055806652, 0.14069874522957815, 0.9448495574182093, 1.6379714237382257, 0.43704396091988845, -1.2498194806763598, -0.19402341742139284, -0.7658491996505546, -0.3932725942609261, 0.3712040975782359, -0.3784211046426365, -0.9732140681745898, 0.3317598863575627, 0.15036006159105378, 0.6009175803960332, 0.6340183275484096, 0.9447966454362406, 0.8009564616629822, 0.5517526246690576, -0.24974977970951584, 1.366375419299985, 1.5056227833986284, -0.19461046242137378, -0.7931977016755076, -1.465297233176536, -0.6561276547721709, 0.2694406537658064, -1.963384192387417, -0.03977409852472031, -0.25942371843808265], \"xaxis\": \"x6\", \"yaxis\": \"y6\"}, {\"line\": {\"color\": \"rgba(128, 128, 128, 1.0)\", \"dash\": \"solid\", \"shape\": \"linear\", \"width\": 1.3}, \"marker\": {\"size\": 2, \"symbol\": \"circle\"}, \"mode\": \"markers\", \"name\": \"B\", \"text\": \"\", \"type\": \"scatter\", \"x\": [-0.6577419470666775, 1.5468328854157893, 0.15055942353848414, -0.6166951991924662, -0.17696035549092132, 0.0026159205405225042, 1.2331865720032635, 1.2435528088543073, -0.5667531689608509, 0.4630368885755947, 0.6391231441591966, -0.1429541644335827, 0.8805438770540935, 1.1849212235092015, -1.2728784962465851, 1.346781675013242, 1.2482247918277778, -0.10396199557224642, -0.028906831431156986, -0.3572981365831892, -0.05223546732515046, 0.15786227922202295, -0.22009412895249236, -1.7721864067462902, -0.6061448275657668, -1.5308377336006376, 0.07041961683058189, -0.03830912190432932, 0.2135282713552872, -1.1935584154464867, -1.0677516214342473, 0.44175940635296035, -0.5562173071499407, 0.0176240616889017, -1.6211847095100522, -0.2575871901559379, 0.33748999172485566, -1.3784111551517109, -1.2958205545388826, 0.7785079111442709, -0.654447389504053, -1.3999313788086734, 0.3167097883572841, 0.07731932475096173, 1.8827191381966604, -0.7083923654989508, 1.3926633512282667, 0.24526098808364127, -0.2210347711090506, 0.038281908314065076, -1.3357478551192634, -0.16227660062644264, 0.06406613898696684, 1.213518760817214, 1.2457277288385022, 1.247373441376304, 0.921374684450078, 0.14034040891334543, -3.257339327618611, -1.213543392402012, -0.3445247702276053, -0.5969991004026705, 0.2719557150165253, -0.036248336471367645, -0.4580189614691427, -0.6709366758127309, 1.2358352087586708, 1.2312434994547732, -0.538717224541438, -1.5966239135719764, -0.760305428049948, 1.7572443209590902, -0.5739219510008042, -0.8324710695457126, -1.0143133987575614, 0.42630799512701356, -0.17451166862510278, -0.5526444573230915, -0.6556668389465901, 1.2012044387582725, 1.9310312337228657, 0.5076657033800569, 0.7995228996441234, 0.3430015789595602, -0.6105581367353852, 1.099914761180952, 0.42969561622664854, -1.3180076819962583, 0.9940939848559184, 0.016833009453457417, -2.520279558101372, -0.00830409476513253, 1.8249939096826509, 0.0536635012668011, 2.0828997434481793, 2.0446329233848886, 1.5922253838727163, 0.7335493331596151, 0.39576990054133315, -0.9420576028250149], \"xaxis\": \"x7\", \"y\": [0.8841355807884956, -1.2018519903039573, -0.7813604437074404, -0.6919248283962665, -0.6090700517991942, -1.5847425272462459, 0.8800941130873866, -1.117152954326337, 0.30839191877406763, 0.4992507443148893, 0.811019128617171, -1.1194697152788227, 0.26132616109683876, -0.04063312576310276, -0.040617208546109174, 1.4521803080354538, 0.7188186269954967, -1.1949315720134128, 0.20886087549922405, 0.8840313510069323, 0.31312789635592975, 0.7160149644554132, -0.4221003899412094, -2.2802874512727898, -1.246436604263054, 0.6866102012400632, 0.5677203393248417, -0.5963896855140837, 0.79409494373185, 1.2867304239152937, 0.5538692349797086, 0.900332290774584, 1.1823357315962189, 0.6177834000735457, 0.6896077406770214, -0.27076731126208353, 0.39706171337341184, -0.16615594156962268, -0.1703820000471231, 0.6333428442434194, -0.8839784064479783, 0.8710611118205372, 0.018128528664612762, 0.059077932094537, -2.7152166112873672, -0.0640831904263152, -0.9710375266761576, 0.2552825123045555, 0.327422499269327, -1.1647597142547192, 0.7605994940595009, 0.017750790409212316, 0.1994961650671732, 0.10943274780509042, 0.21794904931044667, -0.40058981514845116, 1.2267678416756223, -0.7059097947692653, 0.42194973120502605, -1.3726147490117409, -0.3632837397565943, 1.0591388513310673, 0.7844724227029937, -0.7212655767076589, -0.26657468033646126, 1.4689154351444949, -0.3055071427197533, -0.6825021367594182, 1.9382793081063177, 1.9878772760134318, 0.3427107055806652, 0.14069874522957815, 0.9448495574182093, 1.6379714237382257, 0.43704396091988845, -1.2498194806763598, -0.19402341742139284, -0.7658491996505546, -0.3932725942609261, 0.3712040975782359, -0.3784211046426365, -0.9732140681745898, 0.3317598863575627, 0.15036006159105378, 0.6009175803960332, 0.6340183275484096, 0.9447966454362406, 0.8009564616629822, 0.5517526246690576, -0.24974977970951584, 1.366375419299985, 1.5056227833986284, -0.19461046242137378, -0.7931977016755076, -1.465297233176536, -0.6561276547721709, 0.2694406537658064, -1.963384192387417, -0.03977409852472031, -0.25942371843808265], \"yaxis\": \"y7\"}, {\"line\": {\"color\": \"rgba(128, 128, 128, 1.0)\", \"dash\": \"solid\", \"shape\": \"linear\", \"width\": 1.3}, \"marker\": {\"size\": 2, \"symbol\": \"circle\"}, \"mode\": \"markers\", \"name\": \"B\", \"text\": \"\", \"type\": \"scatter\", \"x\": [-0.17098599570917958, -1.393236655946603, -1.0693801396851572, -0.10936613135512015, -0.8314593670479007, -0.4092384624054739, 1.591365527813672, 0.11362375490085795, -0.25776072822892904, -0.8125864413251922, -0.4016254821547242, -0.40314548041442333, 0.441318892858655, -0.9951032400894578, 0.7046896087329072, 1.4338435709601507, 1.2900813394365953, 0.7566969910329154, 0.6054782545258194, -0.3812538164486021, 1.7252861447847634, -0.3097180343167236, 1.2634026380699939, -0.3310218412132827, 1.2981841087496109, -1.3164876377541306, 1.3385133730049839, 0.408919062636667, 0.26155431919249206, 0.16179530977109546, 1.1882180742137027, -0.5373015572622404, 1.0851103049503912, -0.11971988208771717, -3.1534897814326572, 1.0636433852077034, -0.24206197356159356, -0.4805364352370448, 0.0825621351357835, 0.3213995162912668, -1.3860840204546088, 0.7076515268193385, -0.38418705166305434, 1.0503272088152968, -0.1507001548323202, 0.1326781167019228, 0.031640977634701674, 0.3270643194243436, -1.0240130765030746, -0.9850468081299435, 0.6407835817746089, 0.9226485955501837, 0.6099910920980564, -0.1338015368573558, 1.1102649237501483, -1.3958011343771304, -0.480761295431456, -0.9197336470771523, 0.2436166046180653, -0.491075080205768, -0.602342191813965, -0.03627264045796918, -0.3246622644750205, -0.7081351488085751, 0.8219705780465458, 0.9068696677971314, 0.1321076675794045, 0.8483071774032414, 2.0991711366157677, -1.4080771727787935, -0.562424101202065, -0.503291241503718, 2.007100335200901, -0.28186514240083355, 1.204314296055594, -1.100511062799972, -0.37739914584103695, -0.015960137805170572, -0.7025926609072702, -0.8810281259328301, 0.42328129208618703, 2.1393670406737364, 0.5518423152603928, -0.3312696030093754, -1.37661535159739, -0.8407676307979148, -1.8980143897008703, 0.8495286569154681, 1.3565444156846354, -1.2594996674990298, 0.84456290056292, -0.916750420464946, -0.3679405135481918, -0.8743197683849901, -1.8077341234023898, 0.658157297890938, -0.9806995633402245, -1.0790459382261648, -0.9211654559956725, 0.9446836227411445], \"xaxis\": \"x8\", \"y\": [0.8841355807884956, -1.2018519903039573, -0.7813604437074404, -0.6919248283962665, -0.6090700517991942, -1.5847425272462459, 0.8800941130873866, -1.117152954326337, 0.30839191877406763, 0.4992507443148893, 0.811019128617171, -1.1194697152788227, 0.26132616109683876, -0.04063312576310276, -0.040617208546109174, 1.4521803080354538, 0.7188186269954967, -1.1949315720134128, 0.20886087549922405, 0.8840313510069323, 0.31312789635592975, 0.7160149644554132, -0.4221003899412094, -2.2802874512727898, -1.246436604263054, 0.6866102012400632, 0.5677203393248417, -0.5963896855140837, 0.79409494373185, 1.2867304239152937, 0.5538692349797086, 0.900332290774584, 1.1823357315962189, 0.6177834000735457, 0.6896077406770214, -0.27076731126208353, 0.39706171337341184, -0.16615594156962268, -0.1703820000471231, 0.6333428442434194, -0.8839784064479783, 0.8710611118205372, 0.018128528664612762, 0.059077932094537, -2.7152166112873672, -0.0640831904263152, -0.9710375266761576, 0.2552825123045555, 0.327422499269327, -1.1647597142547192, 0.7605994940595009, 0.017750790409212316, 0.1994961650671732, 0.10943274780509042, 0.21794904931044667, -0.40058981514845116, 1.2267678416756223, -0.7059097947692653, 0.42194973120502605, -1.3726147490117409, -0.3632837397565943, 1.0591388513310673, 0.7844724227029937, -0.7212655767076589, -0.26657468033646126, 1.4689154351444949, -0.3055071427197533, -0.6825021367594182, 1.9382793081063177, 1.9878772760134318, 0.3427107055806652, 0.14069874522957815, 0.9448495574182093, 1.6379714237382257, 0.43704396091988845, -1.2498194806763598, -0.19402341742139284, -0.7658491996505546, -0.3932725942609261, 0.3712040975782359, -0.3784211046426365, -0.9732140681745898, 0.3317598863575627, 0.15036006159105378, 0.6009175803960332, 0.6340183275484096, 0.9447966454362406, 0.8009564616629822, 0.5517526246690576, -0.24974977970951584, 1.366375419299985, 1.5056227833986284, -0.19461046242137378, -0.7931977016755076, -1.465297233176536, -0.6561276547721709, 0.2694406537658064, -1.963384192387417, -0.03977409852472031, -0.25942371843808265], \"yaxis\": \"y8\"}, {\"line\": {\"color\": \"rgba(128, 128, 128, 1.0)\", \"dash\": \"solid\", \"shape\": \"linear\", \"width\": 1.3}, \"marker\": {\"size\": 2, \"symbol\": \"circle\"}, \"mode\": \"markers\", \"name\": \"C\", \"text\": \"\", \"type\": \"scatter\", \"x\": [-1.1657268930546911, -0.8257896723416672, -1.5692473690498552, 0.04148074727700573, -0.37141526705551925, -1.0252331492540236, 0.03808643193886817, 0.6385237277266756, -0.03634094726247845, 0.930639523996398, -0.15769993863339335, -1.3115818372959207, -0.6956200174046264, 0.4485882406005429, 0.31649879044255985, -1.4018139640972982, 0.39920864559665786, -0.10592261410136272, -0.058408468861257425, 0.11338790552456374, 0.771451750196267, -0.20401324182769112, 1.3834361156529802, -0.9274853486806579, 0.14036807996280848, 0.6504871783878534, -0.4012916567745803, -1.1123688423070532, -0.5206109202042801, -1.5299164801300464, -0.17446907711289097, -1.6506726554876658, 0.9342351699264133, -1.6113583437291723, 0.9098913890383441, 1.9770747503734736, 0.047668778464560066, 1.7923434064461392, -1.3772213470058206, 0.03494868487903562, 0.481504547200912, -0.26260218876180397, 0.8406656571888367, 0.4773931682096321, -0.9327329880484112, -0.5315533595411261, -1.3582888550555947, -0.35490398446858434, -1.1157896762940882, 0.41272172170477245, 1.0458864663929586, 0.43451589045221944, -0.37577300950511977, 0.33808657491023214, -0.07152345355591183, 0.8032108462133098, 0.18245491124717708, -1.0571104834254184, 0.16438257249290036, -0.5780890823220005, -0.9380222318218958, 0.44229935023690725, -0.9278374618952944, -0.034949624334541546, -1.0340872672557324, -0.13974001324651703, -0.2919368733015318, 1.002702264475855, -1.1968979548754446, -1.3850973493257903, -0.42714008580848406, -1.7214297712861604, 1.0140274495229493, -0.36021770144701604, -0.6794761363706949, -0.6845284565795763, 0.99605538773384, -0.38619946663320476, 0.7320702176568683, -0.7643548322570244, 1.1807445406919128, 0.8501345416418742, 2.678462426358552, -0.15578485067074094, -0.7370355672026178, 0.44753721006704444, -0.2301867988745454, 0.12298020901905306, 1.2125072035295636, -0.4934142231343045, -1.0972864412529257, -0.4296862077321958, -0.5941610509888187, 0.9961970490955918, -0.7870054622770482, 0.19608051727138479, 0.5840004135465414, -0.5238514262542873, 0.9153080729266359, -0.4605436669206109], \"xaxis\": \"x9\", \"y\": [-0.6577419470666775, 1.5468328854157893, 0.15055942353848414, -0.6166951991924662, -0.17696035549092132, 0.0026159205405225042, 1.2331865720032635, 1.2435528088543073, -0.5667531689608509, 0.4630368885755947, 0.6391231441591966, -0.1429541644335827, 0.8805438770540935, 1.1849212235092015, -1.2728784962465851, 1.346781675013242, 1.2482247918277778, -0.10396199557224642, -0.028906831431156986, -0.3572981365831892, -0.05223546732515046, 0.15786227922202295, -0.22009412895249236, -1.7721864067462902, -0.6061448275657668, -1.5308377336006376, 0.07041961683058189, -0.03830912190432932, 0.2135282713552872, -1.1935584154464867, -1.0677516214342473, 0.44175940635296035, -0.5562173071499407, 0.0176240616889017, -1.6211847095100522, -0.2575871901559379, 0.33748999172485566, -1.3784111551517109, -1.2958205545388826, 0.7785079111442709, -0.654447389504053, -1.3999313788086734, 0.3167097883572841, 0.07731932475096173, 1.8827191381966604, -0.7083923654989508, 1.3926633512282667, 0.24526098808364127, -0.2210347711090506, 0.038281908314065076, -1.3357478551192634, -0.16227660062644264, 0.06406613898696684, 1.213518760817214, 1.2457277288385022, 1.247373441376304, 0.921374684450078, 0.14034040891334543, -3.257339327618611, -1.213543392402012, -0.3445247702276053, -0.5969991004026705, 0.2719557150165253, -0.036248336471367645, -0.4580189614691427, -0.6709366758127309, 1.2358352087586708, 1.2312434994547732, -0.538717224541438, -1.5966239135719764, -0.760305428049948, 1.7572443209590902, -0.5739219510008042, -0.8324710695457126, -1.0143133987575614, 0.42630799512701356, -0.17451166862510278, -0.5526444573230915, -0.6556668389465901, 1.2012044387582725, 1.9310312337228657, 0.5076657033800569, 0.7995228996441234, 0.3430015789595602, -0.6105581367353852, 1.099914761180952, 0.42969561622664854, -1.3180076819962583, 0.9940939848559184, 0.016833009453457417, -2.520279558101372, -0.00830409476513253, 1.8249939096826509, 0.0536635012668011, 2.0828997434481793, 2.0446329233848886, 1.5922253838727163, 0.7335493331596151, 0.39576990054133315, -0.9420576028250149], \"yaxis\": \"y9\"}, {\"line\": {\"color\": \"rgba(128, 128, 128, 1.0)\", \"dash\": \"solid\", \"shape\": \"linear\", \"width\": 1.3}, \"marker\": {\"size\": 2, \"symbol\": \"circle\"}, \"mode\": \"markers\", \"name\": \"C\", \"text\": \"\", \"type\": \"scatter\", \"x\": [0.8841355807884956, -1.2018519903039573, -0.7813604437074404, -0.6919248283962665, -0.6090700517991942, -1.5847425272462459, 0.8800941130873866, -1.117152954326337, 0.30839191877406763, 0.4992507443148893, 0.811019128617171, -1.1194697152788227, 0.26132616109683876, -0.04063312576310276, -0.040617208546109174, 1.4521803080354538, 0.7188186269954967, -1.1949315720134128, 0.20886087549922405, 0.8840313510069323, 0.31312789635592975, 0.7160149644554132, -0.4221003899412094, -2.2802874512727898, -1.246436604263054, 0.6866102012400632, 0.5677203393248417, -0.5963896855140837, 0.79409494373185, 1.2867304239152937, 0.5538692349797086, 0.900332290774584, 1.1823357315962189, 0.6177834000735457, 0.6896077406770214, -0.27076731126208353, 0.39706171337341184, -0.16615594156962268, -0.1703820000471231, 0.6333428442434194, -0.8839784064479783, 0.8710611118205372, 0.018128528664612762, 0.059077932094537, -2.7152166112873672, -0.0640831904263152, -0.9710375266761576, 0.2552825123045555, 0.327422499269327, -1.1647597142547192, 0.7605994940595009, 0.017750790409212316, 0.1994961650671732, 0.10943274780509042, 0.21794904931044667, -0.40058981514845116, 1.2267678416756223, -0.7059097947692653, 0.42194973120502605, -1.3726147490117409, -0.3632837397565943, 1.0591388513310673, 0.7844724227029937, -0.7212655767076589, -0.26657468033646126, 1.4689154351444949, -0.3055071427197533, -0.6825021367594182, 1.9382793081063177, 1.9878772760134318, 0.3427107055806652, 0.14069874522957815, 0.9448495574182093, 1.6379714237382257, 0.43704396091988845, -1.2498194806763598, -0.19402341742139284, -0.7658491996505546, -0.3932725942609261, 0.3712040975782359, -0.3784211046426365, -0.9732140681745898, 0.3317598863575627, 0.15036006159105378, 0.6009175803960332, 0.6340183275484096, 0.9447966454362406, 0.8009564616629822, 0.5517526246690576, -0.24974977970951584, 1.366375419299985, 1.5056227833986284, -0.19461046242137378, -0.7931977016755076, -1.465297233176536, -0.6561276547721709, 0.2694406537658064, -1.963384192387417, -0.03977409852472031, -0.25942371843808265], \"xaxis\": \"x10\", \"y\": [-0.6577419470666775, 1.5468328854157893, 0.15055942353848414, -0.6166951991924662, -0.17696035549092132, 0.0026159205405225042, 1.2331865720032635, 1.2435528088543073, -0.5667531689608509, 0.4630368885755947, 0.6391231441591966, -0.1429541644335827, 0.8805438770540935, 1.1849212235092015, -1.2728784962465851, 1.346781675013242, 1.2482247918277778, -0.10396199557224642, -0.028906831431156986, -0.3572981365831892, -0.05223546732515046, 0.15786227922202295, -0.22009412895249236, -1.7721864067462902, -0.6061448275657668, -1.5308377336006376, 0.07041961683058189, -0.03830912190432932, 0.2135282713552872, -1.1935584154464867, -1.0677516214342473, 0.44175940635296035, -0.5562173071499407, 0.0176240616889017, -1.6211847095100522, -0.2575871901559379, 0.33748999172485566, -1.3784111551517109, -1.2958205545388826, 0.7785079111442709, -0.654447389504053, -1.3999313788086734, 0.3167097883572841, 0.07731932475096173, 1.8827191381966604, -0.7083923654989508, 1.3926633512282667, 0.24526098808364127, -0.2210347711090506, 0.038281908314065076, -1.3357478551192634, -0.16227660062644264, 0.06406613898696684, 1.213518760817214, 1.2457277288385022, 1.247373441376304, 0.921374684450078, 0.14034040891334543, -3.257339327618611, -1.213543392402012, -0.3445247702276053, -0.5969991004026705, 0.2719557150165253, -0.036248336471367645, -0.4580189614691427, -0.6709366758127309, 1.2358352087586708, 1.2312434994547732, -0.538717224541438, -1.5966239135719764, -0.760305428049948, 1.7572443209590902, -0.5739219510008042, -0.8324710695457126, -1.0143133987575614, 0.42630799512701356, -0.17451166862510278, -0.5526444573230915, -0.6556668389465901, 1.2012044387582725, 1.9310312337228657, 0.5076657033800569, 0.7995228996441234, 0.3430015789595602, -0.6105581367353852, 1.099914761180952, 0.42969561622664854, -1.3180076819962583, 0.9940939848559184, 0.016833009453457417, -2.520279558101372, -0.00830409476513253, 1.8249939096826509, 0.0536635012668011, 2.0828997434481793, 2.0446329233848886, 1.5922253838727163, 0.7335493331596151, 0.39576990054133315, -0.9420576028250149], \"yaxis\": \"y10\"}, {\"histfunc\": \"count\", \"histnorm\": \"\", \"marker\": {\"color\": \"rgba(50, 171, 96, 1.0)\", \"line\": {\"color\": \"#4D5663\", \"width\": 1.3}}, \"name\": \"C\", \"nbinsx\": 10, \"opacity\": 0.8, \"orientation\": \"v\", \"type\": \"histogram\", \"x\": [-0.6577419470666775, 1.5468328854157893, 0.15055942353848414, -0.6166951991924662, -0.17696035549092132, 0.0026159205405225042, 1.2331865720032635, 1.2435528088543073, -0.5667531689608509, 0.4630368885755947, 0.6391231441591966, -0.1429541644335827, 0.8805438770540935, 1.1849212235092015, -1.2728784962465851, 1.346781675013242, 1.2482247918277778, -0.10396199557224642, -0.028906831431156986, -0.3572981365831892, -0.05223546732515046, 0.15786227922202295, -0.22009412895249236, -1.7721864067462902, -0.6061448275657668, -1.5308377336006376, 0.07041961683058189, -0.03830912190432932, 0.2135282713552872, -1.1935584154464867, -1.0677516214342473, 0.44175940635296035, -0.5562173071499407, 0.0176240616889017, -1.6211847095100522, -0.2575871901559379, 0.33748999172485566, -1.3784111551517109, -1.2958205545388826, 0.7785079111442709, -0.654447389504053, -1.3999313788086734, 0.3167097883572841, 0.07731932475096173, 1.8827191381966604, -0.7083923654989508, 1.3926633512282667, 0.24526098808364127, -0.2210347711090506, 0.038281908314065076, -1.3357478551192634, -0.16227660062644264, 0.06406613898696684, 1.213518760817214, 1.2457277288385022, 1.247373441376304, 0.921374684450078, 0.14034040891334543, -3.257339327618611, -1.213543392402012, -0.3445247702276053, -0.5969991004026705, 0.2719557150165253, -0.036248336471367645, -0.4580189614691427, -0.6709366758127309, 1.2358352087586708, 1.2312434994547732, -0.538717224541438, -1.5966239135719764, -0.760305428049948, 1.7572443209590902, -0.5739219510008042, -0.8324710695457126, -1.0143133987575614, 0.42630799512701356, -0.17451166862510278, -0.5526444573230915, -0.6556668389465901, 1.2012044387582725, 1.9310312337228657, 0.5076657033800569, 0.7995228996441234, 0.3430015789595602, -0.6105581367353852, 1.099914761180952, 0.42969561622664854, -1.3180076819962583, 0.9940939848559184, 0.016833009453457417, -2.520279558101372, -0.00830409476513253, 1.8249939096826509, 0.0536635012668011, 2.0828997434481793, 2.0446329233848886, 1.5922253838727163, 0.7335493331596151, 0.39576990054133315, -0.9420576028250149], \"xaxis\": \"x11\", \"yaxis\": \"y11\"}, {\"line\": {\"color\": \"rgba(128, 128, 128, 1.0)\", \"dash\": \"solid\", \"shape\": \"linear\", \"width\": 1.3}, \"marker\": {\"size\": 2, \"symbol\": \"circle\"}, \"mode\": \"markers\", \"name\": \"C\", \"text\": \"\", \"type\": \"scatter\", \"x\": [-0.17098599570917958, -1.393236655946603, -1.0693801396851572, -0.10936613135512015, -0.8314593670479007, -0.4092384624054739, 1.591365527813672, 0.11362375490085795, -0.25776072822892904, -0.8125864413251922, -0.4016254821547242, -0.40314548041442333, 0.441318892858655, -0.9951032400894578, 0.7046896087329072, 1.4338435709601507, 1.2900813394365953, 0.7566969910329154, 0.6054782545258194, -0.3812538164486021, 1.7252861447847634, -0.3097180343167236, 1.2634026380699939, -0.3310218412132827, 1.2981841087496109, -1.3164876377541306, 1.3385133730049839, 0.408919062636667, 0.26155431919249206, 0.16179530977109546, 1.1882180742137027, -0.5373015572622404, 1.0851103049503912, -0.11971988208771717, -3.1534897814326572, 1.0636433852077034, -0.24206197356159356, -0.4805364352370448, 0.0825621351357835, 0.3213995162912668, -1.3860840204546088, 0.7076515268193385, -0.38418705166305434, 1.0503272088152968, -0.1507001548323202, 0.1326781167019228, 0.031640977634701674, 0.3270643194243436, -1.0240130765030746, -0.9850468081299435, 0.6407835817746089, 0.9226485955501837, 0.6099910920980564, -0.1338015368573558, 1.1102649237501483, -1.3958011343771304, -0.480761295431456, -0.9197336470771523, 0.2436166046180653, -0.491075080205768, -0.602342191813965, -0.03627264045796918, -0.3246622644750205, -0.7081351488085751, 0.8219705780465458, 0.9068696677971314, 0.1321076675794045, 0.8483071774032414, 2.0991711366157677, -1.4080771727787935, -0.562424101202065, -0.503291241503718, 2.007100335200901, -0.28186514240083355, 1.204314296055594, -1.100511062799972, -0.37739914584103695, -0.015960137805170572, -0.7025926609072702, -0.8810281259328301, 0.42328129208618703, 2.1393670406737364, 0.5518423152603928, -0.3312696030093754, -1.37661535159739, -0.8407676307979148, -1.8980143897008703, 0.8495286569154681, 1.3565444156846354, -1.2594996674990298, 0.84456290056292, -0.916750420464946, -0.3679405135481918, -0.8743197683849901, -1.8077341234023898, 0.658157297890938, -0.9806995633402245, -1.0790459382261648, -0.9211654559956725, 0.9446836227411445], \"xaxis\": \"x12\", \"y\": [-0.6577419470666775, 1.5468328854157893, 0.15055942353848414, -0.6166951991924662, -0.17696035549092132, 0.0026159205405225042, 1.2331865720032635, 1.2435528088543073, -0.5667531689608509, 0.4630368885755947, 0.6391231441591966, -0.1429541644335827, 0.8805438770540935, 1.1849212235092015, -1.2728784962465851, 1.346781675013242, 1.2482247918277778, -0.10396199557224642, -0.028906831431156986, -0.3572981365831892, -0.05223546732515046, 0.15786227922202295, -0.22009412895249236, -1.7721864067462902, -0.6061448275657668, -1.5308377336006376, 0.07041961683058189, -0.03830912190432932, 0.2135282713552872, -1.1935584154464867, -1.0677516214342473, 0.44175940635296035, -0.5562173071499407, 0.0176240616889017, -1.6211847095100522, -0.2575871901559379, 0.33748999172485566, -1.3784111551517109, -1.2958205545388826, 0.7785079111442709, -0.654447389504053, -1.3999313788086734, 0.3167097883572841, 0.07731932475096173, 1.8827191381966604, -0.7083923654989508, 1.3926633512282667, 0.24526098808364127, -0.2210347711090506, 0.038281908314065076, -1.3357478551192634, -0.16227660062644264, 0.06406613898696684, 1.213518760817214, 1.2457277288385022, 1.247373441376304, 0.921374684450078, 0.14034040891334543, -3.257339327618611, -1.213543392402012, -0.3445247702276053, -0.5969991004026705, 0.2719557150165253, -0.036248336471367645, -0.4580189614691427, -0.6709366758127309, 1.2358352087586708, 1.2312434994547732, -0.538717224541438, -1.5966239135719764, -0.760305428049948, 1.7572443209590902, -0.5739219510008042, -0.8324710695457126, -1.0143133987575614, 0.42630799512701356, -0.17451166862510278, -0.5526444573230915, -0.6556668389465901, 1.2012044387582725, 1.9310312337228657, 0.5076657033800569, 0.7995228996441234, 0.3430015789595602, -0.6105581367353852, 1.099914761180952, 0.42969561622664854, -1.3180076819962583, 0.9940939848559184, 0.016833009453457417, -2.520279558101372, -0.00830409476513253, 1.8249939096826509, 0.0536635012668011, 2.0828997434481793, 2.0446329233848886, 1.5922253838727163, 0.7335493331596151, 0.39576990054133315, -0.9420576028250149], \"yaxis\": \"y12\"}, {\"line\": {\"color\": \"rgba(128, 128, 128, 1.0)\", \"dash\": \"solid\", \"shape\": \"linear\", \"width\": 1.3}, \"marker\": {\"size\": 2, \"symbol\": \"circle\"}, \"mode\": \"markers\", \"name\": \"D\", \"text\": \"\", \"type\": \"scatter\", \"x\": [-1.1657268930546911, -0.8257896723416672, -1.5692473690498552, 0.04148074727700573, -0.37141526705551925, -1.0252331492540236, 0.03808643193886817, 0.6385237277266756, -0.03634094726247845, 0.930639523996398, -0.15769993863339335, -1.3115818372959207, -0.6956200174046264, 0.4485882406005429, 0.31649879044255985, -1.4018139640972982, 0.39920864559665786, -0.10592261410136272, -0.058408468861257425, 0.11338790552456374, 0.771451750196267, -0.20401324182769112, 1.3834361156529802, -0.9274853486806579, 0.14036807996280848, 0.6504871783878534, -0.4012916567745803, -1.1123688423070532, -0.5206109202042801, -1.5299164801300464, -0.17446907711289097, -1.6506726554876658, 0.9342351699264133, -1.6113583437291723, 0.9098913890383441, 1.9770747503734736, 0.047668778464560066, 1.7923434064461392, -1.3772213470058206, 0.03494868487903562, 0.481504547200912, -0.26260218876180397, 0.8406656571888367, 0.4773931682096321, -0.9327329880484112, -0.5315533595411261, -1.3582888550555947, -0.35490398446858434, -1.1157896762940882, 0.41272172170477245, 1.0458864663929586, 0.43451589045221944, -0.37577300950511977, 0.33808657491023214, -0.07152345355591183, 0.8032108462133098, 0.18245491124717708, -1.0571104834254184, 0.16438257249290036, -0.5780890823220005, -0.9380222318218958, 0.44229935023690725, -0.9278374618952944, -0.034949624334541546, -1.0340872672557324, -0.13974001324651703, -0.2919368733015318, 1.002702264475855, -1.1968979548754446, -1.3850973493257903, -0.42714008580848406, -1.7214297712861604, 1.0140274495229493, -0.36021770144701604, -0.6794761363706949, -0.6845284565795763, 0.99605538773384, -0.38619946663320476, 0.7320702176568683, -0.7643548322570244, 1.1807445406919128, 0.8501345416418742, 2.678462426358552, -0.15578485067074094, -0.7370355672026178, 0.44753721006704444, -0.2301867988745454, 0.12298020901905306, 1.2125072035295636, -0.4934142231343045, -1.0972864412529257, -0.4296862077321958, -0.5941610509888187, 0.9961970490955918, -0.7870054622770482, 0.19608051727138479, 0.5840004135465414, -0.5238514262542873, 0.9153080729266359, -0.4605436669206109], \"xaxis\": \"x13\", \"y\": [-0.17098599570917958, -1.393236655946603, -1.0693801396851572, -0.10936613135512015, -0.8314593670479007, -0.4092384624054739, 1.591365527813672, 0.11362375490085795, -0.25776072822892904, -0.8125864413251922, -0.4016254821547242, -0.40314548041442333, 0.441318892858655, -0.9951032400894578, 0.7046896087329072, 1.4338435709601507, 1.2900813394365953, 0.7566969910329154, 0.6054782545258194, -0.3812538164486021, 1.7252861447847634, -0.3097180343167236, 1.2634026380699939, -0.3310218412132827, 1.2981841087496109, -1.3164876377541306, 1.3385133730049839, 0.408919062636667, 0.26155431919249206, 0.16179530977109546, 1.1882180742137027, -0.5373015572622404, 1.0851103049503912, -0.11971988208771717, -3.1534897814326572, 1.0636433852077034, -0.24206197356159356, -0.4805364352370448, 0.0825621351357835, 0.3213995162912668, -1.3860840204546088, 0.7076515268193385, -0.38418705166305434, 1.0503272088152968, -0.1507001548323202, 0.1326781167019228, 0.031640977634701674, 0.3270643194243436, -1.0240130765030746, -0.9850468081299435, 0.6407835817746089, 0.9226485955501837, 0.6099910920980564, -0.1338015368573558, 1.1102649237501483, -1.3958011343771304, -0.480761295431456, -0.9197336470771523, 0.2436166046180653, -0.491075080205768, -0.602342191813965, -0.03627264045796918, -0.3246622644750205, -0.7081351488085751, 0.8219705780465458, 0.9068696677971314, 0.1321076675794045, 0.8483071774032414, 2.0991711366157677, -1.4080771727787935, -0.562424101202065, -0.503291241503718, 2.007100335200901, -0.28186514240083355, 1.204314296055594, -1.100511062799972, -0.37739914584103695, -0.015960137805170572, -0.7025926609072702, -0.8810281259328301, 0.42328129208618703, 2.1393670406737364, 0.5518423152603928, -0.3312696030093754, -1.37661535159739, -0.8407676307979148, -1.8980143897008703, 0.8495286569154681, 1.3565444156846354, -1.2594996674990298, 0.84456290056292, -0.916750420464946, -0.3679405135481918, -0.8743197683849901, -1.8077341234023898, 0.658157297890938, -0.9806995633402245, -1.0790459382261648, -0.9211654559956725, 0.9446836227411445], \"yaxis\": \"y13\"}, {\"line\": {\"color\": \"rgba(128, 128, 128, 1.0)\", \"dash\": \"solid\", \"shape\": \"linear\", \"width\": 1.3}, \"marker\": {\"size\": 2, \"symbol\": \"circle\"}, \"mode\": \"markers\", \"name\": \"D\", \"text\": \"\", \"type\": \"scatter\", \"x\": [0.8841355807884956, -1.2018519903039573, -0.7813604437074404, -0.6919248283962665, -0.6090700517991942, -1.5847425272462459, 0.8800941130873866, -1.117152954326337, 0.30839191877406763, 0.4992507443148893, 0.811019128617171, -1.1194697152788227, 0.26132616109683876, -0.04063312576310276, -0.040617208546109174, 1.4521803080354538, 0.7188186269954967, -1.1949315720134128, 0.20886087549922405, 0.8840313510069323, 0.31312789635592975, 0.7160149644554132, -0.4221003899412094, -2.2802874512727898, -1.246436604263054, 0.6866102012400632, 0.5677203393248417, -0.5963896855140837, 0.79409494373185, 1.2867304239152937, 0.5538692349797086, 0.900332290774584, 1.1823357315962189, 0.6177834000735457, 0.6896077406770214, -0.27076731126208353, 0.39706171337341184, -0.16615594156962268, -0.1703820000471231, 0.6333428442434194, -0.8839784064479783, 0.8710611118205372, 0.018128528664612762, 0.059077932094537, -2.7152166112873672, -0.0640831904263152, -0.9710375266761576, 0.2552825123045555, 0.327422499269327, -1.1647597142547192, 0.7605994940595009, 0.017750790409212316, 0.1994961650671732, 0.10943274780509042, 0.21794904931044667, -0.40058981514845116, 1.2267678416756223, -0.7059097947692653, 0.42194973120502605, -1.3726147490117409, -0.3632837397565943, 1.0591388513310673, 0.7844724227029937, -0.7212655767076589, -0.26657468033646126, 1.4689154351444949, -0.3055071427197533, -0.6825021367594182, 1.9382793081063177, 1.9878772760134318, 0.3427107055806652, 0.14069874522957815, 0.9448495574182093, 1.6379714237382257, 0.43704396091988845, -1.2498194806763598, -0.19402341742139284, -0.7658491996505546, -0.3932725942609261, 0.3712040975782359, -0.3784211046426365, -0.9732140681745898, 0.3317598863575627, 0.15036006159105378, 0.6009175803960332, 0.6340183275484096, 0.9447966454362406, 0.8009564616629822, 0.5517526246690576, -0.24974977970951584, 1.366375419299985, 1.5056227833986284, -0.19461046242137378, -0.7931977016755076, -1.465297233176536, -0.6561276547721709, 0.2694406537658064, -1.963384192387417, -0.03977409852472031, -0.25942371843808265], \"xaxis\": \"x14\", \"y\": [-0.17098599570917958, -1.393236655946603, -1.0693801396851572, -0.10936613135512015, -0.8314593670479007, -0.4092384624054739, 1.591365527813672, 0.11362375490085795, -0.25776072822892904, -0.8125864413251922, -0.4016254821547242, -0.40314548041442333, 0.441318892858655, -0.9951032400894578, 0.7046896087329072, 1.4338435709601507, 1.2900813394365953, 0.7566969910329154, 0.6054782545258194, -0.3812538164486021, 1.7252861447847634, -0.3097180343167236, 1.2634026380699939, -0.3310218412132827, 1.2981841087496109, -1.3164876377541306, 1.3385133730049839, 0.408919062636667, 0.26155431919249206, 0.16179530977109546, 1.1882180742137027, -0.5373015572622404, 1.0851103049503912, -0.11971988208771717, -3.1534897814326572, 1.0636433852077034, -0.24206197356159356, -0.4805364352370448, 0.0825621351357835, 0.3213995162912668, -1.3860840204546088, 0.7076515268193385, -0.38418705166305434, 1.0503272088152968, -0.1507001548323202, 0.1326781167019228, 0.031640977634701674, 0.3270643194243436, -1.0240130765030746, -0.9850468081299435, 0.6407835817746089, 0.9226485955501837, 0.6099910920980564, -0.1338015368573558, 1.1102649237501483, -1.3958011343771304, -0.480761295431456, -0.9197336470771523, 0.2436166046180653, -0.491075080205768, -0.602342191813965, -0.03627264045796918, -0.3246622644750205, -0.7081351488085751, 0.8219705780465458, 0.9068696677971314, 0.1321076675794045, 0.8483071774032414, 2.0991711366157677, -1.4080771727787935, -0.562424101202065, -0.503291241503718, 2.007100335200901, -0.28186514240083355, 1.204314296055594, -1.100511062799972, -0.37739914584103695, -0.015960137805170572, -0.7025926609072702, -0.8810281259328301, 0.42328129208618703, 2.1393670406737364, 0.5518423152603928, -0.3312696030093754, -1.37661535159739, -0.8407676307979148, -1.8980143897008703, 0.8495286569154681, 1.3565444156846354, -1.2594996674990298, 0.84456290056292, -0.916750420464946, -0.3679405135481918, -0.8743197683849901, -1.8077341234023898, 0.658157297890938, -0.9806995633402245, -1.0790459382261648, -0.9211654559956725, 0.9446836227411445], \"yaxis\": \"y14\"}, {\"line\": {\"color\": \"rgba(128, 128, 128, 1.0)\", \"dash\": \"solid\", \"shape\": \"linear\", \"width\": 1.3}, \"marker\": {\"size\": 2, \"symbol\": \"circle\"}, \"mode\": \"markers\", \"name\": \"D\", \"text\": \"\", \"type\": \"scatter\", \"x\": [-0.6577419470666775, 1.5468328854157893, 0.15055942353848414, -0.6166951991924662, -0.17696035549092132, 0.0026159205405225042, 1.2331865720032635, 1.2435528088543073, -0.5667531689608509, 0.4630368885755947, 0.6391231441591966, -0.1429541644335827, 0.8805438770540935, 1.1849212235092015, -1.2728784962465851, 1.346781675013242, 1.2482247918277778, -0.10396199557224642, -0.028906831431156986, -0.3572981365831892, -0.05223546732515046, 0.15786227922202295, -0.22009412895249236, -1.7721864067462902, -0.6061448275657668, -1.5308377336006376, 0.07041961683058189, -0.03830912190432932, 0.2135282713552872, -1.1935584154464867, -1.0677516214342473, 0.44175940635296035, -0.5562173071499407, 0.0176240616889017, -1.6211847095100522, -0.2575871901559379, 0.33748999172485566, -1.3784111551517109, -1.2958205545388826, 0.7785079111442709, -0.654447389504053, -1.3999313788086734, 0.3167097883572841, 0.07731932475096173, 1.8827191381966604, -0.7083923654989508, 1.3926633512282667, 0.24526098808364127, -0.2210347711090506, 0.038281908314065076, -1.3357478551192634, -0.16227660062644264, 0.06406613898696684, 1.213518760817214, 1.2457277288385022, 1.247373441376304, 0.921374684450078, 0.14034040891334543, -3.257339327618611, -1.213543392402012, -0.3445247702276053, -0.5969991004026705, 0.2719557150165253, -0.036248336471367645, -0.4580189614691427, -0.6709366758127309, 1.2358352087586708, 1.2312434994547732, -0.538717224541438, -1.5966239135719764, -0.760305428049948, 1.7572443209590902, -0.5739219510008042, -0.8324710695457126, -1.0143133987575614, 0.42630799512701356, -0.17451166862510278, -0.5526444573230915, -0.6556668389465901, 1.2012044387582725, 1.9310312337228657, 0.5076657033800569, 0.7995228996441234, 0.3430015789595602, -0.6105581367353852, 1.099914761180952, 0.42969561622664854, -1.3180076819962583, 0.9940939848559184, 0.016833009453457417, -2.520279558101372, -0.00830409476513253, 1.8249939096826509, 0.0536635012668011, 2.0828997434481793, 2.0446329233848886, 1.5922253838727163, 0.7335493331596151, 0.39576990054133315, -0.9420576028250149], \"xaxis\": \"x15\", \"y\": [-0.17098599570917958, -1.393236655946603, -1.0693801396851572, -0.10936613135512015, -0.8314593670479007, -0.4092384624054739, 1.591365527813672, 0.11362375490085795, -0.25776072822892904, -0.8125864413251922, -0.4016254821547242, -0.40314548041442333, 0.441318892858655, -0.9951032400894578, 0.7046896087329072, 1.4338435709601507, 1.2900813394365953, 0.7566969910329154, 0.6054782545258194, -0.3812538164486021, 1.7252861447847634, -0.3097180343167236, 1.2634026380699939, -0.3310218412132827, 1.2981841087496109, -1.3164876377541306, 1.3385133730049839, 0.408919062636667, 0.26155431919249206, 0.16179530977109546, 1.1882180742137027, -0.5373015572622404, 1.0851103049503912, -0.11971988208771717, -3.1534897814326572, 1.0636433852077034, -0.24206197356159356, -0.4805364352370448, 0.0825621351357835, 0.3213995162912668, -1.3860840204546088, 0.7076515268193385, -0.38418705166305434, 1.0503272088152968, -0.1507001548323202, 0.1326781167019228, 0.031640977634701674, 0.3270643194243436, -1.0240130765030746, -0.9850468081299435, 0.6407835817746089, 0.9226485955501837, 0.6099910920980564, -0.1338015368573558, 1.1102649237501483, -1.3958011343771304, -0.480761295431456, -0.9197336470771523, 0.2436166046180653, -0.491075080205768, -0.602342191813965, -0.03627264045796918, -0.3246622644750205, -0.7081351488085751, 0.8219705780465458, 0.9068696677971314, 0.1321076675794045, 0.8483071774032414, 2.0991711366157677, -1.4080771727787935, -0.562424101202065, -0.503291241503718, 2.007100335200901, -0.28186514240083355, 1.204314296055594, -1.100511062799972, -0.37739914584103695, -0.015960137805170572, -0.7025926609072702, -0.8810281259328301, 0.42328129208618703, 2.1393670406737364, 0.5518423152603928, -0.3312696030093754, -1.37661535159739, -0.8407676307979148, -1.8980143897008703, 0.8495286569154681, 1.3565444156846354, -1.2594996674990298, 0.84456290056292, -0.916750420464946, -0.3679405135481918, -0.8743197683849901, -1.8077341234023898, 0.658157297890938, -0.9806995633402245, -1.0790459382261648, -0.9211654559956725, 0.9446836227411445], \"yaxis\": \"y15\"}, {\"histfunc\": \"count\", \"histnorm\": \"\", \"marker\": {\"color\": \"rgba(128, 0, 128, 1.0)\", \"line\": {\"color\": \"#4D5663\", \"width\": 1.3}}, \"name\": \"D\", \"nbinsx\": 10, \"opacity\": 0.8, \"orientation\": \"v\", \"type\": \"histogram\", \"x\": [-0.17098599570917958, -1.393236655946603, -1.0693801396851572, -0.10936613135512015, -0.8314593670479007, -0.4092384624054739, 1.591365527813672, 0.11362375490085795, -0.25776072822892904, -0.8125864413251922, -0.4016254821547242, -0.40314548041442333, 0.441318892858655, -0.9951032400894578, 0.7046896087329072, 1.4338435709601507, 1.2900813394365953, 0.7566969910329154, 0.6054782545258194, -0.3812538164486021, 1.7252861447847634, -0.3097180343167236, 1.2634026380699939, -0.3310218412132827, 1.2981841087496109, -1.3164876377541306, 1.3385133730049839, 0.408919062636667, 0.26155431919249206, 0.16179530977109546, 1.1882180742137027, -0.5373015572622404, 1.0851103049503912, -0.11971988208771717, -3.1534897814326572, 1.0636433852077034, -0.24206197356159356, -0.4805364352370448, 0.0825621351357835, 0.3213995162912668, -1.3860840204546088, 0.7076515268193385, -0.38418705166305434, 1.0503272088152968, -0.1507001548323202, 0.1326781167019228, 0.031640977634701674, 0.3270643194243436, -1.0240130765030746, -0.9850468081299435, 0.6407835817746089, 0.9226485955501837, 0.6099910920980564, -0.1338015368573558, 1.1102649237501483, -1.3958011343771304, -0.480761295431456, -0.9197336470771523, 0.2436166046180653, -0.491075080205768, -0.602342191813965, -0.03627264045796918, -0.3246622644750205, -0.7081351488085751, 0.8219705780465458, 0.9068696677971314, 0.1321076675794045, 0.8483071774032414, 2.0991711366157677, -1.4080771727787935, -0.562424101202065, -0.503291241503718, 2.007100335200901, -0.28186514240083355, 1.204314296055594, -1.100511062799972, -0.37739914584103695, -0.015960137805170572, -0.7025926609072702, -0.8810281259328301, 0.42328129208618703, 2.1393670406737364, 0.5518423152603928, -0.3312696030093754, -1.37661535159739, -0.8407676307979148, -1.8980143897008703, 0.8495286569154681, 1.3565444156846354, -1.2594996674990298, 0.84456290056292, -0.916750420464946, -0.3679405135481918, -0.8743197683849901, -1.8077341234023898, 0.658157297890938, -0.9806995633402245, -1.0790459382261648, -0.9211654559956725, 0.9446836227411445], \"xaxis\": \"x16\", \"yaxis\": \"y16\"}],\n",
       "                        {\"bargap\": 0.02, \"legend\": {\"bgcolor\": \"#F5F6F9\", \"font\": {\"color\": \"#4D5663\"}}, \"paper_bgcolor\": \"#F5F6F9\", \"plot_bgcolor\": \"#F5F6F9\", \"showlegend\": false, \"template\": {\"data\": {\"bar\": [{\"error_x\": {\"color\": \"#2a3f5f\"}, \"error_y\": {\"color\": \"#2a3f5f\"}, \"marker\": {\"line\": {\"color\": \"#E5ECF6\", \"width\": 0.5}}, \"type\": \"bar\"}], \"barpolar\": [{\"marker\": {\"line\": {\"color\": \"#E5ECF6\", \"width\": 0.5}}, \"type\": \"barpolar\"}], \"carpet\": [{\"aaxis\": {\"endlinecolor\": \"#2a3f5f\", \"gridcolor\": \"white\", \"linecolor\": \"white\", \"minorgridcolor\": \"white\", \"startlinecolor\": \"#2a3f5f\"}, \"baxis\": {\"endlinecolor\": \"#2a3f5f\", \"gridcolor\": \"white\", \"linecolor\": \"white\", \"minorgridcolor\": \"white\", \"startlinecolor\": \"#2a3f5f\"}, \"type\": \"carpet\"}], \"choropleth\": [{\"colorbar\": {\"outlinewidth\": 0, \"ticks\": \"\"}, \"type\": \"choropleth\"}], \"contour\": [{\"colorbar\": {\"outlinewidth\": 0, \"ticks\": \"\"}, \"colorscale\": [[0.0, \"#0d0887\"], [0.1111111111111111, \"#46039f\"], [0.2222222222222222, \"#7201a8\"], [0.3333333333333333, \"#9c179e\"], [0.4444444444444444, \"#bd3786\"], [0.5555555555555556, \"#d8576b\"], [0.6666666666666666, \"#ed7953\"], [0.7777777777777778, \"#fb9f3a\"], [0.8888888888888888, \"#fdca26\"], [1.0, \"#f0f921\"]], \"type\": \"contour\"}], \"contourcarpet\": [{\"colorbar\": {\"outlinewidth\": 0, \"ticks\": \"\"}, \"type\": \"contourcarpet\"}], \"heatmap\": [{\"colorbar\": {\"outlinewidth\": 0, \"ticks\": \"\"}, \"colorscale\": [[0.0, \"#0d0887\"], [0.1111111111111111, \"#46039f\"], [0.2222222222222222, \"#7201a8\"], [0.3333333333333333, \"#9c179e\"], [0.4444444444444444, \"#bd3786\"], [0.5555555555555556, \"#d8576b\"], [0.6666666666666666, \"#ed7953\"], [0.7777777777777778, \"#fb9f3a\"], [0.8888888888888888, \"#fdca26\"], [1.0, \"#f0f921\"]], \"type\": \"heatmap\"}], \"heatmapgl\": [{\"colorbar\": {\"outlinewidth\": 0, \"ticks\": \"\"}, \"colorscale\": [[0.0, \"#0d0887\"], [0.1111111111111111, \"#46039f\"], [0.2222222222222222, \"#7201a8\"], [0.3333333333333333, \"#9c179e\"], [0.4444444444444444, \"#bd3786\"], [0.5555555555555556, \"#d8576b\"], [0.6666666666666666, \"#ed7953\"], [0.7777777777777778, \"#fb9f3a\"], [0.8888888888888888, \"#fdca26\"], [1.0, \"#f0f921\"]], \"type\": \"heatmapgl\"}], \"histogram\": [{\"marker\": {\"colorbar\": {\"outlinewidth\": 0, \"ticks\": \"\"}}, \"type\": \"histogram\"}], \"histogram2d\": [{\"colorbar\": {\"outlinewidth\": 0, \"ticks\": \"\"}, \"colorscale\": [[0.0, \"#0d0887\"], [0.1111111111111111, \"#46039f\"], [0.2222222222222222, \"#7201a8\"], [0.3333333333333333, \"#9c179e\"], [0.4444444444444444, \"#bd3786\"], [0.5555555555555556, \"#d8576b\"], [0.6666666666666666, \"#ed7953\"], [0.7777777777777778, \"#fb9f3a\"], [0.8888888888888888, \"#fdca26\"], [1.0, \"#f0f921\"]], \"type\": \"histogram2d\"}], \"histogram2dcontour\": [{\"colorbar\": {\"outlinewidth\": 0, \"ticks\": \"\"}, \"colorscale\": [[0.0, \"#0d0887\"], [0.1111111111111111, \"#46039f\"], [0.2222222222222222, \"#7201a8\"], [0.3333333333333333, \"#9c179e\"], [0.4444444444444444, \"#bd3786\"], [0.5555555555555556, \"#d8576b\"], [0.6666666666666666, \"#ed7953\"], [0.7777777777777778, \"#fb9f3a\"], [0.8888888888888888, \"#fdca26\"], [1.0, \"#f0f921\"]], \"type\": \"histogram2dcontour\"}], \"mesh3d\": [{\"colorbar\": {\"outlinewidth\": 0, \"ticks\": \"\"}, \"type\": \"mesh3d\"}], \"parcoords\": [{\"line\": {\"colorbar\": {\"outlinewidth\": 0, \"ticks\": \"\"}}, \"type\": \"parcoords\"}], \"pie\": [{\"automargin\": true, \"type\": \"pie\"}], \"scatter\": [{\"marker\": {\"colorbar\": {\"outlinewidth\": 0, \"ticks\": \"\"}}, \"type\": \"scatter\"}], \"scatter3d\": [{\"line\": {\"colorbar\": {\"outlinewidth\": 0, \"ticks\": \"\"}}, \"marker\": {\"colorbar\": {\"outlinewidth\": 0, \"ticks\": \"\"}}, \"type\": \"scatter3d\"}], \"scattercarpet\": [{\"marker\": {\"colorbar\": {\"outlinewidth\": 0, \"ticks\": \"\"}}, \"type\": \"scattercarpet\"}], \"scattergeo\": [{\"marker\": {\"colorbar\": {\"outlinewidth\": 0, \"ticks\": \"\"}}, \"type\": \"scattergeo\"}], \"scattergl\": [{\"marker\": {\"colorbar\": {\"outlinewidth\": 0, \"ticks\": \"\"}}, \"type\": \"scattergl\"}], \"scattermapbox\": [{\"marker\": {\"colorbar\": {\"outlinewidth\": 0, \"ticks\": \"\"}}, \"type\": \"scattermapbox\"}], \"scatterpolar\": [{\"marker\": {\"colorbar\": {\"outlinewidth\": 0, \"ticks\": \"\"}}, \"type\": \"scatterpolar\"}], \"scatterpolargl\": [{\"marker\": {\"colorbar\": {\"outlinewidth\": 0, \"ticks\": \"\"}}, \"type\": \"scatterpolargl\"}], \"scatterternary\": [{\"marker\": {\"colorbar\": {\"outlinewidth\": 0, \"ticks\": \"\"}}, \"type\": \"scatterternary\"}], \"surface\": [{\"colorbar\": {\"outlinewidth\": 0, \"ticks\": \"\"}, \"colorscale\": [[0.0, \"#0d0887\"], [0.1111111111111111, \"#46039f\"], [0.2222222222222222, \"#7201a8\"], [0.3333333333333333, \"#9c179e\"], [0.4444444444444444, \"#bd3786\"], [0.5555555555555556, \"#d8576b\"], [0.6666666666666666, \"#ed7953\"], [0.7777777777777778, \"#fb9f3a\"], [0.8888888888888888, \"#fdca26\"], [1.0, \"#f0f921\"]], \"type\": \"surface\"}], \"table\": [{\"cells\": {\"fill\": {\"color\": \"#EBF0F8\"}, \"line\": {\"color\": \"white\"}}, \"header\": {\"fill\": {\"color\": \"#C8D4E3\"}, \"line\": {\"color\": \"white\"}}, \"type\": \"table\"}]}, \"layout\": {\"annotationdefaults\": {\"arrowcolor\": \"#2a3f5f\", \"arrowhead\": 0, \"arrowwidth\": 1}, \"coloraxis\": {\"colorbar\": {\"outlinewidth\": 0, \"ticks\": \"\"}}, \"colorscale\": {\"diverging\": [[0, \"#8e0152\"], [0.1, \"#c51b7d\"], [0.2, \"#de77ae\"], [0.3, \"#f1b6da\"], [0.4, \"#fde0ef\"], [0.5, \"#f7f7f7\"], [0.6, \"#e6f5d0\"], [0.7, \"#b8e186\"], [0.8, \"#7fbc41\"], [0.9, \"#4d9221\"], [1, \"#276419\"]], \"sequential\": [[0.0, \"#0d0887\"], [0.1111111111111111, \"#46039f\"], [0.2222222222222222, \"#7201a8\"], [0.3333333333333333, \"#9c179e\"], [0.4444444444444444, \"#bd3786\"], [0.5555555555555556, \"#d8576b\"], [0.6666666666666666, \"#ed7953\"], [0.7777777777777778, \"#fb9f3a\"], [0.8888888888888888, \"#fdca26\"], [1.0, \"#f0f921\"]], \"sequentialminus\": [[0.0, \"#0d0887\"], [0.1111111111111111, \"#46039f\"], [0.2222222222222222, \"#7201a8\"], [0.3333333333333333, \"#9c179e\"], [0.4444444444444444, \"#bd3786\"], [0.5555555555555556, \"#d8576b\"], [0.6666666666666666, \"#ed7953\"], [0.7777777777777778, \"#fb9f3a\"], [0.8888888888888888, \"#fdca26\"], [1.0, \"#f0f921\"]]}, \"colorway\": [\"#636efa\", \"#EF553B\", \"#00cc96\", \"#ab63fa\", \"#FFA15A\", \"#19d3f3\", \"#FF6692\", \"#B6E880\", \"#FF97FF\", \"#FECB52\"], \"font\": {\"color\": \"#2a3f5f\"}, \"geo\": {\"bgcolor\": \"white\", \"lakecolor\": \"white\", \"landcolor\": \"#E5ECF6\", \"showlakes\": true, \"showland\": true, \"subunitcolor\": \"white\"}, \"hoverlabel\": {\"align\": \"left\"}, \"hovermode\": \"closest\", \"mapbox\": {\"style\": \"light\"}, \"paper_bgcolor\": \"white\", \"plot_bgcolor\": \"#E5ECF6\", \"polar\": {\"angularaxis\": {\"gridcolor\": \"white\", \"linecolor\": \"white\", \"ticks\": \"\"}, \"bgcolor\": \"#E5ECF6\", \"radialaxis\": {\"gridcolor\": \"white\", \"linecolor\": \"white\", \"ticks\": \"\"}}, \"scene\": {\"xaxis\": {\"backgroundcolor\": \"#E5ECF6\", \"gridcolor\": \"white\", \"gridwidth\": 2, \"linecolor\": \"white\", \"showbackground\": true, \"ticks\": \"\", \"zerolinecolor\": \"white\"}, \"yaxis\": {\"backgroundcolor\": \"#E5ECF6\", \"gridcolor\": \"white\", \"gridwidth\": 2, \"linecolor\": \"white\", \"showbackground\": true, \"ticks\": \"\", \"zerolinecolor\": \"white\"}, \"zaxis\": {\"backgroundcolor\": \"#E5ECF6\", \"gridcolor\": \"white\", \"gridwidth\": 2, \"linecolor\": \"white\", \"showbackground\": true, \"ticks\": \"\", \"zerolinecolor\": \"white\"}}, \"shapedefaults\": {\"line\": {\"color\": \"#2a3f5f\"}}, \"ternary\": {\"aaxis\": {\"gridcolor\": \"white\", \"linecolor\": \"white\", \"ticks\": \"\"}, \"baxis\": {\"gridcolor\": \"white\", \"linecolor\": \"white\", \"ticks\": \"\"}, \"bgcolor\": \"#E5ECF6\", \"caxis\": {\"gridcolor\": \"white\", \"linecolor\": \"white\", \"ticks\": \"\"}}, \"title\": {\"x\": 0.05}, \"xaxis\": {\"automargin\": true, \"gridcolor\": \"white\", \"linecolor\": \"white\", \"ticks\": \"\", \"title\": {\"standoff\": 15}, \"zerolinecolor\": \"white\", \"zerolinewidth\": 2}, \"yaxis\": {\"automargin\": true, \"gridcolor\": \"white\", \"linecolor\": \"white\", \"ticks\": \"\", \"title\": {\"standoff\": 15}, \"zerolinecolor\": \"white\", \"zerolinewidth\": 2}}}, \"title\": {\"font\": {\"color\": \"#4D5663\"}}, \"xaxis\": {\"anchor\": \"y\", \"domain\": [0.0, 0.2125], \"gridcolor\": \"#E1E5ED\", \"showgrid\": false, \"tickfont\": {\"color\": \"#4D5663\"}, \"title\": {\"font\": {\"color\": \"#4D5663\"}, \"text\": \"\"}, \"zerolinecolor\": \"#E1E5ED\"}, \"xaxis10\": {\"anchor\": \"y10\", \"domain\": [0.2625, 0.475], \"gridcolor\": \"#E1E5ED\", \"showgrid\": false, \"tickfont\": {\"color\": \"#4D5663\"}, \"title\": {\"font\": {\"color\": \"#4D5663\"}, \"text\": \"\"}, \"zerolinecolor\": \"#E1E5ED\"}, \"xaxis11\": {\"anchor\": \"y11\", \"domain\": [0.525, 0.7375], \"gridcolor\": \"#E1E5ED\", \"showgrid\": false, \"tickfont\": {\"color\": \"#4D5663\"}, \"title\": {\"font\": {\"color\": \"#4D5663\"}, \"text\": \"\"}, \"zerolinecolor\": \"#E1E5ED\"}, \"xaxis12\": {\"anchor\": \"y12\", \"domain\": [0.7875, 1.0], \"gridcolor\": \"#E1E5ED\", \"showgrid\": false, \"tickfont\": {\"color\": \"#4D5663\"}, \"title\": {\"font\": {\"color\": \"#4D5663\"}, \"text\": \"\"}, \"zerolinecolor\": \"#E1E5ED\"}, \"xaxis13\": {\"anchor\": \"y13\", \"domain\": [0.0, 0.2125], \"gridcolor\": \"#E1E5ED\", \"showgrid\": false, \"tickfont\": {\"color\": \"#4D5663\"}, \"title\": {\"font\": {\"color\": \"#4D5663\"}, \"text\": \"\"}, \"zerolinecolor\": \"#E1E5ED\"}, \"xaxis14\": {\"anchor\": \"y14\", \"domain\": [0.2625, 0.475], \"gridcolor\": \"#E1E5ED\", \"showgrid\": false, \"tickfont\": {\"color\": \"#4D5663\"}, \"title\": {\"font\": {\"color\": \"#4D5663\"}, \"text\": \"\"}, \"zerolinecolor\": \"#E1E5ED\"}, \"xaxis15\": {\"anchor\": \"y15\", \"domain\": [0.525, 0.7375], \"gridcolor\": \"#E1E5ED\", \"showgrid\": false, \"tickfont\": {\"color\": \"#4D5663\"}, \"title\": {\"font\": {\"color\": \"#4D5663\"}, \"text\": \"\"}, \"zerolinecolor\": \"#E1E5ED\"}, \"xaxis16\": {\"anchor\": \"y16\", \"domain\": [0.7875, 1.0], \"gridcolor\": \"#E1E5ED\", \"showgrid\": false, \"tickfont\": {\"color\": \"#4D5663\"}, \"title\": {\"font\": {\"color\": \"#4D5663\"}, \"text\": \"\"}, \"zerolinecolor\": \"#E1E5ED\"}, \"xaxis2\": {\"anchor\": \"y2\", \"domain\": [0.2625, 0.475], \"gridcolor\": \"#E1E5ED\", \"showgrid\": false, \"tickfont\": {\"color\": \"#4D5663\"}, \"title\": {\"font\": {\"color\": \"#4D5663\"}, \"text\": \"\"}, \"zerolinecolor\": \"#E1E5ED\"}, \"xaxis3\": {\"anchor\": \"y3\", \"domain\": [0.525, 0.7375], \"gridcolor\": \"#E1E5ED\", \"showgrid\": false, \"tickfont\": {\"color\": \"#4D5663\"}, \"title\": {\"font\": {\"color\": \"#4D5663\"}, \"text\": \"\"}, \"zerolinecolor\": \"#E1E5ED\"}, \"xaxis4\": {\"anchor\": \"y4\", \"domain\": [0.7875, 1.0], \"gridcolor\": \"#E1E5ED\", \"showgrid\": false, \"tickfont\": {\"color\": \"#4D5663\"}, \"title\": {\"font\": {\"color\": \"#4D5663\"}, \"text\": \"\"}, \"zerolinecolor\": \"#E1E5ED\"}, \"xaxis5\": {\"anchor\": \"y5\", \"domain\": [0.0, 0.2125], \"gridcolor\": \"#E1E5ED\", \"showgrid\": false, \"tickfont\": {\"color\": \"#4D5663\"}, \"title\": {\"font\": {\"color\": \"#4D5663\"}, \"text\": \"\"}, \"zerolinecolor\": \"#E1E5ED\"}, \"xaxis6\": {\"anchor\": \"y6\", \"domain\": [0.2625, 0.475], \"gridcolor\": \"#E1E5ED\", \"showgrid\": false, \"tickfont\": {\"color\": \"#4D5663\"}, \"title\": {\"font\": {\"color\": \"#4D5663\"}, \"text\": \"\"}, \"zerolinecolor\": \"#E1E5ED\"}, \"xaxis7\": {\"anchor\": \"y7\", \"domain\": [0.525, 0.7375], \"gridcolor\": \"#E1E5ED\", \"showgrid\": false, \"tickfont\": {\"color\": \"#4D5663\"}, \"title\": {\"font\": {\"color\": \"#4D5663\"}, \"text\": \"\"}, \"zerolinecolor\": \"#E1E5ED\"}, \"xaxis8\": {\"anchor\": \"y8\", \"domain\": [0.7875, 1.0], \"gridcolor\": \"#E1E5ED\", \"showgrid\": false, \"tickfont\": {\"color\": \"#4D5663\"}, \"title\": {\"font\": {\"color\": \"#4D5663\"}, \"text\": \"\"}, \"zerolinecolor\": \"#E1E5ED\"}, \"xaxis9\": {\"anchor\": \"y9\", \"domain\": [0.0, 0.2125], \"gridcolor\": \"#E1E5ED\", \"showgrid\": false, \"tickfont\": {\"color\": \"#4D5663\"}, \"title\": {\"font\": {\"color\": \"#4D5663\"}, \"text\": \"\"}, \"zerolinecolor\": \"#E1E5ED\"}, \"yaxis\": {\"anchor\": \"x\", \"domain\": [0.8025, 1.0], \"gridcolor\": \"#E1E5ED\", \"showgrid\": false, \"tickfont\": {\"color\": \"#4D5663\"}, \"title\": {\"font\": {\"color\": \"#4D5663\"}, \"text\": \"\"}, \"zerolinecolor\": \"#E1E5ED\"}, \"yaxis10\": {\"anchor\": \"x10\", \"domain\": [0.2675, 0.465], \"gridcolor\": \"#E1E5ED\", \"showgrid\": false, \"tickfont\": {\"color\": \"#4D5663\"}, \"title\": {\"font\": {\"color\": \"#4D5663\"}, \"text\": \"\"}, \"zerolinecolor\": \"#E1E5ED\"}, \"yaxis11\": {\"anchor\": \"x11\", \"domain\": [0.2675, 0.465], \"gridcolor\": \"#E1E5ED\", \"showgrid\": false, \"tickfont\": {\"color\": \"#4D5663\"}, \"title\": {\"font\": {\"color\": \"#4D5663\"}, \"text\": \"\"}, \"zerolinecolor\": \"#E1E5ED\"}, \"yaxis12\": {\"anchor\": \"x12\", \"domain\": [0.2675, 0.465], \"gridcolor\": \"#E1E5ED\", \"showgrid\": false, \"tickfont\": {\"color\": \"#4D5663\"}, \"title\": {\"font\": {\"color\": \"#4D5663\"}, \"text\": \"\"}, \"zerolinecolor\": \"#E1E5ED\"}, \"yaxis13\": {\"anchor\": \"x13\", \"domain\": [0.0, 0.1975], \"gridcolor\": \"#E1E5ED\", \"showgrid\": false, \"tickfont\": {\"color\": \"#4D5663\"}, \"title\": {\"font\": {\"color\": \"#4D5663\"}, \"text\": \"\"}, \"zerolinecolor\": \"#E1E5ED\"}, \"yaxis14\": {\"anchor\": \"x14\", \"domain\": [0.0, 0.1975], \"gridcolor\": \"#E1E5ED\", \"showgrid\": false, \"tickfont\": {\"color\": \"#4D5663\"}, \"title\": {\"font\": {\"color\": \"#4D5663\"}, \"text\": \"\"}, \"zerolinecolor\": \"#E1E5ED\"}, \"yaxis15\": {\"anchor\": \"x15\", \"domain\": [0.0, 0.1975], \"gridcolor\": \"#E1E5ED\", \"showgrid\": false, \"tickfont\": {\"color\": \"#4D5663\"}, \"title\": {\"font\": {\"color\": \"#4D5663\"}, \"text\": \"\"}, \"zerolinecolor\": \"#E1E5ED\"}, \"yaxis16\": {\"anchor\": \"x16\", \"domain\": [0.0, 0.1975], \"gridcolor\": \"#E1E5ED\", \"showgrid\": false, \"tickfont\": {\"color\": \"#4D5663\"}, \"title\": {\"font\": {\"color\": \"#4D5663\"}, \"text\": \"\"}, \"zerolinecolor\": \"#E1E5ED\"}, \"yaxis2\": {\"anchor\": \"x2\", \"domain\": [0.8025, 1.0], \"gridcolor\": \"#E1E5ED\", \"showgrid\": false, \"tickfont\": {\"color\": \"#4D5663\"}, \"title\": {\"font\": {\"color\": \"#4D5663\"}, \"text\": \"\"}, \"zerolinecolor\": \"#E1E5ED\"}, \"yaxis3\": {\"anchor\": \"x3\", \"domain\": [0.8025, 1.0], \"gridcolor\": \"#E1E5ED\", \"showgrid\": false, \"tickfont\": {\"color\": \"#4D5663\"}, \"title\": {\"font\": {\"color\": \"#4D5663\"}, \"text\": \"\"}, \"zerolinecolor\": \"#E1E5ED\"}, \"yaxis4\": {\"anchor\": \"x4\", \"domain\": [0.8025, 1.0], \"gridcolor\": \"#E1E5ED\", \"showgrid\": false, \"tickfont\": {\"color\": \"#4D5663\"}, \"title\": {\"font\": {\"color\": \"#4D5663\"}, \"text\": \"\"}, \"zerolinecolor\": \"#E1E5ED\"}, \"yaxis5\": {\"anchor\": \"x5\", \"domain\": [0.535, 0.7325], \"gridcolor\": \"#E1E5ED\", \"showgrid\": false, \"tickfont\": {\"color\": \"#4D5663\"}, \"title\": {\"font\": {\"color\": \"#4D5663\"}, \"text\": \"\"}, \"zerolinecolor\": \"#E1E5ED\"}, \"yaxis6\": {\"anchor\": \"x6\", \"domain\": [0.535, 0.7325], \"gridcolor\": \"#E1E5ED\", \"showgrid\": false, \"tickfont\": {\"color\": \"#4D5663\"}, \"title\": {\"font\": {\"color\": \"#4D5663\"}, \"text\": \"\"}, \"zerolinecolor\": \"#E1E5ED\"}, \"yaxis7\": {\"anchor\": \"x7\", \"domain\": [0.535, 0.7325], \"gridcolor\": \"#E1E5ED\", \"showgrid\": false, \"tickfont\": {\"color\": \"#4D5663\"}, \"title\": {\"font\": {\"color\": \"#4D5663\"}, \"text\": \"\"}, \"zerolinecolor\": \"#E1E5ED\"}, \"yaxis8\": {\"anchor\": \"x8\", \"domain\": [0.535, 0.7325], \"gridcolor\": \"#E1E5ED\", \"showgrid\": false, \"tickfont\": {\"color\": \"#4D5663\"}, \"title\": {\"font\": {\"color\": \"#4D5663\"}, \"text\": \"\"}, \"zerolinecolor\": \"#E1E5ED\"}, \"yaxis9\": {\"anchor\": \"x9\", \"domain\": [0.2675, 0.465], \"gridcolor\": \"#E1E5ED\", \"showgrid\": false, \"tickfont\": {\"color\": \"#4D5663\"}, \"title\": {\"font\": {\"color\": \"#4D5663\"}, \"text\": \"\"}, \"zerolinecolor\": \"#E1E5ED\"}},\n",
       "                        {\"showLink\": true, \"linkText\": \"Export to plot.ly\", \"plotlyServerURL\": \"https://plot.ly\", \"responsive\": true}\n",
       "                    ).then(function(){\n",
       "                            \n",
       "var gd = document.getElementById('7c1cc7a3-169c-4e6c-a2fc-3d2857d5f556');\n",
       "var x = new MutationObserver(function (mutations, observer) {{\n",
       "        var display = window.getComputedStyle(gd).display;\n",
       "        if (!display || display === 'none') {{\n",
       "            console.log([gd, 'removed!']);\n",
       "            Plotly.purge(gd);\n",
       "            observer.disconnect();\n",
       "        }}\n",
       "}});\n",
       "\n",
       "// Listen for the removal of the full notebook cells\n",
       "var notebookContainer = gd.closest('#notebook-container');\n",
       "if (notebookContainer) {{\n",
       "    x.observe(notebookContainer, {childList: true});\n",
       "}}\n",
       "\n",
       "// Listen for the clearing of the current output cell\n",
       "var outputEl = gd.closest('.output');\n",
       "if (outputEl) {{\n",
       "    x.observe(outputEl, {childList: true});\n",
       "}}\n",
       "\n",
       "                        })\n",
       "                };\n",
       "                });\n",
       "            </script>\n",
       "        </div>"
      ]
     },
     "metadata": {},
     "output_type": "display_data"
    }
   ],
   "source": [
    "df.scatter_matrix()"
   ]
  },
  {
   "cell_type": "code",
   "execution_count": null,
   "metadata": {},
   "outputs": [],
   "source": []
  }
 ],
 "metadata": {
  "kernelspec": {
   "display_name": "Python 3",
   "language": "python",
   "name": "python3"
  },
  "language_info": {
   "codemirror_mode": {
    "name": "ipython",
    "version": 3
   },
   "file_extension": ".py",
   "mimetype": "text/x-python",
   "name": "python",
   "nbconvert_exporter": "python",
   "pygments_lexer": "ipython3",
   "version": "3.7.7"
  },
  "latex_envs": {
   "LaTeX_envs_menu_present": true,
   "autoclose": false,
   "autocomplete": true,
   "bibliofile": "biblio.bib",
   "cite_by": "apalike",
   "current_citInitial": 1,
   "eqLabelWithNumbers": true,
   "eqNumInitial": 1,
   "hotkeys": {
    "equation": "Ctrl-E",
    "itemize": "Ctrl-I"
   },
   "labels_anchors": false,
   "latex_user_defs": false,
   "report_style_numbering": false,
   "user_envs_cfg": false
  },
  "toc": {
   "base_numbering": 1,
   "nav_menu": {},
   "number_sections": true,
   "sideBar": true,
   "skip_h1_title": false,
   "title_cell": "Table of Contents",
   "title_sidebar": "Contents",
   "toc_cell": false,
   "toc_position": {},
   "toc_section_display": true,
   "toc_window_display": false
  },
  "varInspector": {
   "cols": {
    "lenName": 16,
    "lenType": 16,
    "lenVar": 40
   },
   "kernels_config": {
    "python": {
     "delete_cmd_postfix": "",
     "delete_cmd_prefix": "del ",
     "library": "var_list.py",
     "varRefreshCmd": "print(var_dic_list())"
    },
    "r": {
     "delete_cmd_postfix": ") ",
     "delete_cmd_prefix": "rm(",
     "library": "var_list.r",
     "varRefreshCmd": "cat(var_dic_list()) "
    }
   },
   "types_to_exclude": [
    "module",
    "function",
    "builtin_function_or_method",
    "instance",
    "_Feature"
   ],
   "window_display": false
  }
 },
 "nbformat": 4,
 "nbformat_minor": 1
}
